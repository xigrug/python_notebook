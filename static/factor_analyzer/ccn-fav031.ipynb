{
 "cells": [
  {
   "cell_type": "markdown",
   "metadata": {
    "slideshow": {
     "slide_type": "slide"
    }
   },
   "source": [
    "# Python中的因子分析简介\n",
    "\n",
    "https://www.datacamp.com/community/tutorials/introduction-factor-analysis\n",
    "\n",
    "在本教程中，您将介绍以下主题：\n",
    "\n",
    "* 因子分析\n",
    "\n",
    "* 因子分析的类型\n",
    "\n",
    "* 确定因素数量\n",
    "\n",
    "* 因子分析与 主成分分析\n",
    "\n",
    "* python中的因子分析\n",
    "\n",
    "* 充分性测试\n",
    "\n",
    "* 解释结果\n",
    "\n",
    "* 因子分析的利弊\n",
    "\n",
    "* 结论"
   ]
  },
  {
   "cell_type": "markdown",
   "metadata": {
    "slideshow": {
     "slide_type": "slide"
    }
   },
   "source": [
    "## 因子分析\n",
    "\n",
    "因子分析是一种线性统计模型。它用于解释观察变量之间的差异，并将一组观察到的变量压缩到称为因子的未观察变量中。观察到的变量被建模为因子和误差项的线性组合（来源）。因子或潜在变量与多个观察到的变量相关联，这些变量具有共同的响应模式。每个因素都解释了观察到的变量中的特定方差量。它通过减少变量的数量来帮助进行数据解释。\n",
    "\n",
    "![](https://res.cloudinary.com/dchysltjf/image/upload/f_auto,q_auto:best/v1554830324/6.png)"
   ]
  },
  {
   "cell_type": "markdown",
   "metadata": {
    "slideshow": {
     "slide_type": "subslide"
    }
   },
   "source": [
    "因子分析是用于研究许多感兴趣的变量X1，X2，......，X1是否与较少数量的不可观察因子F1，F2，... ......，Fk线性相关的方法。\n",
    "\n",
    "![](https://res.cloudinary.com/dchysltjf/image/upload/f_auto,q_auto:best/v1554830233/1.png)\n",
    "\n",
    "来源：此图像是从我在因子分析说明中找到的图像重新创建的。该图像提供了因子分析的完整视图。\n",
    "\n",
    "假设：\n",
    "\n",
    "1 数据中没有异常值。\n",
    "\n",
    "2 样本量应大于因子。\n",
    "\n",
    "3 不应该有完美的多重共线性。\n",
    "\n",
    "4 变量之间不应该存在同方差性。"
   ]
  },
  {
   "cell_type": "markdown",
   "metadata": {
    "slideshow": {
     "slide_type": "subslide"
    }
   },
   "source": [
    "## 因子分析的类型\n",
    "\n",
    "* 探索性因子分析：它是社会和管理研究人员中最受欢迎的因子分析方法。其基本假设是任何观察到的变量都与任何因素直接相关。\n",
    "\n",
    "* 验证性因子分析（CFA）：其基本假设是每个因子都与一组特定的观察变量相关联。CFA确认了基本的预期。\n",
    "\n",
    "### 因子分析如何运作？\n",
    "\n",
    "因子分析的主要目标是减少观察到的变量的数量并找到不可观察的变量。这些未观察到的变量有助于市场研究人员完成调查。将观察到的变量转换为未观察到的变量可以通过两个步骤实现：\n",
    "\n",
    "* 因子提取：在此步骤中，使用方差分割方法（如主成分分析和公因子分析）选择因子数和提取方法。\n",
    "\n",
    "* 因素轮换：在此步骤中，轮换会尝试将因子转换为不相关的因素 - 这一步骤的主要目标是提高整体可解释性。有许多可用的旋转方法，例如：Varimax旋转方法，Quartimax旋转方法和Promax旋转方法。\n"
   ]
  },
  {
   "cell_type": "markdown",
   "metadata": {
    "slideshow": {
     "slide_type": "subslide"
    }
   },
   "source": [
    "### 术语\n",
    "\n",
    "#### 有什么因素？\n",
    "\n",
    "因子是潜在变量，其描述了观察到的变量的数量之间的关联。最大因子数等于观察到的变量数。每个因素都解释了观察到的变量的某种变化。方差量最小的因素被删除。因素也称为潜在变量或隐藏变量或未观察到的变量或假设变量。\n",
    "\n",
    "#### 因素负荷是什么？\n",
    "\n",
    "因子加载是一个矩阵，显示每个变量与基础因子的关系。它显示了观测变量和因子的相关系数。它显示了由观察到的变量解释的方差。\n",
    "\n",
    "#### 什么是特征值？\n",
    "\n",
    "特征值表示方差，从总方差中解释每个因子。它也被称为特征根。\n"
   ]
  },
  {
   "cell_type": "markdown",
   "metadata": {
    "slideshow": {
     "slide_type": "subslide"
    }
   },
   "source": [
    "#### 什么是社区？\n",
    "\n",
    "共性是每个变量的平方加载的总和。它代表了常见的差异。范围从0到1，值接近1表示更多方差。\n",
    "\n",
    "![](https://res.cloudinary.com/dchysltjf/image/upload/f_auto,q_auto:best/v1554830233/2.png)\n",
    "\n",
    "\n",
    "#### 什么是因素轮换？\n",
    "\n",
    "轮换是更好地解释因子分析的工具。旋转可以是正交的或倾斜的。它以明确的负载模式重新分配了共性。\n"
   ]
  },
  {
   "cell_type": "markdown",
   "metadata": {
    "slideshow": {
     "slide_type": "subslide"
    }
   },
   "source": [
    "### 选择因素数量\n",
    "\n",
    "Kaiser准则是一种分析方法，它基于因子选择的更大比例的方差来选择。特征值是确定因子数量的良好标准。通常，大于1的特征值将被视为特征的选择标准。\n",
    "\n",
    "\n",
    "图形方法基于因子特征值的视觉表示，也称为scree图。这个碎石图有助于我们确定曲线弯曲的因素数量。\n",
    "\n",
    "![](https://res.cloudinary.com/dchysltjf/image/upload/f_auto,q_auto:best/v1554830233/3.png)"
   ]
  },
  {
   "cell_type": "markdown",
   "metadata": {
    "slideshow": {
     "slide_type": "slide"
    }
   },
   "source": [
    "## 因子分析与 主成分分析\n",
    "\n",
    "* PCA组件解释了最大的方差量，而因子分析解释了数据的协方差。\n",
    "\n",
    "* PCA组分彼此完全正交，而因子分析不要求因子是正交的。\n",
    "\n",
    "* PCA组分是观察到的变量的线性组合，而在FA中，观察到的变量是未观察到的变量或因子的线性组合。\n",
    "\n",
    "* PCA组件无法解释。在FA中，潜在因素是可以理解和可解释的。\n",
    "\n",
    "* PCA是一种降维方法，而因子分析是潜变量方法。\n",
    "\n",
    "* PCA是一种因子分析。PCA是观察性的，而FA是一种建模技术。\n",
    "\n",
    "\n",
    "![](https://res.cloudinary.com/dchysltjf/image/upload/f_auto,q_auto:best/v1554830233/4.png)"
   ]
  },
  {
   "cell_type": "markdown",
   "metadata": {
    "slideshow": {
     "slide_type": "subslide"
    }
   },
   "source": [
    "## 使用factor_analyzer包在python中进行因子分析"
   ]
  },
  {
   "cell_type": "markdown",
   "metadata": {
    "slideshow": {
     "slide_type": "fragment"
    }
   },
   "source": [
    "### 导入所需的库"
   ]
  },
  {
   "cell_type": "code",
   "execution_count": 1,
   "metadata": {
    "slideshow": {
     "slide_type": "fragment"
    }
   },
   "outputs": [],
   "source": [
    "# Import required libraries\n",
    "import pandas as pd\n",
    "from sklearn.datasets import load_iris\n",
    "from factor_analyzer import FactorAnalyzer\n",
    "import matplotlib.pyplot as plt"
   ]
  },
  {
   "cell_type": "code",
   "execution_count": 2,
   "metadata": {},
   "outputs": [],
   "source": [
    "import pkg_resources"
   ]
  },
  {
   "cell_type": "code",
   "execution_count": 3,
   "metadata": {},
   "outputs": [
    {
     "data": {
      "text/plain": [
       "'0.3.1'"
      ]
     },
     "execution_count": 3,
     "metadata": {},
     "output_type": "execute_result"
    }
   ],
   "source": [
    "pkg_resources.get_distribution(\"factor_analyzer\").version"
   ]
  },
  {
   "cell_type": "markdown",
   "metadata": {
    "slideshow": {
     "slide_type": "subslide"
    }
   },
   "source": [
    "## 加载数据"
   ]
  },
  {
   "cell_type": "markdown",
   "metadata": {
    "slideshow": {
     "slide_type": "fragment"
    }
   },
   "source": [
    "让我们对BFI（基于人格评估项目的数据集）进行因子分析，这是使用6点响应量表收集的：1非常不准确，2中度不准确，3略微不准确4准确，5中等准确，6非常准确。\n",
    "您还可以从以下链接下载此数据集：https://vincentarelbundock.github.io/Rdatasets/datasets.html"
   ]
  },
  {
   "cell_type": "code",
   "execution_count": 4,
   "metadata": {
    "slideshow": {
     "slide_type": "fragment"
    }
   },
   "outputs": [],
   "source": [
    "df= pd.read_csv(\"avg_CCNnew41.8-spss.csv\")"
   ]
  },
  {
   "cell_type": "markdown",
   "metadata": {
    "slideshow": {
     "slide_type": "fragment"
    }
   },
   "source": [
    "### 预处理数据"
   ]
  },
  {
   "cell_type": "code",
   "execution_count": 5,
   "metadata": {
    "scrolled": true,
    "slideshow": {
     "slide_type": "fragment"
    }
   },
   "outputs": [
    {
     "data": {
      "text/plain": [
       "Index(['CCN_1.0_cm3', 'CAPE_nc', 'Cloud_fra', 'HGT', 'H_LCL_nc', 'Have',\n",
       "       'Hcb1.0', 'Hcbs1.0', 'Hmax', 'Hmin', 'Hsd', 'Htop1.0', 'L/S', 'LSM',\n",
       "       'LTS', 'PBLH', 'PR', 'PTEM700', 'PTEMS', 'PW', 'P_LCL_nc', 'Pcb1.0',\n",
       "       'Press', 'Ptop1.0', 'RH2', 'RH2m', 'Recb1.0', 'Retop1.0', 'SLI',\n",
       "       'SS_1.0_mg', 'T1000', 'T2m_NCEP', 'T500', 'T700', 'T850', 'TOZONE',\n",
       "       'T_LCL_nc', 'T_coal1.0', 'Tcb1.0', 'Tsfc_NPP', 'Ttop1.0', 'Wb_1.0',\n",
       "       'FAC1', 'FAC2', 'FAC3', 'FAC4', 'FAC5', 'FAC6', 'FAC7', 'FAC8'],\n",
       "      dtype='object')"
      ]
     },
     "execution_count": 5,
     "metadata": {},
     "output_type": "execute_result"
    }
   ],
   "source": [
    "df.columns"
   ]
  },
  {
   "cell_type": "code",
   "execution_count": 6,
   "metadata": {
    "slideshow": {
     "slide_type": "fragment"
    }
   },
   "outputs": [],
   "source": [
    "# Dropping unnecessary columns\n",
    "# NOTICE BJC is Time value\n",
    "df.drop(['FAC1', 'FAC2', 'FAC3', 'FAC4', 'FAC5', 'FAC6', 'FAC7', 'FAC8'],axis=1,inplace=True)"
   ]
  },
  {
   "cell_type": "code",
   "execution_count": 7,
   "metadata": {},
   "outputs": [],
   "source": [
    "df.drop(['CCN_1.0_cm3'],axis=1,inplace=True)"
   ]
  },
  {
   "cell_type": "code",
   "execution_count": 8,
   "metadata": {},
   "outputs": [
    {
     "data": {
      "text/plain": [
       "(76936, 41)"
      ]
     },
     "execution_count": 8,
     "metadata": {},
     "output_type": "execute_result"
    }
   ],
   "source": [
    "df.shape"
   ]
  },
  {
   "cell_type": "code",
   "execution_count": 9,
   "metadata": {
    "slideshow": {
     "slide_type": "fragment"
    }
   },
   "outputs": [],
   "source": [
    "# Dropping missing values rows\n",
    "df.dropna(inplace=True)"
   ]
  },
  {
   "cell_type": "code",
   "execution_count": 10,
   "metadata": {},
   "outputs": [
    {
     "data": {
      "text/plain": [
       "(75966, 41)"
      ]
     },
     "execution_count": 10,
     "metadata": {},
     "output_type": "execute_result"
    }
   ],
   "source": [
    "df.shape"
   ]
  },
  {
   "cell_type": "code",
   "execution_count": 11,
   "metadata": {
    "scrolled": true,
    "slideshow": {
     "slide_type": "subslide"
    }
   },
   "outputs": [
    {
     "name": "stdout",
     "output_type": "stream",
     "text": [
      "<class 'pandas.core.frame.DataFrame'>\n",
      "Int64Index: 75966 entries, 0 to 76935\n",
      "Data columns (total 41 columns):\n",
      "CAPE_nc      75966 non-null float64\n",
      "Cloud_fra    75966 non-null float64\n",
      "HGT          75966 non-null float64\n",
      "H_LCL_nc     75966 non-null float64\n",
      "Have         75966 non-null float64\n",
      "Hcb1.0       75966 non-null float64\n",
      "Hcbs1.0      75966 non-null float64\n",
      "Hmax         75966 non-null float64\n",
      "Hmin         75966 non-null float64\n",
      "Hsd          75966 non-null float64\n",
      "Htop1.0      75966 non-null float64\n",
      "L/S          75966 non-null float64\n",
      "LSM          75966 non-null float64\n",
      "LTS          75966 non-null float64\n",
      "PBLH         75966 non-null float64\n",
      "PR           75966 non-null float64\n",
      "PTEM700      75966 non-null float64\n",
      "PTEMS        75966 non-null float64\n",
      "PW           75966 non-null float64\n",
      "P_LCL_nc     75966 non-null float64\n",
      "Pcb1.0       75966 non-null float64\n",
      "Press        75966 non-null float64\n",
      "Ptop1.0      75966 non-null float64\n",
      "RH2          75966 non-null float64\n",
      "RH2m         75966 non-null float64\n",
      "Recb1.0      75966 non-null float64\n",
      "Retop1.0     75966 non-null float64\n",
      "SLI          75966 non-null float64\n",
      "SS_1.0_mg    75966 non-null float64\n",
      "T1000        75966 non-null float64\n",
      "T2m_NCEP     75966 non-null float64\n",
      "T500         75966 non-null float64\n",
      "T700         75966 non-null float64\n",
      "T850         75966 non-null float64\n",
      "TOZONE       75966 non-null float64\n",
      "T_LCL_nc     75966 non-null float64\n",
      "T_coal1.0    75966 non-null float64\n",
      "Tcb1.0       75966 non-null float64\n",
      "Tsfc_NPP     75966 non-null float64\n",
      "Ttop1.0      75966 non-null float64\n",
      "Wb_1.0       75966 non-null float64\n",
      "dtypes: float64(41)\n",
      "memory usage: 24.3 MB\n"
     ]
    }
   ],
   "source": [
    "df.info()"
   ]
  },
  {
   "cell_type": "code",
   "execution_count": 12,
   "metadata": {
    "scrolled": true,
    "slideshow": {
     "slide_type": "fragment"
    }
   },
   "outputs": [
    {
     "data": {
      "text/html": [
       "<div>\n",
       "<style scoped>\n",
       "    .dataframe tbody tr th:only-of-type {\n",
       "        vertical-align: middle;\n",
       "    }\n",
       "\n",
       "    .dataframe tbody tr th {\n",
       "        vertical-align: top;\n",
       "    }\n",
       "\n",
       "    .dataframe thead th {\n",
       "        text-align: right;\n",
       "    }\n",
       "</style>\n",
       "<table border=\"1\" class=\"dataframe\">\n",
       "  <thead>\n",
       "    <tr style=\"text-align: right;\">\n",
       "      <th></th>\n",
       "      <th>CAPE_nc</th>\n",
       "      <th>Cloud_fra</th>\n",
       "      <th>HGT</th>\n",
       "      <th>H_LCL_nc</th>\n",
       "      <th>Have</th>\n",
       "      <th>Hcb1.0</th>\n",
       "      <th>Hcbs1.0</th>\n",
       "      <th>Hmax</th>\n",
       "      <th>Hmin</th>\n",
       "      <th>Hsd</th>\n",
       "      <th>...</th>\n",
       "      <th>T500</th>\n",
       "      <th>T700</th>\n",
       "      <th>T850</th>\n",
       "      <th>TOZONE</th>\n",
       "      <th>T_LCL_nc</th>\n",
       "      <th>T_coal1.0</th>\n",
       "      <th>Tcb1.0</th>\n",
       "      <th>Tsfc_NPP</th>\n",
       "      <th>Ttop1.0</th>\n",
       "      <th>Wb_1.0</th>\n",
       "    </tr>\n",
       "  </thead>\n",
       "  <tbody>\n",
       "    <tr>\n",
       "      <th>0</th>\n",
       "      <td>2121.000000</td>\n",
       "      <td>0.039450</td>\n",
       "      <td>632.000000</td>\n",
       "      <td>694.600000</td>\n",
       "      <td>567.000000</td>\n",
       "      <td>2006.000000</td>\n",
       "      <td>1384.000000</td>\n",
       "      <td>1336.500000</td>\n",
       "      <td>159.500000</td>\n",
       "      <td>213.000000</td>\n",
       "      <td>...</td>\n",
       "      <td>-4.45</td>\n",
       "      <td>11.85</td>\n",
       "      <td>20.85</td>\n",
       "      <td>283.1</td>\n",
       "      <td>21.900000</td>\n",
       "      <td>17.500000</td>\n",
       "      <td>17.500000</td>\n",
       "      <td>31.000000</td>\n",
       "      <td>-19.0</td>\n",
       "      <td>1.245000</td>\n",
       "    </tr>\n",
       "    <tr>\n",
       "      <th>1</th>\n",
       "      <td>2048.666667</td>\n",
       "      <td>0.064533</td>\n",
       "      <td>720.666667</td>\n",
       "      <td>731.533333</td>\n",
       "      <td>440.333333</td>\n",
       "      <td>1545.333333</td>\n",
       "      <td>1225.666667</td>\n",
       "      <td>1089.666667</td>\n",
       "      <td>84.333333</td>\n",
       "      <td>209.666667</td>\n",
       "      <td>...</td>\n",
       "      <td>-4.45</td>\n",
       "      <td>11.85</td>\n",
       "      <td>20.85</td>\n",
       "      <td>283.1</td>\n",
       "      <td>21.166667</td>\n",
       "      <td>19.666667</td>\n",
       "      <td>20.333333</td>\n",
       "      <td>33.666667</td>\n",
       "      <td>-5.0</td>\n",
       "      <td>1.106667</td>\n",
       "    </tr>\n",
       "    <tr>\n",
       "      <th>2</th>\n",
       "      <td>1904.000000</td>\n",
       "      <td>0.049100</td>\n",
       "      <td>898.000000</td>\n",
       "      <td>805.400000</td>\n",
       "      <td>510.000000</td>\n",
       "      <td>1510.000000</td>\n",
       "      <td>1140.000000</td>\n",
       "      <td>1231.500000</td>\n",
       "      <td>40.000000</td>\n",
       "      <td>273.500000</td>\n",
       "      <td>...</td>\n",
       "      <td>-4.85</td>\n",
       "      <td>11.85</td>\n",
       "      <td>20.35</td>\n",
       "      <td>283.1</td>\n",
       "      <td>19.700000</td>\n",
       "      <td>20.500000</td>\n",
       "      <td>20.500000</td>\n",
       "      <td>34.500000</td>\n",
       "      <td>2.0</td>\n",
       "      <td>1.025000</td>\n",
       "    </tr>\n",
       "    <tr>\n",
       "      <th>3</th>\n",
       "      <td>1904.000000</td>\n",
       "      <td>0.018600</td>\n",
       "      <td>898.000000</td>\n",
       "      <td>805.400000</td>\n",
       "      <td>380.000000</td>\n",
       "      <td>1391.000000</td>\n",
       "      <td>1172.000000</td>\n",
       "      <td>1262.000000</td>\n",
       "      <td>4.000000</td>\n",
       "      <td>231.000000</td>\n",
       "      <td>...</td>\n",
       "      <td>-4.85</td>\n",
       "      <td>11.85</td>\n",
       "      <td>20.35</td>\n",
       "      <td>283.1</td>\n",
       "      <td>19.700000</td>\n",
       "      <td>21.000000</td>\n",
       "      <td>21.000000</td>\n",
       "      <td>35.000000</td>\n",
       "      <td>5.0</td>\n",
       "      <td>1.060000</td>\n",
       "    </tr>\n",
       "    <tr>\n",
       "      <th>4</th>\n",
       "      <td>2121.000000</td>\n",
       "      <td>0.204500</td>\n",
       "      <td>632.000000</td>\n",
       "      <td>694.600000</td>\n",
       "      <td>454.000000</td>\n",
       "      <td>1441.000000</td>\n",
       "      <td>1099.000000</td>\n",
       "      <td>1128.000000</td>\n",
       "      <td>131.000000</td>\n",
       "      <td>209.000000</td>\n",
       "      <td>...</td>\n",
       "      <td>-4.25</td>\n",
       "      <td>11.45</td>\n",
       "      <td>19.85</td>\n",
       "      <td>279.3</td>\n",
       "      <td>21.900000</td>\n",
       "      <td>20.000000</td>\n",
       "      <td>20.000000</td>\n",
       "      <td>32.000000</td>\n",
       "      <td>-5.0</td>\n",
       "      <td>0.990000</td>\n",
       "    </tr>\n",
       "  </tbody>\n",
       "</table>\n",
       "<p>5 rows × 41 columns</p>\n",
       "</div>"
      ],
      "text/plain": [
       "       CAPE_nc  Cloud_fra         HGT    H_LCL_nc        Have       Hcb1.0  \\\n",
       "0  2121.000000   0.039450  632.000000  694.600000  567.000000  2006.000000   \n",
       "1  2048.666667   0.064533  720.666667  731.533333  440.333333  1545.333333   \n",
       "2  1904.000000   0.049100  898.000000  805.400000  510.000000  1510.000000   \n",
       "3  1904.000000   0.018600  898.000000  805.400000  380.000000  1391.000000   \n",
       "4  2121.000000   0.204500  632.000000  694.600000  454.000000  1441.000000   \n",
       "\n",
       "       Hcbs1.0         Hmax        Hmin         Hsd  ...  T500   T700   T850  \\\n",
       "0  1384.000000  1336.500000  159.500000  213.000000  ... -4.45  11.85  20.85   \n",
       "1  1225.666667  1089.666667   84.333333  209.666667  ... -4.45  11.85  20.85   \n",
       "2  1140.000000  1231.500000   40.000000  273.500000  ... -4.85  11.85  20.35   \n",
       "3  1172.000000  1262.000000    4.000000  231.000000  ... -4.85  11.85  20.35   \n",
       "4  1099.000000  1128.000000  131.000000  209.000000  ... -4.25  11.45  19.85   \n",
       "\n",
       "   TOZONE   T_LCL_nc  T_coal1.0     Tcb1.0   Tsfc_NPP  Ttop1.0    Wb_1.0  \n",
       "0   283.1  21.900000  17.500000  17.500000  31.000000    -19.0  1.245000  \n",
       "1   283.1  21.166667  19.666667  20.333333  33.666667     -5.0  1.106667  \n",
       "2   283.1  19.700000  20.500000  20.500000  34.500000      2.0  1.025000  \n",
       "3   283.1  19.700000  21.000000  21.000000  35.000000      5.0  1.060000  \n",
       "4   279.3  21.900000  20.000000  20.000000  32.000000     -5.0  0.990000  \n",
       "\n",
       "[5 rows x 41 columns]"
      ]
     },
     "execution_count": 12,
     "metadata": {},
     "output_type": "execute_result"
    }
   ],
   "source": [
    "df.head()"
   ]
  },
  {
   "cell_type": "markdown",
   "metadata": {
    "slideshow": {
     "slide_type": "subslide"
    }
   },
   "source": [
    "## 充分性测试\n",
    "在执行因子分析之前，您需要评估数据集的“可用性”。Factorability意味着“我们能找到数据集中的因子吗？”。有两种方法可以检查可行性或抽样充分性：\n",
    "\n",
    "* 巴特利特的考验\n",
    "* Kaiser-Meyer-Olkin测试\n",
    "\n",
    "**Bartlett**对球形度的检验使用观察到的相对矩阵对照单位矩阵检查观察到的变量是否完全相互关联。如果测试发现统计上不显着，则不应使用因子分析。"
   ]
  },
  {
   "cell_type": "code",
   "execution_count": 13,
   "metadata": {
    "slideshow": {
     "slide_type": "fragment"
    }
   },
   "outputs": [
    {
     "data": {
      "text/plain": [
       "(9873368.8146522213, 0.0)"
      ]
     },
     "execution_count": 13,
     "metadata": {},
     "output_type": "execute_result"
    }
   ],
   "source": [
    "from factor_analyzer.factor_analyzer import calculate_bartlett_sphericity\n",
    "chi_square_value,p_value=calculate_bartlett_sphericity(df)\n",
    "chi_square_value, p_value"
   ]
  },
  {
   "cell_type": "markdown",
   "metadata": {
    "slideshow": {
     "slide_type": "subslide"
    }
   },
   "source": [
    "在该Bartlett检验中，p值为0.该检验具有统计学意义，表明观察到的相关矩阵不是单位矩阵。"
   ]
  },
  {
   "cell_type": "markdown",
   "metadata": {
    "slideshow": {
     "slide_type": "fragment"
    }
   },
   "source": [
    "**Kaiser-Meyer-Olkin（KMO）测试**测量数据在因子分析中的适用性。它确定了每个观测变量和完整模型的充分性。\n",
    "KMO估计所有观测变量之间的方差比例。较低的比例id更适合因子分析。KMO值介于0和1之间.KMO小于0.6的值被认为是不合适的。"
   ]
  },
  {
   "cell_type": "code",
   "execution_count": 14,
   "metadata": {
    "slideshow": {
     "slide_type": "fragment"
    }
   },
   "outputs": [],
   "source": [
    "from factor_analyzer.factor_analyzer import calculate_kmo\n",
    "kmo_all,kmo_model=calculate_kmo(df)"
   ]
  },
  {
   "cell_type": "code",
   "execution_count": 15,
   "metadata": {
    "scrolled": true,
    "slideshow": {
     "slide_type": "fragment"
    }
   },
   "outputs": [
    {
     "data": {
      "text/plain": [
       "0.89388322189054104"
      ]
     },
     "execution_count": 15,
     "metadata": {},
     "output_type": "execute_result"
    }
   ],
   "source": [
    "kmo_model"
   ]
  },
  {
   "cell_type": "markdown",
   "metadata": {
    "slideshow": {
     "slide_type": "notes"
    }
   },
   "source": [
    "我们数据的总体KMO为0.84，非常好。此值表示您可以继续进行计划的因子分析。"
   ]
  },
  {
   "cell_type": "markdown",
   "metadata": {
    "slideshow": {
     "slide_type": "subslide"
    }
   },
   "source": [
    "### 选择因素数量\n",
    "要选择因子数，可以使用Kaiser标准和scree图。两者都基于特征值。"
   ]
  },
  {
   "cell_type": "code",
   "execution_count": 18,
   "metadata": {
    "slideshow": {
     "slide_type": "fragment"
    }
   },
   "outputs": [
    {
     "data": {
      "text/plain": [
       "array([  1.60945618e+01,   7.34511698e+00,   4.62451534e+00,\n",
       "         2.86644516e+00,   2.22114487e+00,   1.61236721e+00,\n",
       "         1.13592263e+00,   8.26312123e-01,   8.14208321e-01,\n",
       "         6.22735704e-01,   5.33514951e-01,   3.11810331e-01,\n",
       "         2.64513752e-01,   2.38908043e-01,   2.28581168e-01,\n",
       "         1.93560247e-01,   1.80805877e-01,   1.55105324e-01,\n",
       "         1.12926109e-01,   1.10085465e-01,   9.11157163e-02,\n",
       "         8.20189911e-02,   6.70944708e-02,   5.32676235e-02,\n",
       "         4.98749979e-02,   4.10087152e-02,   3.02434816e-02,\n",
       "         2.41333746e-02,   1.92367260e-02,   1.46299134e-02,\n",
       "         9.74888662e-03,   9.31026043e-03,   4.74138624e-03,\n",
       "         3.83795412e-03,   3.27283353e-03,   1.78767039e-03,\n",
       "         1.23057338e-03,   2.96032806e-04,   8.64447171e-06,\n",
       "         2.74568420e-07,   8.59938083e-08])"
      ]
     },
     "execution_count": 18,
     "metadata": {},
     "output_type": "execute_result"
    }
   ],
   "source": [
    "# Create factor analysis object and perform factor analysis\n",
    "fa = FactorAnalyzer(rotation=None)\n",
    "fa.fit(df)\n",
    "# Check Eigenvalues\n",
    "ev, v = fa.get_eigenvalues()\n",
    "ev"
   ]
  },
  {
   "cell_type": "markdown",
   "metadata": {
    "slideshow": {
     "slide_type": "subslide"
    }
   },
   "source": [
    "在这里，您只能看到6个因子的特征值大于1。这意味着我们只需要选择6个因子（或未观察到的变量）。"
   ]
  },
  {
   "cell_type": "code",
   "execution_count": 19,
   "metadata": {
    "slideshow": {
     "slide_type": "fragment"
    }
   },
   "outputs": [
    {
     "data": {
      "image/png": "[encoded data removed]",
      "text/plain": [
       "<matplotlib.figure.Figure at 0x2ad416595e48>"
      ]
     },
     "metadata": {
      "needs_background": "light"
     },
     "output_type": "display_data"
    }
   ],
   "source": [
    "# Create scree plot using matplotlib\n",
    "plt.scatter(range(1,df.shape[1]+1),ev)\n",
    "plt.plot(range(1,df.shape[1]+1),ev)\n",
    "plt.title('Scree Plot')\n",
    "plt.xlabel('Factors')\n",
    "plt.ylabel('Eigenvalue')\n",
    "plt.axhline(y=1, color='r', linestyle='-')\n",
    "plt.grid()\n",
    "plt.show()"
   ]
  },
  {
   "cell_type": "markdown",
   "metadata": {
    "slideshow": {
     "slide_type": "notes"
    }
   },
   "source": [
    "碎石图方法为每个因子及其特征值绘制一条直线。特征值大于1被认为是因子的数量。\n",
    "\n",
    "在这里，您只能看到6个因子的特征值大于1。这意味着我们只需要选择6个因子（或未观察到的变量）。"
   ]
  },
  {
   "cell_type": "markdown",
   "metadata": {
    "slideshow": {
     "slide_type": "slide"
    }
   },
   "source": [
    "## 执行因子分析"
   ]
  },
  {
   "cell_type": "markdown",
   "metadata": {
    "slideshow": {
     "slide_type": "fragment"
    }
   },
   "source": [
    "# Create factor analysis object and perform factor analysis\n",
    "\n",
    "### for 0.2.3\n",
    "fa = FactorAnalyzer()\n",
    "fa.analyze(df, 6 ,rotation=\"varimax\")"
   ]
  },
  {
   "cell_type": "code",
   "execution_count": 21,
   "metadata": {},
   "outputs": [],
   "source": [
    "fav= FactorAnalyzer(n_factors=6,rotation=\"varimax\")"
   ]
  },
  {
   "cell_type": "code",
   "execution_count": 23,
   "metadata": {},
   "outputs": [
    {
     "data": {
      "text/plain": [
       "FactorAnalyzer(bounds=(0.005, 1), impute='median', is_corr_matrix=False,\n",
       "        method='minres', n_factors=6, rotation='varimax',\n",
       "        rotation_kwargs={}, use_smc=True)"
      ]
     },
     "execution_count": 23,
     "metadata": {},
     "output_type": "execute_result"
    }
   ],
   "source": [
    "fav.fit(df)"
   ]
  },
  {
   "cell_type": "code",
   "execution_count": 25,
   "metadata": {
    "slideshow": {
     "slide_type": "fragment"
    }
   },
   "outputs": [
    {
     "data": {
      "text/plain": [
       "array([[-0.09864597,  0.58252538, -0.31294482, -0.17639762,  0.03164659,\n",
       "        -0.22977933],\n",
       "       [-0.31306824, -0.20207654,  0.15228118,  0.04895386,  0.32551142,\n",
       "         0.23716174],\n",
       "       [ 0.27067552, -0.15636809,  0.20592195,  0.85676912,  0.06313919,\n",
       "         0.22294375],\n",
       "       [ 0.88877137, -0.12537137,  0.24015488,  0.18824471, -0.07701828,\n",
       "         0.12834315],\n",
       "       [ 0.26959093, -0.16301651,  0.21639794,  0.87474185,  0.06861922,\n",
       "         0.23873746],\n",
       "       [ 0.03508207, -0.09165717,  0.9434651 ,  0.22439699,  0.16162165,\n",
       "         0.05525086],\n",
       "       [ 0.35769506, -0.07530279,  0.89083381,  0.10501551,  0.12075955,\n",
       "         0.14757522],\n",
       "       [ 0.14293422, -0.03819528,  0.15238263,  0.73223876,  0.07119257,\n",
       "         0.5510334 ],\n",
       "       [ 0.36112135, -0.22697233,  0.24086954,  0.79217992,  0.05375281,\n",
       "         0.00469846],\n",
       "       [-0.03061533,  0.10073213,  0.040071  ,  0.41285651,  0.06309566,\n",
       "         0.58994763],\n",
       "       [-0.08088894,  0.01902731,  0.21453162,  0.0393244 ,  0.93648876,\n",
       "         0.05835206],\n",
       "       [ 0.39620497, -0.13876768,  0.11720283,  0.24461909,  0.0248615 ,\n",
       "         0.69122639],\n",
       "       [ 0.38513765, -0.13656332,  0.10669264,  0.20681137,  0.0191773 ,\n",
       "         0.78821738],\n",
       "       [-0.72446931,  0.18432071, -0.19269988, -0.50166668, -0.04821019,\n",
       "        -0.2646661 ],\n",
       "       [ 0.87087666, -0.11315608,  0.23857865,  0.20424641, -0.06451488,\n",
       "         0.17204975],\n",
       "       [-0.28919831, -0.03771442,  0.25145313, -0.04067124,  0.15114864,\n",
       "         0.01242745],\n",
       "       [-0.30186601,  0.86930222, -0.18862675, -0.20741162, -0.096178  ,\n",
       "        -0.02771568],\n",
       "       [ 0.54889279,  0.67498372,  0.03443709,  0.38318086, -0.04014738,\n",
       "         0.28329115],\n",
       "       [-0.47692614,  0.60024283, -0.14613992, -0.46812178,  0.10528396,\n",
       "        -0.10481622],\n",
       "       [-0.74175244,  0.16781168, -0.24927187, -0.52485297,  0.0207795 ,\n",
       "        -0.22140712],\n",
       "       [-0.06147949,  0.12362723, -0.92655843, -0.24988718, -0.16796091,\n",
       "        -0.0791494 ],\n",
       "       [-0.28249166,  0.15781987, -0.21119032, -0.84625858, -0.06987573,\n",
       "        -0.23729791],\n",
       "       [ 0.07697179,  0.01158274, -0.26218893, -0.06721228, -0.93433569,\n",
       "        -0.08138574],\n",
       "       [-0.86613902,  0.14412039, -0.19456153, -0.20462082,  0.08852123,\n",
       "        -0.26602274],\n",
       "       [-0.89040992,  0.15267717, -0.19871286, -0.19891165,  0.08395999,\n",
       "        -0.17078908],\n",
       "       [-0.30375188, -0.01594469,  0.11016839, -0.09001963,  0.04914027,\n",
       "        -0.39470262],\n",
       "       [-0.1330434 , -0.01047409,  0.02911149,  0.01925086,  0.82137418,\n",
       "        -0.14599162],\n",
       "       [ 0.05873623, -0.59187555,  0.28356719,  0.11468613, -0.10687373,\n",
       "         0.16726611],\n",
       "       [ 0.06910601, -0.23113814,  0.79367494,  0.11173202,  0.16001847,\n",
       "        -0.14577103],\n",
       "       [ 0.51384094,  0.80590586, -0.04512474,  0.09721236, -0.07216081,\n",
       "         0.24357685],\n",
       "       [ 0.30275773,  0.77785507, -0.17457589, -0.44895956, -0.10976457,\n",
       "         0.06567017],\n",
       "       [-0.40777299,  0.75712668, -0.18258782, -0.26188932, -0.11170703,\n",
       "         0.06380885],\n",
       "       [-0.30187993,  0.86929661, -0.18863644, -0.20741428, -0.09618089,\n",
       "        -0.02771016],\n",
       "       [ 0.18878136,  0.89411372,  0.00673   ,  0.21457132, -0.04968505,\n",
       "        -0.08098276],\n",
       "       [ 0.3929782 , -0.72985988,  0.13387326,  0.11324129,  0.02547065,\n",
       "         0.07348153],\n",
       "       [-0.59150766,  0.56907833, -0.3141555 , -0.42934139,  0.00285029,\n",
       "        -0.08791304],\n",
       "       [-0.02604357,  0.44041931, -0.74143643, -0.2076242 , -0.19079057,\n",
       "        -0.0315604 ],\n",
       "       [-0.1369325 ,  0.47980184, -0.8058628 , -0.26793283, -0.14945726,\n",
       "        -0.01288166],\n",
       "       [ 0.58546424,  0.2659955 , -0.44545652,  0.03765169, -0.18428933,\n",
       "         0.0662375 ],\n",
       "       [-0.00733281,  0.13538715, -0.23092328, -0.08201837, -0.94943469,\n",
       "        -0.04217232],\n",
       "       [ 0.35772127, -0.0753402 ,  0.89081425,  0.10502306,  0.12073178,\n",
       "         0.14756955]])"
      ]
     },
     "execution_count": 25,
     "metadata": {},
     "output_type": "execute_result"
    }
   ],
   "source": [
    "fav.loadings_"
   ]
  },
  {
   "cell_type": "markdown",
   "metadata": {
    "slideshow": {
     "slide_type": "subslide"
    }
   },
   "source": [
    "* 因子1具有E1，E2，E3，E4和E5（外向）的高因子负载\n",
    "\n",
    "* 因子2对N1，N2，N3，N4和N5具有高因子负荷（神经质）\n",
    "\n",
    "* 因子3具有C1，C2，C3，C4和C5的高因子负载（尽责）\n",
    "\n",
    "* 因子4对O1，O2，O3，O4和O5具有高因子负载（Opennness）\n",
    "\n",
    "* 因子5具有A1，A2，A3，A4和A5的高因子载荷（令人满意）\n",
    "\n",
    "* 因子6没有任何变量的高值，并且不易解释。如果我们只采取五个因素，这是好的。\n",
    "\n",
    "让我们对5个因素进行因子分析。"
   ]
  },
  {
   "cell_type": "code",
   "execution_count": 31,
   "metadata": {},
   "outputs": [
    {
     "data": {
      "text/plain": [
       "(array([  1.60945618e+01,   7.34511698e+00,   4.62451534e+00,\n",
       "          2.86644516e+00,   2.22114487e+00,   1.61236721e+00,\n",
       "          1.13592263e+00,   8.26312123e-01,   8.14208321e-01,\n",
       "          6.22735704e-01,   5.33514951e-01,   3.11810331e-01,\n",
       "          2.64513752e-01,   2.38908043e-01,   2.28581168e-01,\n",
       "          1.93560247e-01,   1.80805877e-01,   1.55105324e-01,\n",
       "          1.12926109e-01,   1.10085465e-01,   9.11157163e-02,\n",
       "          8.20189911e-02,   6.70944708e-02,   5.32676235e-02,\n",
       "          4.98749979e-02,   4.10087152e-02,   3.02434816e-02,\n",
       "          2.41333746e-02,   1.92367260e-02,   1.46299134e-02,\n",
       "          9.74888662e-03,   9.31026043e-03,   4.74138624e-03,\n",
       "          3.83795412e-03,   3.27283353e-03,   1.78767039e-03,\n",
       "          1.23057338e-03,   2.96032806e-04,   8.64447171e-06,\n",
       "          2.74568420e-07,   8.59938083e-08]),\n",
       " array([  1.59870055e+01,   7.19607202e+00,   4.50689736e+00,\n",
       "          2.73184771e+00,   2.08921407e+00,   1.33243337e+00,\n",
       "          7.88006994e-01,   3.89714155e-01,   3.12166572e-01,\n",
       "          1.45061629e-01,   1.23756734e-01,   9.94561668e-02,\n",
       "          5.95666446e-02,   2.75601237e-02,   1.29203639e-02,\n",
       "          4.92872311e-03,  -2.28542999e-04,  -3.10865793e-03,\n",
       "         -4.91125120e-03,  -1.33799666e-02,  -1.72711605e-02,\n",
       "         -1.95555768e-02,  -2.19678112e-02,  -2.54092567e-02,\n",
       "         -2.60697738e-02,  -3.47192296e-02,  -4.37119620e-02,\n",
       "         -4.96505677e-02,  -5.76193757e-02,  -6.45704848e-02,\n",
       "         -6.54821337e-02,  -6.78444859e-02,  -7.03385794e-02,\n",
       "         -7.04698687e-02,  -8.54275319e-02,  -1.15190252e-01,\n",
       "         -1.36163059e-01,  -1.51494041e-01,  -2.38603305e-01,\n",
       "         -2.44748325e-01,  -3.35202364e-01]))"
      ]
     },
     "execution_count": 31,
     "metadata": {},
     "output_type": "execute_result"
    }
   ],
   "source": [
    "#Calculate the eigenvalues, given the factor correlation matrix\n",
    "fav.get_eigenvalues()"
   ]
  },
  {
   "cell_type": "code",
   "execution_count": 26,
   "metadata": {},
   "outputs": [
    {
     "data": {
      "text/plain": [
       "array([ 0.53191747,  0.32663607,  0.92786385,  0.92114675,  0.97295919,\n",
       "        0.9792864 ,  0.97459071,  0.88998933,  0.87040368,  0.53515971,\n",
       "        0.93489144,  0.72822187,  0.84278922,  0.92000498,  0.9036301 ,\n",
       "        0.17294122,  0.93542744,  0.98676548,  0.85031602,  0.96541746,\n",
       "        0.97449305,  0.9266565 ,  0.95892615,  0.92929546,  0.93141097,\n",
       "        0.27096497,  0.71499743,  0.48672982,  0.74745954,  0.98954012,\n",
       "        0.94512301,  0.85799398,  0.93543109,  0.8901907 ,  0.72392123,\n",
       "        0.96449599,  0.82488032,  0.99266657,  0.6517211 ,  0.98164076,\n",
       "        0.97457346])"
      ]
     },
     "execution_count": 26,
     "metadata": {},
     "output_type": "execute_result"
    }
   ],
   "source": [
    "# Calculate the communalities, given the factor loading matrix.\n",
    "fav.get_communalities()"
   ]
  },
  {
   "cell_type": "code",
   "execution_count": 27,
   "metadata": {
    "slideshow": {
     "slide_type": "subslide"
    }
   },
   "outputs": [
    {
     "data": {
      "text/plain": [
       "(array([ 7.567382  ,  7.45721324,  6.61832715,  5.64593424,  3.78981105,\n",
       "         2.76480292]),\n",
       " array([ 0.18457029,  0.18188325,  0.16142261,  0.13770571,  0.09243442,\n",
       "         0.06743422]),\n",
       " array([ 0.18457029,  0.36645354,  0.52787616,  0.66558187,  0.75801629,\n",
       "         0.8254505 ]))"
      ]
     },
     "execution_count": 27,
     "metadata": {},
     "output_type": "execute_result"
    }
   ],
   "source": [
    "# Get variance of each factors\n",
    "fav.get_factor_variance()"
   ]
  },
  {
   "cell_type": "code",
   "execution_count": 30,
   "metadata": {},
   "outputs": [
    {
     "data": {
      "text/plain": [
       "array([ 0.46808253,  0.67336393,  0.07213615,  0.07885325,  0.02704081,\n",
       "        0.0207136 ,  0.02540929,  0.11001067,  0.12959632,  0.46484029,\n",
       "        0.06510856,  0.27177813,  0.15721078,  0.07999502,  0.0963699 ,\n",
       "        0.82705878,  0.06457256,  0.01323452,  0.14968398,  0.03458254,\n",
       "        0.02550695,  0.0733435 ,  0.04107385,  0.07070454,  0.06858903,\n",
       "        0.72903503,  0.28500257,  0.51327018,  0.25254046,  0.01045988,\n",
       "        0.05487699,  0.14200602,  0.06456891,  0.1098093 ,  0.27607877,\n",
       "        0.03550401,  0.17511968,  0.00733343,  0.3482789 ,  0.01835924,\n",
       "        0.02542654])"
      ]
     },
     "execution_count": 30,
     "metadata": {},
     "output_type": "execute_result"
    }
   ],
   "source": [
    "#Calculate the uniquenesses, given the factor loading matrix.\n",
    "fav.get_uniquenesses()"
   ]
  },
  {
   "cell_type": "code",
   "execution_count": 33,
   "metadata": {},
   "outputs": [
    {
     "data": {
      "text/plain": [
       "array([[ -1.53889168e+00,  -5.01645166e-01,  -8.99502646e-02,\n",
       "         -1.09781511e-01,   2.58330338e-01,   1.04124110e+00],\n",
       "       [ -1.12050854e+00,  -5.13651020e-01,  -3.84830515e-01,\n",
       "         -2.48920688e-01,  -2.76369714e-01,   3.95154957e-01],\n",
       "       [ -3.53064268e-01,   2.43573159e-01,  -3.63148228e-01,\n",
       "          2.88975306e-01,  -5.03591129e-01,   3.49361606e-02],\n",
       "       ..., \n",
       "       [ -3.48835940e+01,  -4.85002342e+01,  -3.37170138e-01,\n",
       "         -3.20370961e+01,  -8.25275885e+00,  -5.18032208e-01],\n",
       "       [ -3.45886881e+01,  -4.92180864e+01,  -1.57377491e-01,\n",
       "         -3.33371014e+01,  -5.71730269e+00,  -7.75441259e-01],\n",
       "       [  2.70875484e+00,   6.62710405e+00,  -4.92118596e-01,\n",
       "          6.19584727e+00,   1.31178100e-01,   2.00454576e+00]])"
      ]
     },
     "execution_count": 33,
     "metadata": {},
     "output_type": "execute_result"
    }
   ],
   "source": [
    "#Get the factor scores for new data set.\n",
    "fav.transform(df)"
   ]
  },
  {
   "cell_type": "code",
   "execution_count": 34,
   "metadata": {},
   "outputs": [
    {
     "data": {
      "text/plain": [
       "(75966, 6)"
      ]
     },
     "execution_count": 34,
     "metadata": {},
     "output_type": "execute_result"
    }
   ],
   "source": [
    "fav.transform(df).shape"
   ]
  },
  {
   "cell_type": "markdown",
   "metadata": {
    "slideshow": {
     "slide_type": "slide"
    }
   },
   "source": [
    "## 因子分析的利弊\n",
    "\n",
    "因子分析探索大型数据集并找到相互关联的关联。它将观察到的变量减少为几个未观察到的变量或识别相互关联的变量组，这有助于市场研究人员压缩市场情况并找出消费者品味，偏好和文化影响之间的隐藏关系。此外，它有助于改进未来调查的调查问卷。因素可以提供更自然的数据解释。\n",
    "\n",
    "因子分析的结果存在争议。它的解释是有争议的，因为可以对相同的数据因素进行不止一种解释。因子识别和因子命名需要领域知识。"
   ]
  },
  {
   "cell_type": "markdown",
   "metadata": {
    "slideshow": {
     "slide_type": "subslide"
    }
   },
   "source": [
    "## 结论\n",
    "\n",
    "\n",
    "恭喜，您已经完成了本教程的结尾！\n",
    "\n",
    "在本教程中，您已经了解了什么因素分析。不同类型的因子分析，因子分析如何工作，基本因子分析术语，选择因素数量，主成分分析和因子分析的比较，使用python FactorAnalyzer包在python中实现，以及因子分析的优缺点。\n",
    "\n",
    "我期待听到任何反馈或问题。您可以通过发表评论来提出问题，我会尽力回答。\n",
    "\n",
    "如果您想了解有关Python中的因素的更多信息，请参阅DataCamp 在Python中的无监督学习课程。"
   ]
  },
  {
   "cell_type": "markdown",
   "metadata": {
    "slideshow": {
     "slide_type": "subslide"
    }
   },
   "source": [
    "# issue\n",
    "同样的问题。解决了安装先前版本的因子分析器的问题：\n",
    "\n",
    "pip install factor_analyzer == 0.2.3\n",
    "\n",
    "非常感谢Avinash教程。\n",
    "\n",
    "by liuchongcn@126.com @NJU 2019-07-03\n",
    "\n",
    "![简书](https://raw.githubusercontent.com/xigrug/xigrug.github.io/master/picture/jianshuQR1.jpg)"
   ]
  }
 ],
 "metadata": {
  "kernelspec": {
   "display_name": "Python 3",
   "language": "python",
   "name": "python3"
  },
  "language_info": {
   "codemirror_mode": {
    "name": "ipython",
    "version": 3
   },
   "file_extension": ".py",
   "mimetype": "text/x-python",
   "name": "python",
   "nbconvert_exporter": "python",
   "pygments_lexer": "ipython3",
   "version": "3.6.0"
  }
 },
 "nbformat": 4,
 "nbformat_minor": 2
}
