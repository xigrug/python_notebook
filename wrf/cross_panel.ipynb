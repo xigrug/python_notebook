{
 "cells": [
  {
   "cell_type": "markdown",
   "metadata": {},
   "source": [
    "Plot panel wrfout-cross"
   ]
  },
  {
   "cell_type": "code",
   "execution_count": 1,
   "metadata": {},
   "outputs": [],
   "source": [
    "import matplotlib.pyplot as plt\n",
    "from matplotlib.cm import get_cmap\n",
    "from matplotlib.ticker import MultipleLocator, FormatStrFormatter\n",
    "import matplotlib.colors as colors\n",
    "import numpy as np\n",
    "from netCDF4 import Dataset\n",
    "from wrf import getvar, xy, interpline, to_np, vertcross, smooth2d, CoordPair, get_basemap, latlon_coords\n",
    "from mpl_toolkits.axes_grid1.inset_locator import InsetPosition\n",
    "%matplotlib inline\n"
   ]
  },
  {
   "cell_type": "markdown",
   "metadata": {},
   "source": [
    "##def fuctions"
   ]
  },
  {
   "cell_type": "code",
   "execution_count": 2,
   "metadata": {},
   "outputs": [
    {
     "data": {
      "image/png": "[encoded data removed]",
      "text/plain": [
       "<matplotlib.figure.Figure at 0x2ac19afd7860>"
      ]
     },
     "metadata": {},
     "output_type": "display_data"
    }
   ],
   "source": [
    "fig, big_axes = plt.subplots(figsize=(15.0, 15.0) , nrows=3, ncols=1, sharey=True) \n",
    "\n",
    "#for row, big_ax in enumerate(big_axes, start=1):\n",
    "    #big_ax.set_title(\"Subplot row %s \\n\" % row, fontsize=16)\n",
    "\n",
    "    # Turn off axis lines and ticks of the big subplot \n",
    "    # obs alpha is 0 in RGBA string!\n",
    " #   big_ax.tick_params(labelcolor=(0,0,0,0), top='off', bottom='off', left='off', right='off')\n",
    "    # removes the white frame\n",
    "  #  big_ax._frameon = False"
   ]
  },
  {
   "cell_type": "code",
   "execution_count": 3,
   "metadata": {},
   "outputs": [
    {
     "data": {
      "text/plain": [
       "<matplotlib.figure.Figure at 0x2ac1cb458fd0>"
      ]
     },
     "metadata": {},
     "output_type": "display_data"
    }
   ],
   "source": [
    "def get_axis_limits(ax, scalex=.03,scaley=0.93):\n",
    "    return ax.get_xlim()[1]*scalex, ax.get_ylim()[1]*scaley\n",
    "axes=['ax1', 'ax2','ax3','ax4','ax5','ax6','ax7','ax8','ax9','ax10','ax11','ax12']\n",
    "NUM=['A', 'B','C','D','E','F','G','H','I','G','K','L']\n",
    "for i in range(0,12):\n",
    "    axes[i] = fig.add_subplot(3,4,i+1)\n",
    "    plt.subplots_adjust(left=0.05,right=0.95,top=0.90,bottom=0.05,wspace=0.15,hspace=0.05)\n",
    "    #axes[i].set_title('Plot title ' + str(i+1))\n",
    "    #axes[i].annotate(NUM[i], xy=get_axis_limits(axes[i]))\n",
    "fig.set_facecolor('w')\n",
    "plt.tight_layout()\n",
    "\n",
    "class MidpointNormalize(colors.Normalize):\n",
    "    def __init__(self, vmin=None, vmax=None, midpoint=None, clip=False):\n",
    "        self.midpoint = midpoint\n",
    "        colors.Normalize.__init__(self, vmin, vmax, clip)\n",
    "\n",
    "    def __call__(self, value, clip=None):\n",
    "        # I'm ignoring masked values and all kinds of edge cases to make a\n",
    "        # simple example...\n",
    "        # https://matplotlib.org/users/colormapnorms.html#custom-normalization-two-linear-ranges\n",
    "        x, y = [self.vmin, self.midpoint, self.vmax], [0, 0.5, 1]\n",
    "        return np.ma.masked_array(np.interp(value, x, y))\n",
    "# Open the NetCDF file\n",
    "def plot_cross(filename,lat0,lon0,lat1,lon1,i):\n",
    "    ncfile = Dataset(filename)\n",
    "# Get the WRF variables\n",
    "    slp = getvar(ncfile, \"slp\")\n",
    "    smooth_slp = smooth2d(slp, 3)\n",
    "    ctt = getvar(ncfile, \"PREC_ACC_NC\")\n",
    "    z = getvar(ncfile, \"z\")\n",
    "    dbz = getvar(ncfile, \"dbz\")\n",
    "    Z = 10**(dbz/10.)\n",
    "    wspd =  getvar(ncfile, \"wa\", units=\"m s-1\")\n",
    "    pblh = getvar(ncfile, \"PBLH\")\n",
    "    ccn4 = getvar(ncfile, \"CCN4\")\n",
    "# Set the start point and end point for the cross section\n",
    "    start_point = CoordPair(lat=lat0, lon=lon0)\n",
    "    print(start_point.lon)\n",
    "    print(start_point.lat)\n",
    "    end_point = CoordPair(lat=lat1, lon=lon1)\n",
    "\n",
    "# Compute the vertical cross-section interpolation.  Also, include the lat/lon points\n",
    "# along the cross-section in the metadata by setting latlon to True.\n",
    "    z_cross = vertcross(Z, z, wrfin=ncfile, start_point=start_point, end_point=end_point,\n",
    "                    latlon=True, meta=True)\n",
    "    wspd_cross = vertcross(wspd, z, wrfin=ncfile, start_point=start_point, end_point=end_point,\n",
    "                       latlon=True, meta=True)\n",
    "    ccn4_cross = vertcross(ccn4, z, wrfin=ncfile, start_point=start_point, end_point=end_point,\n",
    "                       latlon=True, meta=True)\n",
    "    dbz_cross = 10.0 * np.log10(z_cross)\n",
    "    pblh_line =interpline(pblh,  wrfin=ncfile,start_point=start_point, end_point=end_point,\n",
    "                       latlon=True, meta=True)\n",
    "# Get the latitude and longitude points\n",
    "    lats, lons = latlon_coords(slp)\n",
    "\n",
    "# Get the basemap object\n",
    "    bm = get_basemap(slp)\n",
    "\n",
    "# Convert the lat/lon points in to x/y points in the projection space\n",
    "    x, y = bm(to_np(lons), to_np(lats))\n",
    "\n",
    "# Make the pressure contours\n",
    "    contour_levels = [1001, 1002, 1003, 1004, 1005, 1006,1007,1008,1009]\n",
    "    c1 = bm.contour(x, y, to_np(smooth_slp), levels=contour_levels, colors=\"blue\",\n",
    "                zorder=3, linewidths=1.0, ax=axes[i],alpha=0.5)\n",
    "    plt.clabel(c1, inline=1, fontsize=10, fmt=\"%i\",alpha=0.5)\n",
    "# Create the filled cloud top temperature contours\n",
    "    contour_levels = [ 0,5, 10,15,20,25,30,35,40,45,50,55,60]\n",
    "    ctt_contours = bm.contourf(x, y, to_np(ctt), contour_levels, cmap=get_cmap(\"Greys\"),\n",
    "                           zorder=2, ax=axes[i])\n",
    "\n",
    "    spoint_x, spoint_y = bm(start_point.lon,start_point.lat)\n",
    "    epoint_x, epoint_y = bm(end_point.lon,end_point.lat)\n",
    "    bm.plot([spoint_x, epoint_x], [spoint_y, epoint_y], color=\"yellow\",\n",
    "        marker=\"o\", markersize=5,zorder=3, ax=axes[i],alpha=0.5,linewidth=2.0)\n",
    "\n",
    "# Create the color bar for cloud top temperature\n",
    "    #cb_ctt = fig.colorbar(ctt_contours, ax=axes[i], extend='both',shrink=.60)\n",
    "    #cb_ctt.ax.tick_params(labelsize=9)\n",
    "\n",
    "# Draw Parallels\n",
    "    parallels = np.arange(np.amin(lats), np.amax(lats), 0.5)\n",
    "    if i ==0 :\n",
    "        bm.drawparallels(np.round(parallels,decimals=2), ax=axes[i], color=\"white\",labels=[1,0,0,0],fontsize=15)\n",
    "\n",
    "    merids = np.arange(np.amin(lons), np.amax(lons), 0.5)\n",
    "    bm.drawmeridians(np.round(merids,decimals=2), ax=axes[i], color=\"white\",labels=[0,0,0,1],rotation=18,fontsize=15)\n",
    "\n",
    "# Crop the image to the hurricane region\n",
    "    x_start, y_start = bm(np.amin(lons), np.amin(lats))\n",
    "    x_end, y_end = bm(np.amax(lons), np.amax(lats))\n",
    "    axes[i].set_xlim([x_start, x_end])\n",
    "    axes[i].set_ylim([y_start, y_end])\n",
    "# Make the contour plot for wspd\n",
    "    cmap=get_cmap(\"Spectral\")\n",
    "#cmap.set_bad('white', 0)\n",
    "    contour_levels = [-3, -2, -1, 0, 1, 2,3,4,5,6,7,8]\n",
    "    wspd_contours = axes[i+4].contourf(to_np(wspd_cross), contour_levels,cmap='RdBu_r', norm=MidpointNormalize(midpoint=0.))\n",
    "#pblh_contours = axes[i+4].contour(to_np(pblh_line), cmap=get_cmap(\"jet\"))\n",
    "    ax2_wspd = axes[i+4].twinx()\n",
    "    pblh_pline = ax2_wspd.plot(pblh_line,c='k',linewidth=4.0)\n",
    "# Add the color bar\n",
    "    #cb_wspd = fig.colorbar(wspd_contours, extend='both',ax=axes[i+4])\n",
    "    #cb_wspd.ax.tick_params(labelsize=9)\n",
    "\n",
    "# Make the contour plot for dbz\n",
    "    levels = [5*n for n in range(13)]\n",
    "    dbz_contours = axes[i+8].contourf(to_np(dbz_cross), levels=levels, cmap=get_cmap(\"jet\"))\n",
    "    ccn4_contours = axes[i+8].contour(to_np(ccn4_cross), colors='k',linewidths=0.5)\n",
    "    plt.clabel(ccn4_contours, inline=True, inline_spacing=1, fmt='%1.0f',rightside_up=True, fontsize=15)\n",
    "    #cb_dbz = fig.colorbar(dbz_contours, extend='both',ax=axes[i+8])\n",
    "    #cb_dbz.ax.tick_params(labelsize=9)\n",
    "\n",
    "# Set the x-ticks to use latitude and longitude labels.\n",
    "    coord_pairs = to_np(dbz_cross.coords[\"xy_loc\"])\n",
    "    x_ticks = np.arange(coord_pairs.shape[0])\n",
    "    #x_labels = [pair.latlon_str() for pair in to_np(coord_pairs)]\n",
    "    x_labels = [pair.latlon_str(fmt=\"{:.1f}, {:.1f}\") for pair in to_np(coord_pairs)]\n",
    "    axes[i+4].set_xticks(x_ticks[::10])\n",
    "    axes[i+4].set_xticklabels([], rotation=30)\n",
    "    axes[i+8].set_xticks(x_ticks[::10])\n",
    "    axes[i+8].set_xticklabels(x_labels[::10], rotation=18, fontsize=15)\n",
    "#ax2_wspd.set_xlim(x_ticks.min(),x_ticks.max())\n",
    "    ax2_wspd.margins(x=0)\n",
    "# Set the y-ticks to be height.\n",
    "#print(dbz_cross.coords)\n",
    "    vert_vals = to_np(dbz_cross.coords[\"vertical\"])\n",
    "    v_ticks = np.arange(vert_vals.shape[0])\n",
    "#np.round(vert_vals) wrong\n",
    "    if i ==0 :\n",
    "        axes[i+4].set_yticks(v_ticks[::20])\n",
    "        axes[i+4].set_yticklabels(np.around(vert_vals[::20],decimals=-2), fontsize=15)\n",
    "    if i !=0 :\n",
    "        axes[i+4].yaxis.set_visible(False)\n",
    "    ax2_wspd.yaxis.set_visible(False)\n",
    "#######same ytick with heights#####\n",
    "    ax2_wspd.yaxis.set_visible(False)\n",
    "    ax2_wspd.set_ylim(min(vert_vals),max(vert_vals))\n",
    "    if i ==0 :\n",
    "        axes[i+8].set_yticks(v_ticks[::20])\n",
    "        axes[i+8].set_yticklabels(np.around(vert_vals[::20],decimals=-2), fontsize=15) \n",
    "    if i !=0 :\n",
    "        axes[i+8].yaxis.set_visible(False)\n",
    "# Set the x-axis and  y-axis labels\n",
    "    #axes[i+8].set_xlabel(\"Latitude, Longitude\", fontsize=10)\n",
    "    #axes[i+4].set_ylabel(\"Height (m)\", fontsize=10)\n",
    "    #axes[i+8].set_ylabel(\"Height (m)\", fontsize=10)\n",
    "# Add titles\n",
    "#    axes[i].set_title(\"Precipitation (mm/h)\", {\"fontsize\" : 10})\n",
    "#    axes[i+4].set_title(r\"Wind Speed (m $s^{-3}$)\", {\"fontsize\" : 10})\n",
    "#    axes[i+8].set_title(r\"Reflectivity(dBZ)& CCN(S=0.2%,$cm^{-3}$) \", {\"fontsize\" : 10})\n",
    "    return ctt_contours,wspd_contours,dbz_contours "
   ]
  },
  {
   "cell_type": "code",
   "execution_count": 4,
   "metadata": {},
   "outputs": [
    {
     "name": "stdout",
     "output_type": "stream",
     "text": [
      "118.0\n",
      "31.36\n",
      "118.47\n",
      "31.252\n",
      "118.5\n",
      "31.21\n",
      "118.2\n",
      "31.36\n"
     ]
    },
    {
     "data": {
      "image/png": "[encoded data removed]",
      "text/plain": [
       "<matplotlib.figure.Figure at 0x2ac1cb42eb38>"
      ]
     },
     "metadata": {},
     "output_type": "display_data"
    }
   ],
   "source": [
    "plot_cross('chem_d04_2017-06-10_04:00:00','31.36','118.0','32.0','119.5',0)\n",
    "plot_cross('02chem_d04_2017-06-10_04:00:00','31.252','118.47','31.72','119.6',1)\n",
    "plot_cross('10chem_d04_2017-06-10_04:00:00','31.21','118.5','31.76','119.6',2)\n",
    "ctt,wspd,dbz=plot_cross('100chem_d04_2017-06-10_04:00:00','31.36','118.2','31.85','119.5',3)\n",
    "for i in range(0,12):\n",
    "    axes[i].annotate(NUM[i], xy=get_axis_limits(axes[i]),fontsize=15)\n",
    "#plt.tight_layout()"
   ]
  },
  {
   "cell_type": "code",
   "execution_count": 6,
   "metadata": {},
   "outputs": [
    {
     "name": "stderr",
     "output_type": "stream",
     "text": [
      "/public/home/hysplit/software/anaconda3/lib/python3.6/site-packages/matplotlib/cbook/deprecation.py:106: MatplotlibDeprecationWarning: Adding an axes using the same arguments as a previous axes currently reuses the earlier instance.  In a future version, a new instance will always be created and returned.  Meanwhile, this warning can be suppressed, and the future behavior ensured, by passing a unique label to each axes instance.\n",
      "  warnings.warn(message, mplDeprecation, stacklevel=1)\n"
     ]
    }
   ],
   "source": [
    "#plt.tight_layout()\n",
    "# Add titles\n",
    "big_axes[0].set_title(\"Precipitation (mm/h)\", {\"fontsize\" : 20})\n",
    "big_axes[1].set_title(r\"Wind Speed (m $s^{-3}$)\", {\"fontsize\" : 20})\n",
    "big_axes[2].set_title(r\"Reflectivity(dBZ)& CCN(S=0.2%,$cm^{-3}$) \", {\"fontsize\" : 20})\n",
    "#[left, bottom, width, height] \n",
    "cax = fig.add_axes([1.01, 0.75, 0.02, 0.2])\n",
    "cax1 = fig.add_axes([1.01, 0.42, 0.02, 0.2])\n",
    "cax2 = fig.add_axes([1.01, 0.08, 0.02, 0.2])\n",
    "# The colorbar is also based on this master image.\n",
    "cbar=fig.colorbar(ctt, cax, orientation='vertical')\n",
    "cbar.ax.tick_params(labelsize=15)\n",
    "cbar1=fig.colorbar(wspd, cax1, orientation='vertical')\n",
    "cbar1.ax.tick_params(labelsize=15)\n",
    "cbar2=fig.colorbar(dbz, cax2, orientation='vertical')\n",
    "cbar2.ax.tick_params(labelsize=15)\n",
    "fig.text(0.5, -0.04, 'Latitude, Longitude', ha='center',fontsize=20)\n",
    "fig.text(-0.02, 0.35, 'Height (m)', va='center', rotation='vertical',fontsize=20)\n",
    "#plt.savefig(\"cross_panel3.png\",dpi=600,bbox_inches='tight')\n",
    "plt.show()"
   ]
  },
  {
   "cell_type": "code",
   "execution_count": null,
   "metadata": {},
   "outputs": [],
   "source": []
  }
 ],
 "metadata": {
  "kernelspec": {
   "display_name": "Python 3",
   "language": "python",
   "name": "python3"
  },
  "language_info": {
   "codemirror_mode": {
    "name": "ipython",
    "version": 3
   },
   "file_extension": ".py",
   "mimetype": "text/x-python",
   "name": "python",
   "nbconvert_exporter": "python",
   "pygments_lexer": "ipython3",
   "version": "3.6.4"
  }
 },
 "nbformat": 4,
 "nbformat_minor": 2
}
