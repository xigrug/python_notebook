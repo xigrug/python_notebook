{
 "cells": [
  {
   "cell_type": "code",
   "execution_count": 3,
   "metadata": {
    "collapsed": true
   },
   "outputs": [],
   "source": [
    "# -*- coding: utf-8 -*-\n",
    "\n",
    "\"\"\"\n",
    "Created on  April 29 15:30:00 2019\n",
    "\n",
    "@author: grug in nanjing\n",
    "\"\"\"\n",
    "import os\n",
    "import sys\n",
    "import matplotlib.pyplot as plt\n",
    "import matplotlib\n",
    "#matplotlib.use('agg') #deactivate matplotlib x11 backend #5\n",
    "import pandas  as pd\n",
    "import numpy  as np\n",
    "import matplotlib.dates as dates\n",
    "%matplotlib inline"
   ]
  },
  {
   "cell_type": "code",
   "execution_count": 4,
   "metadata": {
    "collapsed": true
   },
   "outputs": [],
   "source": [
    "def search(s, path=os.path.abspath('.')):  #os.path.abspath(path)：绝对路径\n",
    "\n",
    "    for z in os.listdir(path):\n",
    "        if os.path.isdir(path + os.path.sep + z):  # os.path.sep:路径分隔符 linux下就用这个了’/’\n",
    "            #print('Currnet:', path)\n",
    "            path2 = os.path.join(path, z) #；os.path.join(): 常用来链接路径\n",
    "            #print('future:', path2)\n",
    "            search(s, path2)\n",
    "        elif os.path.isfile(path + os.path.sep + z): #检验给出的路径是否是一个文件：os.path.isfile()来自 <http://blog.csdn.net/devil_2009/article/details/7941241>\n",
    "            if s in z:\n",
    "                #print(os.path.join(path, z))\n",
    "                filenames.append(os.path.join(path, z))\n",
    "                #with open(path + os.path.sep + z, 'r') as fr:\n",
    "                #    with open('save.txt', 'a') as fw:\n",
    "                #        fw.write(path + '\\t' + fr.read())"
   ]
  },
  {
   "cell_type": "code",
   "execution_count": 17,
   "metadata": {
    "collapsed": true
   },
   "outputs": [],
   "source": [
    "def plotData(ax,x,y,ptype,plabel):\n",
    "    times=pd.to_datetime(x,format='%Y-%m-%d_%H:%M:%S')\n",
    "    ax.xaxis.set_minor_locator(dates.DayLocator(interval=2))\n",
    "    ax.xaxis.set_minor_formatter(dates.DateFormatter('%m-%d'))\n",
    "    ax.xaxis.set_major_locator(dates.MonthLocator())\n",
    "    ax.xaxis.set_major_formatter(dates.DateFormatter('\\n'))\n",
    "\n",
    "    ax.xaxis.grid(True, which=\"minor\",color='lightgray', linestyle='-.', linewidth=0.2)\n",
    "    ax.yaxis.grid(True, which=\"major\",color='lightgray', linestyle='-.', linewidth=0.2)\n",
    "    ax.tick_params(axis='both', which='major', labelsize=4)\n",
    "    ax.tick_params(axis='both', which='minor', labelsize=4)\n",
    "    ax.spines['top'].set_visible(False)  #去掉上边框\n",
    "    ax.spines['right'].set_visible(False) #去掉右边框`\n",
    "    xx=times.to_pydatetime()\n",
    "    ax.plot(xx, y,ptype,label=plabel,alpha=0.6,markersize=1,linewidth=1) # 加上label参数添加图例 no color"
   ]
  },
  {
   "cell_type": "code",
   "execution_count": 15,
   "metadata": {
    "collapsed": true
   },
   "outputs": [],
   "source": [
    "def plot12station(value,base,base1,ytext,ptype,ptype1,plabel,plabel1):\n",
    "    data=pd.read_table(base,sep='\\s+',skiprows=1,names=[\"TIME\",\"SITE\",\"U10\",\"V10\",\"W\",\"T2\",\"SLP\",\"RH2\",\"RAIN\",'PRE','CCN1','CCN1M','CCN2','CCN2M','CCN3','CCN3M','CCN4','CCN4M','CCN5','CCN5M','CCN6','CCN6M',\"CLFRL\",\"CLFRT\",\"SWDN\"])#数量不定的空格符可以用正则表达式\\s+表示\n",
    "    data1=pd.read_table(base1,sep='\\s+',skiprows=1,names=[\"TIME\",\"SITE\",\"U10\",\"V10\",\"W\",\"T2\",\"SLP\",\"RH2\",\"RAIN\",'PRE','CCN1','CCN1M','CCN2','CCN2M','CCN3','CCN3M','CCN4','CCN4M','CCN5','CCN5M','CCN6','CCN6M',\"CLFRL\",\"CLFRT\",\"SWDN\"])#数量不定的空格符可以用正则表达式\\s+表示\n",
    "    #print(data.head())\n",
    "    #zhfont1 = matplotlib.font_manager.FontProperties(fname='/usr/share/fonts/wqy-microhei/wqy-microhei.ttc')\n",
    "    data.set_index(['TIME','SITE'], inplace=True)\n",
    "    data[\"T2\"]=data[\"T2\"]-273.15\n",
    "    data1.set_index(['TIME','SITE'], inplace=True)\n",
    "    data1[\"T2\"]=data1[\"T2\"]-273.15\n",
    "    station= [\n",
    "           u'Xuzhou',u'Huaiyin',u'Yancheng', u'Yangzhou',\n",
    "           u'Taizhou',u'Nanjing', u'Zhenjiang', u'Changzhou',\n",
    "           u'Shanghai',u'Wuxi',u'Nantong',u'Suzhou',\n",
    "             ]\n",
    "    plt.switch_backend('agg')#deactivate matplotlib x11 backend #5\n",
    "    fig, ((ax1, ax2,ax3), (ax4, ax5,ax6),(ax7,ax8,ax9),(ax10, ax11,ax12))= plt.subplots(4, 3, sharex='col', sharey='row',figsize=(6,3))\n",
    "    fig.subplots_adjust(left=0.1, bottom=0.08, right=0.9, top=0.96,hspace=0.3, wspace=0.2)\n",
    "    #t=\"WRF Weather Forecast\\nAtmospheric Environment Research Center\\nNanjing University\"\n",
    "    #fig.suptitle(t,fontsize=6,x=0.53,y=1.1)\n",
    "    axes=(ax1, ax2,ax3,ax4,ax5,ax6,ax7,ax8,ax9,ax10,ax11,ax12)\n",
    "    for i in range(0,12):\n",
    "        stat='SITE==\"{stat_name}\"'\n",
    "        sta=stat.format(stat_name=station[i])\n",
    "        print(sta)\n",
    "        #print(data.index.levels[0])\n",
    "        #print(data.query(sta)[value])\n",
    "        plotData(axes[i],data.index.levels[0],data.query(sta)[value],ptype,plabel)#注意下站点对不对应\n",
    "        plotData(axes[i],data1.index.levels[0],data1.query(sta)[value],ptype1,plabel1)#注意下站点对不对应\n",
    "        #axes[i].set_title(station[i],fontsize=4,loc='left')\n",
    "        axes[i].annotate(station[i], xy=(0.8, 1.0), xycoords=\"axes fraction\",fontsize=6)\n",
    "        plt.legend(bbox_to_anchor=(0.8,6.5), loc=\"lower left\",\n",
    "          borderaxespad=0, ncol=1)\n",
    "    #fig.text(0.05, 0.5, r'%s'%ytext, va='center', rotation='vertical',fontsize=4,fontproperties=zhfont1)\n",
    "    fig.text(0.5, -0.02, 'Time(BJT)', ha='center',fontsize=6)\n",
    "    plt.savefig(value+'_qd03_new.png',dpi=300,bbox_inches='tight')\n",
    "    plt.close()"
   ]
  },
  {
   "cell_type": "code",
   "execution_count": 18,
   "metadata": {
    "collapsed": false,
    "scrolled": false
   },
   "outputs": [
    {
     "name": "stderr",
     "output_type": "stream",
     "text": [
      "/data/c03n02/cliu/soft/anaconda2/envs/py3/lib/python3.6/site-packages/ipykernel_launcher.py:2: FutureWarning: read_table is deprecated, use read_csv instead.\n",
      "  \n",
      "/data/c03n02/cliu/soft/anaconda2/envs/py3/lib/python3.6/site-packages/ipykernel_launcher.py:3: FutureWarning: read_table is deprecated, use read_csv instead.\n",
      "  This is separate from the ipykernel package so we can avoid doing imports until\n",
      "No handles with labels found to put in legend.\n",
      "No handles with labels found to put in legend.\n",
      "No handles with labels found to put in legend.\n",
      "No handles with labels found to put in legend.\n",
      "No handles with labels found to put in legend.\n",
      "No handles with labels found to put in legend.\n",
      "No handles with labels found to put in legend.\n",
      "No handles with labels found to put in legend.\n",
      "No handles with labels found to put in legend.\n",
      "No handles with labels found to put in legend.\n",
      "No handles with labels found to put in legend.\n"
     ]
    },
    {
     "name": "stdout",
     "output_type": "stream",
     "text": [
      "SITE==\"Xuzhou\"\n",
      "SITE==\"Huaiyin\"\n",
      "SITE==\"Yancheng\"\n",
      "SITE==\"Yangzhou\"\n",
      "SITE==\"Taizhou\"\n",
      "SITE==\"Nanjing\"\n",
      "SITE==\"Zhenjiang\"\n",
      "SITE==\"Changzhou\"\n",
      "SITE==\"Shanghai\"\n",
      "SITE==\"Wuxi\"\n",
      "SITE==\"Nantong\"\n",
      "SITE==\"Suzhou\"\n"
     ]
    },
    {
     "name": "stderr",
     "output_type": "stream",
     "text": [
      "No handles with labels found to put in legend.\n",
      "No handles with labels found to put in legend.\n",
      "No handles with labels found to put in legend.\n",
      "No handles with labels found to put in legend.\n",
      "No handles with labels found to put in legend.\n",
      "No handles with labels found to put in legend.\n",
      "No handles with labels found to put in legend.\n",
      "No handles with labels found to put in legend.\n",
      "No handles with labels found to put in legend.\n",
      "No handles with labels found to put in legend.\n",
      "No handles with labels found to put in legend.\n"
     ]
    },
    {
     "name": "stdout",
     "output_type": "stream",
     "text": [
      "SITE==\"Xuzhou\"\n",
      "SITE==\"Huaiyin\"\n",
      "SITE==\"Yancheng\"\n",
      "SITE==\"Yangzhou\"\n",
      "SITE==\"Taizhou\"\n",
      "SITE==\"Nanjing\"\n",
      "SITE==\"Zhenjiang\"\n",
      "SITE==\"Changzhou\"\n",
      "SITE==\"Shanghai\"\n",
      "SITE==\"Wuxi\"\n",
      "SITE==\"Nantong\"\n",
      "SITE==\"Suzhou\"\n"
     ]
    },
    {
     "name": "stderr",
     "output_type": "stream",
     "text": [
      "No handles with labels found to put in legend.\n",
      "No handles with labels found to put in legend.\n",
      "No handles with labels found to put in legend.\n",
      "No handles with labels found to put in legend.\n",
      "No handles with labels found to put in legend.\n",
      "No handles with labels found to put in legend.\n",
      "No handles with labels found to put in legend.\n",
      "No handles with labels found to put in legend.\n",
      "No handles with labels found to put in legend.\n",
      "No handles with labels found to put in legend.\n",
      "No handles with labels found to put in legend.\n"
     ]
    },
    {
     "name": "stdout",
     "output_type": "stream",
     "text": [
      "SITE==\"Xuzhou\"\n",
      "SITE==\"Huaiyin\"\n",
      "SITE==\"Yancheng\"\n",
      "SITE==\"Yangzhou\"\n",
      "SITE==\"Taizhou\"\n",
      "SITE==\"Nanjing\"\n",
      "SITE==\"Zhenjiang\"\n",
      "SITE==\"Changzhou\"\n",
      "SITE==\"Shanghai\"\n",
      "SITE==\"Wuxi\"\n",
      "SITE==\"Nantong\"\n",
      "SITE==\"Suzhou\"\n"
     ]
    },
    {
     "name": "stderr",
     "output_type": "stream",
     "text": [
      "No handles with labels found to put in legend.\n",
      "No handles with labels found to put in legend.\n",
      "No handles with labels found to put in legend.\n",
      "No handles with labels found to put in legend.\n",
      "No handles with labels found to put in legend.\n",
      "No handles with labels found to put in legend.\n",
      "No handles with labels found to put in legend.\n",
      "No handles with labels found to put in legend.\n",
      "No handles with labels found to put in legend.\n",
      "No handles with labels found to put in legend.\n",
      "No handles with labels found to put in legend.\n"
     ]
    },
    {
     "name": "stdout",
     "output_type": "stream",
     "text": [
      "SITE==\"Xuzhou\"\n",
      "SITE==\"Huaiyin\"\n",
      "SITE==\"Yancheng\"\n",
      "SITE==\"Yangzhou\"\n",
      "SITE==\"Taizhou\"\n",
      "SITE==\"Nanjing\"\n",
      "SITE==\"Zhenjiang\"\n",
      "SITE==\"Changzhou\"\n",
      "SITE==\"Shanghai\"\n",
      "SITE==\"Wuxi\"\n",
      "SITE==\"Nantong\"\n",
      "SITE==\"Suzhou\"\n"
     ]
    },
    {
     "name": "stderr",
     "output_type": "stream",
     "text": [
      "No handles with labels found to put in legend.\n",
      "No handles with labels found to put in legend.\n",
      "No handles with labels found to put in legend.\n",
      "No handles with labels found to put in legend.\n",
      "No handles with labels found to put in legend.\n",
      "No handles with labels found to put in legend.\n",
      "No handles with labels found to put in legend.\n",
      "No handles with labels found to put in legend.\n",
      "No handles with labels found to put in legend.\n",
      "No handles with labels found to put in legend.\n",
      "No handles with labels found to put in legend.\n"
     ]
    },
    {
     "name": "stdout",
     "output_type": "stream",
     "text": [
      "SITE==\"Xuzhou\"\n",
      "SITE==\"Huaiyin\"\n",
      "SITE==\"Yancheng\"\n",
      "SITE==\"Yangzhou\"\n",
      "SITE==\"Taizhou\"\n",
      "SITE==\"Nanjing\"\n",
      "SITE==\"Zhenjiang\"\n",
      "SITE==\"Changzhou\"\n",
      "SITE==\"Shanghai\"\n",
      "SITE==\"Wuxi\"\n",
      "SITE==\"Nantong\"\n",
      "SITE==\"Suzhou\"\n"
     ]
    },
    {
     "name": "stderr",
     "output_type": "stream",
     "text": [
      "No handles with labels found to put in legend.\n",
      "No handles with labels found to put in legend.\n",
      "No handles with labels found to put in legend.\n",
      "No handles with labels found to put in legend.\n",
      "No handles with labels found to put in legend.\n",
      "No handles with labels found to put in legend.\n",
      "No handles with labels found to put in legend.\n",
      "No handles with labels found to put in legend.\n",
      "No handles with labels found to put in legend.\n",
      "No handles with labels found to put in legend.\n",
      "No handles with labels found to put in legend.\n"
     ]
    },
    {
     "name": "stdout",
     "output_type": "stream",
     "text": [
      "SITE==\"Xuzhou\"\n",
      "SITE==\"Huaiyin\"\n",
      "SITE==\"Yancheng\"\n",
      "SITE==\"Yangzhou\"\n",
      "SITE==\"Taizhou\"\n",
      "SITE==\"Nanjing\"\n",
      "SITE==\"Zhenjiang\"\n",
      "SITE==\"Changzhou\"\n",
      "SITE==\"Shanghai\"\n",
      "SITE==\"Wuxi\"\n",
      "SITE==\"Nantong\"\n",
      "SITE==\"Suzhou\"\n"
     ]
    }
   ],
   "source": [
    "if __name__ == \"__main__\":\n",
    "    plot12station(\"T2\",\"ccn_d03_mete.txt\",\"feed_d03_mete.txt\",\"2m Temperature (Du)\",'r^-','k^-','aer_ra_feedback','no_ra_feedback')\n",
    "    plot12station(\"RH2\",\"ccn_d03_mete.txt\",\"feed_d03_mete.txt\",\"2m RH (%)\",'gs-','ks-','aer_ra_feedback','no_ra_feedback')\n",
    "    plot12station(\"SWDN\",\"ccn_d03_mete.txt\",\"feed_d03_mete.txt\",\"SWDN (W/m^2)\",'r^-','k^-','aer_ra_feedback','no_ra_feedback')\n",
    "    plot12station(\"RAIN\",\"ccn_d03_mete.txt\",\"feed_d03_mete.txt\",\"RAIN (mm/h)\",'b.-','k.-','aer_ra_feedback','no_ra_feedback')\n",
    "    plot12station(\"CLFRL\",\"ccn_d03_mete.txt\",\"feed_d03_mete.txt\",u\"CLFRL\",'c2-','k2-','aer_ra_feedback','no_ra_feedback')\n",
    "    plot12station(\"CLFRT\",\"ccn_d03_mete.txt\",\"feed_d03_mete.txt\",u\"CLFRT\",'b2-','k2-','aer_ra_feedback','no_ra_feedback')"
   ]
  },
  {
   "cell_type": "code",
   "execution_count": null,
   "metadata": {
    "collapsed": true
   },
   "outputs": [],
   "source": []
  }
 ],
 "metadata": {
  "kernelspec": {
   "display_name": "Python PY3",
   "language": "python",
   "name": "py3"
  },
  "language_info": {
   "codemirror_mode": {
    "name": "ipython",
    "version": 3
   },
   "file_extension": ".py",
   "mimetype": "text/x-python",
   "name": "python",
   "nbconvert_exporter": "python",
   "pygments_lexer": "ipython3",
   "version": "3.6.7"
  }
 },
 "nbformat": 4,
 "nbformat_minor": 2
}
