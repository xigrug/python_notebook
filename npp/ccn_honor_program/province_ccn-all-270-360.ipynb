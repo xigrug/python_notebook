{
 "cells": [
  {
   "cell_type": "code",
   "execution_count": 1,
   "metadata": {},
   "outputs": [],
   "source": [
    "import pandas as pd\n",
    "import numpy as np\n",
    "import geopandas as gpd\n",
    "import matplotlib.pyplot as plt\n",
    "from matplotlib import cm as CM\n",
    "from matplotlib.colors import LogNorm,PowerNorm\n",
    "import cartopy.crs as ccrs\n",
    "import cartopy.feature as cfeature\n",
    "from cartopy.io.shapereader import Reader\n",
    "import matplotlib.ticker as mticker\n",
    "from cartopy.mpl.ticker import LongitudeFormatter, LatitudeFormatter\n",
    "from cartopy.mpl.gridliner import LONGITUDE_FORMATTER, LATITUDE_FORMATTER\n",
    "from shapely.geometry import *\n",
    "from scipy.interpolate import griddata\n",
    "import cmocean\n"
   ]
  },
  {
   "cell_type": "code",
   "execution_count": 2,
   "metadata": {
    "scrolled": false
   },
   "outputs": [],
   "source": [
    "data = pd.read_csv('1allsum-0.25-NaN-b2_270-360_850hpa.csv', sep=',',skiprows=0,header=0)\n",
    "data['Coordinates'] = list(zip(data.lon_bin, data.lat_bin))\n",
    "data['Coordinates'] = data['Coordinates'].apply(Point)"
   ]
  },
  {
   "cell_type": "code",
   "execution_count": 3,
   "metadata": {},
   "outputs": [
    {
     "data": {
      "text/plain": [
       "719.9503693796457"
      ]
     },
     "execution_count": 3,
     "metadata": {},
     "output_type": "execute_result"
    }
   ],
   "source": [
    "fp_jjj = \"D:/data/map/JingJinJi.shp\" #生成的坐标不对\n",
    "mapfile_jjj = gpd.read_file(fp_jjj,encoding='gbk')\n",
    "# get geo data\n",
    "gdf = gpd.GeoDataFrame(data, geometry='Coordinates')\n",
    "gdf.crs = mapfile_jjj.crs\n",
    "#gdf=gdf.dropna(subset=[ '2001'])#Remember to reassign\n",
    "cities_with_country_jjj = gpd.sjoin(mapfile_jjj,gdf,how=\"inner\", op='intersects')\n",
    "cities_with_country_jjj=cities_with_country_jjj.drop([\"geometry\"],axis=1)\n",
    "cities_with_country_jjj.to_csv(\"jjj-0.25-NaN-b2_270-360_850hpa.csv\")\n",
    "cities_with_country_jjj[\"CCN_1.0_cm3\"].mean()"
   ]
  },
  {
   "cell_type": "code",
   "execution_count": 4,
   "metadata": {},
   "outputs": [
    {
     "data": {
      "text/plain": [
       "1056.0100884257865"
      ]
     },
     "execution_count": 4,
     "metadata": {},
     "output_type": "execute_result"
    }
   ],
   "source": [
    "fp_yrd = \"D:/data/map/yrd_grug.shp\" #生成的坐标不对\n",
    "mapfile_yrd = gpd.read_file(fp_yrd,encoding='gbk')\n",
    "gdf = gpd.GeoDataFrame(data, geometry='Coordinates')\n",
    "gdf.crs = mapfile_yrd.crs\n",
    "#gdf=gdf.dropna(subset=[ '2001'])#Remember to reassign\n",
    "cities_with_country_yrd = gpd.sjoin(mapfile_yrd,gdf,how=\"inner\", op='intersects')\n",
    "cities_with_country_yrd=cities_with_country_yrd.drop([\"geometry\"],axis=1)\n",
    "cities_with_country_yrd.to_csv(\"yrd-0.25-NaN-b2_270-360_850hpa.csv\")\n",
    "cities_with_country_yrd[\"CCN_1.0_cm3\"].mean()"
   ]
  },
  {
   "cell_type": "code",
   "execution_count": 5,
   "metadata": {},
   "outputs": [
    {
     "data": {
      "text/plain": [
       "749.4166666666667"
      ]
     },
     "execution_count": 5,
     "metadata": {},
     "output_type": "execute_result"
    }
   ],
   "source": [
    "fp_prd = \"D:/data/map/prd_9city.shp\" #生成的坐标不对\n",
    "mapfile_prd = gpd.read_file(fp_prd,encoding='gbk')\n",
    "gdf = gpd.GeoDataFrame(data, geometry='Coordinates')\n",
    "gdf.crs = mapfile_prd.crs\n",
    "#gdf=gdf.dropna(subset=[ '2001'])#Remember to reassign\n",
    "cities_with_country_prd = gpd.sjoin(mapfile_prd,gdf,how=\"inner\", op='intersects')\n",
    "cities_with_country_prd =cities_with_country_prd.drop([\"geometry\"],axis=1)\n",
    "cities_with_country_prd .to_csv(\"prd-0.25-NaN-b2_270-360_850hpa.csv\")\n",
    "cities_with_country_prd [\"CCN_1.0_cm3\"].mean()"
   ]
  },
  {
   "cell_type": "code",
   "execution_count": null,
   "metadata": {},
   "outputs": [],
   "source": []
  }
 ],
 "metadata": {
  "kernelspec": {
   "display_name": "Python 3",
   "language": "python",
   "name": "python3"
  },
  "language_info": {
   "codemirror_mode": {
    "name": "ipython",
    "version": 3
   },
   "file_extension": ".py",
   "mimetype": "text/x-python",
   "name": "python",
   "nbconvert_exporter": "python",
   "pygments_lexer": "ipython3",
   "version": "3.7.3"
  }
 },
 "nbformat": 4,
 "nbformat_minor": 2
}
