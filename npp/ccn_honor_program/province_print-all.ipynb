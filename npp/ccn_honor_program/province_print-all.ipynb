{
 "cells": [
  {
   "cell_type": "code",
   "execution_count": 1,
   "metadata": {},
   "outputs": [],
   "source": [
    "import pandas as pd\n",
    "import numpy as np\n",
    "import geopandas as gpd\n",
    "import matplotlib.pyplot as plt\n",
    "from matplotlib import cm as CM\n",
    "from matplotlib.colors import LogNorm,PowerNorm\n",
    "import cartopy.crs as ccrs\n",
    "import cartopy.feature as cfeature\n",
    "from cartopy.io.shapereader import Reader\n",
    "import matplotlib.ticker as mticker\n",
    "from cartopy.mpl.ticker import LongitudeFormatter, LatitudeFormatter\n",
    "from cartopy.mpl.gridliner import LONGITUDE_FORMATTER, LATITUDE_FORMATTER\n",
    "from shapely.geometry import *\n",
    "from scipy.interpolate import griddata\n",
    "import cmocean\n"
   ]
  },
  {
   "cell_type": "code",
   "execution_count": 22,
   "metadata": {
    "scrolled": false
   },
   "outputs": [],
   "source": [
    "data = pd.read_csv('1allsum-0.25-NaN-b2_0-90_850hpa.csv', sep=',',skiprows=0,header=0)\n",
    "data['Coordinates'] = list(zip(data.lon_bin, data.lat_bin))\n",
    "data['Coordinates'] = data['Coordinates'].apply(Point)"
   ]
  },
  {
   "cell_type": "code",
   "execution_count": 23,
   "metadata": {},
   "outputs": [
    {
     "name": "stdout",
     "output_type": "stream",
     "text": [
      "792.595571658615\n",
      "2950.237681159421\n"
     ]
    }
   ],
   "source": [
    "fp_jjj = \"D:/data/map/JingJinJi.shp\" #生成的坐标不对\n",
    "mapfile_jjj = gpd.read_file(fp_jjj,encoding='gbk')\n",
    "# get geo data\n",
    "gdf = gpd.GeoDataFrame(data, geometry='Coordinates')\n",
    "gdf.crs = mapfile_jjj.crs\n",
    "#gdf=gdf.dropna(subset=[ '2001'])#Remember to reassign\n",
    "cities_with_country_jjj = gpd.sjoin(mapfile_jjj,gdf,how=\"inner\", op='intersects')\n",
    "cities_with_country_jjj=cities_with_country_jjj.drop([\"geometry\"],axis=1)\n",
    "#cities_with_country_jjj.to_csv(\"jjj-0.25-NaN-b2_0-90_850hpa.csv\")\n",
    "print(cities_with_country_jjj[\"CCN_1.0_cm3\"].mean())\n",
    "print(cities_with_country_jjj[\"H14_1.0\"].mean()-cities_with_country_jjj[\"Hcb1.0\"].mean())"
   ]
  },
  {
   "cell_type": "code",
   "execution_count": 24,
   "metadata": {},
   "outputs": [
    {
     "name": "stdout",
     "output_type": "stream",
     "text": [
      "1023.2230620144211\n",
      "3363.583747777604\n"
     ]
    }
   ],
   "source": [
    "fp_yrd = \"D:/data/map/yrd_grug.shp\" #生成的坐标不对\n",
    "mapfile_yrd = gpd.read_file(fp_yrd,encoding='gbk')\n",
    "gdf = gpd.GeoDataFrame(data, geometry='Coordinates')\n",
    "gdf.crs = mapfile_yrd.crs\n",
    "#gdf=gdf.dropna(subset=[ '2001'])#Remember to reassign\n",
    "cities_with_country_yrd = gpd.sjoin(mapfile_yrd,gdf,how=\"inner\", op='intersects')\n",
    "cities_with_country_yrd=cities_with_country_yrd.drop([\"geometry\"],axis=1)\n",
    "#cities_with_country_yrd.to_csv(\"yrd-0.25-NaN-b2_0-90_850hpa.csv\")\n",
    "print(cities_with_country_yrd[\"CCN_1.0_cm3\"].mean())\n",
    "print(cities_with_country_yrd[\"H14_1.0\"].mean()-cities_with_country_yrd[\"Hcb1.0\"].mean())"
   ]
  },
  {
   "cell_type": "code",
   "execution_count": 25,
   "metadata": {},
   "outputs": [
    {
     "name": "stdout",
     "output_type": "stream",
     "text": [
      "939.4511022927691\n",
      "3057.8383432539686\n"
     ]
    }
   ],
   "source": [
    "fp_prd = \"D:/data/map/prd_9city.shp\" #生成的坐标不对\n",
    "mapfile_prd = gpd.read_file(fp_prd,encoding='gbk')\n",
    "gdf = gpd.GeoDataFrame(data, geometry='Coordinates')\n",
    "gdf.crs = mapfile_prd.crs\n",
    "#gdf=gdf.dropna(subset=[ '2001'])#Remember to reassign\n",
    "cities_with_country_prd = gpd.sjoin(mapfile_prd,gdf,how=\"inner\", op='intersects')\n",
    "cities_with_country_prd=cities_with_country_prd.drop([\"geometry\"],axis=1)\n",
    "#cities_with_country.to_csv(\"prd-0.25-NaN-b2_0-90_850hpa.csv\")\n",
    "print(cities_with_country_prd[\"CCN_1.0_cm3\"].mean())\n",
    "print(cities_with_country_prd[\"H14_1.0\"].mean()-cities_with_country_prd[\"Hcb1.0\"].mean())"
   ]
  },
  {
   "cell_type": "code",
   "execution_count": 11,
   "metadata": {},
   "outputs": [],
   "source": [
    "data = pd.read_csv('1allsum-0.25-NaN-b2_90-180_850hpa.csv', sep=',',skiprows=0,header=0)\n",
    "data['Coordinates'] = list(zip(data.lon_bin, data.lat_bin))\n",
    "data['Coordinates'] = data['Coordinates'].apply(Point)"
   ]
  },
  {
   "cell_type": "code",
   "execution_count": 14,
   "metadata": {},
   "outputs": [
    {
     "name": "stdout",
     "output_type": "stream",
     "text": [
      "1014.0422104135766\n",
      "3586.0182040392174\n",
      "982.1505121167489\n",
      "3429.724488282709\n",
      "844.3404255319145\n",
      "3153.300215849521\n"
     ]
    }
   ],
   "source": [
    "fp_jjj = \"D:/data/map/JingJinJi.shp\" #生成的坐标不对\n",
    "mapfile_jjj = gpd.read_file(fp_jjj,encoding='gbk')\n",
    "# get geo data\n",
    "gdf = gpd.GeoDataFrame(data, geometry='Coordinates')\n",
    "gdf.crs = mapfile_jjj.crs\n",
    "#gdf=gdf.dropna(subset=[ '2001'])#Remember to reassign\n",
    "cities_with_country_jjj = gpd.sjoin(mapfile_jjj,gdf,how=\"inner\", op='intersects')\n",
    "cities_with_country_jjj=cities_with_country_jjj.drop([\"geometry\"],axis=1)\n",
    "#cities_with_country_jjj.to_csv(\"jjj-0.25-NaN-b2_0-90_850hpa.csv\")\n",
    "print(cities_with_country_jjj[\"CCN_1.0_cm3\"].mean())\n",
    "print(cities_with_country_jjj[\"H14_1.0\"].mean()-cities_with_country_jjj[\"Hcb1.0\"].mean())\n",
    "fp_yrd = \"D:/data/map/yrd_grug.shp\" #生成的坐标不对\n",
    "mapfile_yrd = gpd.read_file(fp_yrd,encoding='gbk')\n",
    "gdf = gpd.GeoDataFrame(data, geometry='Coordinates')\n",
    "gdf.crs = mapfile_yrd.crs\n",
    "#gdf=gdf.dropna(subset=[ '2001'])#Remember to reassign\n",
    "cities_with_country_yrd = gpd.sjoin(mapfile_yrd,gdf,how=\"inner\", op='intersects')\n",
    "cities_with_country_yrd=cities_with_country_yrd.drop([\"geometry\"],axis=1)\n",
    "#cities_with_country_yrd.to_csv(\"yrd-0.25-NaN-b2_0-90_850hpa.csv\")\n",
    "print(cities_with_country_yrd[\"CCN_1.0_cm3\"].mean())\n",
    "print(cities_with_country_yrd[\"H14_1.0\"].mean()-cities_with_country_yrd[\"Hcb1.0\"].mean())\n",
    "fp_prd = \"D:/data/map/prd_9city.shp\" #生成的坐标不对\n",
    "mapfile_prd = gpd.read_file(fp_prd,encoding='gbk')\n",
    "gdf = gpd.GeoDataFrame(data, geometry='Coordinates')\n",
    "gdf.crs = mapfile_prd.crs\n",
    "#gdf=gdf.dropna(subset=[ '2001'])#Remember to reassign\n",
    "cities_with_country_prd = gpd.sjoin(mapfile_prd,gdf,how=\"inner\", op='intersects')\n",
    "cities_with_country_prd=cities_with_country_prd.drop([\"geometry\"],axis=1)\n",
    "#cities_with_country.to_csv(\"prd-0.25-NaN-b2_0-90_850hpa.csv\")\n",
    "print(cities_with_country_prd[\"CCN_1.0_cm3\"].mean())\n",
    "print(cities_with_country_prd[\"H14_1.0\"].mean()-cities_with_country_prd[\"Hcb1.0\"].mean())"
   ]
  },
  {
   "cell_type": "code",
   "execution_count": 15,
   "metadata": {},
   "outputs": [],
   "source": [
    "data = pd.read_csv('1allsum-0.25-NaN-b2_180-270_850hpa.csv', sep=',',skiprows=0,header=0)\n",
    "data['Coordinates'] = list(zip(data.lon_bin, data.lat_bin))\n",
    "data['Coordinates'] = data['Coordinates'].apply(Point)"
   ]
  },
  {
   "cell_type": "code",
   "execution_count": 16,
   "metadata": {},
   "outputs": [
    {
     "name": "stdout",
     "output_type": "stream",
     "text": [
      "1045.355171075293\n",
      "3626.6705299152336\n",
      "1164.8706276813257\n",
      "3682.5413605431477\n",
      "1060.823669998302\n",
      "3302.1974783549786\n"
     ]
    }
   ],
   "source": [
    "fp_jjj = \"D:/data/map/JingJinJi.shp\" #生成的坐标不对\n",
    "mapfile_jjj = gpd.read_file(fp_jjj,encoding='gbk')\n",
    "# get geo data\n",
    "gdf = gpd.GeoDataFrame(data, geometry='Coordinates')\n",
    "gdf.crs = mapfile_jjj.crs\n",
    "#gdf=gdf.dropna(subset=[ '2001'])#Remember to reassign\n",
    "cities_with_country_jjj = gpd.sjoin(mapfile_jjj,gdf,how=\"inner\", op='intersects')\n",
    "cities_with_country_jjj=cities_with_country_jjj.drop([\"geometry\"],axis=1)\n",
    "#cities_with_country_jjj.to_csv(\"jjj-0.25-NaN-b2_0-90_850hpa.csv\")\n",
    "print(cities_with_country_jjj[\"CCN_1.0_cm3\"].mean())\n",
    "print(cities_with_country_jjj[\"H14_1.0\"].mean()-cities_with_country_jjj[\"Hcb1.0\"].mean())\n",
    "fp_yrd = \"D:/data/map/yrd_grug.shp\" #生成的坐标不对\n",
    "mapfile_yrd = gpd.read_file(fp_yrd,encoding='gbk')\n",
    "gdf = gpd.GeoDataFrame(data, geometry='Coordinates')\n",
    "gdf.crs = mapfile_yrd.crs\n",
    "#gdf=gdf.dropna(subset=[ '2001'])#Remember to reassign\n",
    "cities_with_country_yrd = gpd.sjoin(mapfile_yrd,gdf,how=\"inner\", op='intersects')\n",
    "cities_with_country_yrd=cities_with_country_yrd.drop([\"geometry\"],axis=1)\n",
    "#cities_with_country_yrd.to_csv(\"yrd-0.25-NaN-b2_0-90_850hpa.csv\")\n",
    "print(cities_with_country_yrd[\"CCN_1.0_cm3\"].mean())\n",
    "print(cities_with_country_yrd[\"H14_1.0\"].mean()-cities_with_country_yrd[\"Hcb1.0\"].mean())\n",
    "fp_prd = \"D:/data/map/prd_9city.shp\" #生成的坐标不对\n",
    "mapfile_prd = gpd.read_file(fp_prd,encoding='gbk')\n",
    "gdf = gpd.GeoDataFrame(data, geometry='Coordinates')\n",
    "gdf.crs = mapfile_prd.crs\n",
    "#gdf=gdf.dropna(subset=[ '2001'])#Remember to reassign\n",
    "cities_with_country_prd = gpd.sjoin(mapfile_prd,gdf,how=\"inner\", op='intersects')\n",
    "cities_with_country_prd=cities_with_country_prd.drop([\"geometry\"],axis=1)\n",
    "#cities_with_country.to_csv(\"prd-0.25-NaN-b2_0-90_850hpa.csv\")\n",
    "print(cities_with_country_prd[\"CCN_1.0_cm3\"].mean())\n",
    "print(cities_with_country_prd[\"H14_1.0\"].mean()-cities_with_country_prd[\"Hcb1.0\"].mean())"
   ]
  },
  {
   "cell_type": "code",
   "execution_count": 19,
   "metadata": {},
   "outputs": [],
   "source": [
    "data = pd.read_csv('1allsum-0.25-NaN-b2_270-360_850hpa.csv', sep=',',skiprows=0,header=0)\n",
    "data['Coordinates'] = list(zip(data.lon_bin, data.lat_bin))\n",
    "data['Coordinates'] = data['Coordinates'].apply(Point)"
   ]
  },
  {
   "cell_type": "code",
   "execution_count": 20,
   "metadata": {},
   "outputs": [
    {
     "name": "stdout",
     "output_type": "stream",
     "text": [
      "719.9503693796457\n",
      "2572.5253762319535\n",
      "1056.0100884257865\n",
      "3569.0121182345665\n",
      "749.4166666666667\n",
      "3504.0922619047615\n"
     ]
    }
   ],
   "source": [
    "fp_jjj = \"D:/data/map/JingJinJi.shp\" #生成的坐标不对\n",
    "mapfile_jjj = gpd.read_file(fp_jjj,encoding='gbk')\n",
    "# get geo data\n",
    "gdf = gpd.GeoDataFrame(data, geometry='Coordinates')\n",
    "gdf.crs = mapfile_jjj.crs\n",
    "#gdf=gdf.dropna(subset=[ '2001'])#Remember to reassign\n",
    "cities_with_country_jjj = gpd.sjoin(mapfile_jjj,gdf,how=\"inner\", op='intersects')\n",
    "cities_with_country_jjj=cities_with_country_jjj.drop([\"geometry\"],axis=1)\n",
    "#cities_with_country_jjj.to_csv(\"jjj-0.25-NaN-b2_0-90_850hpa.csv\")\n",
    "print(cities_with_country_jjj[\"CCN_1.0_cm3\"].mean())\n",
    "print(cities_with_country_jjj[\"H14_1.0\"].mean()-cities_with_country_jjj[\"Hcb1.0\"].mean())\n",
    "fp_yrd = \"D:/data/map/yrd_grug.shp\" #生成的坐标不对\n",
    "mapfile_yrd = gpd.read_file(fp_yrd,encoding='gbk')\n",
    "gdf = gpd.GeoDataFrame(data, geometry='Coordinates')\n",
    "gdf.crs = mapfile_yrd.crs\n",
    "#gdf=gdf.dropna(subset=[ '2001'])#Remember to reassign\n",
    "cities_with_country_yrd = gpd.sjoin(mapfile_yrd,gdf,how=\"inner\", op='intersects')\n",
    "cities_with_country_yrd=cities_with_country_yrd.drop([\"geometry\"],axis=1)\n",
    "#cities_with_country_yrd.to_csv(\"yrd-0.25-NaN-b2_0-90_850hpa.csv\")\n",
    "print(cities_with_country_yrd[\"CCN_1.0_cm3\"].mean())\n",
    "print(cities_with_country_yrd[\"H14_1.0\"].mean()-cities_with_country_yrd[\"Hcb1.0\"].mean())\n",
    "fp_prd = \"D:/data/map/prd_9city.shp\" #生成的坐标不对\n",
    "mapfile_prd = gpd.read_file(fp_prd,encoding='gbk')\n",
    "gdf = gpd.GeoDataFrame(data, geometry='Coordinates')\n",
    "gdf.crs = mapfile_prd.crs\n",
    "#gdf=gdf.dropna(subset=[ '2001'])#Remember to reassign\n",
    "cities_with_country_prd = gpd.sjoin(mapfile_prd,gdf,how=\"inner\", op='intersects')\n",
    "cities_with_country_prd=cities_with_country_prd.drop([\"geometry\"],axis=1)\n",
    "#cities_with_country.to_csv(\"prd-0.25-NaN-b2_0-90_850hpa.csv\")\n",
    "print(cities_with_country_prd[\"CCN_1.0_cm3\"].mean())\n",
    "print(cities_with_country_prd[\"H14_1.0\"].mean()-cities_with_country_prd[\"Hcb1.0\"].mean())"
   ]
  },
  {
   "cell_type": "code",
   "execution_count": 26,
   "metadata": {},
   "outputs": [],
   "source": [
    "data = pd.read_csv('1allsum-0.25-NaN-all_0-360_850hpa.csv', sep=',',skiprows=0,header=0)\n",
    "data['Coordinates'] = list(zip(data.lon_bin, data.lat_bin))\n",
    "data['Coordinates'] = data['Coordinates'].apply(Point)"
   ]
  },
  {
   "cell_type": "code",
   "execution_count": 27,
   "metadata": {},
   "outputs": [
    {
     "name": "stdout",
     "output_type": "stream",
     "text": [
      "954.7877127085507\n",
      "3432.5108726391927\n",
      "1065.6364052658535\n",
      "3582.08841800722\n",
      "995.1150852436361\n",
      "3287.85093522313\n"
     ]
    }
   ],
   "source": [
    "fp_jjj = \"D:/data/map/JingJinJi.shp\" #生成的坐标不对\n",
    "mapfile_jjj = gpd.read_file(fp_jjj,encoding='gbk')\n",
    "# get geo data\n",
    "gdf = gpd.GeoDataFrame(data, geometry='Coordinates')\n",
    "gdf.crs = mapfile_jjj.crs\n",
    "#gdf=gdf.dropna(subset=[ '2001'])#Remember to reassign\n",
    "cities_with_country_jjj = gpd.sjoin(mapfile_jjj,gdf,how=\"inner\", op='intersects')\n",
    "cities_with_country_jjj=cities_with_country_jjj.drop([\"geometry\"],axis=1)\n",
    "#cities_with_country_jjj.to_csv(\"jjj-0.25-NaN-b2_0-90_850hpa.csv\")\n",
    "print(cities_with_country_jjj[\"CCN_1.0_cm3\"].mean())\n",
    "print(cities_with_country_jjj[\"H14_1.0\"].mean()-cities_with_country_jjj[\"Hcb1.0\"].mean())\n",
    "fp_yrd = \"D:/data/map/yrd_grug.shp\" #生成的坐标不对\n",
    "mapfile_yrd = gpd.read_file(fp_yrd,encoding='gbk')\n",
    "gdf = gpd.GeoDataFrame(data, geometry='Coordinates')\n",
    "gdf.crs = mapfile_yrd.crs\n",
    "#gdf=gdf.dropna(subset=[ '2001'])#Remember to reassign\n",
    "cities_with_country_yrd = gpd.sjoin(mapfile_yrd,gdf,how=\"inner\", op='intersects')\n",
    "cities_with_country_yrd=cities_with_country_yrd.drop([\"geometry\"],axis=1)\n",
    "#cities_with_country_yrd.to_csv(\"yrd-0.25-NaN-b2_0-90_850hpa.csv\")\n",
    "print(cities_with_country_yrd[\"CCN_1.0_cm3\"].mean())\n",
    "print(cities_with_country_yrd[\"H14_1.0\"].mean()-cities_with_country_yrd[\"Hcb1.0\"].mean())\n",
    "fp_prd = \"D:/data/map/prd_9city.shp\" #生成的坐标不对\n",
    "mapfile_prd = gpd.read_file(fp_prd,encoding='gbk')\n",
    "gdf = gpd.GeoDataFrame(data, geometry='Coordinates')\n",
    "gdf.crs = mapfile_prd.crs\n",
    "#gdf=gdf.dropna(subset=[ '2001'])#Remember to reassign\n",
    "cities_with_country_prd = gpd.sjoin(mapfile_prd,gdf,how=\"inner\", op='intersects')\n",
    "cities_with_country_prd=cities_with_country_prd.drop([\"geometry\"],axis=1)\n",
    "#cities_with_country.to_csv(\"prd-0.25-NaN-b2_0-90_850hpa.csv\")\n",
    "print(cities_with_country_prd[\"CCN_1.0_cm3\"].mean())\n",
    "print(cities_with_country_prd[\"H14_1.0\"].mean()-cities_with_country_prd[\"Hcb1.0\"].mean())"
   ]
  },
  {
   "cell_type": "code",
   "execution_count": null,
   "metadata": {},
   "outputs": [],
   "source": []
  }
 ],
 "metadata": {
  "kernelspec": {
   "display_name": "Python 3",
   "language": "python",
   "name": "python3"
  },
  "language_info": {
   "codemirror_mode": {
    "name": "ipython",
    "version": 3
   },
   "file_extension": ".py",
   "mimetype": "text/x-python",
   "name": "python",
   "nbconvert_exporter": "python",
   "pygments_lexer": "ipython3",
   "version": "3.7.3"
  }
 },
 "nbformat": 4,
 "nbformat_minor": 2
}
