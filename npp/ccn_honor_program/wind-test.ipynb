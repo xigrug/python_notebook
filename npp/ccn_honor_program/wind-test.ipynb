{
 "cells": [
  {
   "cell_type": "markdown",
   "metadata": {},
   "source": [
    "https://plot.ly/python/quiver-plots/"
   ]
  },
  {
   "cell_type": "code",
   "execution_count": 1,
   "metadata": {},
   "outputs": [
    {
     "name": "stderr",
     "output_type": "stream",
     "text": [
      "C:\\Users\\xigrug\\Anaconda3\\Anaconda\\lib\\site-packages\\dask\\config.py:168: YAMLLoadWarning:\n",
      "\n",
      "calling yaml.load() without Loader=... is deprecated, as the default Loader is unsafe. Please read https://msg.pyyaml.org/load for full details.\n",
      "\n",
      "C:\\Users\\xigrug\\Anaconda3\\Anaconda\\lib\\site-packages\\distributed\\config.py:20: YAMLLoadWarning:\n",
      "\n",
      "calling yaml.load() without Loader=... is deprecated, as the default Loader is unsafe. Please read https://msg.pyyaml.org/load for full details.\n",
      "\n"
     ]
    }
   ],
   "source": [
    "import plotly.plotly as py\n",
    "import plotly.figure_factory as ff\n",
    "import plotly.graph_objs as go\n",
    "from plotly.offline import download_plotlyjs, init_notebook_mode, plot, iplot\n",
    "import numpy as np\n",
    "#init_notebook_mode(connected=True)\n",
    "import xarray as xr\n",
    "from scipy.ndimage import gaussian_filter\n",
    "from metpy.units import units"
   ]
  },
  {
   "cell_type": "code",
   "execution_count": 2,
   "metadata": {},
   "outputs": [],
   "source": [
    "du = xr.open_dataset('C:/Users/xigrug/Desktop/CCN/ERA5_u-2013-2018_6-8_0500.nc')\n",
    "dv = xr.open_dataset('C:/Users/xigrug/Desktop/CCN/ERA5_v-2013-2018_6-8_0500.nc')"
   ]
  },
  {
   "cell_type": "code",
   "execution_count": 3,
   "metadata": {},
   "outputs": [],
   "source": [
    "lat1=du.latitude\n",
    "lon1=du.longitude\n",
    "u=du.u.data\n",
    "v=dv.v.data\n",
    "uwnd_850 = gaussian_filter(u, sigma=3.0) * units('m/s')\n",
    "vwnd_850 = gaussian_filter(v, sigma=3.0) * units('m/s')"
   ]
  },
  {
   "cell_type": "code",
   "execution_count": 4,
   "metadata": {},
   "outputs": [
    {
     "data": {
      "text/plain": [
       "(721, 1440)"
      ]
     },
     "execution_count": 4,
     "metadata": {},
     "output_type": "execute_result"
    }
   ],
   "source": [
    "uwnd_850.shape"
   ]
  },
  {
   "cell_type": "code",
   "execution_count": 5,
   "metadata": {},
   "outputs": [
    {
     "data": {
      "text/plain": [
       "(721,)"
      ]
     },
     "execution_count": 5,
     "metadata": {},
     "output_type": "execute_result"
    }
   ],
   "source": [
    "lat1.shape"
   ]
  },
  {
   "cell_type": "code",
   "execution_count": 17,
   "metadata": {},
   "outputs": [
    {
     "data": {
      "text/plain": [
       "<xarray.DataArray 'latitude' (latitude: 33)>\n",
       "array([36.  , 35.75, 35.5 , 35.25, 35.  , 34.75, 34.5 , 34.25, 34.  , 33.75,\n",
       "       33.5 , 33.25, 33.  , 32.75, 32.5 , 32.25, 32.  , 31.75, 31.5 , 31.25,\n",
       "       31.  , 30.75, 30.5 , 30.25, 30.  , 29.75, 29.5 , 29.25, 29.  , 28.75,\n",
       "       28.5 , 28.25, 28.  ], dtype=float32)\n",
       "Coordinates:\n",
       "  * latitude  (latitude) float32 36.0 35.75 35.5 35.25 ... 28.75 28.5 28.25 28.0\n",
       "Attributes:\n",
       "    units:      degrees_north\n",
       "    long_name:  latitude"
      ]
     },
     "execution_count": 17,
     "metadata": {},
     "output_type": "execute_result"
    }
   ],
   "source": [
    "lat1[216:249]"
   ]
  },
  {
   "cell_type": "code",
   "execution_count": 25,
   "metadata": {},
   "outputs": [
    {
     "data": {
      "text/plain": [
       "<xarray.DataArray 'longitude' (longitude: 50)>\n",
       "array([112.5 , 112.75, 113.  , 113.25, 113.5 , 113.75, 114.  , 114.25, 114.5 ,\n",
       "       114.75, 115.  , 115.25, 115.5 , 115.75, 116.  , 116.25, 116.5 , 116.75,\n",
       "       117.  , 117.25, 117.5 , 117.75, 118.  , 118.25, 118.5 , 118.75, 119.  ,\n",
       "       119.25, 119.5 , 119.75, 120.  , 120.25, 120.5 , 120.75, 121.  , 121.25,\n",
       "       121.5 , 121.75, 122.  , 122.25, 122.5 , 122.75, 123.  , 123.25, 123.5 ,\n",
       "       123.75, 124.  , 124.25, 124.5 , 124.75], dtype=float32)\n",
       "Coordinates:\n",
       "  * longitude  (longitude) float32 112.5 112.75 113.0 ... 124.25 124.5 124.75\n",
       "Attributes:\n",
       "    units:      degrees_east\n",
       "    long_name:  longitude"
      ]
     },
     "execution_count": 25,
     "metadata": {},
     "output_type": "execute_result"
    }
   ],
   "source": [
    "lon1[450:500]"
   ]
  },
  {
   "cell_type": "code",
   "execution_count": 30,
   "metadata": {},
   "outputs": [
    {
     "data": {
      "text/plain": [
       "(50, 33)"
      ]
     },
     "execution_count": 30,
     "metadata": {},
     "output_type": "execute_result"
    }
   ],
   "source": [
    "u[450:500,216:249].shape"
   ]
  },
  {
   "cell_type": "code",
   "execution_count": 26,
   "metadata": {},
   "outputs": [],
   "source": [
    "lon,lat=np.meshgrid(lon1[216:249],lat1[450:500])"
   ]
  },
  {
   "cell_type": "code",
   "execution_count": 27,
   "metadata": {},
   "outputs": [
    {
     "data": {
      "text/plain": [
       "(50, 33)"
      ]
     },
     "execution_count": 27,
     "metadata": {},
     "output_type": "execute_result"
    }
   ],
   "source": [
    "lon.shape"
   ]
  },
  {
   "cell_type": "code",
   "execution_count": 31,
   "metadata": {},
   "outputs": [],
   "source": [
    "quiver_fig = ff.create_quiver(lon, lat, u[450:500,216:249], v[450:500,216:249],\n",
    "                       scale=.25,\n",
    "                       arrow_scale=.8, # Sets arrow scale\n",
    "                       name='quiver',\n",
    "                       angle=np.pi/4,\n",
    "                       line=dict(width=1))"
   ]
  },
  {
   "cell_type": "code",
   "execution_count": 32,
   "metadata": {},
   "outputs": [
    {
     "name": "stderr",
     "output_type": "stream",
     "text": [
      "C:\\Users\\xigrug\\Anaconda3\\Anaconda\\lib\\site-packages\\IPython\\core\\display.py:689: UserWarning:\n",
      "\n",
      "Consider using IPython.display.IFrame instead\n",
      "\n"
     ]
    },
    {
     "data": {
      "text/html": [
       "<iframe id=\"igraph\" scrolling=\"no\" style=\"border:none;\" seamless=\"seamless\" src=\"https://plot.ly/~xigrug/72.embed\" height=\"525px\" width=\"100%\"></iframe>"
      ],
      "text/plain": [
       "<chart_studio.tools.PlotlyDisplay object>"
      ]
     },
     "execution_count": 32,
     "metadata": {},
     "output_type": "execute_result"
    }
   ],
   "source": [
    "py.iplot(quiver_fig, filename='mpl-quiver-with-custom-arrow-size')"
   ]
  },
  {
   "cell_type": "code",
   "execution_count": null,
   "metadata": {},
   "outputs": [],
   "source": []
  }
 ],
 "metadata": {
  "kernelspec": {
   "display_name": "Python 3",
   "language": "python",
   "name": "python3"
  },
  "language_info": {
   "codemirror_mode": {
    "name": "ipython",
    "version": 3
   },
   "file_extension": ".py",
   "mimetype": "text/x-python",
   "name": "python",
   "nbconvert_exporter": "python",
   "pygments_lexer": "ipython3",
   "version": "3.7.3"
  }
 },
 "nbformat": 4,
 "nbformat_minor": 2
}
