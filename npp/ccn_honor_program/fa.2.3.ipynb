{
 "cells": [
  {
   "cell_type": "markdown",
   "metadata": {
    "slideshow": {
     "slide_type": "slide"
    }
   },
   "source": [
    "# Python中的因子分析简介\n",
    "\n",
    "https://www.datacamp.com/community/tutorials/introduction-factor-analysis\n",
    "\n",
    "在本教程中，您将介绍以下主题：\n",
    "\n",
    "* 因子分析\n",
    "\n",
    "* 因子分析的类型\n",
    "\n",
    "* 确定因素数量\n",
    "\n",
    "* 因子分析与 主成分分析\n",
    "\n",
    "* python中的因子分析\n",
    "\n",
    "* 充分性测试\n",
    "\n",
    "* 解释结果\n",
    "\n",
    "* 因子分析的利弊\n",
    "\n",
    "* 结论"
   ]
  },
  {
   "cell_type": "markdown",
   "metadata": {
    "slideshow": {
     "slide_type": "slide"
    }
   },
   "source": [
    "## 因子分析\n",
    "\n",
    "因子分析是一种线性统计模型。它用于解释观察变量之间的差异，并将一组观察到的变量压缩到称为因子的未观察变量中。观察到的变量被建模为因子和误差项的线性组合（来源）。因子或潜在变量与多个观察到的变量相关联，这些变量具有共同的响应模式。每个因素都解释了观察到的变量中的特定方差量。它通过减少变量的数量来帮助进行数据解释。\n",
    "\n",
    "![](https://res.cloudinary.com/dchysltjf/image/upload/f_auto,q_auto:best/v1554830324/6.png)"
   ]
  },
  {
   "cell_type": "markdown",
   "metadata": {
    "slideshow": {
     "slide_type": "subslide"
    }
   },
   "source": [
    "因子分析是用于研究许多感兴趣的变量X1，X2，......，X1是否与较少数量的不可观察因子F1，F2，... ......，Fk线性相关的方法。\n",
    "\n",
    "![](https://res.cloudinary.com/dchysltjf/image/upload/f_auto,q_auto:best/v1554830233/1.png)\n",
    "\n",
    "来源：此图像是从我在因子分析说明中找到的图像重新创建的。该图像提供了因子分析的完整视图。\n",
    "\n",
    "假设：\n",
    "\n",
    "1 数据中没有异常值。\n",
    "\n",
    "2 样本量应大于因子。\n",
    "\n",
    "3 不应该有完美的多重共线性。\n",
    "\n",
    "4 变量之间不应该存在同方差性。"
   ]
  },
  {
   "cell_type": "markdown",
   "metadata": {
    "slideshow": {
     "slide_type": "subslide"
    }
   },
   "source": [
    "## 因子分析的类型\n",
    "\n",
    "* 探索性因子分析：它是社会和管理研究人员中最受欢迎的因子分析方法。其基本假设是任何观察到的变量都与任何因素直接相关。\n",
    "\n",
    "* 验证性因子分析（CFA）：其基本假设是每个因子都与一组特定的观察变量相关联。CFA确认了基本的预期。\n",
    "\n",
    "### 因子分析如何运作？\n",
    "\n",
    "因子分析的主要目标是减少观察到的变量的数量并找到不可观察的变量。这些未观察到的变量有助于市场研究人员完成调查。将观察到的变量转换为未观察到的变量可以通过两个步骤实现：\n",
    "\n",
    "* 因子提取：在此步骤中，使用方差分割方法（如主成分分析和公因子分析）选择因子数和提取方法。\n",
    "\n",
    "* 因素轮换：在此步骤中，轮换会尝试将因子转换为不相关的因素 - 这一步骤的主要目标是提高整体可解释性。有许多可用的旋转方法，例如：Varimax旋转方法，Quartimax旋转方法和Promax旋转方法。\n"
   ]
  },
  {
   "cell_type": "markdown",
   "metadata": {
    "slideshow": {
     "slide_type": "subslide"
    }
   },
   "source": [
    "### 术语\n",
    "\n",
    "#### 有什么因素？\n",
    "\n",
    "因子是潜在变量，其描述了观察到的变量的数量之间的关联。最大因子数等于观察到的变量数。每个因素都解释了观察到的变量的某种变化。方差量最小的因素被删除。因素也称为潜在变量或隐藏变量或未观察到的变量或假设变量。\n",
    "\n",
    "#### 因素负荷是什么？\n",
    "\n",
    "因子加载是一个矩阵，显示每个变量与基础因子的关系。它显示了观测变量和因子的相关系数。它显示了由观察到的变量解释的方差。\n",
    "\n",
    "#### 什么是特征值？\n",
    "\n",
    "特征值表示方差，从总方差中解释每个因子。它也被称为特征根。\n"
   ]
  },
  {
   "cell_type": "markdown",
   "metadata": {
    "slideshow": {
     "slide_type": "subslide"
    }
   },
   "source": [
    "#### 什么是社区？\n",
    "\n",
    "共性是每个变量的平方加载的总和。它代表了常见的差异。范围从0到1，值接近1表示更多方差。\n",
    "\n",
    "![](https://res.cloudinary.com/dchysltjf/image/upload/f_auto,q_auto:best/v1554830233/2.png)\n",
    "\n",
    "\n",
    "#### 什么是因素轮换？\n",
    "\n",
    "轮换是更好地解释因子分析的工具。旋转可以是正交的或倾斜的。它以明确的负载模式重新分配了共性。\n"
   ]
  },
  {
   "cell_type": "markdown",
   "metadata": {
    "slideshow": {
     "slide_type": "subslide"
    }
   },
   "source": [
    "### 选择因素数量\n",
    "\n",
    "Kaiser准则是一种分析方法，它基于因子选择的更大比例的方差来选择。特征值是确定因子数量的良好标准。通常，大于1的特征值将被视为特征的选择标准。\n",
    "\n",
    "\n",
    "图形方法基于因子特征值的视觉表示，也称为scree图。这个碎石图有助于我们确定曲线弯曲的因素数量。\n",
    "\n",
    "![](https://res.cloudinary.com/dchysltjf/image/upload/f_auto,q_auto:best/v1554830233/3.png)"
   ]
  },
  {
   "cell_type": "markdown",
   "metadata": {
    "slideshow": {
     "slide_type": "slide"
    }
   },
   "source": [
    "## 因子分析与 主成分分析\n",
    "\n",
    "* PCA组件解释了最大的方差量，而因子分析解释了数据的协方差。\n",
    "\n",
    "* PCA组分彼此完全正交，而因子分析不要求因子是正交的。\n",
    "\n",
    "* PCA组分是观察到的变量的线性组合，而在FA中，观察到的变量是未观察到的变量或因子的线性组合。\n",
    "\n",
    "* PCA组件无法解释。在FA中，潜在因素是可以理解和可解释的。\n",
    "\n",
    "* PCA是一种降维方法，而因子分析是潜变量方法。\n",
    "\n",
    "* PCA是一种因子分析。PCA是观察性的，而FA是一种建模技术。\n",
    "\n",
    "\n",
    "![](https://res.cloudinary.com/dchysltjf/image/upload/f_auto,q_auto:best/v1554830233/4.png)"
   ]
  },
  {
   "cell_type": "markdown",
   "metadata": {
    "slideshow": {
     "slide_type": "subslide"
    }
   },
   "source": [
    "## 使用factor_analyzer包在python中进行因子分析"
   ]
  },
  {
   "cell_type": "markdown",
   "metadata": {
    "slideshow": {
     "slide_type": "fragment"
    }
   },
   "source": [
    "### 导入所需的库"
   ]
  },
  {
   "cell_type": "code",
   "execution_count": 1,
   "metadata": {
    "slideshow": {
     "slide_type": "fragment"
    }
   },
   "outputs": [],
   "source": [
    "# Import required libraries\n",
    "import pandas as pd\n",
    "from sklearn.datasets import load_iris\n",
    "from factor_analyzer import FactorAnalyzer\n",
    "import matplotlib.pyplot as plt"
   ]
  },
  {
   "cell_type": "markdown",
   "metadata": {
    "slideshow": {
     "slide_type": "subslide"
    }
   },
   "source": [
    "## 加载数据"
   ]
  },
  {
   "cell_type": "markdown",
   "metadata": {
    "slideshow": {
     "slide_type": "fragment"
    }
   },
   "source": [
    "让我们对BFI（基于人格评估项目的数据集）进行因子分析，这是使用6点响应量表收集的：1非常不准确，2中度不准确，3略微不准确4准确，5中等准确，6非常准确。\n",
    "您还可以从以下链接下载此数据集：https://vincentarelbundock.github.io/Rdatasets/datasets.html"
   ]
  },
  {
   "cell_type": "code",
   "execution_count": 2,
   "metadata": {
    "slideshow": {
     "slide_type": "fragment"
    }
   },
   "outputs": [],
   "source": [
    "df= pd.read_csv(\"bfi.csv\")"
   ]
  },
  {
   "cell_type": "markdown",
   "metadata": {
    "slideshow": {
     "slide_type": "fragment"
    }
   },
   "source": [
    "### 预处理数据"
   ]
  },
  {
   "cell_type": "code",
   "execution_count": 3,
   "metadata": {
    "slideshow": {
     "slide_type": "fragment"
    }
   },
   "outputs": [
    {
     "data": {
      "text/plain": [
       "Index(['A1', 'A2', 'A3', 'A4', 'A5', 'C1', 'C2', 'C3', 'C4', 'C5', 'E1', 'E2',\n",
       "       'E3', 'E4', 'E5', 'N1', 'N2', 'N3', 'N4', 'N5', 'O1', 'O2', 'O3', 'O4',\n",
       "       'O5', 'gender', 'education', 'age'],\n",
       "      dtype='object')"
      ]
     },
     "execution_count": 3,
     "metadata": {},
     "output_type": "execute_result"
    }
   ],
   "source": [
    "df.columns"
   ]
  },
  {
   "cell_type": "code",
   "execution_count": 4,
   "metadata": {
    "slideshow": {
     "slide_type": "fragment"
    }
   },
   "outputs": [],
   "source": [
    "# Dropping unnecessary columns\n",
    "df.drop(['gender', 'education', 'age'],axis=1,inplace=True)"
   ]
  },
  {
   "cell_type": "code",
   "execution_count": 5,
   "metadata": {
    "slideshow": {
     "slide_type": "fragment"
    }
   },
   "outputs": [],
   "source": [
    "# Dropping missing values rows\n",
    "df.dropna(inplace=True)"
   ]
  },
  {
   "cell_type": "code",
   "execution_count": 6,
   "metadata": {
    "slideshow": {
     "slide_type": "subslide"
    }
   },
   "outputs": [
    {
     "name": "stdout",
     "output_type": "stream",
     "text": [
      "<class 'pandas.core.frame.DataFrame'>\n",
      "Int64Index: 2436 entries, 0 to 2799\n",
      "Data columns (total 25 columns):\n",
      "A1    2436 non-null float64\n",
      "A2    2436 non-null float64\n",
      "A3    2436 non-null float64\n",
      "A4    2436 non-null float64\n",
      "A5    2436 non-null float64\n",
      "C1    2436 non-null float64\n",
      "C2    2436 non-null float64\n",
      "C3    2436 non-null float64\n",
      "C4    2436 non-null float64\n",
      "C5    2436 non-null float64\n",
      "E1    2436 non-null float64\n",
      "E2    2436 non-null float64\n",
      "E3    2436 non-null float64\n",
      "E4    2436 non-null float64\n",
      "E5    2436 non-null float64\n",
      "N1    2436 non-null float64\n",
      "N2    2436 non-null float64\n",
      "N3    2436 non-null float64\n",
      "N4    2436 non-null float64\n",
      "N5    2436 non-null float64\n",
      "O1    2436 non-null float64\n",
      "O2    2436 non-null int64\n",
      "O3    2436 non-null float64\n",
      "O4    2436 non-null float64\n",
      "O5    2436 non-null float64\n",
      "dtypes: float64(24), int64(1)\n",
      "memory usage: 494.8 KB\n"
     ]
    }
   ],
   "source": [
    "df.info()"
   ]
  },
  {
   "cell_type": "code",
   "execution_count": 7,
   "metadata": {
    "slideshow": {
     "slide_type": "fragment"
    }
   },
   "outputs": [
    {
     "data": {
      "text/html": [
       "<div>\n",
       "<style scoped>\n",
       "    .dataframe tbody tr th:only-of-type {\n",
       "        vertical-align: middle;\n",
       "    }\n",
       "\n",
       "    .dataframe tbody tr th {\n",
       "        vertical-align: top;\n",
       "    }\n",
       "\n",
       "    .dataframe thead th {\n",
       "        text-align: right;\n",
       "    }\n",
       "</style>\n",
       "<table border=\"1\" class=\"dataframe\">\n",
       "  <thead>\n",
       "    <tr style=\"text-align: right;\">\n",
       "      <th></th>\n",
       "      <th>A1</th>\n",
       "      <th>A2</th>\n",
       "      <th>A3</th>\n",
       "      <th>A4</th>\n",
       "      <th>A5</th>\n",
       "      <th>C1</th>\n",
       "      <th>C2</th>\n",
       "      <th>C3</th>\n",
       "      <th>C4</th>\n",
       "      <th>C5</th>\n",
       "      <th>...</th>\n",
       "      <th>N1</th>\n",
       "      <th>N2</th>\n",
       "      <th>N3</th>\n",
       "      <th>N4</th>\n",
       "      <th>N5</th>\n",
       "      <th>O1</th>\n",
       "      <th>O2</th>\n",
       "      <th>O3</th>\n",
       "      <th>O4</th>\n",
       "      <th>O5</th>\n",
       "    </tr>\n",
       "  </thead>\n",
       "  <tbody>\n",
       "    <tr>\n",
       "      <th>0</th>\n",
       "      <td>2.0</td>\n",
       "      <td>4.0</td>\n",
       "      <td>3.0</td>\n",
       "      <td>4.0</td>\n",
       "      <td>4.0</td>\n",
       "      <td>2.0</td>\n",
       "      <td>3.0</td>\n",
       "      <td>3.0</td>\n",
       "      <td>4.0</td>\n",
       "      <td>4.0</td>\n",
       "      <td>...</td>\n",
       "      <td>3.0</td>\n",
       "      <td>4.0</td>\n",
       "      <td>2.0</td>\n",
       "      <td>2.0</td>\n",
       "      <td>3.0</td>\n",
       "      <td>3.0</td>\n",
       "      <td>6</td>\n",
       "      <td>3.0</td>\n",
       "      <td>4.0</td>\n",
       "      <td>3.0</td>\n",
       "    </tr>\n",
       "    <tr>\n",
       "      <th>1</th>\n",
       "      <td>2.0</td>\n",
       "      <td>4.0</td>\n",
       "      <td>5.0</td>\n",
       "      <td>2.0</td>\n",
       "      <td>5.0</td>\n",
       "      <td>5.0</td>\n",
       "      <td>4.0</td>\n",
       "      <td>4.0</td>\n",
       "      <td>3.0</td>\n",
       "      <td>4.0</td>\n",
       "      <td>...</td>\n",
       "      <td>3.0</td>\n",
       "      <td>3.0</td>\n",
       "      <td>3.0</td>\n",
       "      <td>5.0</td>\n",
       "      <td>5.0</td>\n",
       "      <td>4.0</td>\n",
       "      <td>2</td>\n",
       "      <td>4.0</td>\n",
       "      <td>3.0</td>\n",
       "      <td>3.0</td>\n",
       "    </tr>\n",
       "    <tr>\n",
       "      <th>2</th>\n",
       "      <td>5.0</td>\n",
       "      <td>4.0</td>\n",
       "      <td>5.0</td>\n",
       "      <td>4.0</td>\n",
       "      <td>4.0</td>\n",
       "      <td>4.0</td>\n",
       "      <td>5.0</td>\n",
       "      <td>4.0</td>\n",
       "      <td>2.0</td>\n",
       "      <td>5.0</td>\n",
       "      <td>...</td>\n",
       "      <td>4.0</td>\n",
       "      <td>5.0</td>\n",
       "      <td>4.0</td>\n",
       "      <td>2.0</td>\n",
       "      <td>3.0</td>\n",
       "      <td>4.0</td>\n",
       "      <td>2</td>\n",
       "      <td>5.0</td>\n",
       "      <td>5.0</td>\n",
       "      <td>2.0</td>\n",
       "    </tr>\n",
       "    <tr>\n",
       "      <th>3</th>\n",
       "      <td>4.0</td>\n",
       "      <td>4.0</td>\n",
       "      <td>6.0</td>\n",
       "      <td>5.0</td>\n",
       "      <td>5.0</td>\n",
       "      <td>4.0</td>\n",
       "      <td>4.0</td>\n",
       "      <td>3.0</td>\n",
       "      <td>5.0</td>\n",
       "      <td>5.0</td>\n",
       "      <td>...</td>\n",
       "      <td>2.0</td>\n",
       "      <td>5.0</td>\n",
       "      <td>2.0</td>\n",
       "      <td>4.0</td>\n",
       "      <td>1.0</td>\n",
       "      <td>3.0</td>\n",
       "      <td>3</td>\n",
       "      <td>4.0</td>\n",
       "      <td>3.0</td>\n",
       "      <td>5.0</td>\n",
       "    </tr>\n",
       "    <tr>\n",
       "      <th>4</th>\n",
       "      <td>2.0</td>\n",
       "      <td>3.0</td>\n",
       "      <td>3.0</td>\n",
       "      <td>4.0</td>\n",
       "      <td>5.0</td>\n",
       "      <td>4.0</td>\n",
       "      <td>4.0</td>\n",
       "      <td>5.0</td>\n",
       "      <td>3.0</td>\n",
       "      <td>2.0</td>\n",
       "      <td>...</td>\n",
       "      <td>2.0</td>\n",
       "      <td>3.0</td>\n",
       "      <td>4.0</td>\n",
       "      <td>4.0</td>\n",
       "      <td>3.0</td>\n",
       "      <td>3.0</td>\n",
       "      <td>3</td>\n",
       "      <td>4.0</td>\n",
       "      <td>3.0</td>\n",
       "      <td>3.0</td>\n",
       "    </tr>\n",
       "  </tbody>\n",
       "</table>\n",
       "<p>5 rows × 25 columns</p>\n",
       "</div>"
      ],
      "text/plain": [
       "    A1   A2   A3   A4   A5   C1   C2   C3   C4   C5  ...   N1   N2   N3   N4  \\\n",
       "0  2.0  4.0  3.0  4.0  4.0  2.0  3.0  3.0  4.0  4.0  ...  3.0  4.0  2.0  2.0   \n",
       "1  2.0  4.0  5.0  2.0  5.0  5.0  4.0  4.0  3.0  4.0  ...  3.0  3.0  3.0  5.0   \n",
       "2  5.0  4.0  5.0  4.0  4.0  4.0  5.0  4.0  2.0  5.0  ...  4.0  5.0  4.0  2.0   \n",
       "3  4.0  4.0  6.0  5.0  5.0  4.0  4.0  3.0  5.0  5.0  ...  2.0  5.0  2.0  4.0   \n",
       "4  2.0  3.0  3.0  4.0  5.0  4.0  4.0  5.0  3.0  2.0  ...  2.0  3.0  4.0  4.0   \n",
       "\n",
       "    N5   O1  O2   O3   O4   O5  \n",
       "0  3.0  3.0   6  3.0  4.0  3.0  \n",
       "1  5.0  4.0   2  4.0  3.0  3.0  \n",
       "2  3.0  4.0   2  5.0  5.0  2.0  \n",
       "3  1.0  3.0   3  4.0  3.0  5.0  \n",
       "4  3.0  3.0   3  4.0  3.0  3.0  \n",
       "\n",
       "[5 rows x 25 columns]"
      ]
     },
     "execution_count": 7,
     "metadata": {},
     "output_type": "execute_result"
    }
   ],
   "source": [
    "df.head()"
   ]
  },
  {
   "cell_type": "markdown",
   "metadata": {
    "slideshow": {
     "slide_type": "subslide"
    }
   },
   "source": [
    "## 充分性测试\n",
    "在执行因子分析之前，您需要评估数据集的“可用性”。Factorability意味着“我们能找到数据集中的因子吗？”。有两种方法可以检查可行性或抽样充分性：\n",
    "\n",
    "* 巴特利特的考验\n",
    "* Kaiser-Meyer-Olkin测试\n",
    "\n",
    "**Bartlett**对球形度的检验使用观察到的相对矩阵对照单位矩阵检查观察到的变量是否完全相互关联。如果测试发现统计上不显着，则不应使用因子分析。"
   ]
  },
  {
   "cell_type": "code",
   "execution_count": 8,
   "metadata": {
    "slideshow": {
     "slide_type": "fragment"
    }
   },
   "outputs": [
    {
     "data": {
      "text/plain": [
       "(18146.065577234804, 0.0)"
      ]
     },
     "execution_count": 8,
     "metadata": {},
     "output_type": "execute_result"
    }
   ],
   "source": [
    "from factor_analyzer.factor_analyzer import calculate_bartlett_sphericity\n",
    "chi_square_value,p_value=calculate_bartlett_sphericity(df)\n",
    "chi_square_value, p_value"
   ]
  },
  {
   "cell_type": "markdown",
   "metadata": {
    "slideshow": {
     "slide_type": "subslide"
    }
   },
   "source": [
    "在该Bartlett检验中，p值为0.该检验具有统计学意义，表明观察到的相关矩阵不是单位矩阵。"
   ]
  },
  {
   "cell_type": "markdown",
   "metadata": {
    "slideshow": {
     "slide_type": "fragment"
    }
   },
   "source": [
    "**Kaiser-Meyer-Olkin（KMO）测试**测量数据在因子分析中的适用性。它确定了每个观测变量和完整模型的充分性。\n",
    "KMO估计所有观测变量之间的方差比例。较低的比例id更适合因子分析。KMO值介于0和1之间.KMO小于0.6的值被认为是不合适的。"
   ]
  },
  {
   "cell_type": "code",
   "execution_count": 9,
   "metadata": {
    "slideshow": {
     "slide_type": "fragment"
    }
   },
   "outputs": [],
   "source": [
    "from factor_analyzer.factor_analyzer import calculate_kmo\n",
    "kmo_all,kmo_model=calculate_kmo(df)"
   ]
  },
  {
   "cell_type": "code",
   "execution_count": 10,
   "metadata": {
    "slideshow": {
     "slide_type": "fragment"
    }
   },
   "outputs": [
    {
     "data": {
      "text/plain": [
       "0.84864523094683819"
      ]
     },
     "execution_count": 10,
     "metadata": {},
     "output_type": "execute_result"
    }
   ],
   "source": [
    "kmo_model"
   ]
  },
  {
   "cell_type": "markdown",
   "metadata": {
    "slideshow": {
     "slide_type": "notes"
    }
   },
   "source": [
    "我们数据的总体KMO为0.84，非常好。此值表示您可以继续进行计划的因子分析。"
   ]
  },
  {
   "cell_type": "markdown",
   "metadata": {
    "slideshow": {
     "slide_type": "subslide"
    }
   },
   "source": [
    "### 选择因素数量\n",
    "要选择因子数，可以使用Kaiser标准和scree图。两者都基于特征值。"
   ]
  },
  {
   "cell_type": "code",
   "execution_count": 11,
   "metadata": {
    "slideshow": {
     "slide_type": "fragment"
    }
   },
   "outputs": [
    {
     "data": {
      "text/html": [
       "<div>\n",
       "<style scoped>\n",
       "    .dataframe tbody tr th:only-of-type {\n",
       "        vertical-align: middle;\n",
       "    }\n",
       "\n",
       "    .dataframe tbody tr th {\n",
       "        vertical-align: top;\n",
       "    }\n",
       "\n",
       "    .dataframe thead th {\n",
       "        text-align: right;\n",
       "    }\n",
       "</style>\n",
       "<table border=\"1\" class=\"dataframe\">\n",
       "  <thead>\n",
       "    <tr style=\"text-align: right;\">\n",
       "      <th></th>\n",
       "      <th>Original_Eigenvalues</th>\n",
       "    </tr>\n",
       "  </thead>\n",
       "  <tbody>\n",
       "    <tr>\n",
       "      <th>0</th>\n",
       "      <td>5.134311</td>\n",
       "    </tr>\n",
       "    <tr>\n",
       "      <th>1</th>\n",
       "      <td>2.751887</td>\n",
       "    </tr>\n",
       "    <tr>\n",
       "      <th>2</th>\n",
       "      <td>2.142702</td>\n",
       "    </tr>\n",
       "    <tr>\n",
       "      <th>3</th>\n",
       "      <td>1.852328</td>\n",
       "    </tr>\n",
       "    <tr>\n",
       "      <th>4</th>\n",
       "      <td>1.548163</td>\n",
       "    </tr>\n",
       "    <tr>\n",
       "      <th>5</th>\n",
       "      <td>1.073582</td>\n",
       "    </tr>\n",
       "    <tr>\n",
       "      <th>6</th>\n",
       "      <td>0.839539</td>\n",
       "    </tr>\n",
       "    <tr>\n",
       "      <th>7</th>\n",
       "      <td>0.799206</td>\n",
       "    </tr>\n",
       "    <tr>\n",
       "      <th>8</th>\n",
       "      <td>0.718989</td>\n",
       "    </tr>\n",
       "    <tr>\n",
       "      <th>9</th>\n",
       "      <td>0.688089</td>\n",
       "    </tr>\n",
       "    <tr>\n",
       "      <th>10</th>\n",
       "      <td>0.676373</td>\n",
       "    </tr>\n",
       "    <tr>\n",
       "      <th>11</th>\n",
       "      <td>0.651800</td>\n",
       "    </tr>\n",
       "    <tr>\n",
       "      <th>12</th>\n",
       "      <td>0.623253</td>\n",
       "    </tr>\n",
       "    <tr>\n",
       "      <th>13</th>\n",
       "      <td>0.596563</td>\n",
       "    </tr>\n",
       "    <tr>\n",
       "      <th>14</th>\n",
       "      <td>0.563091</td>\n",
       "    </tr>\n",
       "    <tr>\n",
       "      <th>15</th>\n",
       "      <td>0.543305</td>\n",
       "    </tr>\n",
       "    <tr>\n",
       "      <th>16</th>\n",
       "      <td>0.514518</td>\n",
       "    </tr>\n",
       "    <tr>\n",
       "      <th>17</th>\n",
       "      <td>0.494503</td>\n",
       "    </tr>\n",
       "    <tr>\n",
       "      <th>18</th>\n",
       "      <td>0.482640</td>\n",
       "    </tr>\n",
       "    <tr>\n",
       "      <th>19</th>\n",
       "      <td>0.448921</td>\n",
       "    </tr>\n",
       "    <tr>\n",
       "      <th>20</th>\n",
       "      <td>0.423366</td>\n",
       "    </tr>\n",
       "    <tr>\n",
       "      <th>21</th>\n",
       "      <td>0.400671</td>\n",
       "    </tr>\n",
       "    <tr>\n",
       "      <th>22</th>\n",
       "      <td>0.387804</td>\n",
       "    </tr>\n",
       "    <tr>\n",
       "      <th>23</th>\n",
       "      <td>0.381857</td>\n",
       "    </tr>\n",
       "    <tr>\n",
       "      <th>24</th>\n",
       "      <td>0.262539</td>\n",
       "    </tr>\n",
       "  </tbody>\n",
       "</table>\n",
       "</div>"
      ],
      "text/plain": [
       "    Original_Eigenvalues\n",
       "0               5.134311\n",
       "1               2.751887\n",
       "2               2.142702\n",
       "3               1.852328\n",
       "4               1.548163\n",
       "5               1.073582\n",
       "6               0.839539\n",
       "7               0.799206\n",
       "8               0.718989\n",
       "9               0.688089\n",
       "10              0.676373\n",
       "11              0.651800\n",
       "12              0.623253\n",
       "13              0.596563\n",
       "14              0.563091\n",
       "15              0.543305\n",
       "16              0.514518\n",
       "17              0.494503\n",
       "18              0.482640\n",
       "19              0.448921\n",
       "20              0.423366\n",
       "21              0.400671\n",
       "22              0.387804\n",
       "23              0.381857\n",
       "24              0.262539"
      ]
     },
     "execution_count": 11,
     "metadata": {},
     "output_type": "execute_result"
    }
   ],
   "source": [
    "# Create factor analysis object and perform factor analysis\n",
    "fa = FactorAnalyzer()\n",
    "fa.analyze(df, 25, rotation=None)\n",
    "# Check Eigenvalues\n",
    "ev, v = fa.get_eigenvalues()\n",
    "ev"
   ]
  },
  {
   "cell_type": "markdown",
   "metadata": {
    "slideshow": {
     "slide_type": "subslide"
    }
   },
   "source": [
    "在这里，您只能看到6个因子的特征值大于1。这意味着我们只需要选择6个因子（或未观察到的变量）。"
   ]
  },
  {
   "cell_type": "code",
   "execution_count": 12,
   "metadata": {
    "slideshow": {
     "slide_type": "fragment"
    }
   },
   "outputs": [
    {
     "data": {
      "image/png": "[encoded data removed]",
      "text/plain": [
       "<matplotlib.figure.Figure at 0x2b6eab7ac160>"
      ]
     },
     "metadata": {
      "needs_background": "light"
     },
     "output_type": "display_data"
    }
   ],
   "source": [
    "# Create scree plot using matplotlib\n",
    "plt.scatter(range(1,df.shape[1]+1),ev)\n",
    "plt.plot(range(1,df.shape[1]+1),ev)\n",
    "plt.title('Scree Plot')\n",
    "plt.xlabel('Factors')\n",
    "plt.ylabel('Eigenvalue')\n",
    "plt.grid()\n",
    "plt.show()"
   ]
  },
  {
   "cell_type": "markdown",
   "metadata": {
    "slideshow": {
     "slide_type": "notes"
    }
   },
   "source": [
    "碎石图方法为每个因子及其特征值绘制一条直线。特征值大于1被认为是因子的数量。\n",
    "\n",
    "在这里，您只能看到6个因子的特征值大于1。这意味着我们只需要选择6个因子（或未观察到的变量）。"
   ]
  },
  {
   "cell_type": "markdown",
   "metadata": {
    "slideshow": {
     "slide_type": "slide"
    }
   },
   "source": [
    "## 执行因子分析"
   ]
  },
  {
   "cell_type": "code",
   "execution_count": 13,
   "metadata": {
    "slideshow": {
     "slide_type": "fragment"
    }
   },
   "outputs": [],
   "source": [
    "# Create factor analysis object and perform factor analysis\n",
    "fa = FactorAnalyzer()\n",
    "fa.analyze(df, 6, rotation=\"varimax\")"
   ]
  },
  {
   "cell_type": "code",
   "execution_count": 14,
   "metadata": {
    "slideshow": {
     "slide_type": "fragment"
    }
   },
   "outputs": [
    {
     "data": {
      "text/html": [
       "<div>\n",
       "<style scoped>\n",
       "    .dataframe tbody tr th:only-of-type {\n",
       "        vertical-align: middle;\n",
       "    }\n",
       "\n",
       "    .dataframe tbody tr th {\n",
       "        vertical-align: top;\n",
       "    }\n",
       "\n",
       "    .dataframe thead th {\n",
       "        text-align: right;\n",
       "    }\n",
       "</style>\n",
       "<table border=\"1\" class=\"dataframe\">\n",
       "  <thead>\n",
       "    <tr style=\"text-align: right;\">\n",
       "      <th></th>\n",
       "      <th>Factor1</th>\n",
       "      <th>Factor2</th>\n",
       "      <th>Factor3</th>\n",
       "      <th>Factor4</th>\n",
       "      <th>Factor5</th>\n",
       "      <th>Factor6</th>\n",
       "    </tr>\n",
       "  </thead>\n",
       "  <tbody>\n",
       "    <tr>\n",
       "      <th>A1</th>\n",
       "      <td>0.040783</td>\n",
       "      <td>0.095220</td>\n",
       "      <td>0.048734</td>\n",
       "      <td>-0.113057</td>\n",
       "      <td>-0.530987</td>\n",
       "      <td>0.161216</td>\n",
       "    </tr>\n",
       "    <tr>\n",
       "      <th>A2</th>\n",
       "      <td>0.235538</td>\n",
       "      <td>0.033131</td>\n",
       "      <td>0.133714</td>\n",
       "      <td>0.063734</td>\n",
       "      <td>0.661141</td>\n",
       "      <td>-0.006244</td>\n",
       "    </tr>\n",
       "    <tr>\n",
       "      <th>A3</th>\n",
       "      <td>0.343008</td>\n",
       "      <td>-0.009621</td>\n",
       "      <td>0.121353</td>\n",
       "      <td>0.033990</td>\n",
       "      <td>0.605933</td>\n",
       "      <td>0.160106</td>\n",
       "    </tr>\n",
       "    <tr>\n",
       "      <th>A4</th>\n",
       "      <td>0.219717</td>\n",
       "      <td>-0.081518</td>\n",
       "      <td>0.235140</td>\n",
       "      <td>-0.125338</td>\n",
       "      <td>0.404594</td>\n",
       "      <td>0.086356</td>\n",
       "    </tr>\n",
       "    <tr>\n",
       "      <th>A5</th>\n",
       "      <td>0.414458</td>\n",
       "      <td>-0.149616</td>\n",
       "      <td>0.106382</td>\n",
       "      <td>0.030977</td>\n",
       "      <td>0.469698</td>\n",
       "      <td>0.236519</td>\n",
       "    </tr>\n",
       "    <tr>\n",
       "      <th>C1</th>\n",
       "      <td>0.077248</td>\n",
       "      <td>-0.004358</td>\n",
       "      <td>0.554582</td>\n",
       "      <td>0.190124</td>\n",
       "      <td>0.007511</td>\n",
       "      <td>0.095035</td>\n",
       "    </tr>\n",
       "    <tr>\n",
       "      <th>C2</th>\n",
       "      <td>0.038370</td>\n",
       "      <td>0.068330</td>\n",
       "      <td>0.674545</td>\n",
       "      <td>0.087593</td>\n",
       "      <td>0.057055</td>\n",
       "      <td>0.152775</td>\n",
       "    </tr>\n",
       "    <tr>\n",
       "      <th>C3</th>\n",
       "      <td>0.031867</td>\n",
       "      <td>-0.039994</td>\n",
       "      <td>0.551164</td>\n",
       "      <td>-0.011338</td>\n",
       "      <td>0.101282</td>\n",
       "      <td>0.008996</td>\n",
       "    </tr>\n",
       "    <tr>\n",
       "      <th>C4</th>\n",
       "      <td>-0.066241</td>\n",
       "      <td>0.216283</td>\n",
       "      <td>-0.638475</td>\n",
       "      <td>-0.143846</td>\n",
       "      <td>-0.102617</td>\n",
       "      <td>0.318359</td>\n",
       "    </tr>\n",
       "    <tr>\n",
       "      <th>C5</th>\n",
       "      <td>-0.180812</td>\n",
       "      <td>0.284187</td>\n",
       "      <td>-0.544838</td>\n",
       "      <td>0.025837</td>\n",
       "      <td>-0.059955</td>\n",
       "      <td>0.132423</td>\n",
       "    </tr>\n",
       "    <tr>\n",
       "      <th>E1</th>\n",
       "      <td>-0.590451</td>\n",
       "      <td>0.022280</td>\n",
       "      <td>0.053915</td>\n",
       "      <td>-0.071205</td>\n",
       "      <td>-0.130851</td>\n",
       "      <td>0.156583</td>\n",
       "    </tr>\n",
       "    <tr>\n",
       "      <th>E2</th>\n",
       "      <td>-0.684578</td>\n",
       "      <td>0.233624</td>\n",
       "      <td>-0.088497</td>\n",
       "      <td>-0.045561</td>\n",
       "      <td>-0.116716</td>\n",
       "      <td>0.115065</td>\n",
       "    </tr>\n",
       "    <tr>\n",
       "      <th>E3</th>\n",
       "      <td>0.556774</td>\n",
       "      <td>-0.000895</td>\n",
       "      <td>0.103390</td>\n",
       "      <td>0.241180</td>\n",
       "      <td>0.179396</td>\n",
       "      <td>0.267291</td>\n",
       "    </tr>\n",
       "    <tr>\n",
       "      <th>E4</th>\n",
       "      <td>0.658395</td>\n",
       "      <td>-0.136788</td>\n",
       "      <td>0.113798</td>\n",
       "      <td>-0.107808</td>\n",
       "      <td>0.241143</td>\n",
       "      <td>0.158513</td>\n",
       "    </tr>\n",
       "    <tr>\n",
       "      <th>E5</th>\n",
       "      <td>0.507535</td>\n",
       "      <td>0.034490</td>\n",
       "      <td>0.309813</td>\n",
       "      <td>0.200821</td>\n",
       "      <td>0.078804</td>\n",
       "      <td>0.008747</td>\n",
       "    </tr>\n",
       "    <tr>\n",
       "      <th>N1</th>\n",
       "      <td>0.068011</td>\n",
       "      <td>0.805806</td>\n",
       "      <td>-0.051264</td>\n",
       "      <td>-0.074977</td>\n",
       "      <td>-0.174849</td>\n",
       "      <td>-0.096266</td>\n",
       "    </tr>\n",
       "    <tr>\n",
       "      <th>N2</th>\n",
       "      <td>0.022958</td>\n",
       "      <td>0.789832</td>\n",
       "      <td>-0.037477</td>\n",
       "      <td>0.006726</td>\n",
       "      <td>-0.141134</td>\n",
       "      <td>-0.139823</td>\n",
       "    </tr>\n",
       "    <tr>\n",
       "      <th>N3</th>\n",
       "      <td>-0.065687</td>\n",
       "      <td>0.725081</td>\n",
       "      <td>-0.059039</td>\n",
       "      <td>-0.010664</td>\n",
       "      <td>-0.019184</td>\n",
       "      <td>0.062495</td>\n",
       "    </tr>\n",
       "    <tr>\n",
       "      <th>N4</th>\n",
       "      <td>-0.345072</td>\n",
       "      <td>0.578319</td>\n",
       "      <td>-0.162174</td>\n",
       "      <td>0.062916</td>\n",
       "      <td>0.000403</td>\n",
       "      <td>0.147551</td>\n",
       "    </tr>\n",
       "    <tr>\n",
       "      <th>N5</th>\n",
       "      <td>-0.161675</td>\n",
       "      <td>0.523097</td>\n",
       "      <td>-0.025305</td>\n",
       "      <td>-0.161892</td>\n",
       "      <td>0.090125</td>\n",
       "      <td>0.120049</td>\n",
       "    </tr>\n",
       "    <tr>\n",
       "      <th>O1</th>\n",
       "      <td>0.225339</td>\n",
       "      <td>-0.020004</td>\n",
       "      <td>0.133201</td>\n",
       "      <td>0.479477</td>\n",
       "      <td>0.005178</td>\n",
       "      <td>0.218690</td>\n",
       "    </tr>\n",
       "    <tr>\n",
       "      <th>O2</th>\n",
       "      <td>-0.001982</td>\n",
       "      <td>0.156230</td>\n",
       "      <td>-0.086047</td>\n",
       "      <td>-0.496640</td>\n",
       "      <td>0.043989</td>\n",
       "      <td>0.134693</td>\n",
       "    </tr>\n",
       "    <tr>\n",
       "      <th>O3</th>\n",
       "      <td>0.325954</td>\n",
       "      <td>0.011851</td>\n",
       "      <td>0.093880</td>\n",
       "      <td>0.566128</td>\n",
       "      <td>0.076642</td>\n",
       "      <td>0.210777</td>\n",
       "    </tr>\n",
       "    <tr>\n",
       "      <th>O4</th>\n",
       "      <td>-0.177746</td>\n",
       "      <td>0.207281</td>\n",
       "      <td>-0.005671</td>\n",
       "      <td>0.349227</td>\n",
       "      <td>0.133656</td>\n",
       "      <td>0.178068</td>\n",
       "    </tr>\n",
       "    <tr>\n",
       "      <th>O5</th>\n",
       "      <td>-0.014221</td>\n",
       "      <td>0.063234</td>\n",
       "      <td>-0.047059</td>\n",
       "      <td>-0.576743</td>\n",
       "      <td>-0.057561</td>\n",
       "      <td>0.135936</td>\n",
       "    </tr>\n",
       "  </tbody>\n",
       "</table>\n",
       "</div>"
      ],
      "text/plain": [
       "     Factor1   Factor2   Factor3   Factor4   Factor5   Factor6\n",
       "A1  0.040783  0.095220  0.048734 -0.113057 -0.530987  0.161216\n",
       "A2  0.235538  0.033131  0.133714  0.063734  0.661141 -0.006244\n",
       "A3  0.343008 -0.009621  0.121353  0.033990  0.605933  0.160106\n",
       "A4  0.219717 -0.081518  0.235140 -0.125338  0.404594  0.086356\n",
       "A5  0.414458 -0.149616  0.106382  0.030977  0.469698  0.236519\n",
       "C1  0.077248 -0.004358  0.554582  0.190124  0.007511  0.095035\n",
       "C2  0.038370  0.068330  0.674545  0.087593  0.057055  0.152775\n",
       "C3  0.031867 -0.039994  0.551164 -0.011338  0.101282  0.008996\n",
       "C4 -0.066241  0.216283 -0.638475 -0.143846 -0.102617  0.318359\n",
       "C5 -0.180812  0.284187 -0.544838  0.025837 -0.059955  0.132423\n",
       "E1 -0.590451  0.022280  0.053915 -0.071205 -0.130851  0.156583\n",
       "E2 -0.684578  0.233624 -0.088497 -0.045561 -0.116716  0.115065\n",
       "E3  0.556774 -0.000895  0.103390  0.241180  0.179396  0.267291\n",
       "E4  0.658395 -0.136788  0.113798 -0.107808  0.241143  0.158513\n",
       "E5  0.507535  0.034490  0.309813  0.200821  0.078804  0.008747\n",
       "N1  0.068011  0.805806 -0.051264 -0.074977 -0.174849 -0.096266\n",
       "N2  0.022958  0.789832 -0.037477  0.006726 -0.141134 -0.139823\n",
       "N3 -0.065687  0.725081 -0.059039 -0.010664 -0.019184  0.062495\n",
       "N4 -0.345072  0.578319 -0.162174  0.062916  0.000403  0.147551\n",
       "N5 -0.161675  0.523097 -0.025305 -0.161892  0.090125  0.120049\n",
       "O1  0.225339 -0.020004  0.133201  0.479477  0.005178  0.218690\n",
       "O2 -0.001982  0.156230 -0.086047 -0.496640  0.043989  0.134693\n",
       "O3  0.325954  0.011851  0.093880  0.566128  0.076642  0.210777\n",
       "O4 -0.177746  0.207281 -0.005671  0.349227  0.133656  0.178068\n",
       "O5 -0.014221  0.063234 -0.047059 -0.576743 -0.057561  0.135936"
      ]
     },
     "execution_count": 14,
     "metadata": {},
     "output_type": "execute_result"
    }
   ],
   "source": [
    "fa.loadings"
   ]
  },
  {
   "cell_type": "markdown",
   "metadata": {
    "slideshow": {
     "slide_type": "subslide"
    }
   },
   "source": [
    "* 因子1具有E1，E2，E3，E4和E5（外向）的高因子负载\n",
    "\n",
    "* 因子2对N1，N2，N3，N4和N5具有高因子负荷（神经质）\n",
    "\n",
    "* 因子3具有C1，C2，C3，C4和C5的高因子负载（尽责）\n",
    "\n",
    "* 因子4对O1，O2，O3，O4和O5具有高因子负载（Opennness）\n",
    "\n",
    "* 因子5具有A1，A2，A3，A4和A5的高因子载荷（令人满意）\n",
    "\n",
    "* 因子6没有任何变量的高值，并且不易解释。如果我们只采取五个因素，这是好的。\n",
    "\n",
    "让我们对5个因素进行因子分析。"
   ]
  },
  {
   "cell_type": "code",
   "execution_count": 15,
   "metadata": {
    "slideshow": {
     "slide_type": "fragment"
    }
   },
   "outputs": [
    {
     "data": {
      "text/html": [
       "<div>\n",
       "<style scoped>\n",
       "    .dataframe tbody tr th:only-of-type {\n",
       "        vertical-align: middle;\n",
       "    }\n",
       "\n",
       "    .dataframe tbody tr th {\n",
       "        vertical-align: top;\n",
       "    }\n",
       "\n",
       "    .dataframe thead th {\n",
       "        text-align: right;\n",
       "    }\n",
       "</style>\n",
       "<table border=\"1\" class=\"dataframe\">\n",
       "  <thead>\n",
       "    <tr style=\"text-align: right;\">\n",
       "      <th></th>\n",
       "      <th>Factor1</th>\n",
       "      <th>Factor2</th>\n",
       "      <th>Factor3</th>\n",
       "      <th>Factor4</th>\n",
       "      <th>Factor5</th>\n",
       "    </tr>\n",
       "  </thead>\n",
       "  <tbody>\n",
       "    <tr>\n",
       "      <th>A1</th>\n",
       "      <td>0.040465</td>\n",
       "      <td>0.111126</td>\n",
       "      <td>0.022798</td>\n",
       "      <td>-0.077931</td>\n",
       "      <td>-0.428166</td>\n",
       "    </tr>\n",
       "    <tr>\n",
       "      <th>A2</th>\n",
       "      <td>0.213716</td>\n",
       "      <td>0.029588</td>\n",
       "      <td>0.139037</td>\n",
       "      <td>0.062139</td>\n",
       "      <td>0.626946</td>\n",
       "    </tr>\n",
       "    <tr>\n",
       "      <th>A3</th>\n",
       "      <td>0.317848</td>\n",
       "      <td>0.009357</td>\n",
       "      <td>0.109331</td>\n",
       "      <td>0.056196</td>\n",
       "      <td>0.650743</td>\n",
       "    </tr>\n",
       "    <tr>\n",
       "      <th>A4</th>\n",
       "      <td>0.204566</td>\n",
       "      <td>-0.066476</td>\n",
       "      <td>0.230584</td>\n",
       "      <td>-0.112700</td>\n",
       "      <td>0.435624</td>\n",
       "    </tr>\n",
       "    <tr>\n",
       "      <th>A5</th>\n",
       "      <td>0.393034</td>\n",
       "      <td>-0.122113</td>\n",
       "      <td>0.087869</td>\n",
       "      <td>0.066708</td>\n",
       "      <td>0.537087</td>\n",
       "    </tr>\n",
       "    <tr>\n",
       "      <th>C1</th>\n",
       "      <td>0.070184</td>\n",
       "      <td>0.010416</td>\n",
       "      <td>0.545824</td>\n",
       "      <td>0.209584</td>\n",
       "      <td>0.038878</td>\n",
       "    </tr>\n",
       "    <tr>\n",
       "      <th>C2</th>\n",
       "      <td>0.033270</td>\n",
       "      <td>0.089574</td>\n",
       "      <td>0.648731</td>\n",
       "      <td>0.115434</td>\n",
       "      <td>0.102782</td>\n",
       "    </tr>\n",
       "    <tr>\n",
       "      <th>C3</th>\n",
       "      <td>0.023907</td>\n",
       "      <td>-0.030855</td>\n",
       "      <td>0.557036</td>\n",
       "      <td>-0.005183</td>\n",
       "      <td>0.111578</td>\n",
       "    </tr>\n",
       "    <tr>\n",
       "      <th>C4</th>\n",
       "      <td>-0.064984</td>\n",
       "      <td>0.240410</td>\n",
       "      <td>-0.633806</td>\n",
       "      <td>-0.107535</td>\n",
       "      <td>-0.037498</td>\n",
       "    </tr>\n",
       "    <tr>\n",
       "      <th>C5</th>\n",
       "      <td>-0.176395</td>\n",
       "      <td>0.290318</td>\n",
       "      <td>-0.562467</td>\n",
       "      <td>0.036822</td>\n",
       "      <td>-0.047525</td>\n",
       "    </tr>\n",
       "    <tr>\n",
       "      <th>E1</th>\n",
       "      <td>-0.574835</td>\n",
       "      <td>0.042819</td>\n",
       "      <td>0.033144</td>\n",
       "      <td>-0.058795</td>\n",
       "      <td>-0.104813</td>\n",
       "    </tr>\n",
       "    <tr>\n",
       "      <th>E2</th>\n",
       "      <td>-0.678731</td>\n",
       "      <td>0.244743</td>\n",
       "      <td>-0.102483</td>\n",
       "      <td>-0.042010</td>\n",
       "      <td>-0.112517</td>\n",
       "    </tr>\n",
       "    <tr>\n",
       "      <th>E3</th>\n",
       "      <td>0.536816</td>\n",
       "      <td>0.024180</td>\n",
       "      <td>0.083010</td>\n",
       "      <td>0.280877</td>\n",
       "      <td>0.257906</td>\n",
       "    </tr>\n",
       "    <tr>\n",
       "      <th>E4</th>\n",
       "      <td>0.646833</td>\n",
       "      <td>-0.115614</td>\n",
       "      <td>0.102023</td>\n",
       "      <td>-0.073422</td>\n",
       "      <td>0.306101</td>\n",
       "    </tr>\n",
       "    <tr>\n",
       "      <th>E5</th>\n",
       "      <td>0.504069</td>\n",
       "      <td>0.036145</td>\n",
       "      <td>0.312899</td>\n",
       "      <td>0.213739</td>\n",
       "      <td>0.090354</td>\n",
       "    </tr>\n",
       "    <tr>\n",
       "      <th>N1</th>\n",
       "      <td>0.078923</td>\n",
       "      <td>0.786807</td>\n",
       "      <td>-0.045997</td>\n",
       "      <td>-0.084704</td>\n",
       "      <td>-0.216363</td>\n",
       "    </tr>\n",
       "    <tr>\n",
       "      <th>N2</th>\n",
       "      <td>0.027301</td>\n",
       "      <td>0.754109</td>\n",
       "      <td>-0.030568</td>\n",
       "      <td>-0.010304</td>\n",
       "      <td>-0.193744</td>\n",
       "    </tr>\n",
       "    <tr>\n",
       "      <th>N3</th>\n",
       "      <td>-0.061430</td>\n",
       "      <td>0.731721</td>\n",
       "      <td>-0.067084</td>\n",
       "      <td>-0.004217</td>\n",
       "      <td>-0.027712</td>\n",
       "    </tr>\n",
       "    <tr>\n",
       "      <th>N4</th>\n",
       "      <td>-0.345388</td>\n",
       "      <td>0.590602</td>\n",
       "      <td>-0.178902</td>\n",
       "      <td>0.075225</td>\n",
       "      <td>0.005886</td>\n",
       "    </tr>\n",
       "    <tr>\n",
       "      <th>N5</th>\n",
       "      <td>-0.161291</td>\n",
       "      <td>0.537858</td>\n",
       "      <td>-0.037309</td>\n",
       "      <td>-0.149769</td>\n",
       "      <td>0.100931</td>\n",
       "    </tr>\n",
       "    <tr>\n",
       "      <th>O1</th>\n",
       "      <td>0.213005</td>\n",
       "      <td>-0.002224</td>\n",
       "      <td>0.115080</td>\n",
       "      <td>0.504907</td>\n",
       "      <td>0.061550</td>\n",
       "    </tr>\n",
       "    <tr>\n",
       "      <th>O2</th>\n",
       "      <td>0.004560</td>\n",
       "      <td>0.175788</td>\n",
       "      <td>-0.099729</td>\n",
       "      <td>-0.468925</td>\n",
       "      <td>0.081809</td>\n",
       "    </tr>\n",
       "    <tr>\n",
       "      <th>O3</th>\n",
       "      <td>0.310956</td>\n",
       "      <td>0.026736</td>\n",
       "      <td>0.076873</td>\n",
       "      <td>0.596007</td>\n",
       "      <td>0.126889</td>\n",
       "    </tr>\n",
       "    <tr>\n",
       "      <th>O4</th>\n",
       "      <td>-0.191196</td>\n",
       "      <td>0.220582</td>\n",
       "      <td>-0.021906</td>\n",
       "      <td>0.369012</td>\n",
       "      <td>0.155475</td>\n",
       "    </tr>\n",
       "    <tr>\n",
       "      <th>O5</th>\n",
       "      <td>-0.005347</td>\n",
       "      <td>0.085401</td>\n",
       "      <td>-0.062730</td>\n",
       "      <td>-0.533778</td>\n",
       "      <td>-0.010384</td>\n",
       "    </tr>\n",
       "  </tbody>\n",
       "</table>\n",
       "</div>"
      ],
      "text/plain": [
       "     Factor1   Factor2   Factor3   Factor4   Factor5\n",
       "A1  0.040465  0.111126  0.022798 -0.077931 -0.428166\n",
       "A2  0.213716  0.029588  0.139037  0.062139  0.626946\n",
       "A3  0.317848  0.009357  0.109331  0.056196  0.650743\n",
       "A4  0.204566 -0.066476  0.230584 -0.112700  0.435624\n",
       "A5  0.393034 -0.122113  0.087869  0.066708  0.537087\n",
       "C1  0.070184  0.010416  0.545824  0.209584  0.038878\n",
       "C2  0.033270  0.089574  0.648731  0.115434  0.102782\n",
       "C3  0.023907 -0.030855  0.557036 -0.005183  0.111578\n",
       "C4 -0.064984  0.240410 -0.633806 -0.107535 -0.037498\n",
       "C5 -0.176395  0.290318 -0.562467  0.036822 -0.047525\n",
       "E1 -0.574835  0.042819  0.033144 -0.058795 -0.104813\n",
       "E2 -0.678731  0.244743 -0.102483 -0.042010 -0.112517\n",
       "E3  0.536816  0.024180  0.083010  0.280877  0.257906\n",
       "E4  0.646833 -0.115614  0.102023 -0.073422  0.306101\n",
       "E5  0.504069  0.036145  0.312899  0.213739  0.090354\n",
       "N1  0.078923  0.786807 -0.045997 -0.084704 -0.216363\n",
       "N2  0.027301  0.754109 -0.030568 -0.010304 -0.193744\n",
       "N3 -0.061430  0.731721 -0.067084 -0.004217 -0.027712\n",
       "N4 -0.345388  0.590602 -0.178902  0.075225  0.005886\n",
       "N5 -0.161291  0.537858 -0.037309 -0.149769  0.100931\n",
       "O1  0.213005 -0.002224  0.115080  0.504907  0.061550\n",
       "O2  0.004560  0.175788 -0.099729 -0.468925  0.081809\n",
       "O3  0.310956  0.026736  0.076873  0.596007  0.126889\n",
       "O4 -0.191196  0.220582 -0.021906  0.369012  0.155475\n",
       "O5 -0.005347  0.085401 -0.062730 -0.533778 -0.010384"
      ]
     },
     "execution_count": 15,
     "metadata": {},
     "output_type": "execute_result"
    }
   ],
   "source": [
    "# Create factor analysis object and perform factor analysis using 5 factors\n",
    "fa = FactorAnalyzer()\n",
    "fa.analyze(df, 5, rotation=\"varimax\")\n",
    "fa.loadings"
   ]
  },
  {
   "cell_type": "code",
   "execution_count": 16,
   "metadata": {
    "slideshow": {
     "slide_type": "subslide"
    }
   },
   "outputs": [
    {
     "data": {
      "text/html": [
       "<div>\n",
       "<style scoped>\n",
       "    .dataframe tbody tr th:only-of-type {\n",
       "        vertical-align: middle;\n",
       "    }\n",
       "\n",
       "    .dataframe tbody tr th {\n",
       "        vertical-align: top;\n",
       "    }\n",
       "\n",
       "    .dataframe thead th {\n",
       "        text-align: right;\n",
       "    }\n",
       "</style>\n",
       "<table border=\"1\" class=\"dataframe\">\n",
       "  <thead>\n",
       "    <tr style=\"text-align: right;\">\n",
       "      <th></th>\n",
       "      <th>Factor1</th>\n",
       "      <th>Factor2</th>\n",
       "      <th>Factor3</th>\n",
       "      <th>Factor4</th>\n",
       "      <th>Factor5</th>\n",
       "    </tr>\n",
       "  </thead>\n",
       "  <tbody>\n",
       "    <tr>\n",
       "      <th>SS Loadings</th>\n",
       "      <td>2.473090</td>\n",
       "      <td>2.709633</td>\n",
       "      <td>2.041106</td>\n",
       "      <td>1.522153</td>\n",
       "      <td>1.844498</td>\n",
       "    </tr>\n",
       "    <tr>\n",
       "      <th>Proportion Var</th>\n",
       "      <td>0.098924</td>\n",
       "      <td>0.108385</td>\n",
       "      <td>0.081644</td>\n",
       "      <td>0.060886</td>\n",
       "      <td>0.073780</td>\n",
       "    </tr>\n",
       "    <tr>\n",
       "      <th>Cumulative Var</th>\n",
       "      <td>0.098924</td>\n",
       "      <td>0.207309</td>\n",
       "      <td>0.288953</td>\n",
       "      <td>0.349839</td>\n",
       "      <td>0.423619</td>\n",
       "    </tr>\n",
       "  </tbody>\n",
       "</table>\n",
       "</div>"
      ],
      "text/plain": [
       "                 Factor1   Factor2   Factor3   Factor4   Factor5\n",
       "SS Loadings     2.473090  2.709633  2.041106  1.522153  1.844498\n",
       "Proportion Var  0.098924  0.108385  0.081644  0.060886  0.073780\n",
       "Cumulative Var  0.098924  0.207309  0.288953  0.349839  0.423619"
      ]
     },
     "execution_count": 16,
     "metadata": {},
     "output_type": "execute_result"
    }
   ],
   "source": [
    "# Get variance of each factors\n",
    "fa.get_factor_variance()"
   ]
  },
  {
   "cell_type": "markdown",
   "metadata": {
    "slideshow": {
     "slide_type": "slide"
    }
   },
   "source": [
    "## 因子分析的利弊\n",
    "\n",
    "因子分析探索大型数据集并找到相互关联的关联。它将观察到的变量减少为几个未观察到的变量或识别相互关联的变量组，这有助于市场研究人员压缩市场情况并找出消费者品味，偏好和文化影响之间的隐藏关系。此外，它有助于改进未来调查的调查问卷。因素可以提供更自然的数据解释。\n",
    "\n",
    "因子分析的结果存在争议。它的解释是有争议的，因为可以对相同的数据因素进行不止一种解释。因子识别和因子命名需要领域知识。"
   ]
  },
  {
   "cell_type": "markdown",
   "metadata": {
    "slideshow": {
     "slide_type": "subslide"
    }
   },
   "source": [
    "## 结论\n",
    "\n",
    "\n",
    "恭喜，您已经完成了本教程的结尾！\n",
    "\n",
    "在本教程中，您已经了解了什么因素分析。不同类型的因子分析，因子分析如何工作，基本因子分析术语，选择因素数量，主成分分析和因子分析的比较，使用python FactorAnalyzer包在python中实现，以及因子分析的优缺点。\n",
    "\n",
    "我期待听到任何反馈或问题。您可以通过发表评论来提出问题，我会尽力回答。\n",
    "\n",
    "如果您想了解有关Python中的因素的更多信息，请参阅DataCamp 在Python中的无监督学习课程。"
   ]
  },
  {
   "cell_type": "markdown",
   "metadata": {
    "slideshow": {
     "slide_type": "subslide"
    }
   },
   "source": [
    "# issue\n",
    "同样的问题。解决了安装先前版本的因子分析器的问题：\n",
    "\n",
    "pip install factor_analyzer == 0.2.3\n",
    "\n",
    "非常感谢Avinash教程。\n",
    "\n",
    "by liuchongcn@126.com @NJU 2019-07-03\n",
    "\n",
    "![简书](https://raw.githubusercontent.com/xigrug/xigrug.github.io/master/picture/jianshuQR1.jpg)"
   ]
  }
 ],
 "metadata": {
  "kernelspec": {
   "display_name": "Python 3",
   "language": "python",
   "name": "python3"
  },
  "language_info": {
   "codemirror_mode": {
    "name": "ipython",
    "version": 3
   },
   "file_extension": ".py",
   "mimetype": "text/x-python",
   "name": "python",
   "nbconvert_exporter": "python",
   "pygments_lexer": "ipython3",
   "version": "3.7.3"
  }
 },
 "nbformat": 4,
 "nbformat_minor": 2
}
