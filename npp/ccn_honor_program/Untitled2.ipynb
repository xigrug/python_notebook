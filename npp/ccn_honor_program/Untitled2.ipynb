{
 "cells": [
  {
   "cell_type": "code",
   "execution_count": 1,
   "metadata": {},
   "outputs": [],
   "source": [
    "import dash\n",
    "import dash_core_components as dcc\n",
    "import dash_html_components as html\n",
    "import plotly.graph_objs as go\n",
    "import pandas as pd"
   ]
  },
  {
   "cell_type": "markdown",
   "metadata": {},
   "source": [
    "https://gist.github.com/chriddyp/1a95f6582a5256db9847086232987bff"
   ]
  },
  {
   "cell_type": "code",
   "execution_count": 2,
   "metadata": {},
   "outputs": [
    {
     "name": "stdout",
     "output_type": "stream",
     "text": [
      "Running on http://127.0.0.1:8050/\n",
      "Debugger PIN: 501-874-028\n",
      " * Serving Flask app \"__main__\" (lazy loading)\n",
      " * Environment: production\n",
      "   WARNING: Do not use the development server in a production environment.\n",
      "   Use a production WSGI server instead.\n",
      " * Debug mode: on\n"
     ]
    },
    {
     "ename": "SystemExit",
     "evalue": "1",
     "output_type": "error",
     "traceback": [
      "An exception has occurred, use %tb to see the full traceback.\n",
      "\u001b[1;31mSystemExit\u001b[0m\u001b[1;31m:\u001b[0m 1\n"
     ]
    },
    {
     "name": "stderr",
     "output_type": "stream",
     "text": [
      "C:\\Users\\xigrug\\Anaconda3\\Anaconda\\lib\\site-packages\\IPython\\core\\interactiveshell.py:3304: UserWarning:\n",
      "\n",
      "To exit: use 'exit', 'quit', or Ctrl-D.\n",
      "\n"
     ]
    }
   ],
   "source": [
    "app = dash.Dash()\n",
    "\n",
    "df = pd.read_csv(\n",
    "    'https://raw.githubusercontent.com/'\n",
    "    'plotly/datasets/master/'\n",
    "    '1962_2006_walmart_store_openings.csv')\n",
    "\n",
    "app.layout = html.Div([\n",
    "    html.H1('Walmart Store Openings'),\n",
    "    html.Div(id='text-content'),\n",
    "    dcc.Graph(id='map', figure={\n",
    "        'data': [{\n",
    "            'lat': df['LAT'],\n",
    "            'lon': df['LON'],\n",
    "            'marker': {\n",
    "                'color': df['YEAR'],\n",
    "                'size': 8,\n",
    "                'opacity': 0.6\n",
    "            },\n",
    "            'customdata': df['storenum'],\n",
    "            'type': 'scattermapbox'\n",
    "        }],\n",
    "        'layout': {\n",
    "            'mapbox': {\n",
    "                'accesstoken': 'pk.eyJ1IjoiY2hyaWRkeXAiLCJhIjoiY2ozcGI1MTZ3MDBpcTJ3cXR4b3owdDQwaCJ9.8jpMunbKjdq1anXwU5gxIw'\n",
    "            },\n",
    "            'hovermode': 'closest',\n",
    "            'margin': {'l': 0, 'r': 0, 'b': 0, 't': 0}\n",
    "        }\n",
    "    })\n",
    "])\n",
    "\n",
    "@app.callback(\n",
    "    dash.dependencies.Output('text-content', 'children'),\n",
    "    [dash.dependencies.Input('map', 'hoverData')])\n",
    "def update_text(hoverData):\n",
    "    s = df[df['storenum'] == hoverData['points'][0]['customdata']]\n",
    "    return html.H3(\n",
    "        'The {}, {} {} opened in {}'.format(\n",
    "            s.iloc[0]['STRCITY'],\n",
    "            s.iloc[0]['STRSTATE'],\n",
    "            s.iloc[0]['type_store'],\n",
    "            s.iloc[0]['YEAR']\n",
    "        )\n",
    "    )\n",
    "\n",
    "app.css.append_css({\n",
    "    'external_url': 'https://codepen.io/chriddyp/pen/bWLwgP.css'\n",
    "})\n",
    "\n",
    "if __name__ == '__main__':\n",
    "    app.run_server(debug=True)"
   ]
  },
  {
   "cell_type": "code",
   "execution_count": null,
   "metadata": {},
   "outputs": [],
   "source": []
  }
 ],
 "metadata": {
  "kernelspec": {
   "display_name": "Python 3",
   "language": "python",
   "name": "python3"
  },
  "language_info": {
   "codemirror_mode": {
    "name": "ipython",
    "version": 3
   },
   "file_extension": ".py",
   "mimetype": "text/x-python",
   "name": "python",
   "nbconvert_exporter": "python",
   "pygments_lexer": "ipython3",
   "version": "3.7.3"
  }
 },
 "nbformat": 4,
 "nbformat_minor": 2
}
