{
 "cells": [
  {
   "cell_type": "markdown",
   "metadata": {},
   "source": [
    "[用Python实现简单和多重线性回归--预测波士顿房价](https://www.jianshu.com/p/edaaa78fb6a1)\n",
    "\n",
    "[译自](https://towardsdatascience.com/simple-and-multiple-linear-regression-in-python-c928425168f9)"
   ]
  },
  {
   "cell_type": "markdown",
   "metadata": {},
   "source": [
    "[使用sklearn进行多元线性回归](https://stackoverflow.com/questions/46899217/multi-linear-regression-with-sklearn)"
   ]
  },
  {
   "cell_type": "markdown",
   "metadata": {},
   "source": [
    "# SKLearn中的线性回归"
   ]
  },
  {
   "cell_type": "code",
   "execution_count": 3,
   "metadata": {},
   "outputs": [],
   "source": [
    "from sklearn import linear_model"
   ]
  },
  {
   "cell_type": "code",
   "execution_count": 4,
   "metadata": {},
   "outputs": [],
   "source": [
    "import pandas as pd"
   ]
  },
  {
   "cell_type": "code",
   "execution_count": 2,
   "metadata": {},
   "outputs": [],
   "source": [
    "def mlr_ccn(df1):\n",
    "    df1=df[[\"CCN_1.0_cm3\",\"T2m_NCEP\",\"SS_1.0_mg\",\"PM25\"]].dropna()\n",
    "    X = df1[[\"T2m_NCEP\",\"SS_1.0_mg\",\"PM25\"]].values.reshape(-1,3)\n",
    "    y = df1[\"CCN_1.0_cm3\"]\n",
    "    lm = linear_model.LinearRegression()\n",
    "    model = lm.fit(X,y)\n",
    "    #predictions = lm.predict(X)\n",
    "    #print(predictions[0:5])\n",
    "    #输出我们模型的R²得分\n",
    "    print(lm.score(X,y))\n",
    "    cf=lm.coef_\n",
    "    inter=lm.intercept_\n",
    "    return cf[0],cf[1],cf[2],inter"
   ]
  },
  {
   "cell_type": "code",
   "execution_count": 12,
   "metadata": {},
   "outputs": [],
   "source": [
    "def mlr_ccn_value(df1,value=\"CCN_1.0_cm3\",value1=\"T2m_NCEP\",value2=\"SS_1.0_mg\",value3=\"PM25\"):\n",
    "    df1=df[[value,value1,value2,value3]].dropna()\n",
    "    X = df1[[value1,value2,value3]].values.reshape(-1,3)\n",
    "    y = df1[value]\n",
    "    lm = linear_model.LinearRegression()\n",
    "    model = lm.fit(X,y)\n",
    "    #predictions = lm.predict(X)\n",
    "    #print(predictions[0:5])\n",
    "    #输出我们模型的R²得分\n",
    "    print(lm.score(X,y))\n",
    "    cf=lm.coef_\n",
    "    inter=lm.intercept_\n",
    "    return cf[0],cf[1],cf[2],inter"
   ]
  },
  {
   "cell_type": "code",
   "execution_count": 5,
   "metadata": {},
   "outputs": [],
   "source": [
    "df=pd.read_csv(\"yrd/yrd_ccn_new-all.csv\")"
   ]
  },
  {
   "cell_type": "code",
   "execution_count": 6,
   "metadata": {},
   "outputs": [
    {
     "data": {
      "text/html": [
       "<div>\n",
       "<style scoped>\n",
       "    .dataframe tbody tr th:only-of-type {\n",
       "        vertical-align: middle;\n",
       "    }\n",
       "\n",
       "    .dataframe tbody tr th {\n",
       "        vertical-align: top;\n",
       "    }\n",
       "\n",
       "    .dataframe thead th {\n",
       "        text-align: right;\n",
       "    }\n",
       "</style>\n",
       "<table border=\"1\" class=\"dataframe\">\n",
       "  <thead>\n",
       "    <tr style=\"text-align: right;\">\n",
       "      <th></th>\n",
       "      <th>ID_1</th>\n",
       "      <th>ID_2</th>\n",
       "      <th>NAME_2</th>\n",
       "      <th>lat_bin</th>\n",
       "      <th>lon_bin</th>\n",
       "      <th>BJC</th>\n",
       "      <th>B4LI</th>\n",
       "      <th>CAPE</th>\n",
       "      <th>CAPE_nc</th>\n",
       "      <th>CCN_1.0_cm3</th>\n",
       "      <th>...</th>\n",
       "      <th>mean_wspd</th>\n",
       "      <th>max_wspd</th>\n",
       "      <th>max_wdir</th>\n",
       "      <th>ext_wspd</th>\n",
       "      <th>ssd</th>\n",
       "      <th>mean_prs</th>\n",
       "      <th>max_prs</th>\n",
       "      <th>min_prs</th>\n",
       "      <th>mean_rh</th>\n",
       "      <th>min_rh</th>\n",
       "    </tr>\n",
       "  </thead>\n",
       "  <tbody>\n",
       "    <tr>\n",
       "      <th>0</th>\n",
       "      <td>602</td>\n",
       "      <td>10098</td>\n",
       "      <td>Hangzhou</td>\n",
       "      <td>30.0</td>\n",
       "      <td>120.0</td>\n",
       "      <td>2014/7/21 5:35</td>\n",
       "      <td>-4.40</td>\n",
       "      <td>2565.0</td>\n",
       "      <td>3044.0</td>\n",
       "      <td>1318.0</td>\n",
       "      <td>...</td>\n",
       "      <td>15.5</td>\n",
       "      <td>41.0</td>\n",
       "      <td>3.5</td>\n",
       "      <td>60.0</td>\n",
       "      <td>104.0</td>\n",
       "      <td>10034.0</td>\n",
       "      <td>10054.5</td>\n",
       "      <td>10011.0</td>\n",
       "      <td>72.0</td>\n",
       "      <td>47.0</td>\n",
       "    </tr>\n",
       "    <tr>\n",
       "      <th>1</th>\n",
       "      <td>602</td>\n",
       "      <td>10098</td>\n",
       "      <td>Hangzhou</td>\n",
       "      <td>30.0</td>\n",
       "      <td>120.0</td>\n",
       "      <td>2015/8/12 4:31</td>\n",
       "      <td>1.40</td>\n",
       "      <td>10.0</td>\n",
       "      <td>973.0</td>\n",
       "      <td>1072.0</td>\n",
       "      <td>...</td>\n",
       "      <td>19.0</td>\n",
       "      <td>41.0</td>\n",
       "      <td>7.5</td>\n",
       "      <td>61.5</td>\n",
       "      <td>91.5</td>\n",
       "      <td>10055.0</td>\n",
       "      <td>10068.5</td>\n",
       "      <td>10035.0</td>\n",
       "      <td>75.0</td>\n",
       "      <td>51.0</td>\n",
       "    </tr>\n",
       "    <tr>\n",
       "      <th>2</th>\n",
       "      <td>602</td>\n",
       "      <td>10098</td>\n",
       "      <td>Hangzhou</td>\n",
       "      <td>30.0</td>\n",
       "      <td>120.0</td>\n",
       "      <td>2013/8/25 5:12</td>\n",
       "      <td>-6.10</td>\n",
       "      <td>2428.0</td>\n",
       "      <td>2036.5</td>\n",
       "      <td>1553.5</td>\n",
       "      <td>...</td>\n",
       "      <td>14.0</td>\n",
       "      <td>77.0</td>\n",
       "      <td>14.5</td>\n",
       "      <td>130.0</td>\n",
       "      <td>71.5</td>\n",
       "      <td>10030.0</td>\n",
       "      <td>10040.0</td>\n",
       "      <td>10008.5</td>\n",
       "      <td>75.0</td>\n",
       "      <td>45.0</td>\n",
       "    </tr>\n",
       "    <tr>\n",
       "      <th>3</th>\n",
       "      <td>602</td>\n",
       "      <td>10098</td>\n",
       "      <td>Hangzhou</td>\n",
       "      <td>30.0</td>\n",
       "      <td>120.0</td>\n",
       "      <td>2017/7/8 5:19</td>\n",
       "      <td>-5.15</td>\n",
       "      <td>2083.0</td>\n",
       "      <td>1636.0</td>\n",
       "      <td>3103.0</td>\n",
       "      <td>...</td>\n",
       "      <td>28.0</td>\n",
       "      <td>51.5</td>\n",
       "      <td>11.0</td>\n",
       "      <td>87.0</td>\n",
       "      <td>93.5</td>\n",
       "      <td>10041.0</td>\n",
       "      <td>10053.0</td>\n",
       "      <td>10026.0</td>\n",
       "      <td>67.0</td>\n",
       "      <td>50.5</td>\n",
       "    </tr>\n",
       "    <tr>\n",
       "      <th>4</th>\n",
       "      <td>602</td>\n",
       "      <td>10098</td>\n",
       "      <td>Hangzhou</td>\n",
       "      <td>30.0</td>\n",
       "      <td>120.0</td>\n",
       "      <td>2017/7/25 5:00</td>\n",
       "      <td>-3.85</td>\n",
       "      <td>1252.5</td>\n",
       "      <td>1571.0</td>\n",
       "      <td>1672.5</td>\n",
       "      <td>...</td>\n",
       "      <td>18.0</td>\n",
       "      <td>36.5</td>\n",
       "      <td>2.5</td>\n",
       "      <td>62.5</td>\n",
       "      <td>110.0</td>\n",
       "      <td>10011.5</td>\n",
       "      <td>10025.5</td>\n",
       "      <td>NaN</td>\n",
       "      <td>54.5</td>\n",
       "      <td>29.0</td>\n",
       "    </tr>\n",
       "  </tbody>\n",
       "</table>\n",
       "<p>5 rows × 95 columns</p>\n",
       "</div>"
      ],
      "text/plain": [
       "   ID_1   ID_2    NAME_2  lat_bin  lon_bin             BJC  B4LI    CAPE  \\\n",
       "0   602  10098  Hangzhou     30.0    120.0  2014/7/21 5:35 -4.40  2565.0   \n",
       "1   602  10098  Hangzhou     30.0    120.0  2015/8/12 4:31  1.40    10.0   \n",
       "2   602  10098  Hangzhou     30.0    120.0  2013/8/25 5:12 -6.10  2428.0   \n",
       "3   602  10098  Hangzhou     30.0    120.0   2017/7/8 5:19 -5.15  2083.0   \n",
       "4   602  10098  Hangzhou     30.0    120.0  2017/7/25 5:00 -3.85  1252.5   \n",
       "\n",
       "   CAPE_nc  CCN_1.0_cm3  ...  mean_wspd  max_wspd  max_wdir  ext_wspd    ssd  \\\n",
       "0   3044.0       1318.0  ...       15.5      41.0       3.5      60.0  104.0   \n",
       "1    973.0       1072.0  ...       19.0      41.0       7.5      61.5   91.5   \n",
       "2   2036.5       1553.5  ...       14.0      77.0      14.5     130.0   71.5   \n",
       "3   1636.0       3103.0  ...       28.0      51.5      11.0      87.0   93.5   \n",
       "4   1571.0       1672.5  ...       18.0      36.5       2.5      62.5  110.0   \n",
       "\n",
       "   mean_prs  max_prs  min_prs  mean_rh  min_rh  \n",
       "0   10034.0  10054.5  10011.0     72.0    47.0  \n",
       "1   10055.0  10068.5  10035.0     75.0    51.0  \n",
       "2   10030.0  10040.0  10008.5     75.0    45.0  \n",
       "3   10041.0  10053.0  10026.0     67.0    50.5  \n",
       "4   10011.5  10025.5      NaN     54.5    29.0  \n",
       "\n",
       "[5 rows x 95 columns]"
      ]
     },
     "execution_count": 6,
     "metadata": {},
     "output_type": "execute_result"
    }
   ],
   "source": [
    "df.head()"
   ]
  },
  {
   "cell_type": "code",
   "execution_count": 7,
   "metadata": {},
   "outputs": [
    {
     "name": "stdout",
     "output_type": "stream",
     "text": [
      "0.3440653999518199\n"
     ]
    }
   ],
   "source": [
    "a,b,c,d=mlr_ccn(df)"
   ]
  },
  {
   "cell_type": "code",
   "execution_count": 13,
   "metadata": {},
   "outputs": [
    {
     "name": "stdout",
     "output_type": "stream",
     "text": [
      "0.3440653999518199\n"
     ]
    }
   ],
   "source": [
    "a,b,c,d=mlr_ccn_value(df)"
   ]
  },
  {
   "cell_type": "code",
   "execution_count": null,
   "metadata": {},
   "outputs": [],
   "source": []
  }
 ],
 "metadata": {
  "kernelspec": {
   "display_name": "Python 3",
   "language": "python",
   "name": "python3"
  },
  "language_info": {
   "codemirror_mode": {
    "name": "ipython",
    "version": 3
   },
   "file_extension": ".py",
   "mimetype": "text/x-python",
   "name": "python",
   "nbconvert_exporter": "python",
   "pygments_lexer": "ipython3",
   "version": "3.7.3"
  }
 },
 "nbformat": 4,
 "nbformat_minor": 2
}
