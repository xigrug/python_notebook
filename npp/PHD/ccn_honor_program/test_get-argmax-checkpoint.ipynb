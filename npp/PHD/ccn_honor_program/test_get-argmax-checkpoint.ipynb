{
 "cells": [
  {
   "cell_type": "markdown",
   "metadata": {},
   "source": [
    "[python中找出numpy array数组的最值及其索引方法](https://www.jb51.net/article/138288.htm)"
   ]
  },
  {
   "cell_type": "code",
   "execution_count": 5,
   "metadata": {},
   "outputs": [],
   "source": [
    "import pandas as pd\n",
    "import numpy as np"
   ]
  },
  {
   "cell_type": "code",
   "execution_count": 6,
   "metadata": {},
   "outputs": [],
   "source": [
    "a = np.arange(9).reshape((3,3))"
   ]
  },
  {
   "cell_type": "code",
   "execution_count": 14,
   "metadata": {},
   "outputs": [],
   "source": [
    "a[2,1]=10"
   ]
  },
  {
   "cell_type": "code",
   "execution_count": 15,
   "metadata": {},
   "outputs": [
    {
     "data": {
      "text/plain": [
       "array([[ 0,  1,  2],\n",
       "       [ 3,  4,  5],\n",
       "       [ 6, 10,  8]])"
      ]
     },
     "execution_count": 15,
     "metadata": {},
     "output_type": "execute_result"
    }
   ],
   "source": [
    "a"
   ]
  },
  {
   "cell_type": "code",
   "execution_count": 17,
   "metadata": {},
   "outputs": [
    {
     "name": "stdout",
     "output_type": "stream",
     "text": [
      "10\n"
     ]
    }
   ],
   "source": [
    "print(np.max(a))"
   ]
  },
  {
   "cell_type": "code",
   "execution_count": 18,
   "metadata": {},
   "outputs": [
    {
     "name": "stdout",
     "output_type": "stream",
     "text": [
      "[ 6 10  8]\n"
     ]
    }
   ],
   "source": [
    "print(np.max(a,axis=0)) #每列最大"
   ]
  },
  {
   "cell_type": "code",
   "execution_count": 19,
   "metadata": {},
   "outputs": [
    {
     "name": "stdout",
     "output_type": "stream",
     "text": [
      "[ 2  5 10]\n"
     ]
    }
   ],
   "source": [
    "print(np.max(a,axis=1)) #每行最大"
   ]
  },
  {
   "cell_type": "markdown",
   "metadata": {},
   "source": [
    "然后用where得到最大值的索引，返回值中，前面的array对应行数，后者对应列数"
   ]
  },
  {
   "cell_type": "code",
   "execution_count": 20,
   "metadata": {},
   "outputs": [
    {
     "name": "stdout",
     "output_type": "stream",
     "text": [
      "(array([2], dtype=int64), array([1], dtype=int64))\n"
     ]
    }
   ],
   "source": [
    "print(np.where(a==np.max(a)))"
   ]
  },
  {
   "cell_type": "code",
   "execution_count": 26,
   "metadata": {},
   "outputs": [
    {
     "name": "stdout",
     "output_type": "stream",
     "text": [
      "(array([], dtype=int64), array([], dtype=int64))\n"
     ]
    }
   ],
   "source": [
    "print(np.where(a==np.max(a,axis=1)))"
   ]
  },
  {
   "cell_type": "markdown",
   "metadata": {},
   "source": [
    "如果array中有相同的最大值，where会将其位置全部给出"
   ]
  },
  {
   "cell_type": "code",
   "execution_count": 32,
   "metadata": {},
   "outputs": [
    {
     "data": {
      "text/plain": [
       "3"
      ]
     },
     "execution_count": 32,
     "metadata": {},
     "output_type": "execute_result"
    }
   ],
   "source": [
    "a.shape[0]"
   ]
  },
  {
   "cell_type": "code",
   "execution_count": 37,
   "metadata": {},
   "outputs": [
    {
     "name": "stdout",
     "output_type": "stream",
     "text": [
      "0\n",
      "[0 1 2]\n",
      "(array([2], dtype=int64),)\n",
      "1\n",
      "[3 4 5]\n",
      "(array([2], dtype=int64),)\n",
      "2\n",
      "[ 6 10  8]\n",
      "(array([1], dtype=int64),)\n"
     ]
    }
   ],
   "source": [
    "for i in range(a.shape[0]):\n",
    "    print(i)\n",
    "    b=a[i,:]\n",
    "    print(b)\n",
    "    print(np.where(b==np.max(b)))"
   ]
  },
  {
   "cell_type": "code",
   "execution_count": 44,
   "metadata": {},
   "outputs": [],
   "source": [
    "data_array = np.zeros((3, 5, 6), dtype=np.int)"
   ]
  },
  {
   "cell_type": "code",
   "execution_count": 46,
   "metadata": {},
   "outputs": [
    {
     "data": {
      "text/plain": [
       "(3, 5, 6)"
      ]
     },
     "execution_count": 46,
     "metadata": {},
     "output_type": "execute_result"
    }
   ],
   "source": [
    "data_array.shape"
   ]
  },
  {
   "cell_type": "code",
   "execution_count": 47,
   "metadata": {},
   "outputs": [],
   "source": [
    "data_array[1, 2, 2] = 1"
   ]
  },
  {
   "cell_type": "code",
   "execution_count": 48,
   "metadata": {},
   "outputs": [
    {
     "data": {
      "text/plain": [
       "(3, 5, 6)"
      ]
     },
     "execution_count": 48,
     "metadata": {},
     "output_type": "execute_result"
    }
   ],
   "source": [
    "data_array.shape"
   ]
  },
  {
   "cell_type": "code",
   "execution_count": 52,
   "metadata": {},
   "outputs": [],
   "source": [
    "data_array[1, 0, 3] = 1"
   ]
  },
  {
   "cell_type": "code",
   "execution_count": 53,
   "metadata": {},
   "outputs": [
    {
     "data": {
      "text/plain": [
       "array([[[0, 0, 0, 0, 0, 0],\n",
       "        [0, 0, 0, 0, 0, 0],\n",
       "        [0, 0, 0, 1, 0, 0],\n",
       "        [0, 0, 0, 0, 0, 0],\n",
       "        [0, 0, 0, 0, 0, 0]],\n",
       "\n",
       "       [[0, 0, 0, 1, 0, 0],\n",
       "        [0, 0, 0, 0, 0, 0],\n",
       "        [0, 0, 1, 0, 0, 0],\n",
       "        [0, 0, 0, 0, 0, 0],\n",
       "        [0, 0, 0, 0, 0, 0]],\n",
       "\n",
       "       [[0, 0, 0, 0, 0, 0],\n",
       "        [0, 0, 0, 0, 0, 0],\n",
       "        [0, 0, 0, 0, 0, 0],\n",
       "        [0, 0, 0, 0, 0, 0],\n",
       "        [0, 0, 0, 0, 0, 0]]])"
      ]
     },
     "execution_count": 53,
     "metadata": {},
     "output_type": "execute_result"
    }
   ],
   "source": [
    "data_array"
   ]
  },
  {
   "cell_type": "code",
   "execution_count": 61,
   "metadata": {},
   "outputs": [],
   "source": [
    "a=np.random.randint(0, 10, [1, 30, 24])"
   ]
  },
  {
   "cell_type": "code",
   "execution_count": 63,
   "metadata": {},
   "outputs": [
    {
     "data": {
      "text/plain": [
       "(1, 30, 24)"
      ]
     },
     "execution_count": 63,
     "metadata": {},
     "output_type": "execute_result"
    }
   ],
   "source": [
    "a.shape"
   ]
  },
  {
   "cell_type": "code",
   "execution_count": 66,
   "metadata": {},
   "outputs": [
    {
     "data": {
      "text/plain": [
       "array([[6, 8, 6, 2, 5, 1, 4, 7, 6, 6, 0, 2, 4, 6, 0, 8, 6, 2, 4, 5, 3, 5,\n",
       "        3, 5],\n",
       "       [6, 4, 3, 9, 6, 7, 4, 7, 4, 3, 4, 8, 9, 8, 3, 0, 5, 1, 1, 8, 0, 8,\n",
       "        4, 5],\n",
       "       [3, 8, 7, 7, 0, 8, 1, 3, 1, 4, 3, 6, 1, 7, 2, 4, 2, 0, 9, 9, 3, 0,\n",
       "        8, 3],\n",
       "       [6, 3, 4, 2, 0, 3, 2, 5, 2, 4, 8, 0, 4, 7, 8, 7, 3, 7, 5, 2, 9, 2,\n",
       "        1, 0],\n",
       "       [5, 3, 2, 3, 7, 2, 1, 2, 7, 0, 0, 1, 0, 2, 6, 6, 4, 6, 7, 3, 2, 5,\n",
       "        0, 7],\n",
       "       [1, 8, 0, 6, 9, 1, 4, 3, 2, 6, 5, 7, 5, 1, 6, 5, 7, 2, 5, 1, 9, 4,\n",
       "        2, 7],\n",
       "       [4, 6, 5, 7, 2, 0, 7, 1, 2, 2, 9, 5, 3, 8, 6, 2, 1, 1, 3, 6, 2, 2,\n",
       "        8, 0],\n",
       "       [7, 7, 5, 2, 3, 0, 5, 0, 2, 7, 4, 9, 2, 6, 7, 5, 2, 3, 0, 1, 0, 2,\n",
       "        9, 6],\n",
       "       [1, 7, 1, 9, 5, 1, 7, 5, 3, 0, 6, 8, 3, 4, 1, 8, 4, 9, 5, 2, 0, 1,\n",
       "        8, 0],\n",
       "       [0, 2, 9, 0, 3, 0, 4, 8, 1, 6, 9, 9, 3, 1, 7, 9, 8, 4, 1, 5, 3, 6,\n",
       "        4, 0],\n",
       "       [3, 7, 5, 5, 1, 8, 2, 3, 7, 8, 9, 5, 2, 8, 6, 8, 9, 6, 1, 4, 8, 9,\n",
       "        1, 6],\n",
       "       [8, 3, 9, 3, 0, 0, 6, 8, 9, 8, 3, 1, 3, 1, 8, 7, 1, 2, 9, 2, 8, 1,\n",
       "        9, 8],\n",
       "       [0, 2, 5, 9, 9, 0, 6, 5, 7, 6, 5, 3, 6, 0, 8, 9, 5, 7, 9, 8, 6, 4,\n",
       "        9, 5],\n",
       "       [2, 8, 9, 2, 6, 8, 1, 7, 6, 6, 0, 7, 2, 4, 5, 4, 0, 6, 2, 1, 2, 2,\n",
       "        1, 5],\n",
       "       [7, 2, 6, 4, 8, 5, 4, 5, 2, 0, 4, 4, 1, 4, 8, 3, 3, 9, 2, 9, 6, 3,\n",
       "        5, 3],\n",
       "       [4, 6, 9, 3, 1, 6, 7, 6, 7, 4, 9, 0, 1, 5, 2, 7, 2, 7, 9, 5, 2, 1,\n",
       "        9, 6],\n",
       "       [3, 3, 4, 9, 8, 6, 0, 1, 9, 1, 6, 6, 9, 1, 9, 0, 6, 0, 5, 9, 0, 1,\n",
       "        4, 2],\n",
       "       [2, 8, 4, 5, 1, 1, 0, 4, 8, 1, 6, 2, 4, 2, 2, 5, 1, 3, 2, 1, 9, 2,\n",
       "        6, 0],\n",
       "       [8, 8, 9, 2, 5, 3, 4, 8, 7, 6, 3, 8, 3, 6, 1, 4, 8, 0, 4, 7, 2, 6,\n",
       "        5, 4],\n",
       "       [7, 3, 3, 9, 3, 7, 0, 3, 8, 7, 3, 6, 7, 4, 3, 8, 8, 6, 0, 8, 0, 6,\n",
       "        0, 4],\n",
       "       [6, 2, 2, 2, 3, 0, 1, 3, 9, 6, 2, 2, 6, 0, 3, 1, 2, 6, 0, 7, 7, 3,\n",
       "        0, 7],\n",
       "       [0, 9, 0, 7, 9, 7, 0, 7, 3, 1, 9, 9, 7, 6, 5, 9, 0, 0, 7, 1, 9, 9,\n",
       "        4, 2],\n",
       "       [8, 9, 9, 9, 1, 0, 2, 9, 9, 6, 9, 6, 0, 0, 9, 1, 1, 7, 0, 4, 1, 8,\n",
       "        7, 6],\n",
       "       [0, 2, 0, 0, 7, 5, 1, 8, 1, 0, 0, 5, 5, 5, 1, 6, 3, 7, 0, 6, 9, 2,\n",
       "        3, 2],\n",
       "       [7, 4, 7, 8, 2, 8, 5, 7, 6, 1, 5, 3, 1, 1, 4, 3, 1, 6, 8, 4, 9, 2,\n",
       "        9, 3],\n",
       "       [7, 8, 9, 5, 5, 6, 7, 5, 2, 5, 9, 4, 4, 3, 9, 3, 0, 1, 3, 5, 3, 8,\n",
       "        3, 0],\n",
       "       [3, 6, 0, 7, 9, 3, 7, 0, 8, 1, 2, 5, 0, 9, 1, 8, 4, 7, 0, 1, 4, 7,\n",
       "        8, 4],\n",
       "       [3, 7, 3, 7, 1, 4, 6, 0, 3, 1, 9, 7, 6, 5, 4, 0, 5, 4, 5, 9, 1, 7,\n",
       "        6, 8],\n",
       "       [8, 7, 0, 2, 0, 6, 3, 6, 5, 7, 1, 0, 0, 8, 4, 0, 6, 3, 5, 9, 6, 7,\n",
       "        0, 6],\n",
       "       [8, 2, 8, 0, 8, 5, 8, 1, 2, 6, 5, 1, 0, 7, 7, 8, 6, 5, 6, 1, 5, 5,\n",
       "        9, 8]])"
      ]
     },
     "execution_count": 66,
     "metadata": {},
     "output_type": "execute_result"
    }
   ],
   "source": [
    "a[0,:,:]"
   ]
  },
  {
   "cell_type": "markdown",
   "metadata": {},
   "source": [
    "https://blog.csdn.net/mago2015/article/details/81069321"
   ]
  },
  {
   "cell_type": "code",
   "execution_count": 67,
   "metadata": {},
   "outputs": [],
   "source": [
    "X = np.random.randint(0, 5, [3, 2, 2])"
   ]
  },
  {
   "cell_type": "code",
   "execution_count": 68,
   "metadata": {},
   "outputs": [
    {
     "data": {
      "text/plain": [
       "array([[[4, 3],\n",
       "        [3, 1]],\n",
       "\n",
       "       [[4, 0],\n",
       "        [2, 3]],\n",
       "\n",
       "       [[0, 0],\n",
       "        [1, 3]]])"
      ]
     },
     "execution_count": 68,
     "metadata": {},
     "output_type": "execute_result"
    }
   ],
   "source": [
    "X"
   ]
  },
  {
   "cell_type": "code",
   "execution_count": 69,
   "metadata": {},
   "outputs": [
    {
     "data": {
      "text/plain": [
       "array([[4, 3],\n",
       "       [3, 3]])"
      ]
     },
     "execution_count": 69,
     "metadata": {},
     "output_type": "execute_result"
    }
   ],
   "source": [
    "X.max(axis=0)"
   ]
  },
  {
   "cell_type": "code",
   "execution_count": 70,
   "metadata": {},
   "outputs": [
    {
     "data": {
      "text/plain": [
       "array([[4, 3],\n",
       "       [4, 3],\n",
       "       [1, 3]])"
      ]
     },
     "execution_count": 70,
     "metadata": {},
     "output_type": "execute_result"
    }
   ],
   "source": [
    "X.max(axis=1)"
   ]
  },
  {
   "cell_type": "code",
   "execution_count": 71,
   "metadata": {},
   "outputs": [
    {
     "data": {
      "text/plain": [
       "array([[4, 3],\n",
       "       [4, 3],\n",
       "       [0, 3]])"
      ]
     },
     "execution_count": 71,
     "metadata": {},
     "output_type": "execute_result"
    }
   ],
   "source": [
    "X.max(axis=2)"
   ]
  },
  {
   "cell_type": "code",
   "execution_count": 77,
   "metadata": {},
   "outputs": [
    {
     "data": {
      "text/plain": [
       "(array([0, 0, 0, 1, 1, 2], dtype=int64),\n",
       " array([0, 0, 1, 0, 1, 1], dtype=int64),\n",
       " array([0, 1, 0, 0, 1, 1], dtype=int64))"
      ]
     },
     "execution_count": 77,
     "metadata": {},
     "output_type": "execute_result"
    }
   ],
   "source": [
    "np.where(X==np.max(X,axis=0))"
   ]
  },
  {
   "cell_type": "markdown",
   "metadata": {},
   "source": [
    "[如何通过numpy获得二维或多维数组的最大、小值索引](https://www.cnblogs.com/subic/p/8710946.html)"
   ]
  },
  {
   "cell_type": "markdown",
   "metadata": {},
   "source": [
    "https://www.jianshu.com/p/a7e19847bd39"
   ]
  },
  {
   "cell_type": "code",
   "execution_count": 92,
   "metadata": {},
   "outputs": [],
   "source": [
    "A=np.random.randint(1,100,size=(3,3,3,2))"
   ]
  },
  {
   "cell_type": "code",
   "execution_count": 93,
   "metadata": {},
   "outputs": [
    {
     "data": {
      "text/plain": [
       "array([[[[28, 60],\n",
       "         [52, 33],\n",
       "         [ 7, 48]],\n",
       "\n",
       "        [[55, 58],\n",
       "         [92, 38],\n",
       "         [74, 76]],\n",
       "\n",
       "        [[ 8, 34],\n",
       "         [63, 33],\n",
       "         [10, 72]]],\n",
       "\n",
       "\n",
       "       [[[28, 60],\n",
       "         [40, 61],\n",
       "         [50,  6]],\n",
       "\n",
       "        [[95, 99],\n",
       "         [33, 51],\n",
       "         [86, 10]],\n",
       "\n",
       "        [[69, 34],\n",
       "         [57, 83],\n",
       "         [ 8, 82]]],\n",
       "\n",
       "\n",
       "       [[[27, 78],\n",
       "         [45, 90],\n",
       "         [22, 60]],\n",
       "\n",
       "        [[87, 37],\n",
       "         [71, 57],\n",
       "         [36, 75]],\n",
       "\n",
       "        [[ 3, 88],\n",
       "         [32, 93],\n",
       "         [95, 27]]]])"
      ]
     },
     "execution_count": 93,
     "metadata": {},
     "output_type": "execute_result"
    }
   ],
   "source": [
    "A"
   ]
  },
  {
   "cell_type": "code",
   "execution_count": 94,
   "metadata": {},
   "outputs": [
    {
     "data": {
      "text/plain": [
       "(3, 3, 3, 2)"
      ]
     },
     "execution_count": 94,
     "metadata": {},
     "output_type": "execute_result"
    }
   ],
   "source": [
    "A.shape"
   ]
  },
  {
   "cell_type": "code",
   "execution_count": 95,
   "metadata": {},
   "outputs": [],
   "source": [
    "ind_max=np.argmax(A)"
   ]
  },
  {
   "cell_type": "code",
   "execution_count": 96,
   "metadata": {},
   "outputs": [
    {
     "data": {
      "text/plain": [
       "25"
      ]
     },
     "execution_count": 96,
     "metadata": {},
     "output_type": "execute_result"
    }
   ],
   "source": [
    "ind_max"
   ]
  },
  {
   "cell_type": "code",
   "execution_count": 97,
   "metadata": {},
   "outputs": [
    {
     "data": {
      "text/plain": [
       "99"
      ]
     },
     "execution_count": 97,
     "metadata": {},
     "output_type": "execute_result"
    }
   ],
   "source": [
    "np.max(A)"
   ]
  },
  {
   "cell_type": "code",
   "execution_count": 98,
   "metadata": {},
   "outputs": [],
   "source": [
    "ind_max_src=np.unravel_index(ind_max, A.shape)"
   ]
  },
  {
   "cell_type": "code",
   "execution_count": 102,
   "metadata": {},
   "outputs": [],
   "source": [
    "a=ind_max_src[3]"
   ]
  },
  {
   "cell_type": "code",
   "execution_count": 100,
   "metadata": {},
   "outputs": [
    {
     "data": {
      "text/plain": [
       "99"
      ]
     },
     "execution_count": 100,
     "metadata": {},
     "output_type": "execute_result"
    }
   ],
   "source": [
    "A[1,1,0,1]"
   ]
  },
  {
   "cell_type": "code",
   "execution_count": 104,
   "metadata": {},
   "outputs": [
    {
     "data": {
      "text/plain": [
       "numpy.int64"
      ]
     },
     "execution_count": 104,
     "metadata": {},
     "output_type": "execute_result"
    }
   ],
   "source": [
    "type(a)"
   ]
  },
  {
   "cell_type": "code",
   "execution_count": 113,
   "metadata": {},
   "outputs": [],
   "source": [
    "A=np.random.randint(1,10,size=(2,2,2))"
   ]
  },
  {
   "cell_type": "code",
   "execution_count": 114,
   "metadata": {},
   "outputs": [
    {
     "data": {
      "text/plain": [
       "array([[[9, 6],\n",
       "        [7, 3]],\n",
       "\n",
       "       [[7, 4],\n",
       "        [8, 1]]])"
      ]
     },
     "execution_count": 114,
     "metadata": {},
     "output_type": "execute_result"
    }
   ],
   "source": [
    "A"
   ]
  },
  {
   "cell_type": "code",
   "execution_count": 115,
   "metadata": {},
   "outputs": [
    {
     "data": {
      "text/plain": [
       "(2, 2, 2)"
      ]
     },
     "execution_count": 115,
     "metadata": {},
     "output_type": "execute_result"
    }
   ],
   "source": [
    "A.shape"
   ]
  },
  {
   "cell_type": "code",
   "execution_count": null,
   "metadata": {},
   "outputs": [],
   "source": [
    "def index_max(A):\n",
    "    A="
   ]
  },
  {
   "cell_type": "code",
   "execution_count": 110,
   "metadata": {},
   "outputs": [
    {
     "data": {
      "text/plain": [
       "array([[[2, 2],\n",
       "        [1, 2]],\n",
       "\n",
       "       [[1, 1],\n",
       "        [1, 1]]])"
      ]
     },
     "execution_count": 110,
     "metadata": {},
     "output_type": "execute_result"
    }
   ],
   "source": [
    "A"
   ]
  },
  {
   "cell_type": "code",
   "execution_count": 122,
   "metadata": {},
   "outputs": [
    {
     "data": {
      "text/plain": [
       "(array([], dtype=int64), array([], dtype=int64), array([], dtype=int64))"
      ]
     },
     "execution_count": 122,
     "metadata": {},
     "output_type": "execute_result"
    }
   ],
   "source": [
    "np.where(A==np.argmax(A,axis=0))"
   ]
  },
  {
   "cell_type": "code",
   "execution_count": 123,
   "metadata": {},
   "outputs": [],
   "source": [
    "a = np.array([[2, 4, 6, 1], [1, 5, 2, 9]])"
   ]
  },
  {
   "cell_type": "code",
   "execution_count": 127,
   "metadata": {},
   "outputs": [
    {
     "data": {
      "text/plain": [
       "(2, 4)"
      ]
     },
     "execution_count": 127,
     "metadata": {},
     "output_type": "execute_result"
    }
   ],
   "source": [
    "a.shape"
   ]
  },
  {
   "cell_type": "code",
   "execution_count": 124,
   "metadata": {},
   "outputs": [
    {
     "name": "stdout",
     "output_type": "stream",
     "text": [
      "7\n"
     ]
    }
   ],
   "source": [
    "print(np.argmax(a))"
   ]
  },
  {
   "cell_type": "code",
   "execution_count": 125,
   "metadata": {},
   "outputs": [
    {
     "name": "stdout",
     "output_type": "stream",
     "text": [
      "[0 1 0 1]\n"
     ]
    }
   ],
   "source": [
    "print(np.argmax(a, axis=0))"
   ]
  },
  {
   "cell_type": "code",
   "execution_count": 128,
   "metadata": {},
   "outputs": [],
   "source": [
    "A=np.random.randint(1,10,size=(2,2,2))"
   ]
  },
  {
   "cell_type": "code",
   "execution_count": 131,
   "metadata": {},
   "outputs": [
    {
     "data": {
      "text/plain": [
       "(2, 2, 2)"
      ]
     },
     "execution_count": 131,
     "metadata": {},
     "output_type": "execute_result"
    }
   ],
   "source": [
    "A.shape"
   ]
  },
  {
   "cell_type": "code",
   "execution_count": 141,
   "metadata": {},
   "outputs": [
    {
     "data": {
      "text/plain": [
       "array([[[2, 7],\n",
       "        [5, 1]],\n",
       "\n",
       "       [[9, 7],\n",
       "        [5, 1]]])"
      ]
     },
     "execution_count": 141,
     "metadata": {},
     "output_type": "execute_result"
    }
   ],
   "source": [
    "A"
   ]
  },
  {
   "cell_type": "code",
   "execution_count": 134,
   "metadata": {},
   "outputs": [
    {
     "name": "stdout",
     "output_type": "stream",
     "text": [
      "9\n"
     ]
    }
   ],
   "source": [
    "print(np.max(A))"
   ]
  },
  {
   "cell_type": "code",
   "execution_count": 136,
   "metadata": {},
   "outputs": [
    {
     "name": "stdout",
     "output_type": "stream",
     "text": [
      "4\n"
     ]
    }
   ],
   "source": [
    "print(np.argmax(A))"
   ]
  },
  {
   "cell_type": "code",
   "execution_count": 137,
   "metadata": {},
   "outputs": [
    {
     "name": "stdout",
     "output_type": "stream",
     "text": [
      "[0 1 0 1]\n"
     ]
    }
   ],
   "source": [
    "print(np.argmax(a, axis=0))"
   ]
  },
  {
   "cell_type": "code",
   "execution_count": 139,
   "metadata": {},
   "outputs": [
    {
     "name": "stdout",
     "output_type": "stream",
     "text": [
      "[6 9]\n"
     ]
    }
   ],
   "source": [
    "print(np.max(a, axis=1))"
   ]
  },
  {
   "cell_type": "code",
   "execution_count": 140,
   "metadata": {},
   "outputs": [
    {
     "name": "stdout",
     "output_type": "stream",
     "text": [
      "[2 3]\n"
     ]
    }
   ],
   "source": [
    "print(np.argmax(a, axis=1))"
   ]
  },
  {
   "cell_type": "code",
   "execution_count": 142,
   "metadata": {},
   "outputs": [
    {
     "ename": "SyntaxError",
     "evalue": "unexpected EOF while parsing (<ipython-input-142-eddcb802c207>, line 1)",
     "output_type": "error",
     "traceback": [
      "\u001b[1;36m  File \u001b[1;32m\"<ipython-input-142-eddcb802c207>\"\u001b[1;36m, line \u001b[1;32m1\u001b[0m\n\u001b[1;33m    for a in range(A.shape(0)):\u001b[0m\n\u001b[1;37m                               ^\u001b[0m\n\u001b[1;31mSyntaxError\u001b[0m\u001b[1;31m:\u001b[0m unexpected EOF while parsing\n"
     ]
    }
   ],
   "source": [
    "for a in range(A.shape(0)):\n"
   ]
  },
  {
   "cell_type": "code",
   "execution_count": 144,
   "metadata": {},
   "outputs": [
    {
     "data": {
      "text/plain": [
       "2"
      ]
     },
     "execution_count": 144,
     "metadata": {},
     "output_type": "execute_result"
    }
   ],
   "source": [
    "A.shape[0]"
   ]
  },
  {
   "cell_type": "markdown",
   "metadata": {},
   "source": [
    "https://stackoverflow.com/questions/41990871/argmax-on-2-axis-for-3-d-numpy-array"
   ]
  },
  {
   "cell_type": "code",
   "execution_count": 145,
   "metadata": {},
   "outputs": [],
   "source": [
    "x = np.random.randint(10, size=(4,3,3))"
   ]
  },
  {
   "cell_type": "code",
   "execution_count": 146,
   "metadata": {},
   "outputs": [
    {
     "data": {
      "text/plain": [
       "array([[[6, 1, 9],\n",
       "        [2, 2, 5],\n",
       "        [0, 2, 6]],\n",
       "\n",
       "       [[6, 9, 9],\n",
       "        [1, 7, 6],\n",
       "        [4, 3, 2]],\n",
       "\n",
       "       [[4, 4, 7],\n",
       "        [6, 4, 4],\n",
       "        [2, 9, 3]],\n",
       "\n",
       "       [[6, 5, 8],\n",
       "        [5, 9, 5],\n",
       "        [6, 3, 2]]])"
      ]
     },
     "execution_count": 146,
     "metadata": {},
     "output_type": "execute_result"
    }
   ],
   "source": [
    "x"
   ]
  },
  {
   "cell_type": "code",
   "execution_count": 150,
   "metadata": {},
   "outputs": [],
   "source": [
    "xx=x[1,1,:]"
   ]
  },
  {
   "cell_type": "code",
   "execution_count": 151,
   "metadata": {},
   "outputs": [
    {
     "data": {
      "text/plain": [
       "array([1, 7, 6])"
      ]
     },
     "execution_count": 151,
     "metadata": {},
     "output_type": "execute_result"
    }
   ],
   "source": [
    "xx"
   ]
  },
  {
   "cell_type": "code",
   "execution_count": 154,
   "metadata": {},
   "outputs": [],
   "source": [
    "a=np.argmax(xx)"
   ]
  },
  {
   "cell_type": "code",
   "execution_count": 159,
   "metadata": {},
   "outputs": [],
   "source": [
    "b=np.zeros((3, 5), dtype=np.int)"
   ]
  },
  {
   "cell_type": "code",
   "execution_count": 160,
   "metadata": {},
   "outputs": [],
   "source": [
    "b[1,1]=a"
   ]
  },
  {
   "cell_type": "code",
   "execution_count": 161,
   "metadata": {},
   "outputs": [
    {
     "data": {
      "text/plain": [
       "array([[0, 0, 0, 0, 0],\n",
       "       [0, 1, 0, 0, 0],\n",
       "       [0, 0, 0, 0, 0]])"
      ]
     },
     "execution_count": 161,
     "metadata": {},
     "output_type": "execute_result"
    }
   ],
   "source": [
    "b"
   ]
  },
  {
   "cell_type": "code",
   "execution_count": null,
   "metadata": {},
   "outputs": [],
   "source": []
  }
 ],
 "metadata": {
  "kernelspec": {
   "display_name": "Python 3",
   "language": "python",
   "name": "python3"
  },
  "language_info": {
   "name": ""
  }
 },
 "nbformat": 4,
 "nbformat_minor": 2
}
