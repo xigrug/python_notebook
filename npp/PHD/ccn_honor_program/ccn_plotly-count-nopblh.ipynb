{
 "cells": [
  {
   "cell_type": "code",
   "execution_count": 14,
   "metadata": {},
   "outputs": [],
   "source": [
    "import pandas as pd\n",
    "import numpy as np\n",
    "from plotly.graph_objs import *\n",
    "import plotly.plotly as py\n",
    "import plotly.graph_objs as go\n",
    "import cmocean\n",
    "import matplotlib.pyplot as plt"
   ]
  },
  {
   "cell_type": "code",
   "execution_count": 2,
   "metadata": {},
   "outputs": [],
   "source": [
    "ccn_data = pd.read_csv('CCN_0.5-NaN-time.csv', sep=',',skiprows=0,header=0,na_values=[9999])"
   ]
  },
  {
   "cell_type": "code",
   "execution_count": 3,
   "metadata": {
    "scrolled": true
   },
   "outputs": [
    {
     "data": {
      "text/html": [
       "<div>\n",
       "<style scoped>\n",
       "    .dataframe tbody tr th:only-of-type {\n",
       "        vertical-align: middle;\n",
       "    }\n",
       "\n",
       "    .dataframe tbody tr th {\n",
       "        vertical-align: top;\n",
       "    }\n",
       "\n",
       "    .dataframe thead th {\n",
       "        text-align: right;\n",
       "    }\n",
       "</style>\n",
       "<table border=\"1\" class=\"dataframe\">\n",
       "  <thead>\n",
       "    <tr style=\"text-align: right;\">\n",
       "      <th></th>\n",
       "      <th>AMR_lowest</th>\n",
       "      <th>AMR_surf</th>\n",
       "      <th>AOD</th>\n",
       "      <th>B4LI</th>\n",
       "      <th>BJC</th>\n",
       "      <th>CAPE</th>\n",
       "      <th>CAPE_lowest</th>\n",
       "      <th>CAPE_nc</th>\n",
       "      <th>CAPE_surf</th>\n",
       "      <th>CCN_0.5_cm3</th>\n",
       "      <th>...</th>\n",
       "      <th>row</th>\n",
       "      <th>satz</th>\n",
       "      <th>solz</th>\n",
       "      <th>sound_D(km)</th>\n",
       "      <th>sound_ID</th>\n",
       "      <th>sound_hour</th>\n",
       "      <th>sumN_0.5</th>\n",
       "      <th>sumN_0.5_sumN_1.0</th>\n",
       "      <th>sumN_1.0</th>\n",
       "      <th>winNO</th>\n",
       "    </tr>\n",
       "  </thead>\n",
       "  <tbody>\n",
       "    <tr>\n",
       "      <th>0</th>\n",
       "      <td>NaN</td>\n",
       "      <td>NaN</td>\n",
       "      <td>NaN</td>\n",
       "      <td>-3.6</td>\n",
       "      <td>2013-06-01 05:09:00</td>\n",
       "      <td>1119.0</td>\n",
       "      <td>NaN</td>\n",
       "      <td>667</td>\n",
       "      <td>NaN</td>\n",
       "      <td>94.0</td>\n",
       "      <td>...</td>\n",
       "      <td>6112</td>\n",
       "      <td>48.06</td>\n",
       "      <td>23.20</td>\n",
       "      <td>NaN</td>\n",
       "      <td>NaN</td>\n",
       "      <td>NaN</td>\n",
       "      <td>891.0</td>\n",
       "      <td>1.01</td>\n",
       "      <td>880.0</td>\n",
       "      <td>501</td>\n",
       "    </tr>\n",
       "    <tr>\n",
       "      <th>1</th>\n",
       "      <td>NaN</td>\n",
       "      <td>NaN</td>\n",
       "      <td>NaN</td>\n",
       "      <td>-2.8</td>\n",
       "      <td>2013-06-01 05:09:00</td>\n",
       "      <td>559.0</td>\n",
       "      <td>NaN</td>\n",
       "      <td>941</td>\n",
       "      <td>NaN</td>\n",
       "      <td>468.0</td>\n",
       "      <td>...</td>\n",
       "      <td>5920</td>\n",
       "      <td>31.90</td>\n",
       "      <td>20.35</td>\n",
       "      <td>NaN</td>\n",
       "      <td>NaN</td>\n",
       "      <td>NaN</td>\n",
       "      <td>306.0</td>\n",
       "      <td>1.00</td>\n",
       "      <td>306.0</td>\n",
       "      <td>708</td>\n",
       "    </tr>\n",
       "    <tr>\n",
       "      <th>2</th>\n",
       "      <td>NaN</td>\n",
       "      <td>NaN</td>\n",
       "      <td>NaN</td>\n",
       "      <td>-3.2</td>\n",
       "      <td>2013-06-01 05:09:00</td>\n",
       "      <td>812.0</td>\n",
       "      <td>NaN</td>\n",
       "      <td>941</td>\n",
       "      <td>NaN</td>\n",
       "      <td>688.0</td>\n",
       "      <td>...</td>\n",
       "      <td>5920</td>\n",
       "      <td>28.89</td>\n",
       "      <td>19.91</td>\n",
       "      <td>NaN</td>\n",
       "      <td>NaN</td>\n",
       "      <td>NaN</td>\n",
       "      <td>1652.0</td>\n",
       "      <td>1.00</td>\n",
       "      <td>1652.0</td>\n",
       "      <td>709</td>\n",
       "    </tr>\n",
       "    <tr>\n",
       "      <th>3</th>\n",
       "      <td>NaN</td>\n",
       "      <td>NaN</td>\n",
       "      <td>NaN</td>\n",
       "      <td>-6.9</td>\n",
       "      <td>2013-06-01 05:09:00</td>\n",
       "      <td>2822.0</td>\n",
       "      <td>NaN</td>\n",
       "      <td>1904</td>\n",
       "      <td>NaN</td>\n",
       "      <td>1337.0</td>\n",
       "      <td>...</td>\n",
       "      <td>6112</td>\n",
       "      <td>-0.48</td>\n",
       "      <td>16.26</td>\n",
       "      <td>NaN</td>\n",
       "      <td>NaN</td>\n",
       "      <td>NaN</td>\n",
       "      <td>171.0</td>\n",
       "      <td>1.00</td>\n",
       "      <td>171.0</td>\n",
       "      <td>1101</td>\n",
       "    </tr>\n",
       "    <tr>\n",
       "      <th>4</th>\n",
       "      <td>NaN</td>\n",
       "      <td>NaN</td>\n",
       "      <td>NaN</td>\n",
       "      <td>-6.9</td>\n",
       "      <td>2013-06-01 05:09:00</td>\n",
       "      <td>2822.0</td>\n",
       "      <td>NaN</td>\n",
       "      <td>1904</td>\n",
       "      <td>NaN</td>\n",
       "      <td>1538.0</td>\n",
       "      <td>...</td>\n",
       "      <td>6112</td>\n",
       "      <td>-3.38</td>\n",
       "      <td>15.92</td>\n",
       "      <td>NaN</td>\n",
       "      <td>NaN</td>\n",
       "      <td>NaN</td>\n",
       "      <td>514.0</td>\n",
       "      <td>1.00</td>\n",
       "      <td>514.0</td>\n",
       "      <td>1102</td>\n",
       "    </tr>\n",
       "  </tbody>\n",
       "</table>\n",
       "<p>5 rows × 137 columns</p>\n",
       "</div>"
      ],
      "text/plain": [
       "   AMR_lowest  AMR_surf  AOD  B4LI                  BJC    CAPE  CAPE_lowest  \\\n",
       "0         NaN       NaN  NaN  -3.6  2013-06-01 05:09:00  1119.0          NaN   \n",
       "1         NaN       NaN  NaN  -2.8  2013-06-01 05:09:00   559.0          NaN   \n",
       "2         NaN       NaN  NaN  -3.2  2013-06-01 05:09:00   812.0          NaN   \n",
       "3         NaN       NaN  NaN  -6.9  2013-06-01 05:09:00  2822.0          NaN   \n",
       "4         NaN       NaN  NaN  -6.9  2013-06-01 05:09:00  2822.0          NaN   \n",
       "\n",
       "   CAPE_nc  CAPE_surf  CCN_0.5_cm3  ...   row   satz   solz  sound_D(km)  \\\n",
       "0      667        NaN         94.0  ...  6112  48.06  23.20          NaN   \n",
       "1      941        NaN        468.0  ...  5920  31.90  20.35          NaN   \n",
       "2      941        NaN        688.0  ...  5920  28.89  19.91          NaN   \n",
       "3     1904        NaN       1337.0  ...  6112  -0.48  16.26          NaN   \n",
       "4     1904        NaN       1538.0  ...  6112  -3.38  15.92          NaN   \n",
       "\n",
       "   sound_ID  sound_hour  sumN_0.5  sumN_0.5_sumN_1.0  sumN_1.0  winNO  \n",
       "0       NaN         NaN     891.0               1.01     880.0    501  \n",
       "1       NaN         NaN     306.0               1.00     306.0    708  \n",
       "2       NaN         NaN    1652.0               1.00    1652.0    709  \n",
       "3       NaN         NaN     171.0               1.00     171.0   1101  \n",
       "4       NaN         NaN     514.0               1.00     514.0   1102  \n",
       "\n",
       "[5 rows x 137 columns]"
      ]
     },
     "execution_count": 3,
     "metadata": {},
     "output_type": "execute_result"
    }
   ],
   "source": [
    "ccn_data.head()"
   ]
  },
  {
   "cell_type": "code",
   "execution_count": 4,
   "metadata": {},
   "outputs": [],
   "source": [
    "data=ccn_data.set_index('BJC')"
   ]
  },
  {
   "cell_type": "code",
   "execution_count": 5,
   "metadata": {},
   "outputs": [],
   "source": [
    "data1=data"
   ]
  },
  {
   "cell_type": "code",
   "execution_count": 6,
   "metadata": {},
   "outputs": [
    {
     "name": "stdout",
     "output_type": "stream",
     "text": [
      "                 AMR_lowest  AMR_surf  AOD  B4LI  CAPE  CAPE_lowest  CAPE_nc  \\\n",
      "lat_bin lon_bin                                                                \n",
      "7.0     124.5             0         0    0     2     2            0        2   \n",
      "        125.5             0         0    0     4     4            0        4   \n",
      "7.5     124.0             0         0    0     8     8            0        8   \n",
      "        125.0             0         0    0     2     2            0        2   \n",
      "8.0     123.5             0         0    0     2     2            0        2   \n",
      "\n",
      "                 CAPE_surf  CCN_0.5_cm3  CCN_0.5_mg  ...  row  satz  solz  \\\n",
      "lat_bin lon_bin                                      ...                    \n",
      "7.0     124.5            0            2           2  ...    2     2     2   \n",
      "        125.5            0            4           4  ...    4     4     4   \n",
      "7.5     124.0            0            8           8  ...    8     8     8   \n",
      "        125.0            0            2           2  ...    2     2     2   \n",
      "8.0     123.5            0            2           2  ...    2     2     2   \n",
      "\n",
      "                 sound_D(km)  sound_ID  sound_hour  sumN_0.5  \\\n",
      "lat_bin lon_bin                                                \n",
      "7.0     124.5              0         0           0         2   \n",
      "        125.5              0         0           0         4   \n",
      "7.5     124.0              0         0           0         8   \n",
      "        125.0              0         0           0         2   \n",
      "8.0     123.5              0         0           0         2   \n",
      "\n",
      "                 sumN_0.5_sumN_1.0  sumN_1.0  winNO  \n",
      "lat_bin lon_bin                                      \n",
      "7.0     124.5                    2         2      2  \n",
      "        125.5                    4         4      4  \n",
      "7.5     124.0                    8         8      8  \n",
      "        125.0                    2         2      2  \n",
      "8.0     123.5                    2         2      2  \n",
      "\n",
      "[5 rows x 136 columns]\n"
     ]
    },
    {
     "name": "stderr",
     "output_type": "stream",
     "text": [
      "C:\\Users\\xigrug\\Anaconda3\\lib\\site-packages\\ipykernel_launcher.py:5: FutureWarning: Interpreting tuple 'by' as a list of keys, rather than a single key. Use 'by=[...]' instead of 'by=(...)'. In the future, a tuple will always mean a single key.\n",
      "  \"\"\"\n"
     ]
    }
   ],
   "source": [
    "step = 0.5\n",
    "to_bin = lambda x: np.floor(x / step) * step\n",
    "data1[\"lat_bin\"] = data1.lat.map(to_bin)\n",
    "data1[\"lon_bin\"] = data1.lon.map(to_bin)\n",
    "groups = data1.groupby((\"lat_bin\", \"lon_bin\"))\n",
    "#avg_data=all_data.set_index(['latbin', 'lonbin']).stack().groupby(level=[0, 1]).mean()\n",
    "avg_data=data1.groupby(['lat_bin','lon_bin']).count()\n",
    "print(avg_data.head())"
   ]
  },
  {
   "cell_type": "code",
   "execution_count": 7,
   "metadata": {},
   "outputs": [],
   "source": [
    "avg_data.to_csv(\"count_CCN1.csv\",index=True,sep=',')"
   ]
  },
  {
   "cell_type": "code",
   "execution_count": 8,
   "metadata": {},
   "outputs": [],
   "source": []
  },
  {
   "cell_type": "code",
   "execution_count": 9,
   "metadata": {},
   "outputs": [],
   "source": [
    "mapbox_access_token = 'pk.eyJ1IjoieGlncnVnIiwiYSI6ImNqZm8ycXMxejAwOXYyenM3Z2twOWJvb2EifQ.lSikTXoOmtTjHutewtCe9A'\n",
    "#mapbox_access_token = 'pk.eyJ1Ijoiam1tZWFzZSIsImEiOiJjamljeWkwN3IwNjEyM3FtYTNweXV4YmV0In0.2zbgGCjbPTK7CToIg81kMw'"
   ]
  },
  {
   "cell_type": "code",
   "execution_count": 10,
   "metadata": {},
   "outputs": [],
   "source": [
    "def cmocean_to_plotly(cmap, pl_entries):\n",
    "    h = 1.0/(pl_entries-1)\n",
    "    pl_colorscale = []\n",
    "\n",
    "    for k in range(pl_entries):\n",
    "        C = list(map(np.uint8, np.array(cmap(k*h)[:3])*255))\n",
    "        # https://stackoverflow.com/questions/6800481/python-map-object-is-not-subscriptable\n",
    "        pl_colorscale.append([k*h, 'rgb'+str((C[0], C[1], C[2]))])\n",
    "\n",
    "    return pl_colorscale"
   ]
  },
  {
   "cell_type": "code",
   "execution_count": 11,
   "metadata": {},
   "outputs": [],
   "source": [
    "def plotMap(lat,lon,ccn,ss):\n",
    "    data = Data([\n",
    "    go.Scattermapbox(\n",
    "        # 绘制散点的经纬度\n",
    "            lat=lat,\n",
    "            lon=lon,\n",
    "            mode='markers',\n",
    "            marker=Marker(\n",
    "                size=8,\n",
    "                color=ccn,\n",
    "                showscale=True,\n",
    "                cmax=150,\n",
    "                cmin=10,\n",
    "                colorscale=curl\n",
    "            ),\n",
    "            # 散点对应的文本\n",
    "            text=ccn,\n",
    "            customdata=ss,\n",
    "            name='CCN'\n",
    "        )\n",
    "    ])\n",
    "    layout = Layout(\n",
    "        title='基于mapbox的地图标注',\n",
    "        autosize=True,\n",
    "        hovermode='closest',\n",
    "        mapbox=dict(\n",
    "            accesstoken=mapbox_access_token,\n",
    "            domain={'x': [0, 1.0], 'y': [0, 1]},\n",
    "            bearing=0,\n",
    "            # 地图中心坐标，不要远离绘制的散点坐标\n",
    "            center=dict(\n",
    "                lat=32,\n",
    "                lon=118\n",
    "            ),\n",
    "            pitch=0,\n",
    "            zoom=4\n",
    "        ),\n",
    "    )\n",
    "    fig = go.FigureWidget(data=data, layout=layout)\n",
    "    return fig"
   ]
  },
  {
   "cell_type": "code",
   "execution_count": 12,
   "metadata": {},
   "outputs": [],
   "source": [
    "curl = cmocean_to_plotly(cmocean.cm.curl, 20)"
   ]
  },
  {
   "cell_type": "code",
   "execution_count": 15,
   "metadata": {
    "scrolled": true
   },
   "outputs": [
    {
     "name": "stdout",
     "output_type": "stream",
     "text": [
      "141\n",
      "1\n"
     ]
    },
    {
     "data": {
      "text/plain": [
       "<Figure size 432x288 with 0 Axes>"
      ]
     },
     "metadata": {},
     "output_type": "display_data"
    }
   ],
   "source": [
    "# Extract the data we're interested in\n",
    "lat=avg_data.index.get_level_values(0)\n",
    "lon=avg_data.index.get_level_values(1)\n",
    "ccn = avg_data['CCN_1.0_cm3'].values\n",
    "ss = avg_data['SS_1.0_mg'].values\n",
    "lat_max=np.nanmax(lat)\n",
    "lon_max=np.nanmax(lon)\n",
    "lat_min=np.nanmin(lat)\n",
    "lon_min=np.nanmin(lon)\n",
    "ccn_max=np.nanmax(ccn)\n",
    "print(ccn_max)\n",
    "ccn_min=np.nanmin(ccn)\n",
    "print(ccn_min)\n",
    "\n",
    "fig= plotMap(lat,lon,ccn,ss)\n",
    "plt.savefig('count_CCN.png',dpi=200)"
   ]
  },
  {
   "cell_type": "code",
   "execution_count": 16,
   "metadata": {},
   "outputs": [
    {
     "data": {
      "application/vnd.jupyter.widget-view+json": {
       "model_id": "0a75434bb717407598d12bb7e982bded",
       "version_major": 2,
       "version_minor": 0
      },
      "text/plain": [
       "FigureWidget({\n",
       "    'data': [{'customdata': array([2, 4, 8, ..., 1, 1, 1], dtype=int64),\n",
       "              'lat': a…"
      ]
     },
     "metadata": {},
     "output_type": "display_data"
    }
   ],
   "source": [
    "fig"
   ]
  },
  {
   "cell_type": "code",
   "execution_count": 17,
   "metadata": {},
   "outputs": [],
   "source": [
    "data_10=avg_data[avg_data['CCN_1.0_cm3']>=10]"
   ]
  },
  {
   "cell_type": "code",
   "execution_count": 18,
   "metadata": {},
   "outputs": [],
   "source": [
    "ccn= data_10['CCN_1.0_cm3'].values\n",
    "ss= data_10['SS_1.0_mg'].values"
   ]
  },
  {
   "cell_type": "code",
   "execution_count": 19,
   "metadata": {},
   "outputs": [],
   "source": [
    "lat=data_10.index.get_level_values(0)\n",
    "lon=data_10.index.get_level_values(1)"
   ]
  },
  {
   "cell_type": "code",
   "execution_count": 20,
   "metadata": {},
   "outputs": [
    {
     "name": "stdout",
     "output_type": "stream",
     "text": [
      "141\n",
      "10\n"
     ]
    }
   ],
   "source": [
    "lat_max=np.nanmax(lat)\n",
    "lon_max=np.nanmax(lon)\n",
    "lat_min=np.nanmin(lat)\n",
    "lon_min=np.nanmin(lon)\n",
    "ccn_max=np.nanmax(ccn)\n",
    "print(ccn_max)\n",
    "ccn_min=np.nanmin(ccn)\n",
    "print(ccn_min)"
   ]
  },
  {
   "cell_type": "code",
   "execution_count": 21,
   "metadata": {},
   "outputs": [
    {
     "data": {
      "text/plain": [
       "<Figure size 432x288 with 0 Axes>"
      ]
     },
     "metadata": {},
     "output_type": "display_data"
    }
   ],
   "source": [
    "fig= plotMap(lat,lon,ccn,ss)\n",
    "plt.savefig('count_CCN10.png',dpi=200)"
   ]
  },
  {
   "cell_type": "code",
   "execution_count": 22,
   "metadata": {},
   "outputs": [
    {
     "data": {
      "application/vnd.jupyter.widget-view+json": {
       "model_id": "2f5fe51273a248efb45b43511ffffa7d",
       "version_major": 2,
       "version_minor": 0
      },
      "text/plain": [
       "FigureWidget({\n",
       "    'data': [{'customdata': array([10, 10, 18, ..., 11, 10, 10], dtype=int64),\n",
       "              'l…"
      ]
     },
     "metadata": {},
     "output_type": "display_data"
    }
   ],
   "source": [
    "fig"
   ]
  },
  {
   "cell_type": "code",
   "execution_count": null,
   "metadata": {},
   "outputs": [],
   "source": []
  }
 ],
 "metadata": {
  "kernelspec": {
   "display_name": "Python 3",
   "language": "python",
   "name": "python3"
  },
  "language_info": {
   "codemirror_mode": {
    "name": "ipython",
    "version": 3
   },
   "file_extension": ".py",
   "mimetype": "text/x-python",
   "name": "python",
   "nbconvert_exporter": "python",
   "pygments_lexer": "ipython3",
   "version": "3.7.3"
  }
 },
 "nbformat": 4,
 "nbformat_minor": 2
}
