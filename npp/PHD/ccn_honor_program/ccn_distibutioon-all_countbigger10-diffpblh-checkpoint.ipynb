{
 "cells": [
  {
   "cell_type": "code",
   "execution_count": 1,
   "metadata": {},
   "outputs": [],
   "source": [
    "import pandas as pd\n",
    "import numpy as np\n",
    "import os, time, datetime\n",
    "from datetime import datetime\n",
    "import glob\n",
    "import matplotlib.pyplot as plt\n",
    "from matplotlib import cm as CM\n",
    "from matplotlib.colors import LogNorm,PowerNorm\n",
    "import cartopy.crs as ccrs\n",
    "import cartopy.feature as cfeature\n",
    "from cartopy.io.shapereader import Reader\n",
    "import matplotlib.ticker as mticker\n",
    "from cartopy.mpl.ticker import LongitudeFormatter, LatitudeFormatter\n",
    "from cartopy.mpl.gridliner import LONGITUDE_FORMATTER, LATITUDE_FORMATTER\n",
    "import cmocean"
   ]
  },
  {
   "cell_type": "code",
   "execution_count": 2,
   "metadata": {},
   "outputs": [],
   "source": [
    "def plotMap():\n",
    "    #Set the projection information Cannot label gridlines on a LambertConformal plot. Only PlateCarree and Mercator plots are currently supported.\n",
    "##add shapefile\n",
    "    # add borders, coastline, rivers, lakes, and provinces of China\n",
    "    proj = ccrs.PlateCarree(central_longitude=118.8)\n",
    "    #Create a figure with an axes object on which we will plot. Pass the projection to that axes.\n",
    "    fig, ax = plt.subplots(figsize=(11.8, 8),subplot_kw=dict(projection=proj))\n",
    "    #ax.background_img(name='BM', resolution='high')\n",
    "    #Zoom in\n",
    "    ax.set_extent([105, 130, 20, 46])\n",
    "\n",
    "    #Add map features\n",
    "    ax.add_feature(cfeature.LAND, facecolor='0.99') #Grayscale colors can be set using 0 (black) to 1 (white)\n",
    "    ax.add_feature(cfeature.LAKES, alpha=0.9)  #Alpha sets transparency (0 is transparent, 1 is solid)\n",
    "    ax.add_feature(cfeature.BORDERS.with_scale('10m'), zorder=10, linestyle=':') # high resolution\n",
    "    ax.add_feature(cfeature.COASTLINE.with_scale('50m'), zorder=10, linestyle=':') # mediate resolution\n",
    "    ax.add_feature(cfeature.RIVERS) # low resolution\n",
    "    #ax.stock_img()\n",
    "\n",
    "    #We can use additional features from Natural Earth (http://www.naturalearthdata.com/features/)\n",
    "    states_provinces = cfeature.NaturalEarthFeature(\n",
    "            category='cultural',  name='admin_1_states_provinces_lines',\n",
    "            scale='50m',facecolor='none')\n",
    "    ax.add_feature(states_provinces, edgecolor='gray', zorder=10)\n",
    "    fname = 'D:\\data\\map\\CHN_adm1.shp'\n",
    "    adm1_shapes = list(Reader(fname).geometries())\n",
    "    ax.add_geometries(adm1_shapes, crs=ccrs.PlateCarree(),edgecolor='black', facecolor='none', alpha=0.5,linewidths=0.5)\n",
    "    newcmap = cmocean.tools.crop_by_percent(cmocean.cm.balance, 1, which='both', N=20)\n",
    "    plt.scatter(lon,lat,#latlon=True,\n",
    "          c=ccn, s=(3*tcb+10),\n",
    "          #cmap=newcmap,norm=PowerNorm(gamma=0.7),alpha=0.5,transform=ccrs.PlateCarree()) #Normalize a given value to the 0-1 range on a log scale\n",
    "          #cmap=CM.get_cmap('rainbow',40),norm=LogNorm(vmin=max(ccn.min(),0.1),clip=True),alpha=0.5,transform=ccrs.PlateCarree()) #Normalize a given value to the 0-1 range on a log scale\n",
    "          cmap=newcmap,alpha=0.8,transform=ccrs.PlateCarree()) #Normalize a given value to the 0-1 range on a log scale\n",
    "    #Add lat/lon gridlines every 20° to the map\n",
    "    plt.colorbar(label=r'CCN/cm^3')\n",
    "    plt.clim(0,1600)\n",
    "# make legend with dummy points\n",
    "    for a in [0,10,20]:\n",
    "        plt.scatter([], [], c='k', alpha=0.5, s=(3*a+10),\n",
    "                label=str(a)+'')\n",
    "#plt.legend(scatterpoints=1, frameon=False,\n",
    "#           labelspacing=1, loc='lower left',title= 'AQI',\n",
    "#           bbox_to_anchor=(,0),ncol=5)\n",
    "    plt.legend(scatterpoints=1, frameon=False,\n",
    "           labelspacing=1, loc='lower left',title= 'Tb-temp',\n",
    "           bbox_to_anchor=(0,-0.10,1,0.2),\n",
    "           mode=\"expand\", borderaxespad=0, ncol=6)\n",
    "    #plt.title(\"2013-2018 Summer\", fontsize=20)\n",
    "    return fig, ax"
   ]
  },
  {
   "cell_type": "code",
   "execution_count": null,
   "metadata": {
    "scrolled": false
   },
   "outputs": [
    {
     "name": "stderr",
     "output_type": "stream",
     "text": [
      "C:\\Users\\xigrug\\Anaconda3\\Anaconda\\lib\\site-packages\\ipykernel_launcher.py:1: FutureWarning: read_table is deprecated, use read_csv instead.\n",
      "  \"\"\"Entry point for launching an IPython kernel.\n"
     ]
    },
    {
     "name": "stdout",
     "output_type": "stream",
     "text": [
      "3783.0\n",
      "23.0\n",
      "27.0\n",
      "-13.0\n"
     ]
    }
   ],
   "source": [
    "cities=pd.read_table(\"allsum-0.5-NaN_necpno-count.csv\",sep=',',na_values=[-9999])\n",
    "\n",
    "# Extract the data we're interested in\n",
    "lat = cities['lat_bin'].values\n",
    "lon = cities['lon_bin'].values\n",
    "ccn = cities['CCN_1.0_cm3'].values\n",
    "tcb = cities['Tcb1.0'].values\n",
    "lat_max=np.nanmax(lat)\n",
    "lon_max=np.nanmax(lon)\n",
    "lat_min=np.nanmin(lat)\n",
    "lon_min=np.nanmin(lon)\n",
    "ccn_max=np.nanmax(ccn)\n",
    "print(ccn_max)\n",
    "ccn_min=np.nanmin(ccn)\n",
    "print(ccn_min)\n",
    "tcb_max=np.nanmax(tcb)\n",
    "print(tcb_max)\n",
    "tcb_min=np.nanmin(tcb)\n",
    "print(tcb_min)\n",
    "\n",
    "fig, ax= plotMap()\n",
    "plt.savefig('avg_CCN_noplh.png',dpi=200)"
   ]
  },
  {
   "cell_type": "code",
   "execution_count": 4,
   "metadata": {},
   "outputs": [],
   "source": [
    "cities=cities[cities['Count']>=10]"
   ]
  },
  {
   "cell_type": "code",
   "execution_count": null,
   "metadata": {
    "scrolled": true
   },
   "outputs": [],
   "source": [
    "# Extract the data we're interested in\n",
    "lat = cities['lat_bin'].values\n",
    "lon = cities['lon_bin'].values\n",
    "ccn = cities['CCN_1.0_cm3'].values\n",
    "tcb = cities['Tcb1.0'].values\n",
    "lat_max=np.nanmax(lat)\n",
    "lon_max=np.nanmax(lon)\n",
    "lat_min=np.nanmin(lat)\n",
    "lon_min=np.nanmin(lon)\n",
    "ccn_max=np.nanmax(ccn)\n",
    "print(ccn_max)\n",
    "ccn_min=np.nanmin(ccn)\n",
    "print(ccn_min)\n",
    "tcb_max=np.nanmax(tcb)\n",
    "print(tcb_max)\n",
    "tcb_min=np.nanmin(tcb)\n",
    "print(tcb_min)\n",
    "\n",
    "fig, ax= plotMap()\n",
    "plt.savefig('avg_CCN_noplh-count10-use.png',dpi=200)"
   ]
  },
  {
   "cell_type": "code",
   "execution_count": null,
   "metadata": {},
   "outputs": [],
   "source": []
  }
 ],
 "metadata": {
  "kernelspec": {
   "display_name": "Python 3",
   "language": "python",
   "name": "python3"
  },
  "language_info": {
   "codemirror_mode": {
    "name": "ipython",
    "version": 3
   },
   "file_extension": ".py",
   "mimetype": "text/x-python",
   "name": "python",
   "nbconvert_exporter": "python",
   "pygments_lexer": "ipython3",
   "version": "3.7.3"
  }
 },
 "nbformat": 4,
 "nbformat_minor": 2
}
