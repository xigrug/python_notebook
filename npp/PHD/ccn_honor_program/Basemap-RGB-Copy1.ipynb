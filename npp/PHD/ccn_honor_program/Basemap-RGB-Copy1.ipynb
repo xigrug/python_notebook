{
 "cells": [
  {
   "cell_type": "code",
   "execution_count": 1,
   "metadata": {},
   "outputs": [],
   "source": [
    "# -- coding=utf-8 --\n",
    "from netCDF4 import Dataset\n",
    "import numpy as np\n",
    "import matplotlib.pyplot as plt\n",
    "from mpl_toolkits.basemap import Basemap\n",
    "import matplotlib.colors as colors\n",
    "from matplotlib.backends.backend_pdf import PdfPages\n",
    "# from matplotlib.offsetbox import (TextArea, DrawingArea, OffsetImage,\n",
    "#                                   AnnotationBbox)\n",
    "import regionmask\n",
    "import geopandas\n",
    "import pandas as pd\n",
    "#import maskout\n",
    "import math\n",
    "import warnings\n",
    "%matplotlib inline"
   ]
  },
  {
   "cell_type": "markdown",
   "metadata": {},
   "source": [
    "maskout http://bbs.06climate.com/forum.php?mod=viewthread&tid=89530\n",
    "\n",
    "smooth https://stackoverflow.com/questions/14765891/image-smoothing-in-python\n",
    "平滑以后值就会变"
   ]
  },
  {
   "cell_type": "markdown",
   "metadata": {},
   "source": [
    "[matplotlib 3D scatterplot with marker color corresponding to RGB values](https://stackoverflow.com/questions/29399248/matplotlib-3d-scatterplot-with-marker-color-corresponding-to-rgb-values)"
   ]
  },
  {
   "cell_type": "code",
   "execution_count": 2,
   "metadata": {},
   "outputs": [],
   "source": [
    "def latlon_grid(bmap, lon_int, lat_int, labels='lb', **kwargs):\n",
    "    '''Draws a lat-lon grid in an easy way.\n",
    "\n",
    "    Some default values are taken from rcParams instead of 'black' (color) and\n",
    "    1.0 (linewidth) which is the default in Basemap.\n",
    "\n",
    "    In Basemap, the label pad is computed in projection units. Now you can use\n",
    "    the keyword argument 'labelpad' to control this separation in points. If\n",
    "    not specified then this value is taken from rcParams.\n",
    "\n",
    "    Arguments:\n",
    "\n",
    "    bmap -- Basemap object.\n",
    "    lon_int, lat_int -- Difference in degrees from one longitude or latitude to\n",
    "                        the next.\n",
    "    labels -- String specifying which margins will be used to write the labels.\n",
    "              If None, no label will be shown.\n",
    "              It is assummed that left/right margins (i.e. Y axes) correspond\n",
    "              to latitudes and top/bottom (X axes) to longitudes. It is valid\n",
    "              every combination of the characters 't' | 'b' | 'l' | 'r'\n",
    "              (top|bottom|left|right).\n",
    "              Ex: 'lrb' means that the longitude values will appear in bottom\n",
    "              margin and latitudes in left and right.\n",
    "    **kwargs -- Other arguments to drawparallels, drawmeridians and plt.text.\n",
    "                labelpad has units of points.\n",
    "    '''\n",
    "    # Proccesses arguments and rcParams for defult values\n",
    "    if 'color' not in kwargs:\n",
    "        kwargs['color'] = plt.rcParams['grid.color']\n",
    "    if 'linewidth' not in kwargs:\n",
    "        kwargs['linewidth'] = plt.rcParams['grid.linewidth']\n",
    "    if 'labelpad' in kwargs:\n",
    "        padx = pady = kwargs['labelpad']\n",
    "        del kwargs['labelpad']\n",
    "    else:\n",
    "        pady = plt.rcParams['xtick.major.pad']\n",
    "        padx = plt.rcParams['ytick.major.pad']\n",
    "    if 'size' in kwargs:\n",
    "        xfontsize = yfontsize = kwargs['size']\n",
    "        del kwargs['size']\n",
    "    elif 'fontsize' in kwargs:\n",
    "        xfontsize = yfontsize = kwargs['fontsize']\n",
    "        del kwargs['fontsize']\n",
    "    else:\n",
    "        xfontsize = plt.rcParams['xtick.labelsize']\n",
    "        yfontsize = plt.rcParams['ytick.labelsize']\n",
    "    # Vectors of coordinates\n",
    "    lon0 = bmap.lonmin // lon_int * lon_int\n",
    "    lat0 = bmap.latmin // lat_int * lat_int\n",
    "    lon1 = bmap.lonmax // lon_int * lon_int\n",
    "    lat1 = bmap.latmax // lat_int * lat_int\n",
    "    nlons = (lon1 - lon0) / lon_int + 1\n",
    "    nlats = (lat1 - lat0) / lat_int + 1\n",
    "    assert nlons / int(nlons) == 1, nlons\n",
    "    assert nlats / int(nlats) == 1, nlats\n",
    "    lons = np.linspace(lon0, lon1, int(nlons))\n",
    "    lats = np.linspace(lat0, lat1, int(nlats))\n",
    "    # If not specified then computes de label offset by 'labelpad'\n",
    "    xos = yos = None\n",
    "    if 'xoffset' in kwargs:\n",
    "        xos = kwargs['xoffset']\n",
    "    if 'yoffset' in kwargs:\n",
    "        yos = kwargs['yoffset']\n",
    "    if xos is None and yos is None:\n",
    "        # Page size in inches and axes limits\n",
    "        fig_w, fig_h = plt.gcf().get_size_inches()\n",
    "        points = plt.gca().get_position().get_points()\n",
    "        x1, y1 = tuple(points[0])\n",
    "        x2, y2 = tuple(points[1])\n",
    "        # Width and height of axes in points\n",
    "        w = (x2 - x1) * fig_w * 72\n",
    "        h = (y2 - y1) * fig_h * 72\n",
    "        # If the aspect relation is fixed then compute the real values\n",
    "        if bmap.fix_aspect:\n",
    "            aspect = bmap.aspect * w / h\n",
    "            if aspect > 1:\n",
    "                w = h / bmap.aspect\n",
    "            elif aspect < 1:\n",
    "                h = w * bmap.aspect\n",
    "        # Offset in projection units (meters or degrees)\n",
    "        xos = padx * (bmap.urcrnrx - bmap.llcrnrx) / w\n",
    "        yos = pady * (bmap.urcrnry - bmap.llcrnry) / h\n",
    "    # Set the labels\n",
    "    latlabels = [False] * 4\n",
    "    lonlabels = [False] * 4\n",
    "    if labels is not None:\n",
    "        pst = {'l': 0, 'r': 1, 't': 2, 'b': 3}\n",
    "        lst = {'l': latlabels, 'r': latlabels, 't': lonlabels, 'b': lonlabels}\n",
    "        for i in labels.lower():\n",
    "            lst[i][pst[i]] = True\n",
    "    # Draws the grid\n",
    "    bmap.drawparallels(lats, labels=latlabels, fontsize=yfontsize,\n",
    "                       xoffset=xos, yoffset=yos, **kwargs)\n",
    "    bmap.drawmeridians(lons, labels=lonlabels, fontsize=xfontsize,\n",
    "                       xoffset=xos, yoffset=yos, **kwargs)"
   ]
  },
  {
   "cell_type": "code",
   "execution_count": 3,
   "metadata": {},
   "outputs": [],
   "source": [
    "def plot_rec(bmap, lower_left, upper_left, lower_right, upper_right):\n",
    "    xs = [lower_left[0], upper_left[0],\n",
    "          upper_right[0],lower_right[0],lower_left[0]]\n",
    "    ys = [lower_left[1], upper_left[1],\n",
    "          upper_right[1],lower_right[1],lower_left[1]]\n",
    "    bmap.plot(xs, ys, color=\"r\",latlon = True)"
   ]
  },
  {
   "cell_type": "code",
   "execution_count": 4,
   "metadata": {},
   "outputs": [],
   "source": [
    "def fill_maxwell(ax):\n",
    "        Nlignes=300\n",
    "        Ncol=300\n",
    "        img = np.zeros((Nlignes,Ncol,4))\n",
    "        dx = 2.0/(Ncol-1)\n",
    "        dy = 1.0/(Nlignes-1)\n",
    "        for i in range(Ncol-1):\n",
    "            for j in range(Nlignes-1):\n",
    "                x = -1.0+i*dx\n",
    "                y = j*dy\n",
    "                v = y\n",
    "                r = (x+1-v)/2.0\n",
    "                b = 1.0-v-r\n",
    "                if (r>=0) and (r<=1.0) and (v>=0) and (v<=1.0) and (b>=0) and (b<=1.0):\n",
    "                    r,v,b = 1/max(r,v,b)*r,1/max(r,v,b)*v,1/max(r,v,b)*b\n",
    "                    img[j][i] = np.array([r,v,b,1.0])\n",
    "                else:\n",
    "                    img[j][i] = np.array([1.0,1.0,1.0,0.0])\n",
    "        a = 1.0/math.sqrt(3)\n",
    "        fig = ax.imshow(img,origin='lower',extent=[-a,a,0.0,1.0])\n",
    "        # ax.plot([0,a/2.,-a/2.,0],[0,0.5,0.5,0],'w--',linewidth=2,)\n",
    "        # ax.annotate(\"\", xy=( a/2.,0.5), xytext=( -a ,0.),  arrowprops=dict(arrowstyle=\"->\"))\n",
    "        # ax.annotate(\"\", xy=(-a/2.,0.5), xytext=( a,0.),   arrowprops=dict(arrowstyle=\"->\"))\n",
    "        # ax.annotate(\"\", xy=( 0,1.),     xytext=( 0,0.),  color='white', arrowprops=dict(arrowstyle=\"->\"))\n",
    "        # ax.annotate(\"\", xy=( a ,0.),    xytext=( -a/2.,0.5) ,color='white',arrowprops=dict(arrowstyle=\"->\"))\n",
    "        # ax.annotate(\"\", xy=(-a,0.),     xytext=( a/2.,0.5) ,color='white',arrowprops=dict(arrowstyle=\"->\"))\n",
    "        # ax.annotate(\"\", xy=( 0,0.),     xytext=( 0,1.),     arrowprops=dict(arrowstyle=\"->\"))        \n",
    "        # #         \n",
    "        # ax.plot([0,a/2.],[1/3.,0.5],'w--',linewidth=2,)\n",
    "        # ax.plot([0,-a/2.],[1/3.,0.5],'w--',linewidth=2,)\n",
    "        # ax.plot([0,0.],[1/3.,0.],'w--',linewidth=2,)  \n",
    "        fsize = 10      \n",
    "        plt.text(-0.78, -0.15, \"$\\Delta{Tair}$\", fontsize=fsize, color='k',weight='bold') #,rotation=30\n",
    "        plt.text( 0.38, -0.15, \"$\\Delta{DF}$\", fontsize=fsize, color='k',weight='bold')  ## ,rotation=-30\n",
    "        plt.text( -0.15,  1.05, \"$\\Delta{VPD}$\", fontsize=fsize, color='k',weight='bold')\n",
    "\n",
    "        # ax.text(  a/2.+0.05,0.6, \"Tair\\n-100%\"   , fontsize=fsize, color='w',rotation=30)\n",
    "        # ax.text( -a/2-0.3,0.6, \"DF\\n-100%\"   , fontsize=fsize, color='w',rotation=-30)\n",
    "        # ax.text( -0.1,  -0.2, \" VPD\\n-100%\", fontsize=fsize, color='w')\n",
    "                        \n",
    "        ax.axis('off')\n",
    "        return fig"
   ]
  },
  {
   "cell_type": "code",
   "execution_count": 28,
   "metadata": {},
   "outputs": [],
   "source": [
    "def regfig(lat,lon,data,z_min=0.,z_max=1.5,figname=\"regcmfig\",title=None,units=None):\n",
    "    fig = plt.figure()\n",
    "    ax = fig.add_axes([0.1,0.1,0.85,0.85]) \n",
    "    #m = Basemap(projection='lcc', \\\n",
    "    #            area_thresh=1000.,rsphere=(6378137.00,6356752.3142),\\\n",
    "    #            width=5640000,height=4140000,\\\n",
    "    #            lat_0=36.,lon_0=107.,lat_1=25.,lat_2=50., ax=ax)\n",
    "    m = Basemap(projection='lcc',\n",
    "       resolution='i',\n",
    "       lat_0=32.,lon_0=118., width=4E6, height=4E6)\n",
    "\n",
    "    # m.fillcontinents(color='gray',lake_color='aqua')\n",
    "    #m.drawmapboundary(fill_color='dimgray')  #dimgray\n",
    "    xi, yi = m(lon, lat)\n",
    "    #cs = m.imshow(data,interpolation='nearest')\n",
    "    cs=m.scatter(xi, yi, c=data,s=200)\n",
    "    #clip = maskout.shp2clip(cs,ax,m,'D:\\data\\map\\cnhimap',\"China\",vcplot = True)\n",
    "    # cs = m.pcolor(xi, yi, np.squeeze(data), cmap=\"rainbow\",vmin=z_min, vmax=z_max)\n",
    "    # cs = m.pcolor(xi, yi, np.squeeze(data),norm=colors.SymLogNorm(linthresh=0.03, linscale=0.03,\n",
    "    #                                           vmin=z_min, vmax=z_max), cmap=\"coolwarm\")\n",
    "    # bounds = np.linspace(z_min, z_max, 20)\n",
    "    # norm = colors.BoundaryNorm(boundaries=bounds, ncolors=256)\n",
    "    # cs = m.pcolor(xi, yi, np.squeeze(data), cmap=\"coolwarm\",norm=norm)  ### Pcolor with a log scale\n",
    "    latlon_grid(m, 10, 5, labels='lb', labelpad=10, linewidth=0.) #dashes=[1, 3]\n",
    "    # parallels = np.arange(0.,60,5.)\n",
    "    # m.drawparallels(parallels, color='k', linewidth=.01,\n",
    "    #  zorder=0, dashes=[1, 1], labels=[1,0,0,0], fmt='%g') # , fontsize=10\n",
    "    # meridians = np.arange(80.,180.,10.)\n",
    "    # m.drawmeridians(meridians, color='k', linewidth=1.0,\n",
    "    #  zorder=0, dashes=[1, 1], labels=[0,0,0,1], fmt='%g') # , fontsize=10\n",
    "    #  \n",
    "    llcrnrlon =  100.\n",
    "    urcrnrlon =  122.\n",
    "    llcrnrlat =  21.\n",
    "    urcrnrlat =  40.\n",
    "    lower_left = (llcrnrlon, llcrnrlat)\n",
    "    lower_right= (urcrnrlon, llcrnrlat)\n",
    "    upper_left = (llcrnrlon, urcrnrlat)\n",
    "    upper_right= (urcrnrlon, urcrnrlat)\n",
    "    # plot_rec(m, lower_left, upper_left, lower_right, upper_right)\n",
    "    # m.readshapefile('coastline_withoutchina','whatevername',color='black')\n",
    "    # # m.readshapefile('cnmap/cnmap','whatevername',color='black')\n",
    "    # # m.readshapefile('country1','whatevername',color='black')\n",
    "    # m.readshapefile('cnmap/chinaprov','whatevername',color='black')\n",
    "    \n",
    "    # cbar_num_format = \"%0.1f\"\n",
    "    # cbar = m.colorbar(cs, pad=\"5%\", format=cbar_num_format)\n",
    "    # cbar = m.colorbar(cs, location='bottom', pad=\"10%\", format=cbar_num_format)\n",
    "    # if(units): cbar.set_label(units)\n",
    "    # if(title): plt.title(title)\n",
    "    if(title): fig.text(0.15, 0.9, title,fontsize=\"larger\",color=\"white\") #,weight='bold')\n",
    "    # if(title): fig.text(0.8, 0.25, title,fontsize=\"large\")\n",
    "    # plt.show()\n",
    "    left, bottom, width, height = 0.77, 0.19, 0.14, 0.14\n",
    "    ax2 = fig.add_axes([left, bottom, width, height])\n",
    "    fig2 = fill_maxwell(ax2)\n",
    "    #left, bottom, width, height = 0.17, 0.18, 0.15, 0.15\n",
    "    #ax3 = fig.add_axes([left, bottom, width, height])\n",
    "    #fig3 = piefig(ax3,fracs)    \n",
    "    # plt.savefig(figname, dpi=300)\n",
    "    with PdfPages(figname+'.pdf') as pdf:\n",
    "        pdf.savefig(fig,bbox_inches='tight',pad_inches = 0.05 )    "
   ]
  },
  {
   "cell_type": "code",
   "execution_count": 6,
   "metadata": {},
   "outputs": [],
   "source": [
    "meteo_file = \"yrd_mrl.csv\""
   ]
  },
  {
   "cell_type": "code",
   "execution_count": 7,
   "metadata": {},
   "outputs": [],
   "source": [
    "df= pd.read_csv(meteo_file)"
   ]
  },
  {
   "cell_type": "code",
   "execution_count": 8,
   "metadata": {},
   "outputs": [
    {
     "data": {
      "text/html": [
       "<div>\n",
       "<style scoped>\n",
       "    .dataframe tbody tr th:only-of-type {\n",
       "        vertical-align: middle;\n",
       "    }\n",
       "\n",
       "    .dataframe tbody tr th {\n",
       "        vertical-align: top;\n",
       "    }\n",
       "\n",
       "    .dataframe thead th {\n",
       "        text-align: right;\n",
       "    }\n",
       "</style>\n",
       "<table border=\"1\" class=\"dataframe\">\n",
       "  <thead>\n",
       "    <tr style=\"text-align: right;\">\n",
       "      <th></th>\n",
       "      <th>FA1</th>\n",
       "      <th>FA2</th>\n",
       "      <th>FA3</th>\n",
       "      <th>D</th>\n",
       "      <th>lat</th>\n",
       "      <th>lon</th>\n",
       "    </tr>\n",
       "  </thead>\n",
       "  <tbody>\n",
       "    <tr>\n",
       "      <th>0</th>\n",
       "      <td>58.365529</td>\n",
       "      <td>122.407816</td>\n",
       "      <td>-55.277364</td>\n",
       "      <td>1030.090351</td>\n",
       "      <td>29.0</td>\n",
       "      <td>120.0</td>\n",
       "    </tr>\n",
       "    <tr>\n",
       "      <th>1</th>\n",
       "      <td>90.582464</td>\n",
       "      <td>200.654243</td>\n",
       "      <td>-228.522608</td>\n",
       "      <td>1422.111940</td>\n",
       "      <td>31.0</td>\n",
       "      <td>121.0</td>\n",
       "    </tr>\n",
       "    <tr>\n",
       "      <th>2</th>\n",
       "      <td>12.214751</td>\n",
       "      <td>-18.760236</td>\n",
       "      <td>26.745564</td>\n",
       "      <td>1164.041063</td>\n",
       "      <td>31.5</td>\n",
       "      <td>119.5</td>\n",
       "    </tr>\n",
       "    <tr>\n",
       "      <th>3</th>\n",
       "      <td>-91.303410</td>\n",
       "      <td>-31.795600</td>\n",
       "      <td>57.252510</td>\n",
       "      <td>1102.020513</td>\n",
       "      <td>32.0</td>\n",
       "      <td>119.0</td>\n",
       "    </tr>\n",
       "    <tr>\n",
       "      <th>4</th>\n",
       "      <td>183.315573</td>\n",
       "      <td>33.324871</td>\n",
       "      <td>58.550866</td>\n",
       "      <td>931.477893</td>\n",
       "      <td>32.0</td>\n",
       "      <td>118.0</td>\n",
       "    </tr>\n",
       "  </tbody>\n",
       "</table>\n",
       "</div>"
      ],
      "text/plain": [
       "          FA1         FA2         FA3            D   lat    lon\n",
       "0   58.365529  122.407816  -55.277364  1030.090351  29.0  120.0\n",
       "1   90.582464  200.654243 -228.522608  1422.111940  31.0  121.0\n",
       "2   12.214751  -18.760236   26.745564  1164.041063  31.5  119.5\n",
       "3  -91.303410  -31.795600   57.252510  1102.020513  32.0  119.0\n",
       "4  183.315573   33.324871   58.550866   931.477893  32.0  118.0"
      ]
     },
     "execution_count": 8,
     "metadata": {},
     "output_type": "execute_result"
    }
   ],
   "source": [
    "df.head()"
   ]
  },
  {
   "cell_type": "code",
   "execution_count": 9,
   "metadata": {},
   "outputs": [],
   "source": [
    "# 获取每个变量的值\n",
    "lons = df['lon']\n",
    "lats = df['lat']\n",
    "fa1 = df['FA1']\n",
    "fa2 = df['FA2']\n",
    "fa3 = df['FA3']"
   ]
  },
  {
   "cell_type": "code",
   "execution_count": 10,
   "metadata": {},
   "outputs": [
    {
     "data": {
      "text/plain": [
       "460.11164110000004"
      ]
     },
     "execution_count": 10,
     "metadata": {},
     "output_type": "execute_result"
    }
   ],
   "source": [
    "max((abs(fa1).max(),abs(fa2).max(),abs(fa3).max()))"
   ]
  },
  {
   "cell_type": "code",
   "execution_count": 18,
   "metadata": {},
   "outputs": [],
   "source": [
    "cgpp = np.c_[abs(fa1),abs(fa2),abs(fa3)]   ### par: red; vpd: green; temp: blue\n",
    "#cgpp  = abs(cgpp)/max((abs(fa1).max(),abs(fa2).max(),abs(fa3).max()))\n",
    "cgpp  = cgpp * (1/np.max(cgpp,axis=1))[:,np.newaxis]"
   ]
  },
  {
   "cell_type": "code",
   "execution_count": 19,
   "metadata": {},
   "outputs": [
    {
     "data": {
      "text/plain": [
       "(32, 3)"
      ]
     },
     "execution_count": 19,
     "metadata": {},
     "output_type": "execute_result"
    }
   ],
   "source": [
    "cgpp.shape"
   ]
  },
  {
   "cell_type": "code",
   "execution_count": 20,
   "metadata": {},
   "outputs": [
    {
     "data": {
      "image/png": "[encoded data removed]",
      "text/plain": [
       "<Figure size 432x288 with 1 Axes>"
      ]
     },
     "metadata": {
      "needs_background": "light"
     },
     "output_type": "display_data"
    }
   ],
   "source": [
    "fig, ax = plt.subplots()\n",
    "ax.scatter(lons, lats, s=200, facecolors=cgpp)\n",
    "plt.show()"
   ]
  },
  {
   "cell_type": "code",
   "execution_count": 21,
   "metadata": {},
   "outputs": [],
   "source": [
    "lats=np.array(lats)"
   ]
  },
  {
   "cell_type": "code",
   "execution_count": 22,
   "metadata": {},
   "outputs": [],
   "source": [
    "lons=np.array(lons)"
   ]
  },
  {
   "cell_type": "code",
   "execution_count": 23,
   "metadata": {},
   "outputs": [
    {
     "data": {
      "text/plain": [
       "array([29. , 31. , 31.5, 32. , 32. , 31.5, 31. , 30. , 32. , 31. , 30.5,\n",
       "       31. , 31. , 32. , 29. , 31. , 31.5, 32. , 32. , 31.5, 31. , 30. ,\n",
       "       32. , 31. , 30.5, 31. , 31. , 32. , 33. , 30.5, 30. , 32.5])"
      ]
     },
     "execution_count": 23,
     "metadata": {},
     "output_type": "execute_result"
    }
   ],
   "source": [
    "lats"
   ]
  },
  {
   "cell_type": "code",
   "execution_count": 24,
   "metadata": {},
   "outputs": [
    {
     "data": {
      "text/plain": [
       "array([120. , 121. , 119.5, 119. , 118. , 118.5, 117.5, 120. , 121. ,\n",
       "       119. , 117.5, 118. , 120. , 120.5, 120. , 121. , 119.5, 119. ,\n",
       "       118. , 118.5, 117.5, 120. , 121. , 119. , 117.5, 118. , 120. ,\n",
       "       120.5, 120. , 120. , 121. , 120. ])"
      ]
     },
     "execution_count": 24,
     "metadata": {},
     "output_type": "execute_result"
    }
   ],
   "source": [
    "lons"
   ]
  },
  {
   "cell_type": "code",
   "execution_count": 25,
   "metadata": {},
   "outputs": [
    {
     "name": "stderr",
     "output_type": "stream",
     "text": [
      "C:\\Users\\xigrug\\Anaconda3\\Anaconda\\lib\\site-packages\\ipykernel_launcher.py:5: MatplotlibDeprecationWarning: \n",
      "The dedent function was deprecated in Matplotlib 3.1 and will be removed in 3.3. Use inspect.cleandoc instead.\n",
      "  \"\"\"\n"
     ]
    },
    {
     "data": {
      "image/png": "[encoded data removed]",
      "text/plain": [
       "<Figure size 432x288 with 1 Axes>"
      ]
     },
     "metadata": {},
     "output_type": "display_data"
    }
   ],
   "source": [
    "from mpl_toolkits.basemap import Basemap\n",
    "import matplotlib.pyplot as plt\n",
    "\n",
    "map = Basemap(projection='lcc', \n",
    "              lat_0=32, lon_0=118, width=2E6, height=2E6)\n",
    "\n",
    "map.drawmapboundary(fill_color='aqua')\n",
    "#map.fillcontinents(color='coral',lake_color='aqua')\n",
    "map.drawcoastlines()\n",
    "\n",
    "\n",
    "x, y = map(lons, lats)\n",
    "\n",
    "map.scatter(x, y,marker='o',color=cgpp)\n",
    "\n",
    "plt.show()"
   ]
  },
  {
   "cell_type": "code",
   "execution_count": 29,
   "metadata": {
    "scrolled": true
   },
   "outputs": [
    {
     "name": "stderr",
     "output_type": "stream",
     "text": [
      "C:\\Users\\xigrug\\Anaconda3\\Anaconda\\lib\\site-packages\\ipykernel_launcher.py:10: MatplotlibDeprecationWarning: \n",
      "The dedent function was deprecated in Matplotlib 3.1 and will be removed in 3.3. Use inspect.cleandoc instead.\n",
      "  # Remove the CWD from sys.path while we load stuff.\n"
     ]
    },
    {
     "data": {
      "image/png": "[encoded data removed]",
      "text/plain": [
       "<Figure size 432x288 with 2 Axes>"
      ]
     },
     "metadata": {
      "needs_background": "light"
     },
     "output_type": "display_data"
    }
   ],
   "source": [
    "regfig(lats,lons,cgpp,z_min=-1.,z_max=1.,figname=\"ccn\",units=None,title=\"\")"
   ]
  },
  {
   "cell_type": "code",
   "execution_count": null,
   "metadata": {},
   "outputs": [],
   "source": []
  }
 ],
 "metadata": {
  "kernelspec": {
   "display_name": "Python 3",
   "language": "python",
   "name": "python3"
  },
  "language_info": {
   "codemirror_mode": {
    "name": "ipython",
    "version": 3
   },
   "file_extension": ".py",
   "mimetype": "text/x-python",
   "name": "python",
   "nbconvert_exporter": "python",
   "pygments_lexer": "ipython3",
   "version": "3.7.3"
  }
 },
 "nbformat": 4,
 "nbformat_minor": 2
}
