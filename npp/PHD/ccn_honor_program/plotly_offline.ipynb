{
 "cells": [
  {
   "cell_type": "code",
   "execution_count": 3,
   "metadata": {},
   "outputs": [
    {
     "data": {
      "application/vnd.jupyter.widget-view+json": {
       "model_id": "6f1ba9a203164040a12559f6ae7f18b5",
       "version_major": 2,
       "version_minor": 0
      },
      "text/plain": [
       "FigureWidget({\n",
       "    'data': [{'lat': [45.5017],\n",
       "              'lon': [-73.5673],\n",
       "              'marker': {'size…"
      ]
     },
     "metadata": {},
     "output_type": "display_data"
    }
   ],
   "source": [
    "import plotly.plotly as py\n",
    "import plotly.graph_objs as go\n",
    "\n",
    "mapbox_access_token = 'pk.eyJ1Ijoiam1tZWFzZSIsImEiOiJjamljeWkwN3IwNjEyM3FtYTNweXV4YmV0In0.2zbgGCjbPTK7CToIg81kMw'\n",
    "\n",
    "data = [\n",
    "    go.Scattermapbox(\n",
    "        lat=['45.5017'],\n",
    "        lon=['-73.5673'],\n",
    "        mode='markers',\n",
    "        marker=dict(\n",
    "            size=14\n",
    "        ),\n",
    "        text=['Montreal'],\n",
    "        subplot='mapbox',\n",
    "    ),\n",
    "    go.Scattermapbox(\n",
    "        lat=['45.5017'],\n",
    "        lon=['-73.5673'],\n",
    "        mode='markers',\n",
    "        marker=dict(\n",
    "            size=14,\n",
    "            color='#eeff00'\n",
    "        ),\n",
    "        text=['Montreal'],\n",
    "        subplot='mapbox2',\n",
    "    )\n",
    "]\n",
    "\n",
    "layout = go.Layout(\n",
    "    autosize=True,\n",
    "    hovermode='closest',\n",
    "    mapbox=dict(\n",
    "        accesstoken=mapbox_access_token,\n",
    "        domain={'x': [0, 0.4], 'y': [0, 1]},\n",
    "        bearing=0,\n",
    "        center=dict(\n",
    "            lat=45,\n",
    "            lon=-73\n",
    "        ),\n",
    "        pitch=0,\n",
    "        zoom=5\n",
    "    ),\n",
    "    mapbox2=dict(\n",
    "        accesstoken=mapbox_access_token,\n",
    "        domain={'x': [0.6, 1.0], 'y': [0, 1]},\n",
    "        bearing=0,\n",
    "        center=dict(\n",
    "            lat=45,\n",
    "            lon=-73\n",
    "        ),\n",
    "        pitch=0,\n",
    "        zoom=5\n",
    "    ),\n",
    ")\n",
    "\n",
    "fig = go.FigureWidget(data=data, layout=layout)\n",
    "fig"
   ]
  },
  {
   "cell_type": "code",
   "execution_count": null,
   "metadata": {},
   "outputs": [],
   "source": []
  }
 ],
 "metadata": {
  "kernelspec": {
   "display_name": "Python 3",
   "language": "python",
   "name": "python3"
  },
  "language_info": {
   "codemirror_mode": {
    "name": "ipython",
    "version": 3
   },
   "file_extension": ".py",
   "mimetype": "text/x-python",
   "name": "python",
   "nbconvert_exporter": "python",
   "pygments_lexer": "ipython3",
   "version": "3.7.3"
  }
 },
 "nbformat": 4,
 "nbformat_minor": 2
}
