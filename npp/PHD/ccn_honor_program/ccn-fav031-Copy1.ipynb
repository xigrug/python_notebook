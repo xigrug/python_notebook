{
 "cells": [
  {
   "cell_type": "markdown",
   "metadata": {
    "slideshow": {
     "slide_type": "slide"
    }
   },
   "source": [
    "# Python中的因子分析简介\n",
    "\n",
    "https://www.datacamp.com/community/tutorials/introduction-factor-analysis"
   ]
  },
  {
   "cell_type": "markdown",
   "metadata": {
    "slideshow": {
     "slide_type": "fragment"
    }
   },
   "source": [
    "### 导入所需的库"
   ]
  },
  {
   "cell_type": "code",
   "execution_count": 1,
   "metadata": {
    "slideshow": {
     "slide_type": "fragment"
    }
   },
   "outputs": [],
   "source": [
    "# Import required libraries\n",
    "import pandas as pd\n",
    "#from sklearn.datasets import load_iris\n",
    "from factor_analyzer import FactorAnalyzer\n",
    "import matplotlib.pyplot as plt\n",
    "from sklearn import linear_model\n",
    "from factor_analyzer.factor_analyzer import calculate_kmo,calculate_bartlett_sphericity"
   ]
  },
  {
   "cell_type": "code",
   "execution_count": 2,
   "metadata": {},
   "outputs": [],
   "source": [
    "import pkg_resources"
   ]
  },
  {
   "cell_type": "code",
   "execution_count": 3,
   "metadata": {},
   "outputs": [
    {
     "data": {
      "text/plain": [
       "'0.3.1'"
      ]
     },
     "execution_count": 3,
     "metadata": {},
     "output_type": "execute_result"
    }
   ],
   "source": [
    "pkg_resources.get_distribution(\"factor_analyzer\").version"
   ]
  },
  {
   "cell_type": "code",
   "execution_count": 4,
   "metadata": {},
   "outputs": [],
   "source": [
    "def mlr_ccn_value(value,value1,value2,value3):\n",
    "    value_name,value1_name,value2_name,value3_name=\"CCN_1.0_cm3\",\"T2m_NCEP\",\"SS_1.0_mg\",\"PM25\"\n",
    "    data=pd.DataFrame()\n",
    "    data[value_name]=value\n",
    "    data[value1_name]=value1\n",
    "    data[value2_name]=value2\n",
    "    data[value3_name]=value3\n",
    "    data.dropna()\n",
    "    X = data[[value1_name,value2_name,value3_name]].values.reshape(-1,3)\n",
    "    y = data[value_name]\n",
    "    lm = linear_model.LinearRegression()\n",
    "    model = lm.fit(X,y)\n",
    "    #predictions = lm.predict(X)\n",
    "    #print(predictions[0:5])\n",
    "    #输出我们模型的R²得分\n",
    "    print(lm.score(X,y))\n",
    "    cf=lm.coef_\n",
    "    inter=lm.intercept_\n",
    "    return cf[0],cf[1],cf[2],inter"
   ]
  },
  {
   "cell_type": "markdown",
   "metadata": {},
   "source": [
    "def factor_analysis(df):\n",
    "    #预处理数据\n",
    "    df1=df\n",
    "    # Dropping missing values rows\n",
    "    df1.dropna(inplace=True)\n",
    "    ccn=df1[\"CCN_1.0_cm3\"]\n",
    "    #df.drop(['FAC1', 'FAC2', 'FAC3', 'FAC4', 'FAC5', 'FAC6', 'FAC7', 'FAC8'],axis=1,inplace=True)\n",
    "    df1.drop(['CCN_1.0_cm3','stid','rain',\"rain208\",\"rain820\"],axis=1,inplace=True)\n",
    "    #充分性测试\n",
    "    chi_square_value,p_value=calculate_bartlett_sphericity(df1)\n",
    "    print(chi_square_value, p_value)\n",
    "    kmo_all,kmo_model=calculate_kmo(df1)\n",
    "    print(kmo_model)\n",
    "    fa = FactorAnalyzer(rotation=None)\n",
    "    fa.fit(df1)\n",
    "    # Check Eigenvalues\n",
    "    ev, v = fa.get_eigenvalues()\n",
    "    print(ev)\n",
    "    plt.scatter(range(1,df1.shape[1]+1),ev)\n",
    "    plt.plot(range(1,df1.shape[1]+1),ev)\n",
    "    plt.title('Scree Plot')\n",
    "    plt.xlabel('Factors')\n",
    "    plt.ylabel('Eigenvalue')\n",
    "    plt.axhline(y=1, color='r', linestyle='-')\n",
    "    plt.grid()\n",
    "    plt.show()\n",
    "    #执行因子分析\n",
    "    fav= FactorAnalyzer(n_factors=3,rotation=\"varimax\")\n",
    "    fav.fit(df1)\n",
    "    loading=fav.loadings_\n",
    "    print(loading)\n",
    "    #Calculate the eigenvalues特征值, given the factor correlation matrix\n",
    "    eigenvalues=fav.get_eigenvalues()\n",
    "    print(\"特征值\",eigenvalues)\n",
    "    # Calculate the communalities共通性, given the factor loading matrix.\n",
    "    communalities=fav.get_communalities()\n",
    "    print(\"共通性\",communalities)\n",
    "    # Get variance 方差 of each factors\n",
    "    variance=fav.get_factor_variance()\n",
    "    print(\"方差\",variance)\n",
    "    #Calculate the uniquenesses唯一性, given the factor loading matrix.\n",
    "    uniquenesses=fav.get_uniquenesses()\n",
    "    print(\"唯一性\",uniquenesses)\n",
    "    #Get the factor scores for new data set.\n",
    "    trans=fav.transform(df)\n",
    "    print(fav.transform(df).shape)\n",
    "    return ccn,trans[:,0],trans[:,1],trans[:,2]"
   ]
  },
  {
   "cell_type": "code",
   "execution_count": 27,
   "metadata": {},
   "outputs": [],
   "source": [
    "def factor_analysis(df1):\n",
    "    #预处理数据\n",
    "    # Dropping missing values rows\n",
    "    df1.dropna(inplace=True)\n",
    "    #print(df1.columns)\n",
    "    ccn=df1[\"CCN_1.0_cm3\"]\n",
    "    #print(ccn)\n",
    "    #df.drop(['FAC1', 'FAC2', 'FAC3', 'FAC4', 'FAC5', 'FAC6', 'FAC7', 'FAC8'],axis=1,inplace=True)\n",
    "    df2=df1.drop(['CCN_1.0_cm3','stid',\"Have\",\"Hsd\",'rain',\"rain208\",\"rain820\"],axis=1,inplace=False)\n",
    "    #充分性测试\n",
    "    chi_square_value,p_value=calculate_bartlett_sphericity(df2)\n",
    "    #print(chi_square_value, p_value)\n",
    "    kmo_all,kmo_model=calculate_kmo(df2)\n",
    "    #print(kmo_model)\n",
    "    fa = FactorAnalyzer(rotation=None)\n",
    "    print(df2.columns)\n",
    "    print(df2.head())\n",
    "    fa.fit(df2)\n",
    "    # Check Eigenvalues\n",
    "    ev, v = fa.get_eigenvalues()\n",
    "    #print(ev)\n",
    "    plt.scatter(range(1,df2.shape[1]+1),ev)\n",
    "    plt.plot(range(1,df2.shape[1]+1),ev)\n",
    "    plt.title('Scree Plot')\n",
    "    plt.xlabel('Factors')\n",
    "    plt.ylabel('Eigenvalue')\n",
    "    plt.axhline(y=1, color='r', linestyle='-')\n",
    "    plt.grid()\n",
    "    plt.show()\n",
    "    #执行因子分析\n",
    "    fav= FactorAnalyzer(n_factors=3,rotation=\"varimax\")\n",
    "    fav.fit(df2)\n",
    "    loading=fav.loadings_\n",
    "    #print(loading)\n",
    "    #Calculate the eigenvalues特征值, given the factor correlation matrix\n",
    "    eigenvalues=fav.get_eigenvalues()\n",
    "    #print(\"特征值\",eigenvalues)\n",
    "    # Calculate the communalities共通性, given the factor loading matrix.\n",
    "    communalities=fav.get_communalities()\n",
    "    #print(\"共通性\",communalities)\n",
    "    # Get variance 方差 of each factors\n",
    "    variance=fav.get_factor_variance()\n",
    "    #print(\"方差\",variance)\n",
    "    #Calculate the uniquenesses唯一性, given the factor loading matrix.\n",
    "    uniquenesses=fav.get_uniquenesses()\n",
    "    #print(\"唯一性\",uniquenesses)\n",
    "    #Get the factor scores for new data set.\n",
    "    trans=fav.transform(df2)\n",
    "    #print(fav.transform(df).shape)\n",
    "    return ccn,trans[:,0],trans[:,1],trans[:,2]"
   ]
  },
  {
   "cell_type": "markdown",
   "metadata": {
    "slideshow": {
     "slide_type": "subslide"
    }
   },
   "source": [
    "## 加载数据"
   ]
  },
  {
   "cell_type": "code",
   "execution_count": 6,
   "metadata": {
    "slideshow": {
     "slide_type": "fragment"
    }
   },
   "outputs": [],
   "source": [
    "df= pd.read_csv(\"yrd_ccn_new-all-pmcb1.csv\")"
   ]
  },
  {
   "cell_type": "code",
   "execution_count": 8,
   "metadata": {},
   "outputs": [
    {
     "name": "stdout",
     "output_type": "stream",
     "text": [
      "Index(['CAPE_nc', 'CIN0', 'Cloud_fra', 'GH1000', 'GH500', 'GH700', 'GH850',\n",
      "       'H_LCL_nc', 'H_tro', 'Have', 'Hcbs1.0', 'Hsd', 'Htop1.0', 'LTS', 'PBLH',\n",
      "       'PR', 'PTEM700', 'PTEMS', 'PW', 'P_LCL_nc', 'P_tro', 'Pcb1.0', 'Press',\n",
      "       'Ptop1.0', 'RH2m', 'Recb1.0', 'Retop1.0', 'SLI', 'SS_1.0_mg', 'T1000',\n",
      "       'T2m_NCEP', 'T500', 'T700', 'T850', 'T_LCL_nc', 'T_coal1.0', 'T_tro',\n",
      "       'Tcb1.0', 'Tskin_NCEP', 'Ttop1.0', 'Wb_1.0', 'PM25', 'PM25cb', 'PM10'],\n",
      "      dtype='object')\n",
      "   CAPE_nc  CIN0  Cloud_fra      GH1000        GH500        GH700  \\\n",
      "0      5.0 -0.61     0.5743   87.970001  5870.669922  3138.550049   \n",
      "1     12.0 -0.01     0.7696  103.300003  5851.430176  3122.830078   \n",
      "2     23.0 -0.71     0.5747  112.959999  5848.350098  3123.909912   \n",
      "3      0.0 -0.81     0.1157  117.489998  5841.910156  3121.350098   \n",
      "4      0.0 -0.21     0.3095  113.699997  5846.069824  3123.209961   \n",
      "\n",
      "         GH850  H_LCL_nc    H_tro   Have  ...  T_LCL_nc  T_coal1.0  T_tro  \\\n",
      "0  1499.560059    1092.2  16511.0  211.0  ...      16.9       19.0  -75.7   \n",
      "1  1500.099976     981.0  16627.0    4.0  ...      16.5       11.0  -74.2   \n",
      "2  1499.530029     212.5  16647.0    5.0  ...      18.8      -14.0  -73.3   \n",
      "3  1501.020020     124.0  16669.0   26.0  ...      18.7      -20.0  -73.4   \n",
      "4  1498.010010     124.0  16669.0   42.0  ...      18.7      -16.0  -73.4   \n",
      "\n",
      "   Tcb1.0  Tskin_NCEP  Ttop1.0  Wb_1.0       PM25    PM25cb   PM10  \n",
      "0    19.0       30.84      6.0    0.99  18.000000  5.941307  27.00  \n",
      "1    13.0       25.86     -6.0    1.22  15.250000  2.269237  33.00  \n",
      "2     7.0       20.60    -24.0    1.28  21.875000  0.507255  39.25  \n",
      "3    -5.0       19.59    -43.0    2.32  11.250000  0.029086  30.00  \n",
      "4     3.0       19.48    -25.0    1.55  13.333333  0.125628  17.00  \n",
      "\n",
      "[5 rows x 44 columns]\n"
     ]
    },
    {
     "data": {
      "image/png": "[encoded data removed]",
      "text/plain": [
       "<matplotlib.figure.Figure at 0x2b7ed2886a58>"
      ]
     },
     "metadata": {
      "needs_background": "light"
     },
     "output_type": "display_data"
    }
   ],
   "source": [
    "value,value1,value2,value3=factor_analysis(df)"
   ]
  },
  {
   "cell_type": "code",
   "execution_count": 9,
   "metadata": {},
   "outputs": [
    {
     "name": "stdout",
     "output_type": "stream",
     "text": [
      "0.230436284696\n"
     ]
    },
    {
     "data": {
      "text/plain": [
       "(43.805940126660495, 323.3298065014946, 44.246797935451418, 1147.7147839123538)"
      ]
     },
     "execution_count": 9,
     "metadata": {},
     "output_type": "execute_result"
    }
   ],
   "source": [
    "mlr_ccn_value(value,value1,value2,value3)"
   ]
  },
  {
   "cell_type": "code",
   "execution_count": 14,
   "metadata": {},
   "outputs": [],
   "source": [
    "cf=df[(df[\"stid\"]==\"31.0121.0\")]"
   ]
  },
  {
   "cell_type": "code",
   "execution_count": 21,
   "metadata": {},
   "outputs": [],
   "source": [
    "cf1=df[(df[\"stid\"]==\"32.5120.0\")]"
   ]
  },
  {
   "cell_type": "code",
   "execution_count": 24,
   "metadata": {},
   "outputs": [],
   "source": [
    "cf2=df[(df[\"stid\"]==\"33.0120.0\")]"
   ]
  },
  {
   "cell_type": "code",
   "execution_count": 12,
   "metadata": {},
   "outputs": [
    {
     "data": {
      "text/html": [
       "<div>\n",
       "<style scoped>\n",
       "    .dataframe tbody tr th:only-of-type {\n",
       "        vertical-align: middle;\n",
       "    }\n",
       "\n",
       "    .dataframe tbody tr th {\n",
       "        vertical-align: top;\n",
       "    }\n",
       "\n",
       "    .dataframe thead th {\n",
       "        text-align: right;\n",
       "    }\n",
       "</style>\n",
       "<table border=\"1\" class=\"dataframe\">\n",
       "  <thead>\n",
       "    <tr style=\"text-align: right;\">\n",
       "      <th></th>\n",
       "      <th>CAPE_nc</th>\n",
       "      <th>CCN_1.0_cm3</th>\n",
       "      <th>CIN0</th>\n",
       "      <th>Cloud_fra</th>\n",
       "      <th>GH1000</th>\n",
       "      <th>GH500</th>\n",
       "      <th>GH700</th>\n",
       "      <th>GH850</th>\n",
       "      <th>H_LCL_nc</th>\n",
       "      <th>H_tro</th>\n",
       "      <th>...</th>\n",
       "      <th>Tskin_NCEP</th>\n",
       "      <th>Ttop1.0</th>\n",
       "      <th>Wb_1.0</th>\n",
       "      <th>stid</th>\n",
       "      <th>PM25</th>\n",
       "      <th>PM25cb</th>\n",
       "      <th>PM10</th>\n",
       "      <th>rain</th>\n",
       "      <th>rain208</th>\n",
       "      <th>rain820</th>\n",
       "    </tr>\n",
       "  </thead>\n",
       "  <tbody>\n",
       "    <tr>\n",
       "      <th>0</th>\n",
       "      <td>5.0</td>\n",
       "      <td>1622.0</td>\n",
       "      <td>-0.61</td>\n",
       "      <td>0.5743</td>\n",
       "      <td>87.970001</td>\n",
       "      <td>5870.669922</td>\n",
       "      <td>3138.550049</td>\n",
       "      <td>1499.560059</td>\n",
       "      <td>1092.2</td>\n",
       "      <td>16511.0</td>\n",
       "      <td>...</td>\n",
       "      <td>30.84</td>\n",
       "      <td>6.0</td>\n",
       "      <td>0.99</td>\n",
       "      <td>29.0120.0</td>\n",
       "      <td>18.000000</td>\n",
       "      <td>5.941307</td>\n",
       "      <td>27.00</td>\n",
       "      <td>0.0</td>\n",
       "      <td>0.0</td>\n",
       "      <td>0.0</td>\n",
       "    </tr>\n",
       "    <tr>\n",
       "      <th>1</th>\n",
       "      <td>12.0</td>\n",
       "      <td>2164.0</td>\n",
       "      <td>-0.01</td>\n",
       "      <td>0.7696</td>\n",
       "      <td>103.300003</td>\n",
       "      <td>5851.430176</td>\n",
       "      <td>3122.830078</td>\n",
       "      <td>1500.099976</td>\n",
       "      <td>981.0</td>\n",
       "      <td>16627.0</td>\n",
       "      <td>...</td>\n",
       "      <td>25.86</td>\n",
       "      <td>-6.0</td>\n",
       "      <td>1.22</td>\n",
       "      <td>31.0121.0</td>\n",
       "      <td>15.250000</td>\n",
       "      <td>2.269237</td>\n",
       "      <td>33.00</td>\n",
       "      <td>0.0</td>\n",
       "      <td>0.0</td>\n",
       "      <td>0.0</td>\n",
       "    </tr>\n",
       "    <tr>\n",
       "      <th>2</th>\n",
       "      <td>23.0</td>\n",
       "      <td>503.0</td>\n",
       "      <td>-0.71</td>\n",
       "      <td>0.5747</td>\n",
       "      <td>112.959999</td>\n",
       "      <td>5848.350098</td>\n",
       "      <td>3123.909912</td>\n",
       "      <td>1499.530029</td>\n",
       "      <td>212.5</td>\n",
       "      <td>16647.0</td>\n",
       "      <td>...</td>\n",
       "      <td>20.60</td>\n",
       "      <td>-24.0</td>\n",
       "      <td>1.28</td>\n",
       "      <td>31.5119.5</td>\n",
       "      <td>21.875000</td>\n",
       "      <td>0.507255</td>\n",
       "      <td>39.25</td>\n",
       "      <td>42.0</td>\n",
       "      <td>0.0</td>\n",
       "      <td>42.0</td>\n",
       "    </tr>\n",
       "    <tr>\n",
       "      <th>3</th>\n",
       "      <td>0.0</td>\n",
       "      <td>153.0</td>\n",
       "      <td>-0.81</td>\n",
       "      <td>0.1157</td>\n",
       "      <td>117.489998</td>\n",
       "      <td>5841.910156</td>\n",
       "      <td>3121.350098</td>\n",
       "      <td>1501.020020</td>\n",
       "      <td>124.0</td>\n",
       "      <td>16669.0</td>\n",
       "      <td>...</td>\n",
       "      <td>19.59</td>\n",
       "      <td>-43.0</td>\n",
       "      <td>2.32</td>\n",
       "      <td>32.0119.0</td>\n",
       "      <td>11.250000</td>\n",
       "      <td>0.029086</td>\n",
       "      <td>30.00</td>\n",
       "      <td>19.5</td>\n",
       "      <td>0.0</td>\n",
       "      <td>19.5</td>\n",
       "    </tr>\n",
       "    <tr>\n",
       "      <th>4</th>\n",
       "      <td>0.0</td>\n",
       "      <td>402.0</td>\n",
       "      <td>-0.21</td>\n",
       "      <td>0.3095</td>\n",
       "      <td>113.699997</td>\n",
       "      <td>5846.069824</td>\n",
       "      <td>3123.209961</td>\n",
       "      <td>1498.010010</td>\n",
       "      <td>124.0</td>\n",
       "      <td>16669.0</td>\n",
       "      <td>...</td>\n",
       "      <td>19.48</td>\n",
       "      <td>-25.0</td>\n",
       "      <td>1.55</td>\n",
       "      <td>32.0118.0</td>\n",
       "      <td>13.333333</td>\n",
       "      <td>0.125628</td>\n",
       "      <td>17.00</td>\n",
       "      <td>211.0</td>\n",
       "      <td>54.0</td>\n",
       "      <td>157.0</td>\n",
       "    </tr>\n",
       "  </tbody>\n",
       "</table>\n",
       "<p>5 rows × 49 columns</p>\n",
       "</div>"
      ],
      "text/plain": [
       "   CAPE_nc  CCN_1.0_cm3  CIN0  Cloud_fra      GH1000        GH500  \\\n",
       "0      5.0       1622.0 -0.61     0.5743   87.970001  5870.669922   \n",
       "1     12.0       2164.0 -0.01     0.7696  103.300003  5851.430176   \n",
       "2     23.0        503.0 -0.71     0.5747  112.959999  5848.350098   \n",
       "3      0.0        153.0 -0.81     0.1157  117.489998  5841.910156   \n",
       "4      0.0        402.0 -0.21     0.3095  113.699997  5846.069824   \n",
       "\n",
       "         GH700        GH850  H_LCL_nc    H_tro  ...  Tskin_NCEP  Ttop1.0  \\\n",
       "0  3138.550049  1499.560059    1092.2  16511.0  ...       30.84      6.0   \n",
       "1  3122.830078  1500.099976     981.0  16627.0  ...       25.86     -6.0   \n",
       "2  3123.909912  1499.530029     212.5  16647.0  ...       20.60    -24.0   \n",
       "3  3121.350098  1501.020020     124.0  16669.0  ...       19.59    -43.0   \n",
       "4  3123.209961  1498.010010     124.0  16669.0  ...       19.48    -25.0   \n",
       "\n",
       "   Wb_1.0       stid       PM25    PM25cb   PM10   rain  rain208  rain820  \n",
       "0    0.99  29.0120.0  18.000000  5.941307  27.00    0.0      0.0      0.0  \n",
       "1    1.22  31.0121.0  15.250000  2.269237  33.00    0.0      0.0      0.0  \n",
       "2    1.28  31.5119.5  21.875000  0.507255  39.25   42.0      0.0     42.0  \n",
       "3    2.32  32.0119.0  11.250000  0.029086  30.00   19.5      0.0     19.5  \n",
       "4    1.55  32.0118.0  13.333333  0.125628  17.00  211.0     54.0    157.0  \n",
       "\n",
       "[5 rows x 49 columns]"
      ]
     },
     "execution_count": 12,
     "metadata": {},
     "output_type": "execute_result"
    }
   ],
   "source": [
    "df.head()"
   ]
  },
  {
   "cell_type": "code",
   "execution_count": 26,
   "metadata": {},
   "outputs": [],
   "source": [
    "cf2.to_csv(\"33.0120.0.csv\")"
   ]
  },
  {
   "cell_type": "code",
   "execution_count": 28,
   "metadata": {},
   "outputs": [
    {
     "name": "stderr",
     "output_type": "stream",
     "text": [
      "/public/home/hysplit/software/anaconda3/lib/python3.6/site-packages/ipykernel_launcher.py:4: SettingWithCopyWarning: \n",
      "A value is trying to be set on a copy of a slice from a DataFrame\n",
      "\n",
      "See the caveats in the documentation: http://pandas.pydata.org/pandas-docs/stable/indexing.html#indexing-view-versus-copy\n",
      "  after removing the cwd from sys.path.\n"
     ]
    },
    {
     "name": "stdout",
     "output_type": "stream",
     "text": [
      "Index(['CAPE_nc', 'CIN0', 'Cloud_fra', 'GH1000', 'GH500', 'GH700', 'GH850',\n",
      "       'H_LCL_nc', 'H_tro', 'Hcbs1.0', 'Htop1.0', 'LTS', 'PBLH', 'PR',\n",
      "       'PTEM700', 'PTEMS', 'PW', 'P_LCL_nc', 'P_tro', 'Pcb1.0', 'Press',\n",
      "       'Ptop1.0', 'RH2m', 'Recb1.0', 'Retop1.0', 'SLI', 'SS_1.0_mg', 'T1000',\n",
      "       'T2m_NCEP', 'T500', 'T700', 'T850', 'T_LCL_nc', 'T_coal1.0', 'T_tro',\n",
      "       'Tcb1.0', 'Tskin_NCEP', 'Ttop1.0', 'Wb_1.0', 'PM25', 'PM25cb', 'PM10'],\n",
      "      dtype='object')\n",
      "    CAPE_nc  CIN0  Cloud_fra     GH1000        GH500        GH700  \\\n",
      "27    577.5 -0.13     0.0696  53.510000  5859.050049  3121.079956   \n",
      "30    756.0  0.29     0.7522  43.340000  5825.660156  3102.570068   \n",
      "36    561.0 -0.13     0.1002  41.709999  5843.180176  3105.870117   \n",
      "44    487.0 -0.03     0.2808  23.450001  5850.339844  3098.639893   \n",
      "60    225.0 -2.14     0.0541 -14.750000  5791.540039  3054.679932   \n",
      "\n",
      "          GH850  H_LCL_nc    H_tro  Hcbs1.0  ...  T_LCL_nc  T_coal1.0  T_tro  \\\n",
      "27  1473.965027    759.35  16972.0    783.5  ...      22.4       22.5 -73.45   \n",
      "30  1458.949951    523.00  17025.0   1079.0  ...      22.3       16.0 -72.00   \n",
      "36  1461.150024    728.90  16442.0    702.0  ...      22.5       23.0 -71.80   \n",
      "44  1445.099976    527.90  16437.0    580.0  ...      23.4        7.0 -73.60   \n",
      "60  1408.719971    662.70  16468.0   1344.0  ...      21.6       13.0 -74.40   \n",
      "\n",
      "    Tcb1.0  Tskin_NCEP  Ttop1.0  Wb_1.0       PM25     PM25cb       PM10  \n",
      "27    22.5       31.58     10.5   0.705  19.333333   7.245620  39.666667  \n",
      "30    18.0       30.07    -12.0   0.970  18.666667   2.976896  44.666667  \n",
      "36    23.0       31.23     -7.0   0.630  26.000000  11.586691  44.000000  \n",
      "44    24.0       30.86      7.0   0.520  33.333333  17.663717  69.000000  \n",
      "60    17.0       31.19    -20.0   1.210  35.000000   4.430730  62.333333  \n",
      "\n",
      "[5 rows x 42 columns]\n"
     ]
    },
    {
     "data": {
      "image/png": "[encoded data removed]",
      "text/plain": [
       "<matplotlib.figure.Figure at 0x2b7f55098a90>"
      ]
     },
     "metadata": {
      "needs_background": "light"
     },
     "output_type": "display_data"
    }
   ],
   "source": [
    "value,value1,value2,value3=factor_analysis(cf2)"
   ]
  },
  {
   "cell_type": "code",
   "execution_count": 23,
   "metadata": {},
   "outputs": [
    {
     "name": "stdout",
     "output_type": "stream",
     "text": [
      "0.90573251468\n"
     ]
    },
    {
     "data": {
      "text/plain": [
       "(-210.81160144180396,\n",
       " -491.8689094527964,\n",
       " 2.0277514195488329,\n",
       " -2492.8265792516345)"
      ]
     },
     "execution_count": 23,
     "metadata": {},
     "output_type": "execute_result"
    }
   ],
   "source": [
    "mlr_ccn_value(value,value1,value2,value3)"
   ]
  },
  {
   "cell_type": "markdown",
   "metadata": {
    "slideshow": {
     "slide_type": "fragment"
    }
   },
   "source": [
    "### 预处理数据"
   ]
  },
  {
   "cell_type": "markdown",
   "metadata": {
    "slideshow": {
     "slide_type": "subslide"
    }
   },
   "source": [
    "# issue\n",
    "同样的问题。解决了安装先前版本的因子分析器的问题：\n",
    "\n",
    "pip install factor_analyzer == 0.3.1\n",
    "\n",
    "非常感谢Avinash教程。\n",
    "\n",
    "by liuchongcn@126.com @NJU 2019-07-08\n",
    "\n",
    "![简书](https://raw.githubusercontent.com/xigrug/xigrug.github.io/master/picture/jianshuQR1.jpg)"
   ]
  }
 ],
 "metadata": {
  "kernelspec": {
   "display_name": "Python 3",
   "language": "python",
   "name": "python3"
  },
  "language_info": {
   "codemirror_mode": {
    "name": "ipython",
    "version": 3
   },
   "file_extension": ".py",
   "mimetype": "text/x-python",
   "name": "python",
   "nbconvert_exporter": "python",
   "pygments_lexer": "ipython3",
   "version": "3.6.0"
  }
 },
 "nbformat": 4,
 "nbformat_minor": 2
}
