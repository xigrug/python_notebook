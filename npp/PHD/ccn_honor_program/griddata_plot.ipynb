{
 "cells": [
  {
   "cell_type": "code",
   "execution_count": 2,
   "metadata": {
    "collapsed": true
   },
   "outputs": [],
   "source": [
    "import numpy as np\n",
    "import pandas as pd\n",
    "from matplotlib.mlab import griddata\n",
    "import matplotlib.pyplot as plt\n"
   ]
  },
  {
   "cell_type": "code",
   "execution_count": 3,
   "metadata": {
    "collapsed": false
   },
   "outputs": [],
   "source": [
    "#-- Read the data.\n",
    "# I'm going to use `pandas` to read in and work with your data, mostly due to\n",
    "# the text site names. Using pandas is optional, however.\n",
    "data = pd.read_csv('test.txt', delim_whitespace=True)"
   ]
  },
  {
   "cell_type": "code",
   "execution_count": 4,
   "metadata": {
    "collapsed": false
   },
   "outputs": [
    {
     "data": {
      "text/html": [
       "<div>\n",
       "<style scoped>\n",
       "    .dataframe tbody tr th:only-of-type {\n",
       "        vertical-align: middle;\n",
       "    }\n",
       "\n",
       "    .dataframe tbody tr th {\n",
       "        vertical-align: top;\n",
       "    }\n",
       "\n",
       "    .dataframe thead th {\n",
       "        text-align: right;\n",
       "    }\n",
       "</style>\n",
       "<table border=\"1\" class=\"dataframe\">\n",
       "  <thead>\n",
       "    <tr style=\"text-align: right;\">\n",
       "      <th></th>\n",
       "      <th>Lon</th>\n",
       "      <th>Lat</th>\n",
       "      <th>Z</th>\n",
       "      <th>Z2</th>\n",
       "      <th>pos</th>\n",
       "    </tr>\n",
       "  </thead>\n",
       "  <tbody>\n",
       "    <tr>\n",
       "      <th>0</th>\n",
       "      <td>32.6</td>\n",
       "      <td>-13.6</td>\n",
       "      <td>41</td>\n",
       "      <td>9</td>\n",
       "      <td>CHIP</td>\n",
       "    </tr>\n",
       "    <tr>\n",
       "      <th>1</th>\n",
       "      <td>27.1</td>\n",
       "      <td>-16.9</td>\n",
       "      <td>43</td>\n",
       "      <td>12</td>\n",
       "      <td>CHOM</td>\n",
       "    </tr>\n",
       "    <tr>\n",
       "      <th>2</th>\n",
       "      <td>32.7</td>\n",
       "      <td>-10.2</td>\n",
       "      <td>46</td>\n",
       "      <td>14</td>\n",
       "      <td>ISOK</td>\n",
       "    </tr>\n",
       "    <tr>\n",
       "      <th>3</th>\n",
       "      <td>24.2</td>\n",
       "      <td>-13.6</td>\n",
       "      <td>33</td>\n",
       "      <td>13</td>\n",
       "      <td>KABO</td>\n",
       "    </tr>\n",
       "    <tr>\n",
       "      <th>4</th>\n",
       "      <td>28.5</td>\n",
       "      <td>-14.4</td>\n",
       "      <td>43</td>\n",
       "      <td>11</td>\n",
       "      <td>KABW</td>\n",
       "    </tr>\n",
       "  </tbody>\n",
       "</table>\n",
       "</div>"
      ],
      "text/plain": [
       "    Lon   Lat   Z  Z2   pos\n",
       "0  32.6 -13.6  41   9  CHIP\n",
       "1  27.1 -16.9  43  12  CHOM\n",
       "2  32.7 -10.2  46  14  ISOK\n",
       "3  24.2 -13.6  33  13  KABO\n",
       "4  28.5 -14.4  43  11  KABW"
      ]
     },
     "execution_count": 4,
     "metadata": {},
     "output_type": "execute_result"
    }
   ],
   "source": [
    "data.head()"
   ]
  },
  {
   "cell_type": "code",
   "execution_count": 5,
   "metadata": {
    "collapsed": true
   },
   "outputs": [
    {
     "name": "stderr",
     "output_type": "stream",
     "text": [
      "/data/c03n02/cliu/soft/anaconda2/envs/py3/lib/python3.6/site-packages/ipykernel_launcher.py:15: MatplotlibDeprecationWarning: The griddata function was deprecated in Matplotlib 2.2 and will be removed in 3.1. Use scipy.interpolate.griddata instead.\n",
      "  from ipykernel import kernelapp as app\n"
     ]
    },
    {
     "data": {
      "image/png": "[encoded data removed]",
      "text/plain": [
       "<Figure size 432x288 with 2 Axes>"
      ]
     },
     "metadata": {
      "needs_background": "light"
     },
     "output_type": "display_data"
    }
   ],
   "source": [
    "%matplotlib inline\n",
    "#-- Now let's grid your data.\n",
    "# First we'll make a regular grid to interpolate onto. This is equivalent to\n",
    "# your call to `mgrid`, but it's broken down a bit to make it easier to\n",
    "# understand. The \"30j\" in mgrid refers to 30 rows or columns.\n",
    "numcols, numrows = 30, 30\n",
    "xi = np.linspace(data.Lon.min(), data.Lon.max(), numcols)\n",
    "yi = np.linspace(data.Lat.min(), data.Lat.max(), numrows)\n",
    "xi, yi = np.meshgrid(xi, yi)\n",
    "\n",
    "#-- Interpolate at the points in xi, yi\n",
    "# \"griddata\" expects \"raw\" numpy arrays, so we'll pass in\n",
    "# data.x.values instead of just the pandas series data.x\n",
    "x, y, z = data.Lon.values, data.Lat.values, data.Z.values\n",
    "zi = griddata(x, y, z, xi, yi,interp='linear')\n",
    "\n",
    "#-- Display the results\n",
    "fig, ax = plt.subplots()\n",
    "im = ax.contourf(xi, yi, zi)\n",
    "ax.scatter(data.Lon, data.Lat, c=data.Z, s=100,\n",
    "           vmin=zi.min(), vmax=zi.max())\n",
    "fig.colorbar(im)\n",
    "\n",
    "plt.show()"
   ]
  },
  {
   "cell_type": "code",
   "execution_count": 8,
   "metadata": {
    "collapsed": false
   },
   "outputs": [
    {
     "name": "stdout",
     "output_type": "stream",
     "text": [
      "[41 43 46 33 43 33 46 44 35 24 10 39 44 46 47 31 39 45 31 39 42 15 39 44\n",
      " 39 38 32 23 27]\n"
     ]
    }
   ],
   "source": [
    "print(z)"
   ]
  },
  {
   "cell_type": "code",
   "execution_count": 9,
   "metadata": {
    "collapsed": false
   },
   "outputs": [
    {
     "name": "stdout",
     "output_type": "stream",
     "text": [
      "[32.6 27.1 32.7 24.2 28.5 28.1 27.9 24.8 31.1 25.9 29.1 25.8 33.2 28.3\n",
      " 27.6 28.9 31.3 31.9 23.1 31.4 27.1 24.4 28.6 31.3 23.3 30.2 24.3 26.4\n",
      " 23.1]\n"
     ]
    }
   ],
   "source": [
    "print(x)"
   ]
  },
  {
   "cell_type": "code",
   "execution_count": 10,
   "metadata": {
    "collapsed": true
   },
   "outputs": [
    {
     "name": "stdout",
     "output_type": "stream",
     "text": [
      "[-13.6 -16.9 -10.2 -13.6 -14.4 -12.6 -15.8 -14.8 -10.2 -13.5  -9.8 -17.8\n",
      " -12.3 -15.4 -16.1 -11.1  -8.9 -13.3 -15.3 -11.9 -15.  -11.8 -13.  -14.3\n",
      " -16.1 -13.2 -17.5 -12.2 -13.5]\n"
     ]
    }
   ],
   "source": [
    "print(y)"
   ]
  },
  {
   "cell_type": "code",
   "execution_count": 11,
   "metadata": {
    "collapsed": false
   },
   "outputs": [
    {
     "name": "stdout",
     "output_type": "stream",
     "text": [
      "[[23.1        23.44827586 23.79655172 24.14482759 24.49310345 24.84137931\n",
      "  25.18965517 25.53793103 25.8862069  26.23448276 26.58275862 26.93103448\n",
      "  27.27931034 27.62758621 27.97586207 28.32413793 28.67241379 29.02068966\n",
      "  29.36896552 29.71724138 30.06551724 30.4137931  30.76206897 31.11034483\n",
      "  31.45862069 31.80689655 32.15517241 32.50344828 32.85172414 33.2       ]\n",
      " [23.1        23.44827586 23.79655172 24.14482759 24.49310345 24.84137931\n",
      "  25.18965517 25.53793103 25.8862069  26.23448276 26.58275862 26.93103448\n",
      "  27.27931034 27.62758621 27.97586207 28.32413793 28.67241379 29.02068966\n",
      "  29.36896552 29.71724138 30.06551724 30.4137931  30.76206897 31.11034483\n",
      "  31.45862069 31.80689655 32.15517241 32.50344828 32.85172414 33.2       ]\n",
      " [23.1        23.44827586 23.79655172 24.14482759 24.49310345 24.84137931\n",
      "  25.18965517 25.53793103 25.8862069  26.23448276 26.58275862 26.93103448\n",
      "  27.27931034 27.62758621 27.97586207 28.32413793 28.67241379 29.02068966\n",
      "  29.36896552 29.71724138 30.06551724 30.4137931  30.76206897 31.11034483\n",
      "  31.45862069 31.80689655 32.15517241 32.50344828 32.85172414 33.2       ]\n",
      " [23.1        23.44827586 23.79655172 24.14482759 24.49310345 24.84137931\n",
      "  25.18965517 25.53793103 25.8862069  26.23448276 26.58275862 26.93103448\n",
      "  27.27931034 27.62758621 27.97586207 28.32413793 28.67241379 29.02068966\n",
      "  29.36896552 29.71724138 30.06551724 30.4137931  30.76206897 31.11034483\n",
      "  31.45862069 31.80689655 32.15517241 32.50344828 32.85172414 33.2       ]\n",
      " [23.1        23.44827586 23.79655172 24.14482759 24.49310345 24.84137931\n",
      "  25.18965517 25.53793103 25.8862069  26.23448276 26.58275862 26.93103448\n",
      "  27.27931034 27.62758621 27.97586207 28.32413793 28.67241379 29.02068966\n",
      "  29.36896552 29.71724138 30.06551724 30.4137931  30.76206897 31.11034483\n",
      "  31.45862069 31.80689655 32.15517241 32.50344828 32.85172414 33.2       ]\n",
      " [23.1        23.44827586 23.79655172 24.14482759 24.49310345 24.84137931\n",
      "  25.18965517 25.53793103 25.8862069  26.23448276 26.58275862 26.93103448\n",
      "  27.27931034 27.62758621 27.97586207 28.32413793 28.67241379 29.02068966\n",
      "  29.36896552 29.71724138 30.06551724 30.4137931  30.76206897 31.11034483\n",
      "  31.45862069 31.80689655 32.15517241 32.50344828 32.85172414 33.2       ]\n",
      " [23.1        23.44827586 23.79655172 24.14482759 24.49310345 24.84137931\n",
      "  25.18965517 25.53793103 25.8862069  26.23448276 26.58275862 26.93103448\n",
      "  27.27931034 27.62758621 27.97586207 28.32413793 28.67241379 29.02068966\n",
      "  29.36896552 29.71724138 30.06551724 30.4137931  30.76206897 31.11034483\n",
      "  31.45862069 31.80689655 32.15517241 32.50344828 32.85172414 33.2       ]\n",
      " [23.1        23.44827586 23.79655172 24.14482759 24.49310345 24.84137931\n",
      "  25.18965517 25.53793103 25.8862069  26.23448276 26.58275862 26.93103448\n",
      "  27.27931034 27.62758621 27.97586207 28.32413793 28.67241379 29.02068966\n",
      "  29.36896552 29.71724138 30.06551724 30.4137931  30.76206897 31.11034483\n",
      "  31.45862069 31.80689655 32.15517241 32.50344828 32.85172414 33.2       ]\n",
      " [23.1        23.44827586 23.79655172 24.14482759 24.49310345 24.84137931\n",
      "  25.18965517 25.53793103 25.8862069  26.23448276 26.58275862 26.93103448\n",
      "  27.27931034 27.62758621 27.97586207 28.32413793 28.67241379 29.02068966\n",
      "  29.36896552 29.71724138 30.06551724 30.4137931  30.76206897 31.11034483\n",
      "  31.45862069 31.80689655 32.15517241 32.50344828 32.85172414 33.2       ]\n",
      " [23.1        23.44827586 23.79655172 24.14482759 24.49310345 24.84137931\n",
      "  25.18965517 25.53793103 25.8862069  26.23448276 26.58275862 26.93103448\n",
      "  27.27931034 27.62758621 27.97586207 28.32413793 28.67241379 29.02068966\n",
      "  29.36896552 29.71724138 30.06551724 30.4137931  30.76206897 31.11034483\n",
      "  31.45862069 31.80689655 32.15517241 32.50344828 32.85172414 33.2       ]\n",
      " [23.1        23.44827586 23.79655172 24.14482759 24.49310345 24.84137931\n",
      "  25.18965517 25.53793103 25.8862069  26.23448276 26.58275862 26.93103448\n",
      "  27.27931034 27.62758621 27.97586207 28.32413793 28.67241379 29.02068966\n",
      "  29.36896552 29.71724138 30.06551724 30.4137931  30.76206897 31.11034483\n",
      "  31.45862069 31.80689655 32.15517241 32.50344828 32.85172414 33.2       ]\n",
      " [23.1        23.44827586 23.79655172 24.14482759 24.49310345 24.84137931\n",
      "  25.18965517 25.53793103 25.8862069  26.23448276 26.58275862 26.93103448\n",
      "  27.27931034 27.62758621 27.97586207 28.32413793 28.67241379 29.02068966\n",
      "  29.36896552 29.71724138 30.06551724 30.4137931  30.76206897 31.11034483\n",
      "  31.45862069 31.80689655 32.15517241 32.50344828 32.85172414 33.2       ]\n",
      " [23.1        23.44827586 23.79655172 24.14482759 24.49310345 24.84137931\n",
      "  25.18965517 25.53793103 25.8862069  26.23448276 26.58275862 26.93103448\n",
      "  27.27931034 27.62758621 27.97586207 28.32413793 28.67241379 29.02068966\n",
      "  29.36896552 29.71724138 30.06551724 30.4137931  30.76206897 31.11034483\n",
      "  31.45862069 31.80689655 32.15517241 32.50344828 32.85172414 33.2       ]\n",
      " [23.1        23.44827586 23.79655172 24.14482759 24.49310345 24.84137931\n",
      "  25.18965517 25.53793103 25.8862069  26.23448276 26.58275862 26.93103448\n",
      "  27.27931034 27.62758621 27.97586207 28.32413793 28.67241379 29.02068966\n",
      "  29.36896552 29.71724138 30.06551724 30.4137931  30.76206897 31.11034483\n",
      "  31.45862069 31.80689655 32.15517241 32.50344828 32.85172414 33.2       ]\n",
      " [23.1        23.44827586 23.79655172 24.14482759 24.49310345 24.84137931\n",
      "  25.18965517 25.53793103 25.8862069  26.23448276 26.58275862 26.93103448\n",
      "  27.27931034 27.62758621 27.97586207 28.32413793 28.67241379 29.02068966\n",
      "  29.36896552 29.71724138 30.06551724 30.4137931  30.76206897 31.11034483\n",
      "  31.45862069 31.80689655 32.15517241 32.50344828 32.85172414 33.2       ]\n",
      " [23.1        23.44827586 23.79655172 24.14482759 24.49310345 24.84137931\n",
      "  25.18965517 25.53793103 25.8862069  26.23448276 26.58275862 26.93103448\n",
      "  27.27931034 27.62758621 27.97586207 28.32413793 28.67241379 29.02068966\n",
      "  29.36896552 29.71724138 30.06551724 30.4137931  30.76206897 31.11034483\n",
      "  31.45862069 31.80689655 32.15517241 32.50344828 32.85172414 33.2       ]\n",
      " [23.1        23.44827586 23.79655172 24.14482759 24.49310345 24.84137931\n",
      "  25.18965517 25.53793103 25.8862069  26.23448276 26.58275862 26.93103448\n",
      "  27.27931034 27.62758621 27.97586207 28.32413793 28.67241379 29.02068966\n",
      "  29.36896552 29.71724138 30.06551724 30.4137931  30.76206897 31.11034483\n",
      "  31.45862069 31.80689655 32.15517241 32.50344828 32.85172414 33.2       ]\n",
      " [23.1        23.44827586 23.79655172 24.14482759 24.49310345 24.84137931\n",
      "  25.18965517 25.53793103 25.8862069  26.23448276 26.58275862 26.93103448\n",
      "  27.27931034 27.62758621 27.97586207 28.32413793 28.67241379 29.02068966\n",
      "  29.36896552 29.71724138 30.06551724 30.4137931  30.76206897 31.11034483\n",
      "  31.45862069 31.80689655 32.15517241 32.50344828 32.85172414 33.2       ]\n",
      " [23.1        23.44827586 23.79655172 24.14482759 24.49310345 24.84137931\n",
      "  25.18965517 25.53793103 25.8862069  26.23448276 26.58275862 26.93103448\n",
      "  27.27931034 27.62758621 27.97586207 28.32413793 28.67241379 29.02068966\n",
      "  29.36896552 29.71724138 30.06551724 30.4137931  30.76206897 31.11034483\n",
      "  31.45862069 31.80689655 32.15517241 32.50344828 32.85172414 33.2       ]\n",
      " [23.1        23.44827586 23.79655172 24.14482759 24.49310345 24.84137931\n",
      "  25.18965517 25.53793103 25.8862069  26.23448276 26.58275862 26.93103448\n",
      "  27.27931034 27.62758621 27.97586207 28.32413793 28.67241379 29.02068966\n",
      "  29.36896552 29.71724138 30.06551724 30.4137931  30.76206897 31.11034483\n",
      "  31.45862069 31.80689655 32.15517241 32.50344828 32.85172414 33.2       ]\n",
      " [23.1        23.44827586 23.79655172 24.14482759 24.49310345 24.84137931\n",
      "  25.18965517 25.53793103 25.8862069  26.23448276 26.58275862 26.93103448\n",
      "  27.27931034 27.62758621 27.97586207 28.32413793 28.67241379 29.02068966\n",
      "  29.36896552 29.71724138 30.06551724 30.4137931  30.76206897 31.11034483\n",
      "  31.45862069 31.80689655 32.15517241 32.50344828 32.85172414 33.2       ]\n",
      " [23.1        23.44827586 23.79655172 24.14482759 24.49310345 24.84137931\n",
      "  25.18965517 25.53793103 25.8862069  26.23448276 26.58275862 26.93103448\n",
      "  27.27931034 27.62758621 27.97586207 28.32413793 28.67241379 29.02068966\n",
      "  29.36896552 29.71724138 30.06551724 30.4137931  30.76206897 31.11034483\n",
      "  31.45862069 31.80689655 32.15517241 32.50344828 32.85172414 33.2       ]\n",
      " [23.1        23.44827586 23.79655172 24.14482759 24.49310345 24.84137931\n",
      "  25.18965517 25.53793103 25.8862069  26.23448276 26.58275862 26.93103448\n",
      "  27.27931034 27.62758621 27.97586207 28.32413793 28.67241379 29.02068966\n",
      "  29.36896552 29.71724138 30.06551724 30.4137931  30.76206897 31.11034483\n",
      "  31.45862069 31.80689655 32.15517241 32.50344828 32.85172414 33.2       ]\n",
      " [23.1        23.44827586 23.79655172 24.14482759 24.49310345 24.84137931\n",
      "  25.18965517 25.53793103 25.8862069  26.23448276 26.58275862 26.93103448\n",
      "  27.27931034 27.62758621 27.97586207 28.32413793 28.67241379 29.02068966\n",
      "  29.36896552 29.71724138 30.06551724 30.4137931  30.76206897 31.11034483\n",
      "  31.45862069 31.80689655 32.15517241 32.50344828 32.85172414 33.2       ]\n",
      " [23.1        23.44827586 23.79655172 24.14482759 24.49310345 24.84137931\n",
      "  25.18965517 25.53793103 25.8862069  26.23448276 26.58275862 26.93103448\n",
      "  27.27931034 27.62758621 27.97586207 28.32413793 28.67241379 29.02068966\n",
      "  29.36896552 29.71724138 30.06551724 30.4137931  30.76206897 31.11034483\n",
      "  31.45862069 31.80689655 32.15517241 32.50344828 32.85172414 33.2       ]\n",
      " [23.1        23.44827586 23.79655172 24.14482759 24.49310345 24.84137931\n",
      "  25.18965517 25.53793103 25.8862069  26.23448276 26.58275862 26.93103448\n",
      "  27.27931034 27.62758621 27.97586207 28.32413793 28.67241379 29.02068966\n",
      "  29.36896552 29.71724138 30.06551724 30.4137931  30.76206897 31.11034483\n",
      "  31.45862069 31.80689655 32.15517241 32.50344828 32.85172414 33.2       ]\n",
      " [23.1        23.44827586 23.79655172 24.14482759 24.49310345 24.84137931\n",
      "  25.18965517 25.53793103 25.8862069  26.23448276 26.58275862 26.93103448\n",
      "  27.27931034 27.62758621 27.97586207 28.32413793 28.67241379 29.02068966\n",
      "  29.36896552 29.71724138 30.06551724 30.4137931  30.76206897 31.11034483\n",
      "  31.45862069 31.80689655 32.15517241 32.50344828 32.85172414 33.2       ]\n",
      " [23.1        23.44827586 23.79655172 24.14482759 24.49310345 24.84137931\n",
      "  25.18965517 25.53793103 25.8862069  26.23448276 26.58275862 26.93103448\n",
      "  27.27931034 27.62758621 27.97586207 28.32413793 28.67241379 29.02068966\n",
      "  29.36896552 29.71724138 30.06551724 30.4137931  30.76206897 31.11034483\n",
      "  31.45862069 31.80689655 32.15517241 32.50344828 32.85172414 33.2       ]\n",
      " [23.1        23.44827586 23.79655172 24.14482759 24.49310345 24.84137931\n",
      "  25.18965517 25.53793103 25.8862069  26.23448276 26.58275862 26.93103448\n",
      "  27.27931034 27.62758621 27.97586207 28.32413793 28.67241379 29.02068966\n",
      "  29.36896552 29.71724138 30.06551724 30.4137931  30.76206897 31.11034483\n",
      "  31.45862069 31.80689655 32.15517241 32.50344828 32.85172414 33.2       ]\n",
      " [23.1        23.44827586 23.79655172 24.14482759 24.49310345 24.84137931\n",
      "  25.18965517 25.53793103 25.8862069  26.23448276 26.58275862 26.93103448\n",
      "  27.27931034 27.62758621 27.97586207 28.32413793 28.67241379 29.02068966\n",
      "  29.36896552 29.71724138 30.06551724 30.4137931  30.76206897 31.11034483\n",
      "  31.45862069 31.80689655 32.15517241 32.50344828 32.85172414 33.2       ]]\n"
     ]
    }
   ],
   "source": [
    "print(xi)"
   ]
  },
  {
   "cell_type": "code",
   "execution_count": 6,
   "metadata": {
    "collapsed": false,
    "scrolled": true
   },
   "outputs": [
    {
     "name": "stdout",
     "output_type": "stream",
     "text": [
      "[[        nan         nan         nan         nan         nan         nan\n",
      "          nan         nan         nan         nan         nan         nan\n",
      "          nan         nan         nan         nan         nan         nan\n",
      "          nan         nan         nan         nan         nan         nan\n",
      "          nan         nan         nan         nan         nan         nan]\n",
      " [        nan         nan         nan         nan 33.24030048 35.44891546\n",
      "  37.50610709 39.06397966 39.81323541 40.56381056         nan         nan\n",
      "          nan         nan         nan         nan         nan         nan\n",
      "          nan         nan         nan         nan         nan         nan\n",
      "          nan         nan         nan         nan         nan         nan]\n",
      " [        nan         nan         nan 34.76851924 36.31339797 37.91310859\n",
      "  39.33951134 40.29982643 40.5774464  40.828661   41.47853142         nan\n",
      "          nan         nan         nan         nan         nan         nan\n",
      "          nan         nan         nan         nan         nan         nan\n",
      "          nan         nan         nan         nan         nan         nan]\n",
      " [        nan         nan         nan 37.61669802 39.02769608 40.20578717\n",
      "  41.02102707 41.56482887 41.59694674 41.76063354 42.30411269 42.89324118\n",
      "  43.88936818         nan         nan         nan         nan         nan\n",
      "          nan         nan         nan         nan         nan         nan\n",
      "          nan         nan         nan         nan         nan         nan]\n",
      " [        nan         nan 39.36877208 39.92815458 41.26195916 42.17973397\n",
      "  42.48907228 42.77322656 42.87069768 43.35149947 43.96652493 44.0828259\n",
      "  45.04040806 44.53538621         nan         nan         nan         nan\n",
      "          nan         nan         nan         nan         nan         nan\n",
      "          nan         nan         nan         nan         nan         nan]\n",
      " [        nan 39.83290148 40.61446396 41.64593243 42.98084271 43.7315711\n",
      "  43.71820122 43.91666129 44.35332455 44.88980513 44.85744462 44.63214187\n",
      "  45.84674305 45.69330152 45.11152378         nan         nan         nan\n",
      "          nan         nan         nan         nan         nan         nan\n",
      "          nan         nan         nan         nan         nan         nan]\n",
      " [        nan 39.28012382 41.13017903 42.71504126 44.16521859 44.81856019\n",
      "  44.68007613 45.00370287 45.53789594 45.43765624 44.93216539 44.68631026\n",
      "  45.81347643 46.72586253 46.10208628 45.53719657 46.26757397         nan\n",
      "          nan         nan         nan         nan         nan         nan\n",
      "          nan         nan         nan         nan         nan         nan]\n",
      " [        nan 37.94176393 40.88705936 43.11309714 44.76791237 45.39829638\n",
      "  45.31418843 45.80327528 45.71447384 45.09533311 44.45947544 44.25480622\n",
      "  45.22490131 45.55352728 45.81325732 45.84785274 45.5932902  45.14836161\n",
      "          nan         nan         nan         nan         nan         nan\n",
      "          nan         nan         nan         nan         nan         nan]\n",
      " [        nan 36.32447994 40.23765136 42.84755369 44.7415934  45.4283748\n",
      "  45.57842108 45.58018986 44.92894943 44.12680466 43.5053271  43.34710493\n",
      "  44.07347083 44.45034953 45.13445446 45.91005983 46.17257997 45.31270878\n",
      "  44.90311243 45.87782394         nan         nan         nan         nan\n",
      "          nan         nan         nan         nan         nan         nan]\n",
      " [29.71428024 34.64057876 38.94480794 42.30702625 44.12530584 44.87382066\n",
      "  44.92709675 44.35453943 43.50544264 42.64895176 42.04892476 41.96921964\n",
      "  42.55268823 43.32098883 44.16108273 44.96846384 45.58664756 46.03358626\n",
      "  45.94411801 44.73602461 44.64789471         nan         nan         nan\n",
      "          nan         nan         nan         nan         nan         nan]\n",
      " [28.86572296 33.21684482 37.38753621 40.67754828 42.88984517 43.62347379\n",
      "  43.18762072 42.28340066 41.15007758 40.0493843  39.24720159 39.62685972\n",
      "  40.968077   42.13265821 43.15981414 43.91150782 44.40451938 44.7258685\n",
      "  44.96527298 45.12408248 45.03421344 44.26706816 44.77621931         nan\n",
      "          nan         nan         nan         nan         nan         nan]\n",
      " [28.4555634  32.07362148 35.85379947 38.97766404 41.01558725 41.14270266\n",
      "  39.67573911 38.19819092 36.66382164 35.36324655 35.24359124 36.87273532\n",
      "  39.10007314 40.5094245  41.87661789 42.8312157  43.22837757 43.43208565\n",
      "  43.55326339 43.6310118  43.70443185 43.81262454 43.99012312 44.12995467\n",
      "          nan         nan         nan         nan         nan         nan]\n",
      " [28.199498   31.19290478 34.30133364 36.90449506 38.4478484  37.7062806\n",
      "  35.48623344 33.52689568 31.78364334 30.75529535 31.65427738 33.90971866\n",
      "  36.81750271 38.65579235 40.31104622 41.56945495 42.22299894 42.03303031\n",
      "  42.1939283  42.38474797 42.53800774 42.68648948 42.87857489 43.24689003\n",
      "  43.94069289         nan         nan         nan         nan         nan]\n",
      " [27.81322317 30.3374713  32.79303725 34.56644588 35.17788929 33.74528059\n",
      "  31.4176088  29.04420787 27.38376822 26.96588863 28.30641165 30.86169499\n",
      "  34.18244702 36.74546345 38.62898651 40.24537415 41.67278862 40.93334146\n",
      "  40.37998485 40.46131353 40.6592038  40.93958097 41.40036422 42.57510689\n",
      "  44.05939853 44.13710755 42.59506736         nan         nan         nan]\n",
      " [27.01243533 28.92455988 30.77879656 32.03552004 31.96704627 30.36885538\n",
      "  28.00899489 25.65259097 24.06485833 23.94806657 25.31140703 27.86779721\n",
      "  31.32358208 34.69859694 36.91528773 38.92235511 41.02658982 40.72262131\n",
      "  39.60850021 38.83592289 38.99923609 39.39620651 40.4566762  42.39040905\n",
      "  44.11033736 44.85173478 43.93610085 42.11671465         nan         nan]\n",
      " [        nan 26.82461456 28.16195279 29.14731456 29.06307811 27.33601503\n",
      "  24.94334621 22.78086263 22.16350852 22.12917509 22.99107651 25.31607433\n",
      "  28.5468947  32.32906004 35.19127649 37.78652525 40.08510357 40.18496611\n",
      "  39.41195661 38.43662982 37.9236607  38.49462768 40.08251883 42.08798435\n",
      "  43.89907757 44.90312196 44.78135324 43.54992347         nan         nan]\n",
      " [        nan         nan 25.2822617  26.05498665 25.98278258 24.13372852\n",
      "  21.89432305 20.89434817 21.33470847 21.85700901 22.69833528 24.17773093\n",
      "  26.61629758 29.97765349 33.4781586  36.53939869 38.71469775 39.07580514\n",
      "  38.45496618 37.52683777 37.19571758 37.64742223 38.92571081 41.06679365\n",
      "  43.07943178 44.21000074 44.5478298  44.34398807 43.18626157         nan]\n",
      " [        nan         nan         nan 22.86559201 22.79523474 20.99683074\n",
      "  19.74048579 20.16747661 21.13064822 22.09724498 23.25150529 24.83126813\n",
      "  26.78775622 29.12384056 31.84610211 34.97319498 37.3885688  37.91893483\n",
      "  37.3712702  36.60493872 36.73188    37.15152619 37.99352179 39.73009337\n",
      "  41.86939772 43.03946552 43.63697424 43.95774634 43.93857517         nan]\n",
      " [        nan         nan         nan 19.70036193 19.60026587 18.4023466\n",
      "  18.75497338 19.86113158 21.07931197 22.34702115 23.70085202 25.15588031\n",
      "  26.79807662 28.68681698 30.87121811 33.4756466  36.14364793 36.81843673\n",
      "  36.31239587 36.09948479 36.34708011 36.78169332 37.52383719 38.68222458\n",
      "  40.55654873 41.70296144 42.47751236 43.12758876 43.64587595         nan]\n",
      " [        nan         nan         nan         nan 16.51275273 16.72205844\n",
      "  17.55827993 18.71244586 20.10295016 21.64089867 23.26676657 25.3647355\n",
      "  27.16300646 28.79725106 30.45238242 32.38358904 34.83042001 35.67713168\n",
      "  35.39157743 35.58854052 35.93778009 36.43020761 37.12095294 38.08943751\n",
      "  39.42267187 40.69225169 41.85367562 42.86653932 43.70687989         nan]\n",
      " [        nan         nan         nan         nan         nan 13.68446645\n",
      "  14.40745964 15.5779604  17.08396776 18.83655629 20.74923477 22.92698507\n",
      "  25.86310007 28.52038546 30.31010138 31.64508328 33.34777524 34.36943837\n",
      "  34.51170505 34.89539641 35.30968094 35.78535958 36.40459534 37.33200124\n",
      "  38.7238708  40.25459203 41.65307959 42.90537545 43.9767579          nan]\n",
      " [        nan         nan         nan         nan         nan         nan\n",
      "          nan 10.96784246 12.21639055 14.12380804 16.37223153 18.8339911\n",
      "  21.58656852 25.01616658 28.44768068 30.71370472 31.89531946 32.8013824\n",
      "  33.30564924 33.71173583 34.11935919 34.67101017 35.44923973 36.57916855\n",
      "  38.21912612 39.97350399 41.61921978 43.10278989 44.38456523         nan]\n",
      " [        nan         nan         nan         nan         nan         nan\n",
      "          nan         nan         nan  8.77856818 10.62148504 13.22858814\n",
      "  16.24828817 19.51655202 23.32791646 27.04146193 29.62317258 30.88285531\n",
      "  31.55934173 32.18531223 32.84363812 33.61715765 34.6039901  35.99153301\n",
      "  37.87433014 39.82856438 41.70532875 43.41849952 44.91373449         nan]\n",
      " [        nan         nan         nan         nan         nan         nan\n",
      "          nan         nan         nan         nan         nan  7.3204998\n",
      "   9.86810844 13.26316109 16.98797066 21.11797737 24.91401932 27.657116\n",
      "  29.31161297 30.50449416 31.52849858 32.62756936 33.89120278 35.55073309\n",
      "  37.66892392 39.8179769  41.89927373 43.83693598         nan         nan]\n",
      " [        nan         nan         nan         nan         nan         nan\n",
      "          nan         nan         nan         nan         nan         nan\n",
      "          nan  6.79749354 10.16011695 14.27185952 18.65353437 22.53514698\n",
      "  25.43426247 27.66720459 29.67602386 31.51474596 33.25554922 35.23814543\n",
      "  37.5819518  39.92528036 42.20001006 44.34440227         nan         nan]\n",
      " [        nan         nan         nan         nan         nan         nan\n",
      "          nan         nan         nan         nan         nan         nan\n",
      "          nan         nan         nan         nan 11.63925372 16.1976465\n",
      "  20.05431346 23.29602345 26.39330558 29.3740712  32.25447997 35.03849248\n",
      "  37.59762715 40.14059882 42.61318815 44.95467613         nan         nan]\n",
      " [        nan         nan         nan         nan         nan         nan\n",
      "          nan         nan         nan         nan         nan         nan\n",
      "          nan         nan         nan         nan         nan         nan\n",
      "  14.0741618  18.64953045 23.08484434 27.35485523 31.42969753 35.01158618\n",
      "  37.97318285 40.79132646 43.50938575         nan         nan         nan]\n",
      " [        nan         nan         nan         nan         nan         nan\n",
      "          nan         nan         nan         nan         nan         nan\n",
      "          nan         nan         nan         nan         nan         nan\n",
      "          nan         nan 20.67871574 26.01238247 30.93834948 35.20545613\n",
      "  38.65047882 41.83735557         nan         nan         nan         nan]\n",
      " [        nan         nan         nan         nan         nan         nan\n",
      "          nan         nan         nan         nan         nan         nan\n",
      "          nan         nan         nan         nan         nan         nan\n",
      "          nan         nan         nan         nan 30.70279211 35.65286252\n",
      "  39.63157622         nan         nan         nan         nan         nan]\n",
      " [        nan         nan         nan         nan         nan         nan\n",
      "          nan         nan         nan         nan         nan         nan\n",
      "          nan         nan         nan         nan         nan         nan\n",
      "          nan         nan         nan         nan         nan         nan\n",
      "          nan         nan         nan         nan         nan         nan]]\n"
     ]
    },
    {
     "name": "stderr",
     "output_type": "stream",
     "text": [
      "/data/c03n02/cliu/soft/anaconda2/envs/py3/lib/python3.6/site-packages/matplotlib/colors.py:512: RuntimeWarning: invalid value encountered in less\n",
      "  xa[xa < 0] = -1\n"
     ]
    },
    {
     "data": {
      "image/png": "[encoded data removed]",
      "text/plain": [
       "<Figure size 432x288 with 2 Axes>"
      ]
     },
     "metadata": {
      "needs_background": "light"
     },
     "output_type": "display_data"
    }
   ],
   "source": [
    "from scipy.interpolate import griddata\n",
    "zi= griddata((x, y), z, (xi, yi),method='cubic')\n",
    "print(zi)\n",
    "#-- Display the results\n",
    "fig, ax = plt.subplots()\n",
    "im = ax.contourf(xi, yi, zi)\n",
    "ax.scatter(data.Lon, data.Lat, c=data.Z, s=100,\n",
    "           vmin=zi.min(), vmax=zi.max())\n",
    "fig.colorbar(im)\n",
    "\n",
    "plt.show()"
   ]
  },
  {
   "cell_type": "code",
   "execution_count": null,
   "metadata": {
    "collapsed": true
   },
   "outputs": [],
   "source": []
  }
 ],
 "metadata": {
  "kernelspec": {
   "display_name": "Python PY3",
   "language": "python",
   "name": "py3"
  },
  "language_info": {
   "codemirror_mode": {
    "name": "ipython",
    "version": 3
   },
   "file_extension": ".py",
   "mimetype": "text/x-python",
   "name": "python",
   "nbconvert_exporter": "python",
   "pygments_lexer": "ipython3",
   "version": "3.6.7"
  }
 },
 "nbformat": 4,
 "nbformat_minor": 2
}
