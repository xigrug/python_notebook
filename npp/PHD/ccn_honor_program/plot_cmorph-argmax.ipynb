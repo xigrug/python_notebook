{
 "cells": [
  {
   "cell_type": "markdown",
   "metadata": {},
   "source": [
    "https://github.com/laishenggx/CMORPH"
   ]
  },
  {
   "cell_type": "code",
   "execution_count": 1,
   "metadata": {},
   "outputs": [],
   "source": [
    "import os\n",
    "import glob\n",
    "import numpy as np\n",
    "import pandas as pd\n",
    "import matplotlib.pyplot as plt\n",
    "from mpl_toolkits.basemap import Basemap\n",
    "import matplotlib.colors as colors\n",
    "import matplotlib as mpl\n",
    "from dateutil.relativedelta import *\n",
    "import datetime as dt\n",
    "import cartopy.crs as ccrs\n",
    "from matplotlib import cm as CM\n",
    "from matplotlib.colors import LogNorm,PowerNorm"
   ]
  },
  {
   "cell_type": "code",
   "execution_count": 2,
   "metadata": {},
   "outputs": [],
   "source": [
    "%matplotlib inline"
   ]
  },
  {
   "cell_type": "code",
   "execution_count": 3,
   "metadata": {},
   "outputs": [],
   "source": [
    "def search(s, path=os.path.abspath('.')):  #os.path.abspath(path)：绝对路径\n",
    "    filenames=[]\n",
    "    for z in os.listdir(path):\n",
    "        if os.path.isdir(path + os.path.sep + z):  # os.path.sep:路径分隔符 linux下就用这个了’/’\n",
    "            #print('Currnet:', path)\n",
    "            path2 = os.path.join(path, z) #；os.path.join(): 常用来链接路径\n",
    "            #print('future:', path2)\n",
    "            search(s, path2)\n",
    "        elif os.path.isfile(path + os.path.sep + z): #检验给出的路径是否是一个文件：os.path.isfile()来自 <http://blog.csdn.net/devil_2009/article/details/7941241>\n",
    "            if s in z:\n",
    "                #print(os.path.join(path, z))\n",
    "                filenames.append(os.path.join(path, z))\n",
    "                #with open(path + os.path.sep + z, 'r') as fr:\n",
    "                #    with open('save.txt', 'a') as fw:\n",
    "                #        fw.write(path + '\\t' + fr.read())\n",
    "    return filenames"
   ]
  },
  {
   "cell_type": "code",
   "execution_count": 78,
   "metadata": {},
   "outputs": [],
   "source": [
    "def draw_cmorph(pre,filename):\n",
    "    lon_leftup=70\n",
    "    lat_leftup=59\n",
    "    lon_rightdown=140;lat_rightdown=15\n",
    "    res=0.1\n",
    "    lon=np.arange(lon_leftup,lon_rightdown,res)\n",
    "    lat=np.arange(lat_rightdown,lat_leftup,res)\n",
    "    fig, ax = plt.subplots()\n",
    "    lon_leftup=70;lat_leftup=59\n",
    "    lon_rightdown=140;lat_rightdown=15\n",
    "    m = Basemap(projection='cyl', llcrnrlat=lat_rightdown, urcrnrlat=lat_leftup, llcrnrlon=lon_leftup, urcrnrlon=lon_rightdown, resolution='l')\n",
    "    #m.readshapefile('/public/home/hysplit/work/product/script/post/',\"bou2_4l.shp\", color='black',linewidth=0.3)\n",
    "    m.readshapefile('D:\\\\data\\\\map\\\\bou2_4l',\"whatevername\", color='black',linewidth=0.3)\n",
    "    #m.readshapefile(\"/public/home/hysplit/work/product/script/post/hyd1_4l\",\"whatevername\",color=(0,120/255,1),linewidth=0.2)\n",
    "    m.drawcoastlines(linewidth=0.3, color='black')\n",
    "    parallels = np.arange(20,90,10) #纬线\n",
    "    m.drawparallels(parallels,labels=[True,False,False,False],linewidth=0.2,dashes=[1,4])\n",
    "    meridians = np.arange(0,200,10) #经线\n",
    "    m.drawmeridians(meridians,labels=[False,False,False,True],linewidth=0.2,dashes=[1,4])\n",
    "\n",
    "    cdict = [(151 / 255, 250 / 255, 151 / 255), (49/ 255, 204 / 255, 49/ 255), (126/ 255, 191 / 255, 237 / 255)\n",
    "            , (0 / 255, 0 / 255, 255 / 255), (237/ 255, 0 / 255, 237 / 255)]\n",
    "    #my_cmap = colors.ListedColormap(cdict,'pre3h')\n",
    "    #my_cmap.set_under('w')\n",
    "    #my_cmap.set_over((135/ 255, 25 / 255, 25 / 255))\n",
    "    #lev=np.arange(23)\n",
    "    lev=np.array([0,0.5,1,2,5,10,15,20,30,40,50])\n",
    "    \n",
    "    norm3 = mpl.colors.BoundaryNorm(lev, 12)\n",
    "\n",
    "    lons, lats = np.meshgrid(lon,lat)\n",
    "    x, y = m(lons, lats)\n",
    "    pp=m.pcolormesh(x,y,pre,cmap=CM.get_cmap('jet'),norm=PowerNorm(gamma=0.3))\n",
    "    #cb=fig.colorbar(pp,ax=ax,pad=0.07,shrink=0.7,aspect=25,orientation='horizontal')\n",
    "    plt.colorbar(label=r'Precipitation frequency')\n",
    "    plt.clim(100,1000)\n",
    "    # cb=fig.colorbar(pp,ax=ax,pad=0.02,shrink=0.7,aspect=20)\n",
    "    #font1={'family':'SimHei','size':8,'color':'b'}\n",
    "    #font2={'family':'SimHei','size':8,'color':'k'}\n",
    "    #font3={'family':'SimHei','size':8,'color':'r'}\n",
    "    #ax.text(0.005, 1.02, '全国自动站&CMORPH降水融合产品:逐小时降水量(单位:mm)',fontdict=font2,transform=ax.transAxes)\n",
    "    #ax.text(0.67, 1.06,'%04d年%02d月%02d日 %02d:00(北京时)'%(bjt.year,bjt.month,bjt.day,bjt.hour), transform=ax.transAxes, fontdict=font3)\n",
    "    ###ax.text(0.60, 1.015,'%04d%02d%02d %02d:00(UTC)'%(utc_time.year,utc_time.month,utc_time.day,utc_time.hour), \\\n",
    "    ###        transform=ax.transAxes)\n",
    "\n",
    "\n",
    "  #南海小图\n",
    "    '''\n",
    "    a = plt.axes([0.649, 0.292, 0.25, 0.23])\n",
    "    lon_leftup=107;lat_leftup=24\n",
    "    lon_rightdown=121.3;lat_rightdown=2.4\n",
    "    m = Basemap(projection='cyl', llcrnrlat=lat_rightdown, urcrnrlat=lat_leftup, llcrnrlon=lon_leftup, urcrnrlon=lon_rightdown, resolution='l')\n",
    "    m.drawcoastlines(linewidth=0.3, color='gray')\n",
    "    m.contourf(x,y,pre,cmap=my_cmap,levels=lev,norm=norm3,extend='both')\n",
    "\n",
    "\n",
    "    m.readshapefile('/public/home/hysplit/work/product/script/post/bou2_4l',\"whatevername\", color='black',linewidth=0.3)\n",
    "    #font1={'family':'SimHei','size':6,'color':'black'}\n",
    "    a.text(0.81,0.40,'South Sea',transform=ax.transAxes)#bbox=dict(boxstyle='square',ec='k',fc='w',pad=0.3))\n",
    "    ###plt.savefig('%04d%02d%02d-%02d00.png'%(bjt.year,bjt.month,bjt.day,bjt.hour),dpi=300,bbox_inches='tight')\n",
    "    '''\n",
    "    plt.savefig(filename+'.png',dpi=400)\n",
    "    #plt.show()\n",
    "    return fig,ax"
   ]
  },
  {
   "cell_type": "code",
   "execution_count": 53,
   "metadata": {},
   "outputs": [],
   "source": [
    "filename=('day_max-mean.csv')"
   ]
  },
  {
   "cell_type": "code",
   "execution_count": 54,
   "metadata": {},
   "outputs": [],
   "source": [
    "df=pd.read_csv(filename,header=None)"
   ]
  },
  {
   "cell_type": "code",
   "execution_count": 55,
   "metadata": {},
   "outputs": [
    {
     "data": {
      "text/plain": [
       "(440, 700)"
      ]
     },
     "execution_count": 55,
     "metadata": {},
     "output_type": "execute_result"
    }
   ],
   "source": [
    "df.shape"
   ]
  },
  {
   "cell_type": "code",
   "execution_count": null,
   "metadata": {},
   "outputs": [],
   "source": [
    "df"
   ]
  },
  {
   "cell_type": "code",
   "execution_count": 63,
   "metadata": {},
   "outputs": [
    {
     "data": {
      "text/plain": [
       "0"
      ]
     },
     "execution_count": 63,
     "metadata": {},
     "output_type": "execute_result"
    }
   ],
   "source": [
    "min(df)"
   ]
  },
  {
   "cell_type": "code",
   "execution_count": 72,
   "metadata": {},
   "outputs": [
    {
     "data": {
      "text/plain": [
       "(<Figure size 432x288 with 2 Axes>,\n",
       " <matplotlib.axes._subplots.AxesSubplot at 0x21e267b1cf8>)"
      ]
     },
     "execution_count": 72,
     "metadata": {},
     "output_type": "execute_result"
    },
    {
     "data": {
      "image/png": "[encoded data removed]",
      "text/plain": [
       "<Figure size 432x288 with 2 Axes>"
      ]
     },
     "metadata": {
      "needs_background": "light"
     },
     "output_type": "display_data"
    }
   ],
   "source": [
    "draw_cmorph(df,filename[:-4])"
   ]
  },
  {
   "cell_type": "code",
   "execution_count": 10,
   "metadata": {},
   "outputs": [],
   "source": [
    "lev=np.array([0,1,2,3,4,5,6,7])"
   ]
  },
  {
   "cell_type": "code",
   "execution_count": 11,
   "metadata": {},
   "outputs": [
    {
     "data": {
      "text/plain": [
       "array([0, 1, 2, 3, 4, 5, 6, 7])"
      ]
     },
     "execution_count": 11,
     "metadata": {},
     "output_type": "execute_result"
    }
   ],
   "source": [
    "lev"
   ]
  },
  {
   "cell_type": "code",
   "execution_count": 14,
   "metadata": {},
   "outputs": [],
   "source": [
    "lev=np.arange(24)"
   ]
  },
  {
   "cell_type": "code",
   "execution_count": 15,
   "metadata": {},
   "outputs": [
    {
     "data": {
      "text/plain": [
       "array([ 0,  1,  2,  3,  4,  5,  6,  7,  8,  9, 10, 11, 12, 13, 14, 15, 16,\n",
       "       17, 18, 19, 20, 21, 22, 23])"
      ]
     },
     "execution_count": 15,
     "metadata": {},
     "output_type": "execute_result"
    }
   ],
   "source": [
    "lev"
   ]
  },
  {
   "cell_type": "code",
   "execution_count": 26,
   "metadata": {},
   "outputs": [
    {
     "data": {
      "text/plain": [
       "-1"
      ]
     },
     "execution_count": 26,
     "metadata": {},
     "output_type": "execute_result"
    }
   ],
   "source": [
    "argmax"
   ]
  },
  {
   "cell_type": "code",
   "execution_count": 36,
   "metadata": {},
   "outputs": [],
   "source": [
    "b=np.zeros((440, 700),dtype=np.int)+np.nan"
   ]
  },
  {
   "cell_type": "code",
   "execution_count": 38,
   "metadata": {},
   "outputs": [],
   "source": [
    "b[100,100]=1"
   ]
  },
  {
   "cell_type": "code",
   "execution_count": 48,
   "metadata": {},
   "outputs": [
    {
     "data": {
      "text/plain": [
       "1.0"
      ]
     },
     "execution_count": 48,
     "metadata": {},
     "output_type": "execute_result"
    }
   ],
   "source": [
    "np.nanmax(b)"
   ]
  },
  {
   "cell_type": "code",
   "execution_count": 51,
   "metadata": {},
   "outputs": [],
   "source": [
    "arg=np.nanargmax(b)"
   ]
  },
  {
   "cell_type": "code",
   "execution_count": 52,
   "metadata": {},
   "outputs": [
    {
     "data": {
      "text/plain": [
       "70100"
      ]
     },
     "execution_count": 52,
     "metadata": {},
     "output_type": "execute_result"
    }
   ],
   "source": [
    "arg"
   ]
  },
  {
   "cell_type": "code",
   "execution_count": 73,
   "metadata": {},
   "outputs": [],
   "source": [
    "filename=('day_max-max.csv')"
   ]
  },
  {
   "cell_type": "code",
   "execution_count": 74,
   "metadata": {},
   "outputs": [],
   "source": [
    "df=pd.read_csv(filename,header=None)"
   ]
  },
  {
   "cell_type": "code",
   "execution_count": 79,
   "metadata": {},
   "outputs": [
    {
     "data": {
      "text/plain": [
       "(<Figure size 432x288 with 2 Axes>,\n",
       " <matplotlib.axes._subplots.AxesSubplot at 0x21e260fdb38>)"
      ]
     },
     "execution_count": 79,
     "metadata": {},
     "output_type": "execute_result"
    },
    {
     "data": {
      "image/png": "[encoded data removed]",
      "text/plain": [
       "<Figure size 432x288 with 2 Axes>"
      ]
     },
     "metadata": {
      "needs_background": "light"
     },
     "output_type": "display_data"
    }
   ],
   "source": [
    "draw_cmorph(df,filename[:-4])"
   ]
  },
  {
   "cell_type": "code",
   "execution_count": null,
   "metadata": {},
   "outputs": [],
   "source": []
  }
 ],
 "metadata": {
  "kernelspec": {
   "display_name": "Python 3",
   "language": "python",
   "name": "python3"
  },
  "language_info": {
   "codemirror_mode": {
    "name": "ipython",
    "version": 3
   },
   "file_extension": ".py",
   "mimetype": "text/x-python",
   "name": "python",
   "nbconvert_exporter": "python",
   "pygments_lexer": "ipython3",
   "version": "3.7.3"
  }
 },
 "nbformat": 4,
 "nbformat_minor": 4
}
