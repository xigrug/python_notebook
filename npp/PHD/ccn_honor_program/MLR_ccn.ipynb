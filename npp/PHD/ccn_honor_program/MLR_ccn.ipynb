{
 "cells": [
  {
   "cell_type": "markdown",
   "metadata": {},
   "source": [
    "[用Python实现简单和多重线性回归--预测波士顿房价](https://www.jianshu.com/p/edaaa78fb6a1)\n",
    "\n",
    "[译自](https://towardsdatascience.com/simple-and-multiple-linear-regression-in-python-c928425168f9)"
   ]
  },
  {
   "cell_type": "markdown",
   "metadata": {},
   "source": [
    "[使用sklearn进行多元线性回归](https://stackoverflow.com/questions/46899217/multi-linear-regression-with-sklearn)"
   ]
  },
  {
   "cell_type": "markdown",
   "metadata": {},
   "source": [
    "# SKLearn中的线性回归"
   ]
  },
  {
   "cell_type": "code",
   "execution_count": 1,
   "metadata": {},
   "outputs": [],
   "source": [
    "from sklearn import linear_model"
   ]
  },
  {
   "cell_type": "code",
   "execution_count": 3,
   "metadata": {},
   "outputs": [],
   "source": [
    "import pandas as pd"
   ]
  },
  {
   "cell_type": "markdown",
   "metadata": {},
   "source": [
    "from sklearn import datasets ## 从scikit-learn导入数据集\n",
    "data = datasets.load_boston() ## 从数据集库中加载波士顿数据集"
   ]
  },
  {
   "cell_type": "code",
   "execution_count": 5,
   "metadata": {},
   "outputs": [],
   "source": [
    "df=pd.read_csv(\"yrd/yrd_ccn_new-all.csv\")"
   ]
  },
  {
   "cell_type": "code",
   "execution_count": 6,
   "metadata": {},
   "outputs": [
    {
     "data": {
      "text/html": [
       "<div>\n",
       "<style scoped>\n",
       "    .dataframe tbody tr th:only-of-type {\n",
       "        vertical-align: middle;\n",
       "    }\n",
       "\n",
       "    .dataframe tbody tr th {\n",
       "        vertical-align: top;\n",
       "    }\n",
       "\n",
       "    .dataframe thead th {\n",
       "        text-align: right;\n",
       "    }\n",
       "</style>\n",
       "<table border=\"1\" class=\"dataframe\">\n",
       "  <thead>\n",
       "    <tr style=\"text-align: right;\">\n",
       "      <th></th>\n",
       "      <th>ID_1</th>\n",
       "      <th>ID_2</th>\n",
       "      <th>NAME_2</th>\n",
       "      <th>lat_bin</th>\n",
       "      <th>lon_bin</th>\n",
       "      <th>BJC</th>\n",
       "      <th>B4LI</th>\n",
       "      <th>CAPE</th>\n",
       "      <th>CAPE_nc</th>\n",
       "      <th>CCN_1.0_cm3</th>\n",
       "      <th>...</th>\n",
       "      <th>mean_wspd</th>\n",
       "      <th>max_wspd</th>\n",
       "      <th>max_wdir</th>\n",
       "      <th>ext_wspd</th>\n",
       "      <th>ssd</th>\n",
       "      <th>mean_prs</th>\n",
       "      <th>max_prs</th>\n",
       "      <th>min_prs</th>\n",
       "      <th>mean_rh</th>\n",
       "      <th>min_rh</th>\n",
       "    </tr>\n",
       "  </thead>\n",
       "  <tbody>\n",
       "    <tr>\n",
       "      <th>0</th>\n",
       "      <td>602</td>\n",
       "      <td>10098</td>\n",
       "      <td>Hangzhou</td>\n",
       "      <td>30.0</td>\n",
       "      <td>120.0</td>\n",
       "      <td>2014/7/21 5:35</td>\n",
       "      <td>-4.40</td>\n",
       "      <td>2565.0</td>\n",
       "      <td>3044.0</td>\n",
       "      <td>1318.0</td>\n",
       "      <td>...</td>\n",
       "      <td>15.5</td>\n",
       "      <td>41.0</td>\n",
       "      <td>3.5</td>\n",
       "      <td>60.0</td>\n",
       "      <td>104.0</td>\n",
       "      <td>10034.0</td>\n",
       "      <td>10054.5</td>\n",
       "      <td>10011.0</td>\n",
       "      <td>72.0</td>\n",
       "      <td>47.0</td>\n",
       "    </tr>\n",
       "    <tr>\n",
       "      <th>1</th>\n",
       "      <td>602</td>\n",
       "      <td>10098</td>\n",
       "      <td>Hangzhou</td>\n",
       "      <td>30.0</td>\n",
       "      <td>120.0</td>\n",
       "      <td>2015/8/12 4:31</td>\n",
       "      <td>1.40</td>\n",
       "      <td>10.0</td>\n",
       "      <td>973.0</td>\n",
       "      <td>1072.0</td>\n",
       "      <td>...</td>\n",
       "      <td>19.0</td>\n",
       "      <td>41.0</td>\n",
       "      <td>7.5</td>\n",
       "      <td>61.5</td>\n",
       "      <td>91.5</td>\n",
       "      <td>10055.0</td>\n",
       "      <td>10068.5</td>\n",
       "      <td>10035.0</td>\n",
       "      <td>75.0</td>\n",
       "      <td>51.0</td>\n",
       "    </tr>\n",
       "    <tr>\n",
       "      <th>2</th>\n",
       "      <td>602</td>\n",
       "      <td>10098</td>\n",
       "      <td>Hangzhou</td>\n",
       "      <td>30.0</td>\n",
       "      <td>120.0</td>\n",
       "      <td>2013/8/25 5:12</td>\n",
       "      <td>-6.10</td>\n",
       "      <td>2428.0</td>\n",
       "      <td>2036.5</td>\n",
       "      <td>1553.5</td>\n",
       "      <td>...</td>\n",
       "      <td>14.0</td>\n",
       "      <td>77.0</td>\n",
       "      <td>14.5</td>\n",
       "      <td>130.0</td>\n",
       "      <td>71.5</td>\n",
       "      <td>10030.0</td>\n",
       "      <td>10040.0</td>\n",
       "      <td>10008.5</td>\n",
       "      <td>75.0</td>\n",
       "      <td>45.0</td>\n",
       "    </tr>\n",
       "    <tr>\n",
       "      <th>3</th>\n",
       "      <td>602</td>\n",
       "      <td>10098</td>\n",
       "      <td>Hangzhou</td>\n",
       "      <td>30.0</td>\n",
       "      <td>120.0</td>\n",
       "      <td>2017/7/8 5:19</td>\n",
       "      <td>-5.15</td>\n",
       "      <td>2083.0</td>\n",
       "      <td>1636.0</td>\n",
       "      <td>3103.0</td>\n",
       "      <td>...</td>\n",
       "      <td>28.0</td>\n",
       "      <td>51.5</td>\n",
       "      <td>11.0</td>\n",
       "      <td>87.0</td>\n",
       "      <td>93.5</td>\n",
       "      <td>10041.0</td>\n",
       "      <td>10053.0</td>\n",
       "      <td>10026.0</td>\n",
       "      <td>67.0</td>\n",
       "      <td>50.5</td>\n",
       "    </tr>\n",
       "    <tr>\n",
       "      <th>4</th>\n",
       "      <td>602</td>\n",
       "      <td>10098</td>\n",
       "      <td>Hangzhou</td>\n",
       "      <td>30.0</td>\n",
       "      <td>120.0</td>\n",
       "      <td>2017/7/25 5:00</td>\n",
       "      <td>-3.85</td>\n",
       "      <td>1252.5</td>\n",
       "      <td>1571.0</td>\n",
       "      <td>1672.5</td>\n",
       "      <td>...</td>\n",
       "      <td>18.0</td>\n",
       "      <td>36.5</td>\n",
       "      <td>2.5</td>\n",
       "      <td>62.5</td>\n",
       "      <td>110.0</td>\n",
       "      <td>10011.5</td>\n",
       "      <td>10025.5</td>\n",
       "      <td>NaN</td>\n",
       "      <td>54.5</td>\n",
       "      <td>29.0</td>\n",
       "    </tr>\n",
       "  </tbody>\n",
       "</table>\n",
       "<p>5 rows × 95 columns</p>\n",
       "</div>"
      ],
      "text/plain": [
       "   ID_1   ID_2    NAME_2  lat_bin  lon_bin             BJC  B4LI    CAPE  \\\n",
       "0   602  10098  Hangzhou     30.0    120.0  2014/7/21 5:35 -4.40  2565.0   \n",
       "1   602  10098  Hangzhou     30.0    120.0  2015/8/12 4:31  1.40    10.0   \n",
       "2   602  10098  Hangzhou     30.0    120.0  2013/8/25 5:12 -6.10  2428.0   \n",
       "3   602  10098  Hangzhou     30.0    120.0   2017/7/8 5:19 -5.15  2083.0   \n",
       "4   602  10098  Hangzhou     30.0    120.0  2017/7/25 5:00 -3.85  1252.5   \n",
       "\n",
       "   CAPE_nc  CCN_1.0_cm3  ...  mean_wspd  max_wspd  max_wdir  ext_wspd    ssd  \\\n",
       "0   3044.0       1318.0  ...       15.5      41.0       3.5      60.0  104.0   \n",
       "1    973.0       1072.0  ...       19.0      41.0       7.5      61.5   91.5   \n",
       "2   2036.5       1553.5  ...       14.0      77.0      14.5     130.0   71.5   \n",
       "3   1636.0       3103.0  ...       28.0      51.5      11.0      87.0   93.5   \n",
       "4   1571.0       1672.5  ...       18.0      36.5       2.5      62.5  110.0   \n",
       "\n",
       "   mean_prs  max_prs  min_prs  mean_rh  min_rh  \n",
       "0   10034.0  10054.5  10011.0     72.0    47.0  \n",
       "1   10055.0  10068.5  10035.0     75.0    51.0  \n",
       "2   10030.0  10040.0  10008.5     75.0    45.0  \n",
       "3   10041.0  10053.0  10026.0     67.0    50.5  \n",
       "4   10011.5  10025.5      NaN     54.5    29.0  \n",
       "\n",
       "[5 rows x 95 columns]"
      ]
     },
     "execution_count": 6,
     "metadata": {},
     "output_type": "execute_result"
    }
   ],
   "source": [
    "df.head()"
   ]
  },
  {
   "cell_type": "code",
   "execution_count": 36,
   "metadata": {},
   "outputs": [],
   "source": [
    "df1=df[[\"CCN_1.0_cm3\",\"T2m_NCEP\",\"SS_1.0_mg\",\"PM25\"]].dropna()"
   ]
  },
  {
   "cell_type": "code",
   "execution_count": 37,
   "metadata": {},
   "outputs": [],
   "source": [
    "X = df1[[\"T2m_NCEP\",\"SS_1.0_mg\",\"PM25\"]].values.reshape(-1,3)\n",
    "y = df1[\"CCN_1.0_cm3\"]"
   ]
  },
  {
   "cell_type": "code",
   "execution_count": 38,
   "metadata": {},
   "outputs": [
    {
     "data": {
      "text/plain": [
       "array([[35.75      ,  0.12      , 55.125     ],\n",
       "       [29.45      ,  0.17      , 29.90909091],\n",
       "       [32.91      ,  0.16      , 32.875     ],\n",
       "       ...,\n",
       "       [32.03      ,  0.12      , 29.        ],\n",
       "       [33.85      ,  0.14      , 16.66666667],\n",
       "       [30.19      ,  0.1       , 32.        ]])"
      ]
     },
     "execution_count": 38,
     "metadata": {},
     "output_type": "execute_result"
    }
   ],
   "source": [
    "X"
   ]
  },
  {
   "cell_type": "code",
   "execution_count": 39,
   "metadata": {},
   "outputs": [],
   "source": [
    "lm = linear_model.LinearRegression()\n",
    "model = lm.fit(X,y)"
   ]
  },
  {
   "cell_type": "code",
   "execution_count": 40,
   "metadata": {},
   "outputs": [
    {
     "name": "stdout",
     "output_type": "stream",
     "text": [
      "[1435.10739571 1216.33512192 1301.53162757 1302.0985245  1406.86292168]\n"
     ]
    }
   ],
   "source": [
    "predictions = lm.predict(X)\n",
    "print(predictions[0:5])"
   ]
  },
  {
   "cell_type": "code",
   "execution_count": 41,
   "metadata": {},
   "outputs": [
    {
     "data": {
      "text/plain": [
       "0.3440653999518199"
      ]
     },
     "execution_count": 41,
     "metadata": {},
     "output_type": "execute_result"
    }
   ],
   "source": [
    "lm.score(X,y)"
   ]
  },
  {
   "cell_type": "markdown",
   "metadata": {},
   "source": [
    "这是我们模型的R²得分。你可能记得，这是预测方差的百分比。如果你有兴趣，阅读这里了解更多内容。接下来，我们来看看预测因子的系数："
   ]
  },
  {
   "cell_type": "code",
   "execution_count": 42,
   "metadata": {},
   "outputs": [
    {
     "data": {
      "text/plain": [
       "array([ 1.93424177e+01, -1.66850834e+03,  5.34964880e-01])"
      ]
     },
     "execution_count": 42,
     "metadata": {},
     "output_type": "execute_result"
    }
   ],
   "source": [
    "lm.coef_"
   ]
  },
  {
   "cell_type": "markdown",
   "metadata": {},
   "source": [
    "和截距"
   ]
  },
  {
   "cell_type": "code",
   "execution_count": 43,
   "metadata": {},
   "outputs": [
    {
     "data": {
      "text/plain": [
       "914.3470255918077"
      ]
     },
     "execution_count": 43,
     "metadata": {},
     "output_type": "execute_result"
    }
   ],
   "source": [
    "lm.intercept_"
   ]
  },
  {
   "cell_type": "code",
   "execution_count": null,
   "metadata": {},
   "outputs": [],
   "source": [
    "def mlr"
   ]
  }
 ],
 "metadata": {
  "kernelspec": {
   "display_name": "Python 3",
   "language": "python",
   "name": "python3"
  },
  "language_info": {
   "codemirror_mode": {
    "name": "ipython",
    "version": 3
   },
   "file_extension": ".py",
   "mimetype": "text/x-python",
   "name": "python",
   "nbconvert_exporter": "python",
   "pygments_lexer": "ipython3",
   "version": "3.7.3"
  }
 },
 "nbformat": 4,
 "nbformat_minor": 2
}
