{
 "cells": [
  {
   "cell_type": "markdown",
   "metadata": {
    "slideshow": {
     "slide_type": "slide"
    }
   },
   "source": [
    "# Python中的因子分析简介\n",
    "\n",
    "https://www.datacamp.com/community/tutorials/introduction-factor-analysis\n",
    "\n",
    "在本教程中，您将介绍以下主题：\n",
    "\n",
    "* 因子分析\n",
    "\n",
    "* 因子分析的类型\n",
    "\n",
    "* 确定因素数量\n",
    "\n",
    "* 因子分析与 主成分分析\n",
    "\n",
    "* python中的因子分析\n",
    "\n",
    "* 充分性测试\n",
    "\n",
    "* 解释结果\n",
    "\n",
    "* 因子分析的利弊\n",
    "\n",
    "* 结论"
   ]
  },
  {
   "cell_type": "markdown",
   "metadata": {
    "slideshow": {
     "slide_type": "slide"
    }
   },
   "source": [
    "## 因子分析\n",
    "\n",
    "因子分析是一种线性统计模型。它用于解释观察变量之间的差异，并将一组观察到的变量压缩到称为因子的未观察变量中。观察到的变量被建模为因子和误差项的线性组合（来源）。因子或潜在变量与多个观察到的变量相关联，这些变量具有共同的响应模式。每个因素都解释了观察到的变量中的特定方差量。它通过减少变量的数量来帮助进行数据解释。\n",
    "\n",
    "![](https://res.cloudinary.com/dchysltjf/image/upload/f_auto,q_auto:best/v1554830324/6.png)"
   ]
  },
  {
   "cell_type": "markdown",
   "metadata": {
    "slideshow": {
     "slide_type": "subslide"
    }
   },
   "source": [
    "因子分析是用于研究许多感兴趣的变量X1，X2，......，X1是否与较少数量的不可观察因子F1，F2，... ......，Fk线性相关的方法。\n",
    "\n",
    "![](https://res.cloudinary.com/dchysltjf/image/upload/f_auto,q_auto:best/v1554830233/1.png)\n",
    "\n",
    "来源：此图像是从我在因子分析说明中找到的图像重新创建的。该图像提供了因子分析的完整视图。\n",
    "\n",
    "假设：\n",
    "\n",
    "1 数据中没有异常值。\n",
    "\n",
    "2 样本量应大于因子。\n",
    "\n",
    "3 不应该有完美的多重共线性。\n",
    "\n",
    "4 变量之间不应该存在同方差性。"
   ]
  },
  {
   "cell_type": "markdown",
   "metadata": {
    "slideshow": {
     "slide_type": "subslide"
    }
   },
   "source": [
    "## 因子分析的类型\n",
    "\n",
    "* 探索性因子分析：它是社会和管理研究人员中最受欢迎的因子分析方法。其基本假设是任何观察到的变量都与任何因素直接相关。\n",
    "\n",
    "* 验证性因子分析（CFA）：其基本假设是每个因子都与一组特定的观察变量相关联。CFA确认了基本的预期。\n",
    "\n",
    "### 因子分析如何运作？\n",
    "\n",
    "因子分析的主要目标是减少观察到的变量的数量并找到不可观察的变量。这些未观察到的变量有助于市场研究人员完成调查。将观察到的变量转换为未观察到的变量可以通过两个步骤实现：\n",
    "\n",
    "* 因子提取：在此步骤中，使用方差分割方法（如主成分分析和公因子分析）选择因子数和提取方法。\n",
    "\n",
    "* 因素轮换：在此步骤中，轮换会尝试将因子转换为不相关的因素 - 这一步骤的主要目标是提高整体可解释性。有许多可用的旋转方法，例如：Varimax旋转方法，Quartimax旋转方法和Promax旋转方法。\n"
   ]
  },
  {
   "cell_type": "markdown",
   "metadata": {
    "slideshow": {
     "slide_type": "subslide"
    }
   },
   "source": [
    "### 术语\n",
    "\n",
    "#### 有什么因素？\n",
    "\n",
    "因子是潜在变量，其描述了观察到的变量的数量之间的关联。最大因子数等于观察到的变量数。每个因素都解释了观察到的变量的某种变化。方差量最小的因素被删除。因素也称为潜在变量或隐藏变量或未观察到的变量或假设变量。\n",
    "\n",
    "#### 因素负荷是什么？\n",
    "\n",
    "因子加载是一个矩阵，显示每个变量与基础因子的关系。它显示了观测变量和因子的相关系数。它显示了由观察到的变量解释的方差。\n",
    "\n",
    "#### 什么是特征值？\n",
    "\n",
    "特征值表示方差，从总方差中解释每个因子。它也被称为特征根。\n"
   ]
  },
  {
   "cell_type": "markdown",
   "metadata": {
    "slideshow": {
     "slide_type": "subslide"
    }
   },
   "source": [
    "#### 什么是社区？\n",
    "\n",
    "共性是每个变量的平方加载的总和。它代表了常见的差异。范围从0到1，值接近1表示更多方差。\n",
    "\n",
    "![](https://res.cloudinary.com/dchysltjf/image/upload/f_auto,q_auto:best/v1554830233/2.png)\n",
    "\n",
    "\n",
    "#### 什么是因素轮换？\n",
    "\n",
    "轮换是更好地解释因子分析的工具。旋转可以是正交的或倾斜的。它以明确的负载模式重新分配了共性。\n"
   ]
  },
  {
   "cell_type": "markdown",
   "metadata": {
    "slideshow": {
     "slide_type": "subslide"
    }
   },
   "source": [
    "### 选择因素数量\n",
    "\n",
    "Kaiser准则是一种分析方法，它基于因子选择的更大比例的方差来选择。特征值是确定因子数量的良好标准。通常，大于1的特征值将被视为特征的选择标准。\n",
    "\n",
    "\n",
    "图形方法基于因子特征值的视觉表示，也称为scree图。这个碎石图有助于我们确定曲线弯曲的因素数量。\n",
    "\n",
    "![](https://res.cloudinary.com/dchysltjf/image/upload/f_auto,q_auto:best/v1554830233/3.png)"
   ]
  },
  {
   "cell_type": "markdown",
   "metadata": {
    "slideshow": {
     "slide_type": "slide"
    }
   },
   "source": [
    "## 因子分析与 主成分分析\n",
    "\n",
    "* PCA组件解释了最大的方差量，而因子分析解释了数据的协方差。\n",
    "\n",
    "* PCA组分彼此完全正交，而因子分析不要求因子是正交的。\n",
    "\n",
    "* PCA组分是观察到的变量的线性组合，而在FA中，观察到的变量是未观察到的变量或因子的线性组合。\n",
    "\n",
    "* PCA组件无法解释。在FA中，潜在因素是可以理解和可解释的。\n",
    "\n",
    "* PCA是一种降维方法，而因子分析是潜变量方法。\n",
    "\n",
    "* PCA是一种因子分析。PCA是观察性的，而FA是一种建模技术。\n",
    "\n",
    "\n",
    "![](https://res.cloudinary.com/dchysltjf/image/upload/f_auto,q_auto:best/v1554830233/4.png)"
   ]
  },
  {
   "cell_type": "markdown",
   "metadata": {
    "slideshow": {
     "slide_type": "subslide"
    }
   },
   "source": [
    "## 使用factor_analyzer包在python中进行因子分析"
   ]
  },
  {
   "cell_type": "markdown",
   "metadata": {
    "slideshow": {
     "slide_type": "fragment"
    }
   },
   "source": [
    "### 导入所需的库"
   ]
  },
  {
   "cell_type": "code",
   "execution_count": 1,
   "metadata": {
    "slideshow": {
     "slide_type": "fragment"
    }
   },
   "outputs": [
    {
     "ename": "ModuleNotFoundError",
     "evalue": "No module named 'factor_analyzer'",
     "output_type": "error",
     "traceback": [
      "\u001b[1;31m---------------------------------------------------------------------------\u001b[0m",
      "\u001b[1;31mModuleNotFoundError\u001b[0m                       Traceback (most recent call last)",
      "\u001b[1;32m<ipython-input-1-1718af98f149>\u001b[0m in \u001b[0;36m<module>\u001b[1;34m\u001b[0m\n\u001b[0;32m      2\u001b[0m \u001b[1;32mimport\u001b[0m \u001b[0mpandas\u001b[0m \u001b[1;32mas\u001b[0m \u001b[0mpd\u001b[0m\u001b[1;33m\u001b[0m\u001b[1;33m\u001b[0m\u001b[0m\n\u001b[0;32m      3\u001b[0m \u001b[1;32mfrom\u001b[0m \u001b[0msklearn\u001b[0m\u001b[1;33m.\u001b[0m\u001b[0mdatasets\u001b[0m \u001b[1;32mimport\u001b[0m \u001b[0mload_iris\u001b[0m\u001b[1;33m\u001b[0m\u001b[1;33m\u001b[0m\u001b[0m\n\u001b[1;32m----> 4\u001b[1;33m \u001b[1;32mfrom\u001b[0m \u001b[0mfactor_analyzer\u001b[0m \u001b[1;32mimport\u001b[0m \u001b[0mFactorAnalyzer\u001b[0m\u001b[1;33m\u001b[0m\u001b[1;33m\u001b[0m\u001b[0m\n\u001b[0m\u001b[0;32m      5\u001b[0m \u001b[1;32mimport\u001b[0m \u001b[0mmatplotlib\u001b[0m\u001b[1;33m.\u001b[0m\u001b[0mpyplot\u001b[0m \u001b[1;32mas\u001b[0m \u001b[0mplt\u001b[0m\u001b[1;33m\u001b[0m\u001b[1;33m\u001b[0m\u001b[0m\n",
      "\u001b[1;31mModuleNotFoundError\u001b[0m: No module named 'factor_analyzer'"
     ]
    }
   ],
   "source": [
    "# Import required libraries\n",
    "import pandas as pd\n",
    "from sklearn.datasets import load_iris\n",
    "from factor_analyzer import FactorAnalyzer\n",
    "import matplotlib.pyplot as plt"
   ]
  },
  {
   "cell_type": "code",
   "execution_count": 3,
   "metadata": {},
   "outputs": [],
   "source": [
    "import pkg_resources"
   ]
  },
  {
   "cell_type": "code",
   "execution_count": 2,
   "metadata": {},
   "outputs": [
    {
     "ename": "NameError",
     "evalue": "name 'pkg_resources' is not defined",
     "output_type": "error",
     "traceback": [
      "\u001b[1;31m---------------------------------------------------------------------------\u001b[0m",
      "\u001b[1;31mNameError\u001b[0m                                 Traceback (most recent call last)",
      "\u001b[1;32m<ipython-input-2-7562bdb64a4e>\u001b[0m in \u001b[0;36m<module>\u001b[1;34m\u001b[0m\n\u001b[1;32m----> 1\u001b[1;33m \u001b[0mpkg_resources\u001b[0m\u001b[1;33m.\u001b[0m\u001b[0mget_distribution\u001b[0m\u001b[1;33m(\u001b[0m\u001b[1;34m\"factor_analyzer\"\u001b[0m\u001b[1;33m)\u001b[0m\u001b[1;33m.\u001b[0m\u001b[0mversion\u001b[0m\u001b[1;33m\u001b[0m\u001b[1;33m\u001b[0m\u001b[0m\n\u001b[0m",
      "\u001b[1;31mNameError\u001b[0m: name 'pkg_resources' is not defined"
     ]
    }
   ],
   "source": [
    "pkg_resources.get_distribution(\"factor_analyzer\").version"
   ]
  },
  {
   "cell_type": "markdown",
   "metadata": {
    "slideshow": {
     "slide_type": "subslide"
    }
   },
   "source": [
    "## 加载数据"
   ]
  },
  {
   "cell_type": "markdown",
   "metadata": {
    "slideshow": {
     "slide_type": "fragment"
    }
   },
   "source": [
    "让我们对BFI（基于人格评估项目的数据集）进行因子分析，这是使用6点响应量表收集的：1非常不准确，2中度不准确，3略微不准确4准确，5中等准确，6非常准确。\n",
    "您还可以从以下链接下载此数据集：https://vincentarelbundock.github.io/Rdatasets/datasets.html"
   ]
  },
  {
   "cell_type": "code",
   "execution_count": 4,
   "metadata": {
    "slideshow": {
     "slide_type": "fragment"
    }
   },
   "outputs": [],
   "source": [
    "df= pd.read_csv(\"avg_CCNnew41.8-spss.csv\")"
   ]
  },
  {
   "cell_type": "markdown",
   "metadata": {
    "slideshow": {
     "slide_type": "fragment"
    }
   },
   "source": [
    "### 预处理数据"
   ]
  },
  {
   "cell_type": "code",
   "execution_count": 5,
   "metadata": {
    "scrolled": true,
    "slideshow": {
     "slide_type": "fragment"
    }
   },
   "outputs": [
    {
     "data": {
      "text/plain": [
       "Index(['CCN_1.0_cm3', 'CAPE_nc', 'Cloud_fra', 'HGT', 'H_LCL_nc', 'Have',\n",
       "       'Hcb1.0', 'Hcbs1.0', 'Hmax', 'Hmin', 'Hsd', 'Htop1.0', 'L/S', 'LSM',\n",
       "       'LTS', 'PBLH', 'PR', 'PTEM700', 'PTEMS', 'PW', 'P_LCL_nc', 'Pcb1.0',\n",
       "       'Press', 'Ptop1.0', 'RH2', 'RH2m', 'Recb1.0', 'Retop1.0', 'SLI',\n",
       "       'SS_1.0_mg', 'T1000', 'T2m_NCEP', 'T500', 'T700', 'T850', 'TOZONE',\n",
       "       'T_LCL_nc', 'T_coal1.0', 'Tcb1.0', 'Tsfc_NPP', 'Ttop1.0', 'Wb_1.0',\n",
       "       'FAC1', 'FAC2', 'FAC3', 'FAC4', 'FAC5', 'FAC6', 'FAC7', 'FAC8'],\n",
       "      dtype='object')"
      ]
     },
     "execution_count": 5,
     "metadata": {},
     "output_type": "execute_result"
    }
   ],
   "source": [
    "df.columns"
   ]
  },
  {
   "cell_type": "code",
   "execution_count": 6,
   "metadata": {
    "slideshow": {
     "slide_type": "fragment"
    }
   },
   "outputs": [],
   "source": [
    "# Dropping unnecessary columns\n",
    "# NOTICE BJC is Time value\n",
    "df.drop(['FAC1', 'FAC2', 'FAC3', 'FAC4', 'FAC5', 'FAC6', 'FAC7', 'FAC8'],axis=1,inplace=True)"
   ]
  },
  {
   "cell_type": "code",
   "execution_count": 7,
   "metadata": {},
   "outputs": [],
   "source": [
    "df.drop(['CCN_1.0_cm3'],axis=1,inplace=True)"
   ]
  },
  {
   "cell_type": "code",
   "execution_count": 8,
   "metadata": {},
   "outputs": [
    {
     "data": {
      "text/plain": [
       "(76936, 41)"
      ]
     },
     "execution_count": 8,
     "metadata": {},
     "output_type": "execute_result"
    }
   ],
   "source": [
    "df.shape"
   ]
  },
  {
   "cell_type": "code",
   "execution_count": 9,
   "metadata": {
    "slideshow": {
     "slide_type": "fragment"
    }
   },
   "outputs": [],
   "source": [
    "# Dropping missing values rows\n",
    "df.dropna(inplace=True)"
   ]
  },
  {
   "cell_type": "code",
   "execution_count": 10,
   "metadata": {},
   "outputs": [
    {
     "data": {
      "text/plain": [
       "(75966, 41)"
      ]
     },
     "execution_count": 10,
     "metadata": {},
     "output_type": "execute_result"
    }
   ],
   "source": [
    "df.shape"
   ]
  },
  {
   "cell_type": "code",
   "execution_count": 11,
   "metadata": {
    "scrolled": true,
    "slideshow": {
     "slide_type": "subslide"
    }
   },
   "outputs": [
    {
     "name": "stdout",
     "output_type": "stream",
     "text": [
      "<class 'pandas.core.frame.DataFrame'>\n",
      "Int64Index: 75966 entries, 0 to 76935\n",
      "Data columns (total 41 columns):\n",
      "CAPE_nc      75966 non-null float64\n",
      "Cloud_fra    75966 non-null float64\n",
      "HGT          75966 non-null float64\n",
      "H_LCL_nc     75966 non-null float64\n",
      "Have         75966 non-null float64\n",
      "Hcb1.0       75966 non-null float64\n",
      "Hcbs1.0      75966 non-null float64\n",
      "Hmax         75966 non-null float64\n",
      "Hmin         75966 non-null float64\n",
      "Hsd          75966 non-null float64\n",
      "Htop1.0      75966 non-null float64\n",
      "L/S          75966 non-null float64\n",
      "LSM          75966 non-null float64\n",
      "LTS          75966 non-null float64\n",
      "PBLH         75966 non-null float64\n",
      "PR           75966 non-null float64\n",
      "PTEM700      75966 non-null float64\n",
      "PTEMS        75966 non-null float64\n",
      "PW           75966 non-null float64\n",
      "P_LCL_nc     75966 non-null float64\n",
      "Pcb1.0       75966 non-null float64\n",
      "Press        75966 non-null float64\n",
      "Ptop1.0      75966 non-null float64\n",
      "RH2          75966 non-null float64\n",
      "RH2m         75966 non-null float64\n",
      "Recb1.0      75966 non-null float64\n",
      "Retop1.0     75966 non-null float64\n",
      "SLI          75966 non-null float64\n",
      "SS_1.0_mg    75966 non-null float64\n",
      "T1000        75966 non-null float64\n",
      "T2m_NCEP     75966 non-null float64\n",
      "T500         75966 non-null float64\n",
      "T700         75966 non-null float64\n",
      "T850         75966 non-null float64\n",
      "TOZONE       75966 non-null float64\n",
      "T_LCL_nc     75966 non-null float64\n",
      "T_coal1.0    75966 non-null float64\n",
      "Tcb1.0       75966 non-null float64\n",
      "Tsfc_NPP     75966 non-null float64\n",
      "Ttop1.0      75966 non-null float64\n",
      "Wb_1.0       75966 non-null float64\n",
      "dtypes: float64(41)\n",
      "memory usage: 24.3 MB\n"
     ]
    }
   ],
   "source": [
    "df.info()"
   ]
  },
  {
   "cell_type": "code",
   "execution_count": 12,
   "metadata": {
    "scrolled": true,
    "slideshow": {
     "slide_type": "fragment"
    }
   },
   "outputs": [
    {
     "data": {
      "text/html": [
       "<div>\n",
       "<style scoped>\n",
       "    .dataframe tbody tr th:only-of-type {\n",
       "        vertical-align: middle;\n",
       "    }\n",
       "\n",
       "    .dataframe tbody tr th {\n",
       "        vertical-align: top;\n",
       "    }\n",
       "\n",
       "    .dataframe thead th {\n",
       "        text-align: right;\n",
       "    }\n",
       "</style>\n",
       "<table border=\"1\" class=\"dataframe\">\n",
       "  <thead>\n",
       "    <tr style=\"text-align: right;\">\n",
       "      <th></th>\n",
       "      <th>CAPE_nc</th>\n",
       "      <th>Cloud_fra</th>\n",
       "      <th>HGT</th>\n",
       "      <th>H_LCL_nc</th>\n",
       "      <th>Have</th>\n",
       "      <th>Hcb1.0</th>\n",
       "      <th>Hcbs1.0</th>\n",
       "      <th>Hmax</th>\n",
       "      <th>Hmin</th>\n",
       "      <th>Hsd</th>\n",
       "      <th>...</th>\n",
       "      <th>T500</th>\n",
       "      <th>T700</th>\n",
       "      <th>T850</th>\n",
       "      <th>TOZONE</th>\n",
       "      <th>T_LCL_nc</th>\n",
       "      <th>T_coal1.0</th>\n",
       "      <th>Tcb1.0</th>\n",
       "      <th>Tsfc_NPP</th>\n",
       "      <th>Ttop1.0</th>\n",
       "      <th>Wb_1.0</th>\n",
       "    </tr>\n",
       "  </thead>\n",
       "  <tbody>\n",
       "    <tr>\n",
       "      <th>0</th>\n",
       "      <td>2121.000000</td>\n",
       "      <td>0.039450</td>\n",
       "      <td>632.000000</td>\n",
       "      <td>694.600000</td>\n",
       "      <td>567.000000</td>\n",
       "      <td>2006.000000</td>\n",
       "      <td>1384.000000</td>\n",
       "      <td>1336.500000</td>\n",
       "      <td>159.500000</td>\n",
       "      <td>213.000000</td>\n",
       "      <td>...</td>\n",
       "      <td>-4.45</td>\n",
       "      <td>11.85</td>\n",
       "      <td>20.85</td>\n",
       "      <td>283.1</td>\n",
       "      <td>21.900000</td>\n",
       "      <td>17.500000</td>\n",
       "      <td>17.500000</td>\n",
       "      <td>31.000000</td>\n",
       "      <td>-19.0</td>\n",
       "      <td>1.245000</td>\n",
       "    </tr>\n",
       "    <tr>\n",
       "      <th>1</th>\n",
       "      <td>2048.666667</td>\n",
       "      <td>0.064533</td>\n",
       "      <td>720.666667</td>\n",
       "      <td>731.533333</td>\n",
       "      <td>440.333333</td>\n",
       "      <td>1545.333333</td>\n",
       "      <td>1225.666667</td>\n",
       "      <td>1089.666667</td>\n",
       "      <td>84.333333</td>\n",
       "      <td>209.666667</td>\n",
       "      <td>...</td>\n",
       "      <td>-4.45</td>\n",
       "      <td>11.85</td>\n",
       "      <td>20.85</td>\n",
       "      <td>283.1</td>\n",
       "      <td>21.166667</td>\n",
       "      <td>19.666667</td>\n",
       "      <td>20.333333</td>\n",
       "      <td>33.666667</td>\n",
       "      <td>-5.0</td>\n",
       "      <td>1.106667</td>\n",
       "    </tr>\n",
       "    <tr>\n",
       "      <th>2</th>\n",
       "      <td>1904.000000</td>\n",
       "      <td>0.049100</td>\n",
       "      <td>898.000000</td>\n",
       "      <td>805.400000</td>\n",
       "      <td>510.000000</td>\n",
       "      <td>1510.000000</td>\n",
       "      <td>1140.000000</td>\n",
       "      <td>1231.500000</td>\n",
       "      <td>40.000000</td>\n",
       "      <td>273.500000</td>\n",
       "      <td>...</td>\n",
       "      <td>-4.85</td>\n",
       "      <td>11.85</td>\n",
       "      <td>20.35</td>\n",
       "      <td>283.1</td>\n",
       "      <td>19.700000</td>\n",
       "      <td>20.500000</td>\n",
       "      <td>20.500000</td>\n",
       "      <td>34.500000</td>\n",
       "      <td>2.0</td>\n",
       "      <td>1.025000</td>\n",
       "    </tr>\n",
       "    <tr>\n",
       "      <th>3</th>\n",
       "      <td>1904.000000</td>\n",
       "      <td>0.018600</td>\n",
       "      <td>898.000000</td>\n",
       "      <td>805.400000</td>\n",
       "      <td>380.000000</td>\n",
       "      <td>1391.000000</td>\n",
       "      <td>1172.000000</td>\n",
       "      <td>1262.000000</td>\n",
       "      <td>4.000000</td>\n",
       "      <td>231.000000</td>\n",
       "      <td>...</td>\n",
       "      <td>-4.85</td>\n",
       "      <td>11.85</td>\n",
       "      <td>20.35</td>\n",
       "      <td>283.1</td>\n",
       "      <td>19.700000</td>\n",
       "      <td>21.000000</td>\n",
       "      <td>21.000000</td>\n",
       "      <td>35.000000</td>\n",
       "      <td>5.0</td>\n",
       "      <td>1.060000</td>\n",
       "    </tr>\n",
       "    <tr>\n",
       "      <th>4</th>\n",
       "      <td>2121.000000</td>\n",
       "      <td>0.204500</td>\n",
       "      <td>632.000000</td>\n",
       "      <td>694.600000</td>\n",
       "      <td>454.000000</td>\n",
       "      <td>1441.000000</td>\n",
       "      <td>1099.000000</td>\n",
       "      <td>1128.000000</td>\n",
       "      <td>131.000000</td>\n",
       "      <td>209.000000</td>\n",
       "      <td>...</td>\n",
       "      <td>-4.25</td>\n",
       "      <td>11.45</td>\n",
       "      <td>19.85</td>\n",
       "      <td>279.3</td>\n",
       "      <td>21.900000</td>\n",
       "      <td>20.000000</td>\n",
       "      <td>20.000000</td>\n",
       "      <td>32.000000</td>\n",
       "      <td>-5.0</td>\n",
       "      <td>0.990000</td>\n",
       "    </tr>\n",
       "  </tbody>\n",
       "</table>\n",
       "<p>5 rows × 41 columns</p>\n",
       "</div>"
      ],
      "text/plain": [
       "       CAPE_nc  Cloud_fra         HGT    H_LCL_nc        Have       Hcb1.0  \\\n",
       "0  2121.000000   0.039450  632.000000  694.600000  567.000000  2006.000000   \n",
       "1  2048.666667   0.064533  720.666667  731.533333  440.333333  1545.333333   \n",
       "2  1904.000000   0.049100  898.000000  805.400000  510.000000  1510.000000   \n",
       "3  1904.000000   0.018600  898.000000  805.400000  380.000000  1391.000000   \n",
       "4  2121.000000   0.204500  632.000000  694.600000  454.000000  1441.000000   \n",
       "\n",
       "       Hcbs1.0         Hmax        Hmin         Hsd  ...  T500   T700   T850  \\\n",
       "0  1384.000000  1336.500000  159.500000  213.000000  ... -4.45  11.85  20.85   \n",
       "1  1225.666667  1089.666667   84.333333  209.666667  ... -4.45  11.85  20.85   \n",
       "2  1140.000000  1231.500000   40.000000  273.500000  ... -4.85  11.85  20.35   \n",
       "3  1172.000000  1262.000000    4.000000  231.000000  ... -4.85  11.85  20.35   \n",
       "4  1099.000000  1128.000000  131.000000  209.000000  ... -4.25  11.45  19.85   \n",
       "\n",
       "   TOZONE   T_LCL_nc  T_coal1.0     Tcb1.0   Tsfc_NPP  Ttop1.0    Wb_1.0  \n",
       "0   283.1  21.900000  17.500000  17.500000  31.000000    -19.0  1.245000  \n",
       "1   283.1  21.166667  19.666667  20.333333  33.666667     -5.0  1.106667  \n",
       "2   283.1  19.700000  20.500000  20.500000  34.500000      2.0  1.025000  \n",
       "3   283.1  19.700000  21.000000  21.000000  35.000000      5.0  1.060000  \n",
       "4   279.3  21.900000  20.000000  20.000000  32.000000     -5.0  0.990000  \n",
       "\n",
       "[5 rows x 41 columns]"
      ]
     },
     "execution_count": 12,
     "metadata": {},
     "output_type": "execute_result"
    }
   ],
   "source": [
    "df.head()"
   ]
  },
  {
   "cell_type": "code",
   "execution_count": 1,
   "metadata": {},
   "outputs": [],
   "source": [
    "def factor_analysis(df):\n",
    "    #充分性测试\n",
    "    chi_square_value,p_value=calculate_bartlett_sphericity(df)\n",
    "    print(chi_square_value, p_value)\n",
    "    kmo_all,kmo_model=calculate_kmo(df)\n",
    "    print(kmo_model)\n",
    "    fa = FactorAnalyzer(rotation=None)\n",
    "    fa.fit(df)\n",
    "    # Check Eigenvalues\n",
    "    ev, v = fa.get_eigenvalues()\n",
    "    print(ev)\n",
    "    plt.scatter(range(1,df.shape[1]+1),ev)\n",
    "    plt.plot(range(1,df.shape[1]+1),ev)\n",
    "    plt.title('Scree Plot')\n",
    "    plt.xlabel('Factors')\n",
    "    plt.ylabel('Eigenvalue')\n",
    "    plt.axhline(y=1, color='r', linestyle='-')\n",
    "    plt.grid()\n",
    "    plt.show()\n",
    "    #执行因子分析\n",
    "    fav= FactorAnalyzer(n_factors=6,rotation=\"varimax\")\n",
    "    fav.fit(df)\n",
    "    fav.loadings_\n",
    "    #Calculate the eigenvalues, given the factor correlation matrix\n",
    "    fav.get_eigenvalues()\n",
    "    # Calculate the communalities, given the factor loading matrix.\n",
    "    fav.get_communalities()\n",
    "    # Get variance of each factors\n",
    "    fav.get_factor_variance()\n",
    "    #Calculate the uniquenesses, given the factor loading matrix.\n",
    "    fav.get_uniquenesses()\n",
    "    #Get the factor scores for new data set.\n",
    "    trans=fav.transform(df)\n",
    "    print(fav.transform(df).shape)\n",
    "    return trans"
   ]
  },
  {
   "cell_type": "markdown",
   "metadata": {
    "slideshow": {
     "slide_type": "subslide"
    }
   },
   "source": [
    "# issue\n",
    "同样的问题。解决了安装先前版本的因子分析器的问题：\n",
    "\n",
    "pip install factor_analyzer == 0.3.1\n",
    "\n",
    "非常感谢Avinash教程。\n",
    "\n",
    "by liuchongcn@126.com @NJU 2019-07-03\n",
    "\n",
    "![简书](https://raw.githubusercontent.com/xigrug/xigrug.github.io/master/picture/jianshuQR1.jpg)"
   ]
  }
 ],
 "metadata": {
  "kernelspec": {
   "display_name": "Python3.6",
   "language": "python",
   "name": "py36"
  },
  "language_info": {
   "codemirror_mode": {
    "name": "ipython",
    "version": 3
   },
   "file_extension": ".py",
   "mimetype": "text/x-python",
   "name": "python",
   "nbconvert_exporter": "python",
   "pygments_lexer": "ipython3",
   "version": "3.7.3"
  }
 },
 "nbformat": 4,
 "nbformat_minor": 2
}
