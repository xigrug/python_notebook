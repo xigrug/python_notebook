{
 "cells": [
  {
   "cell_type": "markdown",
   "metadata": {
    "slideshow": {
     "slide_type": "slide"
    }
   },
   "source": [
    "# Python中的因子分析简介\n",
    "\n",
    "https://www.datacamp.com/community/tutorials/introduction-factor-analysis"
   ]
  },
  {
   "cell_type": "markdown",
   "metadata": {
    "slideshow": {
     "slide_type": "fragment"
    }
   },
   "source": [
    "### 导入所需的库"
   ]
  },
  {
   "cell_type": "code",
   "execution_count": 1,
   "metadata": {
    "slideshow": {
     "slide_type": "fragment"
    }
   },
   "outputs": [],
   "source": [
    "# Import required libraries\n",
    "import pandas as pd\n",
    "from sklearn.datasets import load_iris\n",
    "from factor_analyzer import FactorAnalyzer\n",
    "import matplotlib.pyplot as plt"
   ]
  },
  {
   "cell_type": "code",
   "execution_count": 37,
   "metadata": {},
   "outputs": [],
   "source": [
    "import pkg_resources"
   ]
  },
  {
   "cell_type": "code",
   "execution_count": 38,
   "metadata": {},
   "outputs": [
    {
     "data": {
      "text/plain": [
       "'0.3.1'"
      ]
     },
     "execution_count": 38,
     "metadata": {},
     "output_type": "execute_result"
    }
   ],
   "source": [
    "pkg_resources.get_distribution(\"factor_analyzer\").version"
   ]
  },
  {
   "cell_type": "markdown",
   "metadata": {
    "slideshow": {
     "slide_type": "subslide"
    }
   },
   "source": [
    "## 加载数据"
   ]
  },
  {
   "cell_type": "markdown",
   "metadata": {
    "slideshow": {
     "slide_type": "fragment"
    }
   },
   "source": [
    "让我们对BFI（基于人格评估项目的数据集）进行因子分析，这是使用6点响应量表收集的：1非常不准确，2中度不准确，3略微不准确4准确，5中等准确，6非常准确。\n",
    "您还可以从以下链接下载此数据集：https://vincentarelbundock.github.io/Rdatasets/datasets.html"
   ]
  },
  {
   "cell_type": "code",
   "execution_count": 15,
   "metadata": {
    "slideshow": {
     "slide_type": "fragment"
    }
   },
   "outputs": [],
   "source": [
    "df= pd.read_csv(\"yrd_ccn_new-all-pmcb1.csv\")"
   ]
  },
  {
   "cell_type": "markdown",
   "metadata": {
    "slideshow": {
     "slide_type": "fragment"
    }
   },
   "source": [
    "### 预处理数据"
   ]
  },
  {
   "cell_type": "markdown",
   "metadata": {
    "slideshow": {
     "slide_type": "fragment"
    }
   },
   "source": [
    "# Dropping unnecessary columns\n",
    "# NOTICE BJC is Time value\n",
    "df.drop(['FAC1', 'FAC2', 'FAC3', 'FAC4', 'FAC5', 'FAC6', 'FAC7', 'FAC8'],axis=1,inplace=True)"
   ]
  },
  {
   "cell_type": "code",
   "execution_count": 16,
   "metadata": {},
   "outputs": [],
   "source": [
    "df.drop(['CCN_1.0_cm3',\"stid\"],axis=1,inplace=True)"
   ]
  },
  {
   "cell_type": "code",
   "execution_count": 21,
   "metadata": {},
   "outputs": [],
   "source": [
    "df.drop(['rain',\"rain208\",\"rain820\"],axis=1,inplace=True)"
   ]
  },
  {
   "cell_type": "code",
   "execution_count": 17,
   "metadata": {},
   "outputs": [
    {
     "data": {
      "text/plain": [
       "(796, 47)"
      ]
     },
     "execution_count": 17,
     "metadata": {},
     "output_type": "execute_result"
    }
   ],
   "source": [
    "df.shape"
   ]
  },
  {
   "cell_type": "code",
   "execution_count": 18,
   "metadata": {
    "slideshow": {
     "slide_type": "fragment"
    }
   },
   "outputs": [],
   "source": [
    "# Dropping missing values rows\n",
    "df.dropna(inplace=True)"
   ]
  },
  {
   "cell_type": "code",
   "execution_count": 19,
   "metadata": {},
   "outputs": [
    {
     "data": {
      "text/plain": [
       "(779, 47)"
      ]
     },
     "execution_count": 19,
     "metadata": {},
     "output_type": "execute_result"
    }
   ],
   "source": [
    "df.shape"
   ]
  },
  {
   "cell_type": "code",
   "execution_count": 20,
   "metadata": {
    "scrolled": true,
    "slideshow": {
     "slide_type": "subslide"
    }
   },
   "outputs": [
    {
     "name": "stdout",
     "output_type": "stream",
     "text": [
      "<class 'pandas.core.frame.DataFrame'>\n",
      "Int64Index: 779 entries, 0 to 795\n",
      "Data columns (total 47 columns):\n",
      "CAPE_nc       779 non-null float64\n",
      "CIN0          779 non-null float64\n",
      "Cloud_fra     779 non-null float64\n",
      "GH1000        779 non-null float64\n",
      "GH500         779 non-null float64\n",
      "GH700         779 non-null float64\n",
      "GH850         779 non-null float64\n",
      "H_LCL_nc      779 non-null float64\n",
      "H_tro         779 non-null float64\n",
      "Have          779 non-null float64\n",
      "Hcbs1.0       779 non-null float64\n",
      "Hsd           779 non-null float64\n",
      "Htop1.0       779 non-null float64\n",
      "LTS           779 non-null float64\n",
      "PBLH          779 non-null float64\n",
      "PR            779 non-null float64\n",
      "PTEM700       779 non-null float64\n",
      "PTEMS         779 non-null float64\n",
      "PW            779 non-null float64\n",
      "P_LCL_nc      779 non-null float64\n",
      "P_tro         779 non-null float64\n",
      "Pcb1.0        779 non-null float64\n",
      "Press         779 non-null float64\n",
      "Ptop1.0       779 non-null float64\n",
      "RH2m          779 non-null float64\n",
      "Recb1.0       779 non-null float64\n",
      "Retop1.0      779 non-null float64\n",
      "SLI           779 non-null float64\n",
      "SS_1.0_mg     779 non-null float64\n",
      "T1000         779 non-null float64\n",
      "T2m_NCEP      779 non-null float64\n",
      "T500          779 non-null float64\n",
      "T700          779 non-null float64\n",
      "T850          779 non-null float64\n",
      "T_LCL_nc      779 non-null float64\n",
      "T_coal1.0     779 non-null float64\n",
      "T_tro         779 non-null float64\n",
      "Tcb1.0        779 non-null float64\n",
      "Tskin_NCEP    779 non-null float64\n",
      "Ttop1.0       779 non-null float64\n",
      "Wb_1.0        779 non-null float64\n",
      "PM25          779 non-null float64\n",
      "PM25cb        779 non-null float64\n",
      "PM10          779 non-null float64\n",
      "rain          779 non-null float64\n",
      "rain208       779 non-null float64\n",
      "rain820       779 non-null float64\n",
      "dtypes: float64(47)\n",
      "memory usage: 292.1 KB\n"
     ]
    }
   ],
   "source": [
    "df.info()"
   ]
  },
  {
   "cell_type": "code",
   "execution_count": 22,
   "metadata": {
    "scrolled": true,
    "slideshow": {
     "slide_type": "fragment"
    }
   },
   "outputs": [
    {
     "data": {
      "text/html": [
       "<div>\n",
       "<style scoped>\n",
       "    .dataframe tbody tr th:only-of-type {\n",
       "        vertical-align: middle;\n",
       "    }\n",
       "\n",
       "    .dataframe tbody tr th {\n",
       "        vertical-align: top;\n",
       "    }\n",
       "\n",
       "    .dataframe thead th {\n",
       "        text-align: right;\n",
       "    }\n",
       "</style>\n",
       "<table border=\"1\" class=\"dataframe\">\n",
       "  <thead>\n",
       "    <tr style=\"text-align: right;\">\n",
       "      <th></th>\n",
       "      <th>CAPE_nc</th>\n",
       "      <th>CIN0</th>\n",
       "      <th>Cloud_fra</th>\n",
       "      <th>GH1000</th>\n",
       "      <th>GH500</th>\n",
       "      <th>GH700</th>\n",
       "      <th>GH850</th>\n",
       "      <th>H_LCL_nc</th>\n",
       "      <th>H_tro</th>\n",
       "      <th>Have</th>\n",
       "      <th>...</th>\n",
       "      <th>T_LCL_nc</th>\n",
       "      <th>T_coal1.0</th>\n",
       "      <th>T_tro</th>\n",
       "      <th>Tcb1.0</th>\n",
       "      <th>Tskin_NCEP</th>\n",
       "      <th>Ttop1.0</th>\n",
       "      <th>Wb_1.0</th>\n",
       "      <th>PM25</th>\n",
       "      <th>PM25cb</th>\n",
       "      <th>PM10</th>\n",
       "    </tr>\n",
       "  </thead>\n",
       "  <tbody>\n",
       "    <tr>\n",
       "      <th>0</th>\n",
       "      <td>5.0</td>\n",
       "      <td>-0.61</td>\n",
       "      <td>0.5743</td>\n",
       "      <td>87.970001</td>\n",
       "      <td>5870.669922</td>\n",
       "      <td>3138.550049</td>\n",
       "      <td>1499.560059</td>\n",
       "      <td>1092.2</td>\n",
       "      <td>16511.0</td>\n",
       "      <td>211.0</td>\n",
       "      <td>...</td>\n",
       "      <td>16.9</td>\n",
       "      <td>19.0</td>\n",
       "      <td>-75.7</td>\n",
       "      <td>19.0</td>\n",
       "      <td>30.84</td>\n",
       "      <td>6.0</td>\n",
       "      <td>0.99</td>\n",
       "      <td>18.000000</td>\n",
       "      <td>5.941307</td>\n",
       "      <td>27.00</td>\n",
       "    </tr>\n",
       "    <tr>\n",
       "      <th>1</th>\n",
       "      <td>12.0</td>\n",
       "      <td>-0.01</td>\n",
       "      <td>0.7696</td>\n",
       "      <td>103.300003</td>\n",
       "      <td>5851.430176</td>\n",
       "      <td>3122.830078</td>\n",
       "      <td>1500.099976</td>\n",
       "      <td>981.0</td>\n",
       "      <td>16627.0</td>\n",
       "      <td>4.0</td>\n",
       "      <td>...</td>\n",
       "      <td>16.5</td>\n",
       "      <td>11.0</td>\n",
       "      <td>-74.2</td>\n",
       "      <td>13.0</td>\n",
       "      <td>25.86</td>\n",
       "      <td>-6.0</td>\n",
       "      <td>1.22</td>\n",
       "      <td>15.250000</td>\n",
       "      <td>2.269237</td>\n",
       "      <td>33.00</td>\n",
       "    </tr>\n",
       "    <tr>\n",
       "      <th>2</th>\n",
       "      <td>23.0</td>\n",
       "      <td>-0.71</td>\n",
       "      <td>0.5747</td>\n",
       "      <td>112.959999</td>\n",
       "      <td>5848.350098</td>\n",
       "      <td>3123.909912</td>\n",
       "      <td>1499.530029</td>\n",
       "      <td>212.5</td>\n",
       "      <td>16647.0</td>\n",
       "      <td>5.0</td>\n",
       "      <td>...</td>\n",
       "      <td>18.8</td>\n",
       "      <td>-14.0</td>\n",
       "      <td>-73.3</td>\n",
       "      <td>7.0</td>\n",
       "      <td>20.60</td>\n",
       "      <td>-24.0</td>\n",
       "      <td>1.28</td>\n",
       "      <td>21.875000</td>\n",
       "      <td>0.507255</td>\n",
       "      <td>39.25</td>\n",
       "    </tr>\n",
       "    <tr>\n",
       "      <th>3</th>\n",
       "      <td>0.0</td>\n",
       "      <td>-0.81</td>\n",
       "      <td>0.1157</td>\n",
       "      <td>117.489998</td>\n",
       "      <td>5841.910156</td>\n",
       "      <td>3121.350098</td>\n",
       "      <td>1501.020020</td>\n",
       "      <td>124.0</td>\n",
       "      <td>16669.0</td>\n",
       "      <td>26.0</td>\n",
       "      <td>...</td>\n",
       "      <td>18.7</td>\n",
       "      <td>-20.0</td>\n",
       "      <td>-73.4</td>\n",
       "      <td>-5.0</td>\n",
       "      <td>19.59</td>\n",
       "      <td>-43.0</td>\n",
       "      <td>2.32</td>\n",
       "      <td>11.250000</td>\n",
       "      <td>0.029086</td>\n",
       "      <td>30.00</td>\n",
       "    </tr>\n",
       "    <tr>\n",
       "      <th>4</th>\n",
       "      <td>0.0</td>\n",
       "      <td>-0.21</td>\n",
       "      <td>0.3095</td>\n",
       "      <td>113.699997</td>\n",
       "      <td>5846.069824</td>\n",
       "      <td>3123.209961</td>\n",
       "      <td>1498.010010</td>\n",
       "      <td>124.0</td>\n",
       "      <td>16669.0</td>\n",
       "      <td>42.0</td>\n",
       "      <td>...</td>\n",
       "      <td>18.7</td>\n",
       "      <td>-16.0</td>\n",
       "      <td>-73.4</td>\n",
       "      <td>3.0</td>\n",
       "      <td>19.48</td>\n",
       "      <td>-25.0</td>\n",
       "      <td>1.55</td>\n",
       "      <td>13.333333</td>\n",
       "      <td>0.125628</td>\n",
       "      <td>17.00</td>\n",
       "    </tr>\n",
       "  </tbody>\n",
       "</table>\n",
       "<p>5 rows × 44 columns</p>\n",
       "</div>"
      ],
      "text/plain": [
       "   CAPE_nc  CIN0  Cloud_fra      GH1000        GH500        GH700  \\\n",
       "0      5.0 -0.61     0.5743   87.970001  5870.669922  3138.550049   \n",
       "1     12.0 -0.01     0.7696  103.300003  5851.430176  3122.830078   \n",
       "2     23.0 -0.71     0.5747  112.959999  5848.350098  3123.909912   \n",
       "3      0.0 -0.81     0.1157  117.489998  5841.910156  3121.350098   \n",
       "4      0.0 -0.21     0.3095  113.699997  5846.069824  3123.209961   \n",
       "\n",
       "         GH850  H_LCL_nc    H_tro   Have  ...  T_LCL_nc  T_coal1.0  T_tro  \\\n",
       "0  1499.560059    1092.2  16511.0  211.0  ...      16.9       19.0  -75.7   \n",
       "1  1500.099976     981.0  16627.0    4.0  ...      16.5       11.0  -74.2   \n",
       "2  1499.530029     212.5  16647.0    5.0  ...      18.8      -14.0  -73.3   \n",
       "3  1501.020020     124.0  16669.0   26.0  ...      18.7      -20.0  -73.4   \n",
       "4  1498.010010     124.0  16669.0   42.0  ...      18.7      -16.0  -73.4   \n",
       "\n",
       "   Tcb1.0  Tskin_NCEP  Ttop1.0  Wb_1.0       PM25    PM25cb   PM10  \n",
       "0    19.0       30.84      6.0    0.99  18.000000  5.941307  27.00  \n",
       "1    13.0       25.86     -6.0    1.22  15.250000  2.269237  33.00  \n",
       "2     7.0       20.60    -24.0    1.28  21.875000  0.507255  39.25  \n",
       "3    -5.0       19.59    -43.0    2.32  11.250000  0.029086  30.00  \n",
       "4     3.0       19.48    -25.0    1.55  13.333333  0.125628  17.00  \n",
       "\n",
       "[5 rows x 44 columns]"
      ]
     },
     "execution_count": 22,
     "metadata": {},
     "output_type": "execute_result"
    }
   ],
   "source": [
    "df.head()"
   ]
  },
  {
   "cell_type": "markdown",
   "metadata": {
    "slideshow": {
     "slide_type": "subslide"
    }
   },
   "source": [
    "## 充分性测试\n",
    "在执行因子分析之前，您需要评估数据集的“可用性”。Factorability意味着“我们能找到数据集中的因子吗？”。有两种方法可以检查可行性或抽样充分性：\n",
    "\n",
    "* 巴特利特的考验\n",
    "* Kaiser-Meyer-Olkin测试\n",
    "\n",
    "**Bartlett**对球形度的检验使用观察到的相对矩阵对照单位矩阵检查观察到的变量是否完全相互关联。如果测试发现统计上不显着，则不应使用因子分析。"
   ]
  },
  {
   "cell_type": "code",
   "execution_count": 23,
   "metadata": {
    "slideshow": {
     "slide_type": "fragment"
    }
   },
   "outputs": [
    {
     "data": {
      "text/plain": [
       "(98148.374094729064, 0.0)"
      ]
     },
     "execution_count": 23,
     "metadata": {},
     "output_type": "execute_result"
    }
   ],
   "source": [
    "from factor_analyzer.factor_analyzer import calculate_bartlett_sphericity\n",
    "chi_square_value,p_value=calculate_bartlett_sphericity(df)\n",
    "chi_square_value, p_value"
   ]
  },
  {
   "cell_type": "markdown",
   "metadata": {
    "slideshow": {
     "slide_type": "subslide"
    }
   },
   "source": [
    "在该Bartlett检验中，p值为0.该检验具有统计学意义，表明观察到的相关矩阵不是单位矩阵。"
   ]
  },
  {
   "cell_type": "markdown",
   "metadata": {
    "slideshow": {
     "slide_type": "fragment"
    }
   },
   "source": [
    "**Kaiser-Meyer-Olkin（KMO）测试**测量数据在因子分析中的适用性。它确定了每个观测变量和完整模型的充分性。\n",
    "KMO估计所有观测变量之间的方差比例。较低的比例id更适合因子分析。KMO值介于0和1之间.KMO小于0.6的值被认为是不合适的。"
   ]
  },
  {
   "cell_type": "code",
   "execution_count": 24,
   "metadata": {
    "slideshow": {
     "slide_type": "fragment"
    }
   },
   "outputs": [],
   "source": [
    "from factor_analyzer.factor_analyzer import calculate_kmo\n",
    "kmo_all,kmo_model=calculate_kmo(df)"
   ]
  },
  {
   "cell_type": "code",
   "execution_count": 25,
   "metadata": {
    "scrolled": true,
    "slideshow": {
     "slide_type": "fragment"
    }
   },
   "outputs": [
    {
     "data": {
      "text/plain": [
       "0.84395891656315969"
      ]
     },
     "execution_count": 25,
     "metadata": {},
     "output_type": "execute_result"
    }
   ],
   "source": [
    "kmo_model"
   ]
  },
  {
   "cell_type": "markdown",
   "metadata": {
    "slideshow": {
     "slide_type": "notes"
    }
   },
   "source": [
    "我们数据的总体KMO为0.84，非常好。此值表示您可以继续进行计划的因子分析。"
   ]
  },
  {
   "cell_type": "markdown",
   "metadata": {
    "slideshow": {
     "slide_type": "subslide"
    }
   },
   "source": [
    "### 选择因素数量\n",
    "要选择因子数，可以使用Kaiser标准和scree图。两者都基于特征值。"
   ]
  },
  {
   "cell_type": "code",
   "execution_count": 26,
   "metadata": {
    "slideshow": {
     "slide_type": "fragment"
    }
   },
   "outputs": [
    {
     "data": {
      "text/plain": [
       "array([  1.34245620e+01,   6.02764774e+00,   4.72035062e+00,\n",
       "         3.67524841e+00,   2.67000101e+00,   2.31756700e+00,\n",
       "         1.87563353e+00,   1.30432264e+00,   1.08266969e+00,\n",
       "         9.64145388e-01,   8.33479046e-01,   8.07275381e-01,\n",
       "         7.46397907e-01,   5.54716295e-01,   4.73695223e-01,\n",
       "         3.72950942e-01,   3.28420954e-01,   2.75711324e-01,\n",
       "         2.39381677e-01,   2.09045063e-01,   2.04638642e-01,\n",
       "         1.80461616e-01,   1.29445914e-01,   1.25207482e-01,\n",
       "         8.72315887e-02,   8.39172503e-02,   7.98639777e-02,\n",
       "         5.95055949e-02,   4.39160092e-02,   2.68973024e-02,\n",
       "         2.20840920e-02,   1.82201720e-02,   1.32593426e-02,\n",
       "         7.03993417e-03,   4.97682771e-03,   3.65006145e-03,\n",
       "         3.58306436e-03,   1.42888193e-03,   9.08098251e-04,\n",
       "         4.57921564e-04,   7.18799766e-05,   1.14393341e-05,\n",
       "         9.93708894e-07,   9.18106639e-08])"
      ]
     },
     "execution_count": 26,
     "metadata": {},
     "output_type": "execute_result"
    }
   ],
   "source": [
    "# Create factor analysis object and perform factor analysis\n",
    "fa = FactorAnalyzer(rotation=None)\n",
    "fa.fit(df)\n",
    "# Check Eigenvalues\n",
    "ev, v = fa.get_eigenvalues()\n",
    "ev"
   ]
  },
  {
   "cell_type": "markdown",
   "metadata": {
    "slideshow": {
     "slide_type": "subslide"
    }
   },
   "source": [
    "在这里，您只能看到6个因子的特征值大于1。这意味着我们只需要选择6个因子（或未观察到的变量）。"
   ]
  },
  {
   "cell_type": "code",
   "execution_count": 27,
   "metadata": {
    "slideshow": {
     "slide_type": "fragment"
    }
   },
   "outputs": [
    {
     "data": {
      "image/png": "[encoded data removed]",
      "text/plain": [
       "<matplotlib.figure.Figure at 0x2ae5c29e4470>"
      ]
     },
     "metadata": {
      "needs_background": "light"
     },
     "output_type": "display_data"
    }
   ],
   "source": [
    "# Create scree plot using matplotlib\n",
    "plt.scatter(range(1,df.shape[1]+1),ev)\n",
    "plt.plot(range(1,df.shape[1]+1),ev)\n",
    "plt.title('Scree Plot')\n",
    "plt.xlabel('Factors')\n",
    "plt.ylabel('Eigenvalue')\n",
    "plt.axhline(y=1, color='r', linestyle='-')\n",
    "plt.grid()\n",
    "plt.show()"
   ]
  },
  {
   "cell_type": "markdown",
   "metadata": {
    "slideshow": {
     "slide_type": "notes"
    }
   },
   "source": [
    "碎石图方法为每个因子及其特征值绘制一条直线。特征值大于1被认为是因子的数量。\n",
    "\n",
    "在这里，您只能看到6个因子的特征值大于1。这意味着我们只需要选择6个因子（或未观察到的变量）。"
   ]
  },
  {
   "cell_type": "markdown",
   "metadata": {
    "slideshow": {
     "slide_type": "slide"
    }
   },
   "source": [
    "## 执行因子分析"
   ]
  },
  {
   "cell_type": "markdown",
   "metadata": {
    "slideshow": {
     "slide_type": "fragment"
    }
   },
   "source": [
    "# Create factor analysis object and perform factor analysis\n",
    "\n",
    "### for 0.2.3\n",
    "fa = FactorAnalyzer()\n",
    "fa.analyze(df, 6 ,rotation=\"varimax\")"
   ]
  },
  {
   "cell_type": "code",
   "execution_count": 28,
   "metadata": {},
   "outputs": [],
   "source": [
    "fav= FactorAnalyzer(n_factors=6,rotation=\"varimax\")"
   ]
  },
  {
   "cell_type": "code",
   "execution_count": 29,
   "metadata": {},
   "outputs": [
    {
     "data": {
      "text/plain": [
       "FactorAnalyzer(bounds=(0.005, 1), impute='median', is_corr_matrix=False,\n",
       "        method='minres', n_factors=6, rotation='varimax',\n",
       "        rotation_kwargs={}, use_smc=True)"
      ]
     },
     "execution_count": 29,
     "metadata": {},
     "output_type": "execute_result"
    }
   ],
   "source": [
    "fav.fit(df)"
   ]
  },
  {
   "cell_type": "code",
   "execution_count": 30,
   "metadata": {
    "slideshow": {
     "slide_type": "fragment"
    }
   },
   "outputs": [
    {
     "data": {
      "text/plain": [
       "array([[  2.61723459e-01,   7.70192957e-01,   1.77511485e-01,\n",
       "          7.05390457e-02,  -8.94336956e-02,   1.65905246e-01],\n",
       "       [  9.64835317e-02,   1.08001109e-01,  -3.18172623e-02,\n",
       "         -2.58316865e-02,  -7.54830485e-02,   1.20968364e-02],\n",
       "       [ -4.19077321e-01,  -1.49066385e-01,  -3.85000703e-02,\n",
       "         -3.91952099e-01,   1.25589824e-01,  -4.39384026e-02],\n",
       "       [ -1.48841272e-01,  -4.24515860e-01,  -3.77268540e-02,\n",
       "          3.75959527e-03,  -3.52465743e-01,   8.17438669e-01],\n",
       "       [  1.82794488e-01,   6.60443839e-01,   1.35098092e-01,\n",
       "          2.09071488e-02,   3.53621919e-01,   5.82477745e-01],\n",
       "       [  2.56129075e-01,   4.48980364e-01,   1.24590614e-01,\n",
       "          6.69986132e-02,  -9.31220334e-02,   8.23376033e-01],\n",
       "       [  2.06212500e-01,   4.71808679e-02,   7.05991301e-02,\n",
       "          6.72521971e-02,  -3.21683078e-01,   8.92946467e-01],\n",
       "       [  8.87957848e-01,  -6.58577371e-03,   1.45115665e-01,\n",
       "          2.39683818e-01,   7.10685634e-03,   5.14436510e-02],\n",
       "       [  2.43065266e-02,  -9.01771867e-02,   1.19718632e-02,\n",
       "          7.13029847e-02,   7.67433852e-01,  -1.38314270e-01],\n",
       "       [  4.04781169e-01,  -3.72858096e-02,  -9.25402168e-02,\n",
       "         -1.68333080e-01,   1.66708815e-01,   1.97389407e-01],\n",
       "       [  1.16782522e-01,  -4.36243834e-03,  -9.69169980e-01,\n",
       "         -1.36420996e-01,  -5.67804744e-02,  -1.81211308e-02],\n",
       "       [  4.30416661e-01,  -3.78107163e-02,  -9.82417741e-02,\n",
       "         -1.84244026e-01,   1.75135954e-01,   1.88386703e-01],\n",
       "       [ -1.56774292e-01,  -1.81941771e-02,  -2.68257249e-01,\n",
       "         -8.74464026e-01,  -2.20328629e-02,  -6.33085827e-02],\n",
       "       [ -8.07260141e-01,  -3.17749188e-01,  -1.50612415e-01,\n",
       "         -8.69672957e-02,   2.75500025e-01,   4.53059375e-02],\n",
       "       [  8.21254839e-01,   1.18653394e-01,   1.48496291e-01,\n",
       "          2.61128109e-01,  -3.86878740e-03,   7.28994667e-03],\n",
       "       [ -4.13134630e-01,  -1.02961367e-01,  -3.13866979e-01,\n",
       "         -1.98378541e-01,   4.09809570e-02,   5.04872564e-03],\n",
       "       [  7.71508718e-02,   6.87271660e-01,   1.29568815e-01,\n",
       "          1.07352830e-01,   5.85618693e-01,   1.71737594e-02],\n",
       "       [  7.16995559e-01,   6.40536047e-01,   1.91645631e-01,\n",
       "          1.28496989e-01,   8.56018420e-02,  -3.29054954e-02],\n",
       "       [ -2.78450200e-01,   5.74155044e-01,  -1.17488463e-01,\n",
       "         -3.42320077e-01,   2.70056845e-01,  -8.95898542e-02],\n",
       "       [ -9.31148799e-01,   5.90370246e-03,  -1.38803300e-01,\n",
       "         -1.86881741e-01,  -5.76879828e-02,  -3.11412862e-02],\n",
       "       [ -2.36029836e-02,   1.25801275e-01,   5.60301638e-04,\n",
       "         -7.32174547e-02,  -7.23156891e-01,   1.19567691e-01],\n",
       "       [  1.60680221e-01,   8.75160682e-02,   9.50462261e-01,\n",
       "          1.96562843e-01,  -3.41438096e-02,   1.57454559e-02],\n",
       "       [ -3.93318515e-01,  -8.49510213e-02,   3.11740636e-02,\n",
       "          1.82375692e-01,  -2.58617517e-01,   8.06311001e-02],\n",
       "       [  1.67123080e-01,   4.91824176e-02,   2.79696606e-01,\n",
       "          9.08008372e-01,   3.41412916e-02,   6.87976332e-02],\n",
       "       [ -8.79794332e-01,   3.00698231e-02,  -1.69033214e-01,\n",
       "         -2.49179495e-01,   7.79157260e-03,  -4.73894402e-02],\n",
       "       [ -2.16974579e-01,  -2.12788196e-01,  -5.30538531e-01,\n",
       "         -1.52464387e-02,  -2.60692020e-03,  -7.99883519e-02],\n",
       "       [ -1.79749325e-01,   5.09725674e-02,  -1.34963152e-01,\n",
       "         -8.11817429e-01,  -4.65371527e-02,  -3.87131550e-02],\n",
       "       [ -2.10681083e-01,  -8.03342896e-01,  -1.99358805e-01,\n",
       "         -1.77174873e-02,   2.38634521e-01,  -5.36099553e-03],\n",
       "       [ -1.61549190e-01,  -9.81782551e-02,  -8.53758885e-01,\n",
       "         -1.25844737e-01,  -4.25376531e-02,  -3.19395317e-02],\n",
       "       [  7.05964125e-01,   6.48140862e-01,   1.98379544e-01,\n",
       "          1.42250116e-01,   7.62559663e-02,  -3.56363208e-02],\n",
       "       [  6.84140019e-01,   6.30380827e-01,   2.34664131e-01,\n",
       "          1.83814999e-01,   1.93524633e-02,  -2.24512368e-02],\n",
       "       [  4.38003193e-02,   3.50931074e-01,   5.42298797e-02,\n",
       "         -4.86856963e-02,   7.20156495e-01,  -1.62104880e-01],\n",
       "       [  7.72541188e-02,   6.87256966e-01,   1.29616593e-01,\n",
       "          1.07384287e-01,   5.85606363e-01,   1.72201647e-02],\n",
       "       [  3.35104533e-01,   8.28327814e-01,   1.31984672e-01,\n",
       "          2.10869491e-02,   2.17194879e-01,  -1.99484668e-02],\n",
       "       [ -2.87694123e-01,   8.53208151e-01,   1.18034307e-01,\n",
       "         -1.31193626e-01,   1.40338772e-01,  -4.98966290e-02],\n",
       "       [  3.18724706e-01,   2.77659334e-01,   7.52360681e-01,\n",
       "          1.99897451e-01,   5.49712397e-02,   3.40349307e-02],\n",
       "       [ -9.31643469e-02,  -1.72104514e-01,   6.01186101e-02,\n",
       "          1.10346650e-01,  -8.42798261e-01,  -1.91777577e-02],\n",
       "       [  2.73650153e-01,   3.24483712e-01,   8.77333258e-01,\n",
       "          1.93716090e-01,   6.25702805e-02,   9.12541657e-03],\n",
       "       [  7.00259131e-01,   5.02167817e-01,   2.55537949e-01,\n",
       "          2.06229791e-01,  -4.25318345e-02,  -5.22594626e-02],\n",
       "       [  1.45178906e-01,   1.26339345e-02,   2.14091593e-01,\n",
       "          9.17946360e-01,   8.78254467e-02,   4.24816228e-02],\n",
       "       [  1.16726229e-01,  -4.37932036e-03,  -9.69175824e-01,\n",
       "         -1.36304138e-01,  -5.65329588e-02,  -1.80243265e-02],\n",
       "       [  6.59209235e-02,  -9.60021046e-02,   4.65185906e-02,\n",
       "         -7.07853982e-02,  -2.83243030e-01,  -1.89995861e-01],\n",
       "       [  4.12949288e-02,  -2.32161078e-02,   5.85229514e-01,\n",
       "          5.07862346e-02,  -1.62408242e-01,  -1.26429563e-01],\n",
       "       [  3.62899836e-02,   2.69805915e-02,   3.88919233e-02,\n",
       "         -9.22716615e-02,  -5.85624074e-02,  -1.24336766e-01]])"
      ]
     },
     "execution_count": 30,
     "metadata": {},
     "output_type": "execute_result"
    }
   ],
   "source": [
    "fav.loadings_"
   ]
  },
  {
   "cell_type": "markdown",
   "metadata": {
    "slideshow": {
     "slide_type": "subslide"
    }
   },
   "source": [
    "* 因子1具有E1，E2，E3，E4和E5（外向）的高因子负载\n",
    "\n",
    "* 因子2对N1，N2，N3，N4和N5具有高因子负荷（神经质）\n",
    "\n",
    "* 因子3具有C1，C2，C3，C4和C5的高因子负载（尽责）\n",
    "\n",
    "* 因子4对O1，O2，O3，O4和O5具有高因子负载（Opennness）\n",
    "\n",
    "* 因子5具有A1，A2，A3，A4和A5的高因子载荷（令人满意）\n",
    "\n",
    "* 因子6没有任何变量的高值，并且不易解释。如果我们只采取五个因素，这是好的。\n",
    "\n",
    "让我们对5个因素进行因子分析。"
   ]
  },
  {
   "cell_type": "code",
   "execution_count": 31,
   "metadata": {},
   "outputs": [
    {
     "data": {
      "text/plain": [
       "(array([  1.34245620e+01,   6.02764774e+00,   4.72035062e+00,\n",
       "          3.67524841e+00,   2.67000101e+00,   2.31756700e+00,\n",
       "          1.87563353e+00,   1.30432264e+00,   1.08266969e+00,\n",
       "          9.64145388e-01,   8.33479046e-01,   8.07275381e-01,\n",
       "          7.46397907e-01,   5.54716295e-01,   4.73695223e-01,\n",
       "          3.72950942e-01,   3.28420954e-01,   2.75711324e-01,\n",
       "          2.39381677e-01,   2.09045063e-01,   2.04638642e-01,\n",
       "          1.80461616e-01,   1.29445914e-01,   1.25207482e-01,\n",
       "          8.72315887e-02,   8.39172503e-02,   7.98639777e-02,\n",
       "          5.95055949e-02,   4.39160092e-02,   2.68973024e-02,\n",
       "          2.20840920e-02,   1.82201720e-02,   1.32593426e-02,\n",
       "          7.03993417e-03,   4.97682771e-03,   3.65006145e-03,\n",
       "          3.58306436e-03,   1.42888193e-03,   9.08098251e-04,\n",
       "          4.57921564e-04,   7.18799766e-05,   1.14393341e-05,\n",
       "          9.93708894e-07,   9.18106639e-08]),\n",
       " array([  1.32753350e+01,   5.82334616e+00,   4.54443724e+00,\n",
       "          3.45642898e+00,   2.48655687e+00,   1.98820046e+00,\n",
       "          1.39104311e+00,   7.69774003e-01,   5.53170514e-01,\n",
       "          4.04113538e-01,   3.10983810e-01,   2.10156363e-01,\n",
       "          1.25191590e-01,   8.26333872e-02,   3.57571670e-02,\n",
       "          8.60119919e-03,   5.07179128e-03,  -2.35160867e-03,\n",
       "         -1.38667335e-02,  -1.48671934e-02,  -1.92070336e-02,\n",
       "         -2.39727937e-02,  -2.49089214e-02,  -2.98799147e-02,\n",
       "         -4.15811299e-02,  -4.69323692e-02,  -5.62950597e-02,\n",
       "         -6.37093763e-02,  -7.28033998e-02,  -8.65361012e-02,\n",
       "         -9.13746204e-02,  -9.75475511e-02,  -1.19189887e-01,\n",
       "         -1.24461412e-01,  -1.29714615e-01,  -1.37154802e-01,\n",
       "         -1.50146559e-01,  -1.68131701e-01,  -2.06296873e-01,\n",
       "         -2.44243418e-01,  -3.61125372e-01,  -4.05232006e-01,\n",
       "         -5.11006728e-01,  -6.54315520e-01]))"
      ]
     },
     "execution_count": 31,
     "metadata": {},
     "output_type": "execute_result"
    }
   ],
   "source": [
    "#Calculate the eigenvalues, given the factor correlation matrix\n",
    "fav.get_eigenvalues()"
   ]
  },
  {
   "cell_type": "code",
   "execution_count": 32,
   "metadata": {},
   "outputs": [
    {
     "data": {
      "text/plain": [
       "array([ 0.73370538,  0.02849695,  0.37065868,  0.99624297,  0.95261728,\n",
       "        0.97381691,  0.95509012,  0.86971636,  0.62203573,  0.26889215,\n",
       "        0.97511072,  0.29644761,  0.86605191,  0.86083378,  0.77884529,\n",
       "        0.32085272,  0.84985149,  0.98601903,  0.61913214,  0.92556176,\n",
       "        0.55899649,  0.97690638,  0.26953324,  0.93895717,  0.86791138,\n",
       "        0.3804653 ,  0.71583503,  0.78677934,  0.78330783,  0.98514638,\n",
       "        0.95516134,  0.67528563,  0.84985353,  0.86385818,  0.86406057,\n",
       "        0.78886594,  0.76476689,  0.99141197,  0.85490575,  0.91921526,\n",
       "        0.97504564,  0.13706157,  0.38967796,  0.03096074])"
      ]
     },
     "execution_count": 32,
     "metadata": {},
     "output_type": "execute_result"
    }
   ],
   "source": [
    "# Calculate the communalities, given the factor loading matrix.\n",
    "fav.get_communalities()"
   ]
  },
  {
   "cell_type": "code",
   "execution_count": 33,
   "metadata": {
    "slideshow": {
     "slide_type": "subslide"
    }
   },
   "outputs": [
    {
     "data": {
      "text/plain": [
       "(array([ 7.57480591,  6.83537053,  6.31567373,  4.10643438,  3.97398482,\n",
       "         2.76767912]),\n",
       " array([ 0.17215468,  0.15534933,  0.14353804,  0.09332805,  0.09031784,\n",
       "         0.0629018 ]),\n",
       " array([ 0.17215468,  0.32750401,  0.47104205,  0.5643701 ,  0.65468794,\n",
       "         0.71758974]))"
      ]
     },
     "execution_count": 33,
     "metadata": {},
     "output_type": "execute_result"
    }
   ],
   "source": [
    "# Get variance of each factors\n",
    "fav.get_factor_variance()"
   ]
  },
  {
   "cell_type": "code",
   "execution_count": 34,
   "metadata": {},
   "outputs": [
    {
     "data": {
      "text/plain": [
       "array([ 0.26629462,  0.97150305,  0.62934132,  0.00375703,  0.04738272,\n",
       "        0.02618309,  0.04490988,  0.13028364,  0.37796427,  0.73110785,\n",
       "        0.02488928,  0.70355239,  0.13394809,  0.13916622,  0.22115471,\n",
       "        0.67914728,  0.15014851,  0.01398097,  0.38086786,  0.07443824,\n",
       "        0.44100351,  0.02309362,  0.73046676,  0.06104283,  0.13208862,\n",
       "        0.6195347 ,  0.28416497,  0.21322066,  0.21669217,  0.01485362,\n",
       "        0.04483866,  0.32471437,  0.15014647,  0.13614182,  0.13593943,\n",
       "        0.21113406,  0.23523311,  0.00858803,  0.14509425,  0.08078474,\n",
       "        0.02495436,  0.86293843,  0.61032204,  0.96903926])"
      ]
     },
     "execution_count": 34,
     "metadata": {},
     "output_type": "execute_result"
    }
   ],
   "source": [
    "#Calculate the uniquenesses, given the factor loading matrix.\n",
    "fav.get_uniquenesses()"
   ]
  },
  {
   "cell_type": "code",
   "execution_count": 35,
   "metadata": {},
   "outputs": [
    {
     "data": {
      "text/plain": [
       "array([[  8.10027569e+00,   4.84849707e+00,  -1.18193151e+00,\n",
       "         -9.75992004e-01,   2.10159041e-01,  -1.81256985e+00],\n",
       "       [  9.76364192e+00,   4.23769125e+00,  -1.98970032e+00,\n",
       "         -2.03741594e+00,   5.81570922e-01,  -2.35055927e+00],\n",
       "       [ -9.70559205e+01,  -9.43860797e+01,   2.13321751e+01,\n",
       "          9.75395782e+00,   1.34497097e+01,   4.88035158e+01],\n",
       "       ..., \n",
       "       [  9.83146859e+00,   8.52243323e+00,  -2.11974830e+00,\n",
       "         -1.05603993e-02,  -4.14913285e+00,  -3.72626293e+00],\n",
       "       [ -4.13741114e+00,  -3.02275483e+00,  -4.16779219e-02,\n",
       "          8.87173908e-01,   7.42539618e-01,   8.10742947e-01],\n",
       "       [  2.11867545e+00,   4.90141647e+00,  -2.31212387e+00,\n",
       "          1.55473218e+00,  -1.43802620e+00,  -2.62859929e+00]])"
      ]
     },
     "execution_count": 35,
     "metadata": {},
     "output_type": "execute_result"
    }
   ],
   "source": [
    "#Get the factor scores for new data set.\n",
    "fav.transform(df)"
   ]
  },
  {
   "cell_type": "code",
   "execution_count": 36,
   "metadata": {},
   "outputs": [
    {
     "data": {
      "text/plain": [
       "(779, 6)"
      ]
     },
     "execution_count": 36,
     "metadata": {},
     "output_type": "execute_result"
    }
   ],
   "source": [
    "fav.transform(df).shape"
   ]
  },
  {
   "cell_type": "markdown",
   "metadata": {
    "slideshow": {
     "slide_type": "slide"
    }
   },
   "source": [
    "## 因子分析的利弊\n",
    "\n",
    "因子分析探索大型数据集并找到相互关联的关联。它将观察到的变量减少为几个未观察到的变量或识别相互关联的变量组，这有助于市场研究人员压缩市场情况并找出消费者品味，偏好和文化影响之间的隐藏关系。此外，它有助于改进未来调查的调查问卷。因素可以提供更自然的数据解释。\n",
    "\n",
    "因子分析的结果存在争议。它的解释是有争议的，因为可以对相同的数据因素进行不止一种解释。因子识别和因子命名需要领域知识。"
   ]
  },
  {
   "cell_type": "markdown",
   "metadata": {
    "slideshow": {
     "slide_type": "subslide"
    }
   },
   "source": [
    "## 结论\n",
    "\n",
    "\n",
    "恭喜，您已经完成了本教程的结尾！\n",
    "\n",
    "在本教程中，您已经了解了什么因素分析。不同类型的因子分析，因子分析如何工作，基本因子分析术语，选择因素数量，主成分分析和因子分析的比较，使用python FactorAnalyzer包在python中实现，以及因子分析的优缺点。\n",
    "\n",
    "我期待听到任何反馈或问题。您可以通过发表评论来提出问题，我会尽力回答。\n",
    "\n",
    "如果您想了解有关Python中的因素的更多信息，请参阅DataCamp 在Python中的无监督学习课程。"
   ]
  },
  {
   "cell_type": "markdown",
   "metadata": {
    "slideshow": {
     "slide_type": "subslide"
    }
   },
   "source": [
    "# issue\n",
    "同样的问题。解决了安装先前版本的因子分析器的问题：\n",
    "\n",
    "pip install factor_analyzer == 0.2.3\n",
    "\n",
    "非常感谢Avinash教程。\n",
    "\n",
    "by liuchongcn@126.com @NJU 2019-07-03\n",
    "\n",
    "![简书](https://raw.githubusercontent.com/xigrug/xigrug.github.io/master/picture/jianshuQR1.jpg)"
   ]
  }
 ],
 "metadata": {
  "kernelspec": {
   "display_name": "Python 3",
   "language": "python",
   "name": "python3"
  },
  "language_info": {
   "codemirror_mode": {
    "name": "ipython",
    "version": 3
   },
   "file_extension": ".py",
   "mimetype": "text/x-python",
   "name": "python",
   "nbconvert_exporter": "python",
   "pygments_lexer": "ipython3",
   "version": "3.6.0"
  }
 },
 "nbformat": 4,
 "nbformat_minor": 2
}
