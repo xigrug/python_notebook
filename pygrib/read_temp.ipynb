{
 "cells": [
  {
   "cell_type": "code",
   "execution_count": 1,
   "metadata": {},
   "outputs": [],
   "source": [
    "import pygrib"
   ]
  },
  {
   "cell_type": "code",
   "execution_count": 2,
   "metadata": {},
   "outputs": [],
   "source": [
    "file=\"gdas1.fnl0p25.2018060318.f06.grib2\" #example filename\n",
    "gr = pygrib.open(file)"
   ]
  },
  {
   "cell_type": "code",
   "execution_count": 3,
   "metadata": {},
   "outputs": [],
   "source": [
    "tmpmsgs = gr.select(name='Temperature')"
   ]
  },
  {
   "cell_type": "code",
   "execution_count": 4,
   "metadata": {},
   "outputs": [
    {
     "data": {
      "text/plain": [
       "[6:Temperature:K (instant):regular_ll:isobaricInhPa:level 100 Pa:fcst time 6 hrs:from 201806031800,\n",
       " 12:Temperature:K (instant):regular_ll:isobaricInhPa:level 200 Pa:fcst time 6 hrs:from 201806031800,\n",
       " 18:Temperature:K (instant):regular_ll:isobaricInhPa:level 300 Pa:fcst time 6 hrs:from 201806031800,\n",
       " 24:Temperature:K (instant):regular_ll:isobaricInhPa:level 500 Pa:fcst time 6 hrs:from 201806031800,\n",
       " 30:Temperature:K (instant):regular_ll:isobaricInhPa:level 700 Pa:fcst time 6 hrs:from 201806031800,\n",
       " 36:Temperature:K (instant):regular_ll:isobaricInhPa:level 1000 Pa:fcst time 6 hrs:from 201806031800,\n",
       " 43:Temperature:K (instant):regular_ll:isobaricInhPa:level 2000 Pa:fcst time 6 hrs:from 201806031800,\n",
       " 50:Temperature:K (instant):regular_ll:isobaricInhPa:level 3000 Pa:fcst time 6 hrs:from 201806031800,\n",
       " 57:Temperature:K (instant):regular_ll:isobaricInhPa:level 5000 Pa:fcst time 6 hrs:from 201806031800,\n",
       " 64:Temperature:K (instant):regular_ll:isobaricInhPa:level 7000 Pa:fcst time 6 hrs:from 201806031800,\n",
       " 71:Temperature:K (instant):regular_ll:isobaricInhPa:level 10000 Pa:fcst time 6 hrs:from 201806031800,\n",
       " 81:Temperature:K (instant):regular_ll:isobaricInhPa:level 15000 Pa:fcst time 6 hrs:from 201806031800,\n",
       " 91:Temperature:K (instant):regular_ll:isobaricInhPa:level 20000 Pa:fcst time 6 hrs:from 201806031800,\n",
       " 101:Temperature:K (instant):regular_ll:isobaricInhPa:level 25000 Pa:fcst time 6 hrs:from 201806031800,\n",
       " 111:Temperature:K (instant):regular_ll:isobaricInhPa:level 30000 Pa:fcst time 6 hrs:from 201806031800,\n",
       " 121:Temperature:K (instant):regular_ll:isobaricInhPa:level 35000 Pa:fcst time 6 hrs:from 201806031800,\n",
       " 131:Temperature:K (instant):regular_ll:isobaricInhPa:level 40000 Pa:fcst time 6 hrs:from 201806031800,\n",
       " 141:Temperature:K (instant):regular_ll:isobaricInhPa:level 45000 Pa:fcst time 6 hrs:from 201806031800,\n",
       " 150:Temperature:K (instant):regular_ll:isobaricInhPa:level 50000 Pa:fcst time 6 hrs:from 201806031800,\n",
       " 159:Temperature:K (instant):regular_ll:isobaricInhPa:level 55000 Pa:fcst time 6 hrs:from 201806031800,\n",
       " 168:Temperature:K (instant):regular_ll:isobaricInhPa:level 60000 Pa:fcst time 6 hrs:from 201806031800,\n",
       " 177:Temperature:K (instant):regular_ll:isobaricInhPa:level 65000 Pa:fcst time 6 hrs:from 201806031800,\n",
       " 186:Temperature:K (instant):regular_ll:isobaricInhPa:level 70000 Pa:fcst time 6 hrs:from 201806031800,\n",
       " 195:Temperature:K (instant):regular_ll:isobaricInhPa:level 75000 Pa:fcst time 6 hrs:from 201806031800,\n",
       " 204:Temperature:K (instant):regular_ll:isobaricInhPa:level 80000 Pa:fcst time 6 hrs:from 201806031800,\n",
       " 213:Temperature:K (instant):regular_ll:isobaricInhPa:level 85000 Pa:fcst time 6 hrs:from 201806031800,\n",
       " 222:Temperature:K (instant):regular_ll:isobaricInhPa:level 90000 Pa:fcst time 6 hrs:from 201806031800,\n",
       " 231:Temperature:K (instant):regular_ll:isobaricInhPa:level 92500 Pa:fcst time 6 hrs:from 201806031800,\n",
       " 239:Temperature:K (instant):regular_ll:isobaricInhPa:level 95000 Pa:fcst time 6 hrs:from 201806031800,\n",
       " 249:Temperature:K (instant):regular_ll:isobaricInhPa:level 97500 Pa:fcst time 6 hrs:from 201806031800,\n",
       " 256:Temperature:K (instant):regular_ll:isobaricInhPa:level 100000 Pa:fcst time 6 hrs:from 201806031800,\n",
       " 268:Temperature:K (instant):regular_ll:surface:level 0:fcst time 6 hrs:from 201806031800,\n",
       " 328:Temperature:K (avg):regular_ll:unknown:level 0:fcst time 0-6 hrs (avg):from 201806031800,\n",
       " 329:Temperature:K (avg):regular_ll:unknown:level 0:fcst time 0-6 hrs (avg):from 201806031800,\n",
       " 330:Temperature:K (avg):regular_ll:unknown:level 0:fcst time 0-6 hrs (avg):from 201806031800,\n",
       " 346:Temperature:K (instant):regular_ll:tropopause:level 0:fcst time 6 hrs:from 201806031800,\n",
       " 355:Temperature:K (instant):regular_ll:maxWind:level 0:fcst time 6 hrs:from 201806031800,\n",
       " 356:Temperature:K (instant):regular_ll:heightAboveGround:level 80 m:fcst time 6 hrs:from 201806031800,\n",
       " 361:Temperature:K (instant):regular_ll:heightAboveGround:level 100 m:fcst time 6 hrs:from 201806031800,\n",
       " 364:Temperature:K (instant):regular_ll:heightAboveSea:level 1829 m:fcst time 6 hrs:from 201806031800,\n",
       " 367:Temperature:K (instant):regular_ll:heightAboveSea:level 2743 m:fcst time 6 hrs:from 201806031800,\n",
       " 370:Temperature:K (instant):regular_ll:heightAboveSea:level 3658 m:fcst time 6 hrs:from 201806031800,\n",
       " 377:Temperature:K (instant):regular_ll:pressureFromGroundLayer:levels 3000-0 Pa:fcst time 6 hrs:from 201806031800,\n",
       " 390:Temperature:K (instant):regular_ll:sigma:level 0.995 sigma value:fcst time 6 hrs:from 201806031800,\n",
       " 404:Temperature:K (instant):regular_ll:potentialVorticity:level 2e-06 K m2 kg-1 s-1:fcst time 6 hrs:from 201806031800,\n",
       " 410:Temperature:K (instant):regular_ll:potentialVorticity:level 2.147485648 K m2 kg-1 s-1:fcst time 6 hrs:from 201806031800]"
      ]
     },
     "execution_count": 4,
     "metadata": {},
     "output_type": "execute_result"
    }
   ],
   "source": [
    "tmpmsgs"
   ]
  },
  {
   "cell_type": "code",
   "execution_count": 5,
   "metadata": {},
   "outputs": [
    {
     "name": "stdout",
     "output_type": "stream",
     "text": [
      "268:Temperature:K (instant):regular_ll:surface:level 0:fcst time 6 hrs:from 201806031800\n",
      "186:Temperature:K (instant):regular_ll:isobaricInhPa:level 70000 Pa:fcst time 6 hrs:from 201806031800\n"
     ]
    }
   ],
   "source": [
    "tems = gr[268] #get record number\n",
    "tem700= gr[186]\n",
    "print(tems)\n",
    "print(tem700)"
   ]
  },
  {
   "cell_type": "code",
   "execution_count": 7,
   "metadata": {
    "scrolled": true
   },
   "outputs": [],
   "source": [
    "temp_vals = tems.values-tem700.values"
   ]
  },
  {
   "cell_type": "code",
   "execution_count": 8,
   "metadata": {},
   "outputs": [
    {
     "name": "stdout",
     "output_type": "stream",
     "text": [
      "[[ 9.242615  9.242615  9.242615 ...  9.242615  9.242615  9.242615]\n",
      " [ 9.142639  9.142639  9.142639 ...  9.142639  9.142639  9.142639]\n",
      " [ 8.742615  8.742615  8.742615 ...  8.742615  8.742615  8.742615]\n",
      " ...\n",
      " [-4.557373 -4.557373 -4.557373 ... -4.557373 -4.557373 -4.557373]\n",
      " [-4.25737  -4.357376 -4.357376 ... -4.25737  -4.25737  -4.25737 ]\n",
      " [-4.357361 -4.357361 -4.357361 ... -4.357361 -4.357361 -4.357361]]\n"
     ]
    }
   ],
   "source": [
    "print(temp_vals)"
   ]
  },
  {
   "cell_type": "code",
   "execution_count": null,
   "metadata": {},
   "outputs": [],
   "source": []
  }
 ],
 "metadata": {
  "kernelspec": {
   "display_name": "Python [default]",
   "language": "python",
   "name": "python3"
  },
  "language_info": {
   "codemirror_mode": {
    "name": "ipython",
    "version": 3
   },
   "file_extension": ".py",
   "mimetype": "text/x-python",
   "name": "python",
   "nbconvert_exporter": "python",
   "pygments_lexer": "ipython3",
   "version": "3.6.7"
  }
 },
 "nbformat": 4,
 "nbformat_minor": 2
}
