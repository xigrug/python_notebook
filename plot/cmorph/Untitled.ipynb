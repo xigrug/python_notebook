{
 "cells": [
  {
   "cell_type": "code",
   "execution_count": 1,
   "metadata": {},
   "outputs": [],
   "source": [
    "from datetime import datetime\n",
    "import cartopy.crs as ccrs\n",
    "import cartopy.feature as cfeature\n",
    "import matplotlib.pyplot as plt\n",
    "import metpy.calc as mpcalc\n",
    "from metpy.units import units\n",
    "import numpy as np\n",
    "from scipy.ndimage import gaussian_filter\n",
    "import xarray as xr"
   ]
  },
  {
   "cell_type": "markdown",
   "metadata": {},
   "source": [
    "ds = xr.open_dataset('hgt.2011.nc')"
   ]
  },
  {
   "cell_type": "code",
   "execution_count": 13,
   "metadata": {},
   "outputs": [],
   "source": [
    "ds1 = xr.open_mfdataset('hgt.201?.nc')"
   ]
  },
  {
   "cell_type": "code",
   "execution_count": 14,
   "metadata": {},
   "outputs": [
    {
     "data": {
      "text/plain": [
       "<xarray.Dataset>\n",
       "Dimensions:  (lat: 91, level: 24, lon: 180, time: 4384)\n",
       "Coordinates:\n",
       "  * lat      (lat) float32 90.0 88.0 86.0 84.0 82.0 ... -84.0 -86.0 -88.0 -90.0\n",
       "  * level    (level) float32 1000.0 950.0 900.0 850.0 ... 50.0 30.0 20.0 10.0\n",
       "  * lon      (lon) float32 0.0 2.0 4.0 6.0 8.0 ... 350.0 352.0 354.0 356.0 358.0\n",
       "  * time     (time) datetime64[ns] 2010-01-01 ... 2012-12-31T18:00:00\n",
       "Data variables:\n",
       "    hgt      (time, level, lat, lon) float32 dask.array<shape=(4384, 24, 91, 180), chunksize=(1460, 24, 91, 180)>\n",
       "Attributes:\n",
       "    Conventions:    CF-1.2\n",
       "    title:          4x Daily NOAA-CIRES 20th Century Reanalysis\n",
       "    comments:       Data is from \\nNOAA-CIRES 20th Century Reanalysis version...\n",
       "    platform:       Model\n",
       "    institution:    NOAA ESRL/PSD\n",
       "    citation:       Compo, G.P. <http://www.esrl.noaa.gov/psd/people/gilbert....\n",
       "    version:        2.0\n",
       "    history:        created 2011/12 by Hoop (netCDF3)\\nConverted to chunked, ...\n",
       "    References:     http://www.esrl.noaa.gov/psd/data/gridded/data.20thC_Rean...\n",
       "    dataset_title:  NOAA-CIRES 20th Century Reanalysis (V2)"
      ]
     },
     "execution_count": 14,
     "metadata": {},
     "output_type": "execute_result"
    }
   ],
   "source": [
    "ds1"
   ]
  },
  {
   "cell_type": "code",
   "execution_count": 4,
   "metadata": {},
   "outputs": [
    {
     "data": {
      "text/plain": [
       "Coordinates:\n",
       "  * lat      (lat) float32 90.0 88.0 86.0 84.0 82.0 ... -84.0 -86.0 -88.0 -90.0\n",
       "  * level    (level) float32 1000.0 950.0 900.0 850.0 ... 50.0 30.0 20.0 10.0\n",
       "  * lon      (lon) float32 0.0 2.0 4.0 6.0 8.0 ... 350.0 352.0 354.0 356.0 358.0\n",
       "  * time     (time) datetime64[ns] 2011-01-01 ... 2011-12-31T18:00:00"
      ]
     },
     "execution_count": 4,
     "metadata": {},
     "output_type": "execute_result"
    }
   ],
   "source": [
    "ds.coords"
   ]
  },
  {
   "cell_type": "code",
   "execution_count": 5,
   "metadata": {},
   "outputs": [],
   "source": [
    "lats = ds.lat.data"
   ]
  },
  {
   "cell_type": "code",
   "execution_count": 7,
   "metadata": {},
   "outputs": [
    {
     "data": {
      "text/plain": [
       "array([ 90.,  88.,  86.,  84.,  82.,  80.,  78.,  76.,  74.,  72.,  70.,\n",
       "        68.,  66.,  64.,  62.,  60.,  58.,  56.,  54.,  52.,  50.,  48.,\n",
       "        46.,  44.,  42.,  40.,  38.,  36.,  34.,  32.,  30.,  28.,  26.,\n",
       "        24.,  22.,  20.,  18.,  16.,  14.,  12.,  10.,   8.,   6.,   4.,\n",
       "         2.,   0.,  -2.,  -4.,  -6.,  -8., -10., -12., -14., -16., -18.,\n",
       "       -20., -22., -24., -26., -28., -30., -32., -34., -36., -38., -40.,\n",
       "       -42., -44., -46., -48., -50., -52., -54., -56., -58., -60., -62.,\n",
       "       -64., -66., -68., -70., -72., -74., -76., -78., -80., -82., -84.,\n",
       "       -86., -88., -90.], dtype=float32)"
      ]
     },
     "execution_count": 7,
     "metadata": {},
     "output_type": "execute_result"
    }
   ],
   "source": [
    "lats"
   ]
  },
  {
   "cell_type": "code",
   "execution_count": 6,
   "metadata": {},
   "outputs": [],
   "source": [
    "lons = ds.lon.data"
   ]
  },
  {
   "cell_type": "code",
   "execution_count": null,
   "metadata": {},
   "outputs": [],
   "source": [
    "ds.hgt.loc['2011-01-01':'2011-01-02',850,25:40,80:135]"
   ]
  },
  {
   "cell_type": "code",
   "execution_count": null,
   "metadata": {},
   "outputs": [],
   "source": [
    "ds.hgt.loc[dict(time=slice('2011-01-01', '2011-01-02'))]"
   ]
  },
  {
   "cell_type": "code",
   "execution_count": null,
   "metadata": {},
   "outputs": [],
   "source": [
    "ds.hgt.loc[dict(level=slice(850.0))]"
   ]
  },
  {
   "cell_type": "code",
   "execution_count": null,
   "metadata": {},
   "outputs": [],
   "source": [
    "df=ds.hgt.loc[dict(time=slice('2011-01-01','2011-01-03'),level=slice(850.0),lat=slice(25,40),lon=slice(80,135))]"
   ]
  },
  {
   "cell_type": "code",
   "execution_count": null,
   "metadata": {},
   "outputs": [],
   "source": [
    "df"
   ]
  },
  {
   "cell_type": "code",
   "execution_count": null,
   "metadata": {},
   "outputs": [],
   "source": [
    "data=ds.hgt.loc[25:40,850,80:135,'2011-01-01':'2011-01-02']"
   ]
  },
  {
   "cell_type": "code",
   "execution_count": null,
   "metadata": {},
   "outputs": [],
   "source": [
    "data"
   ]
  },
  {
   "cell_type": "code",
   "execution_count": null,
   "metadata": {},
   "outputs": [],
   "source": []
  }
 ],
 "metadata": {
  "kernelspec": {
   "display_name": "Python 3",
   "language": "python",
   "name": "python3"
  },
  "language_info": {
   "codemirror_mode": {
    "name": "ipython",
    "version": 3
   },
   "file_extension": ".py",
   "mimetype": "text/x-python",
   "name": "python",
   "nbconvert_exporter": "python",
   "pygments_lexer": "ipython3",
   "version": "3.6.7"
  }
 },
 "nbformat": 4,
 "nbformat_minor": 2
}
