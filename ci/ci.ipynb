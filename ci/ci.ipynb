{
 "cells": [
  {
   "cell_type": "code",
   "execution_count": 1,
   "metadata": {},
   "outputs": [],
   "source": [
    "import numpy as np\n",
    "import pandas as pd\n",
    "import math"
   ]
  },
  {
   "cell_type": "code",
   "execution_count": 2,
   "metadata": {},
   "outputs": [],
   "source": [
    "from matplotlib import pyplot as plt\n",
    "%matplotlib inline"
   ]
  },
  {
   "cell_type": "code",
   "execution_count": 3,
   "metadata": {
    "scrolled": true
   },
   "outputs": [],
   "source": [
    "#' @noRd \n",
    "#' @name precintcon.ln.a\n",
    "#' @author Lucas Venezian Povoa \\email{lucasvenez@@gmail.com}\n",
    "#' @aliases precintcon.ln.a \n",
    "#' @title ln(a)\n",
    "#' @description Performe the calculation of ln(a) via the least-squares method. \n",
    "#' @usage precintcon.ln.a(X, Y) \n",
    "#' @param X is the cumulative percentage of rainy days.\n",
    "#' @param Y is the cumulative percentage of rainfall amounts.\n",
    "#' @return ln(a) \n",
    "#' @seealso \\code{\\link{precintcon.ci.analysis}} \n",
    "#' @keywords precipitation concentration index \n",
    "def precintcon_ln_a(X, Y):\n",
    "    N = len(X)\n",
    "    if (len(X) == len(Y)):\n",
    "        a=(sum(X**2)*sum(np.log(Y)))\n",
    "        Z=((sum(X**2)*sum(np.log(Y))) + (sum(X)*sum(X*np.log(X)))-(sum(X**2)*sum(np.log(X))) -\\\n",
    "        (sum(X)*sum(X*np.log(Y))))/(N*sum(X**2)-(sum(X)**2))#!!!\n",
    "    else:\n",
    "        print(\"X and Y with differents lengths!\")\n",
    "    return Z\n"
   ]
  },
  {
   "cell_type": "code",
   "execution_count": 4,
   "metadata": {},
   "outputs": [],
   "source": [
    "#' @noRd\n",
    "#' @name precintcon.b \n",
    "#' @author Lucas Venezian Povoa \\email{lucasvenez@@gmail.com}\n",
    "#' @aliases precintcon.b \n",
    "#' @title b \n",
    "#' @description Calculates b via the least-squares method. \n",
    "#' @usage precintcon.b(X, Y) \n",
    "#' @param X is the cumulative percentage of rainy days.\n",
    "#' @param Y is the cumulative percentage of rainfall amounts.\n",
    "#' @return \\code{b} \n",
    "#' @seealso \\code{\\link{ci}} \n",
    "#' @keywords precipitation concentration index\n",
    "def precintcon_b(X, Y):\n",
    "    N=len(X)\n",
    "    if (len(X) == len(Y)):\n",
    "        Z=(N * sum(X * np.log(Y))+ \\\n",
    "        sum(X) * sum(np.log(X))- \\\n",
    "        N * sum(X * np.log(X)) - \\\n",
    "        sum(X) * sum(np.log(Y))) \\\n",
    "        /(N * sum(X**2) - sum(X)**2)/100  #!!!!!   100   \n",
    "    else:\n",
    "        print(\"X and Y have differents lengths!\")\n",
    "    return Z"
   ]
  },
  {
   "cell_type": "code",
   "execution_count": 5,
   "metadata": {},
   "outputs": [],
   "source": [
    "# precintcon.fd.r\n",
    "#the cumulative percentage of rainfall amounts.\n",
    "def p_sum_p(o):\n",
    "    i = o[:,0]\n",
    "    f = o[:,1]\n",
    "    n = o[:,2]\n",
    "    m = (o[:,0] + o[:,1] + 0.1)/2\n",
    "    #print(len(m))\n",
    "    x = m[0] * n[0]\n",
    "    #print(x)\n",
    "    #print(len(i))\n",
    "    #print(len(f))\n",
    "    #print(len(n))\n",
    "    for k in range(1,len(i)):#!!!!!!!1\n",
    "        #print(k)\n",
    "        x = np.append(x, m[k] * n[k])\n",
    "        #print(x)\n",
    "    y = x[0]/sum(x)\n",
    "    #print(y)\n",
    "    #print(len(x))\n",
    "    for k in range(2,len(x)+1):\n",
    "        y = np.append(y, sum(x[0:k])/sum(x))\n",
    "    return(y)\n"
   ]
  },
  {
   "cell_type": "code",
   "execution_count": 6,
   "metadata": {},
   "outputs": [],
   "source": [
    "#p_sum_n(X)\n",
    "#the cumulative percentage of rainy days.\n",
    "'''\n",
    "def p_sum_n(o):\n",
    "    x = o[0,0]\n",
    "    y = o[:,0]\n",
    "    #print(len(y))\n",
    "    for i in range(1,len(y)+1):\n",
    "        #x = pd.concat(x, sum(o[0:i])) #np.r_\n",
    "        #print(sum(o[0:i]))\n",
    "        x = np.append(x, sum(o[0:i,0]))\n",
    "    return(x/sum(y))\n",
    "'''\n",
    "def p_sum_n(o):\n",
    "    x = o[0]\n",
    "    y=sum(o)\n",
    "    #print(y)\n",
    "    #print(len(y))\n",
    "    for i in range(2,len(o)+1):\n",
    "        #x = pd.concat(x, sum(o[0:i])) #np.r_\n",
    "        #print(sum(o[0:i]))\n",
    "        x = np.append(x, sum(o[0:i]))\n",
    "        #print(x)\n",
    "        n=x/y\n",
    "    return(n)"
   ]
  },
  {
   "cell_type": "code",
   "execution_count": 7,
   "metadata": {},
   "outputs": [],
   "source": [
    "# precintcon.classification.r\n",
    "def precintcon_class(v,interval):\n",
    "    result=[0,0,0]\n",
    "    #s=0\n",
    "    #python-Error Message: 'float' object cannot be interpreted as an integer\n",
    "    for i in range(0,math.ceil(max(v)+interval),interval):\n",
    "        #initial = i # \n",
    "        initial = i + 0.1 if i == 0  else i\n",
    "        final   = i+interval-0.1\n",
    "        s = sum((v[(v>= initial)& (v<=final)]).value_counts())#!!!!!!!!!!!!!!!!!!!!! no table\n",
    "        #s += sum(v[(v>= initial)& (v<=final)])\n",
    "        #print(initial, final, s)\n",
    "        #if not s.empty: \n",
    "        if s>0 :\n",
    "            #result= np.append(initial, final, s)\n",
    "            result= np.row_stack((result, [initial, final, s]))\n",
    "    return result[1:,:]#!!!1"
   ]
  },
  {
   "cell_type": "code",
   "execution_count": 8,
   "metadata": {},
   "outputs": [],
   "source": [
    "def ci_pre(X):\n",
    "    y=precintcon_class(X,1)\n",
    "    sum_p=p_sum_p(y)\n",
    "    sum_n=p_sum_n(y[:,2])\n",
    "    a= np.exp(precintcon_ln_a(sum_n, sum_p))\n",
    "    b= precintcon_b(sum_n, sum_p)\n",
    "    A=(a/b)*(np.exp(b*100) * (100 - (1/b)))\n",
    "    S= 5000-A\n",
    "    ci= 2*S/10000 \n",
    "    return ci"
   ]
  },
  {
   "cell_type": "code",
   "execution_count": 9,
   "metadata": {
    "scrolled": false
   },
   "outputs": [
    {
     "data": {
      "text/html": [
       "<div>\n",
       "<style scoped>\n",
       "    .dataframe tbody tr th:only-of-type {\n",
       "        vertical-align: middle;\n",
       "    }\n",
       "\n",
       "    .dataframe tbody tr th {\n",
       "        vertical-align: top;\n",
       "    }\n",
       "\n",
       "    .dataframe thead th {\n",
       "        text-align: right;\n",
       "    }\n",
       "</style>\n",
       "<table border=\"1\" class=\"dataframe\">\n",
       "  <thead>\n",
       "    <tr style=\"text-align: right;\">\n",
       "      <th></th>\n",
       "      <th>DATE</th>\n",
       "      <th>RAIN</th>\n",
       "    </tr>\n",
       "  </thead>\n",
       "  <tbody>\n",
       "    <tr>\n",
       "      <th>0</th>\n",
       "      <td>1976/1/1</td>\n",
       "      <td>3.4</td>\n",
       "    </tr>\n",
       "    <tr>\n",
       "      <th>1</th>\n",
       "      <td>1976/1/2</td>\n",
       "      <td>1.9</td>\n",
       "    </tr>\n",
       "    <tr>\n",
       "      <th>2</th>\n",
       "      <td>1976/1/3</td>\n",
       "      <td>0.0</td>\n",
       "    </tr>\n",
       "    <tr>\n",
       "      <th>3</th>\n",
       "      <td>1976/1/4</td>\n",
       "      <td>0.0</td>\n",
       "    </tr>\n",
       "    <tr>\n",
       "      <th>4</th>\n",
       "      <td>1976/1/5</td>\n",
       "      <td>35.9</td>\n",
       "    </tr>\n",
       "  </tbody>\n",
       "</table>\n",
       "</div>"
      ],
      "text/plain": [
       "       DATE  RAIN\n",
       "0  1976/1/1   3.4\n",
       "1  1976/1/2   1.9\n",
       "2  1976/1/3   0.0\n",
       "3  1976/1/4   0.0\n",
       "4  1976/1/5  35.9"
      ]
     },
     "execution_count": 9,
     "metadata": {},
     "output_type": "execute_result"
    }
   ],
   "source": [
    "df = pd.read_csv('data_ci.csv', sep='\\s+',skiprows=0,header=0,na_values=[-99,-9999])\n",
    "df=df.dropna()\n",
    "df.head()"
   ]
  },
  {
   "cell_type": "code",
   "execution_count": 10,
   "metadata": {
    "scrolled": false
   },
   "outputs": [],
   "source": [
    "ci=ci_pre(df[\"RAIN\"])"
   ]
  },
  {
   "cell_type": "code",
   "execution_count": 11,
   "metadata": {
    "scrolled": false
   },
   "outputs": [
    {
     "data": {
      "text/plain": [
       "0.47638956965387996"
      ]
     },
     "execution_count": 11,
     "metadata": {},
     "output_type": "execute_result"
    }
   ],
   "source": [
    "ci"
   ]
  },
  {
   "cell_type": "markdown",
   "metadata": {},
   "source": [
    " test R DATA 1976\n",
    " dataset         a          b        r2        A\n",
    "       X2 0.1080223 0.02287477 0.9847644 2618.052\n",
    "         S        ci\n",
    "     2381.948 0.476389"
   ]
  },
  {
   "cell_type": "code",
   "execution_count": 12,
   "metadata": {
    "scrolled": true
   },
   "outputs": [
    {
     "data": {
      "text/html": [
       "<div>\n",
       "<style scoped>\n",
       "    .dataframe tbody tr th:only-of-type {\n",
       "        vertical-align: middle;\n",
       "    }\n",
       "\n",
       "    .dataframe tbody tr th {\n",
       "        vertical-align: top;\n",
       "    }\n",
       "\n",
       "    .dataframe thead th {\n",
       "        text-align: right;\n",
       "    }\n",
       "</style>\n",
       "<table border=\"1\" class=\"dataframe\">\n",
       "  <thead>\n",
       "    <tr style=\"text-align: right;\">\n",
       "      <th></th>\n",
       "      <th>Time</th>\n",
       "      <th>Stid</th>\n",
       "      <th>Lat</th>\n",
       "      <th>Lon</th>\n",
       "      <th>Height</th>\n",
       "      <th>rain</th>\n",
       "      <th>rain208</th>\n",
       "      <th>rain820</th>\n",
       "    </tr>\n",
       "  </thead>\n",
       "  <tbody>\n",
       "    <tr>\n",
       "      <th>0</th>\n",
       "      <td>1951-01-01</td>\n",
       "      <td>50527</td>\n",
       "      <td>4913</td>\n",
       "      <td>11945</td>\n",
       "      <td>6766</td>\n",
       "      <td>0.0</td>\n",
       "      <td>0.0</td>\n",
       "      <td>0.0</td>\n",
       "    </tr>\n",
       "    <tr>\n",
       "      <th>1</th>\n",
       "      <td>1951-01-01</td>\n",
       "      <td>56571</td>\n",
       "      <td>2753</td>\n",
       "      <td>10218</td>\n",
       "      <td>15907</td>\n",
       "      <td>0.0</td>\n",
       "      <td>0.0</td>\n",
       "      <td>0.0</td>\n",
       "    </tr>\n",
       "    <tr>\n",
       "      <th>2</th>\n",
       "      <td>1951-01-01</td>\n",
       "      <td>58634</td>\n",
       "      <td>2840</td>\n",
       "      <td>11815</td>\n",
       "      <td>936</td>\n",
       "      <td>0.0</td>\n",
       "      <td>0.0</td>\n",
       "      <td>0.0</td>\n",
       "    </tr>\n",
       "    <tr>\n",
       "      <th>3</th>\n",
       "      <td>1951-01-01</td>\n",
       "      <td>56492</td>\n",
       "      <td>2849</td>\n",
       "      <td>10432</td>\n",
       "      <td>2750</td>\n",
       "      <td>0.0</td>\n",
       "      <td>0.0</td>\n",
       "      <td>0.0</td>\n",
       "    </tr>\n",
       "    <tr>\n",
       "      <th>4</th>\n",
       "      <td>1951-01-01</td>\n",
       "      <td>56386</td>\n",
       "      <td>2930</td>\n",
       "      <td>10345</td>\n",
       "      <td>3715</td>\n",
       "      <td>0.0</td>\n",
       "      <td>0.0</td>\n",
       "      <td>0.0</td>\n",
       "    </tr>\n",
       "  </tbody>\n",
       "</table>\n",
       "</div>"
      ],
      "text/plain": [
       "         Time   Stid   Lat    Lon  Height  rain  rain208  rain820\n",
       "0  1951-01-01  50527  4913  11945    6766   0.0      0.0      0.0\n",
       "1  1951-01-01  56571  2753  10218   15907   0.0      0.0      0.0\n",
       "2  1951-01-01  58634  2840  11815     936   0.0      0.0      0.0\n",
       "3  1951-01-01  56492  2849  10432    2750   0.0      0.0      0.0\n",
       "4  1951-01-01  56386  2930  10345    3715   0.0      0.0      0.0"
      ]
     },
     "execution_count": 12,
     "metadata": {},
     "output_type": "execute_result"
    }
   ],
   "source": [
    "df = pd.read_csv('china_pre-before2000.csv', sep=',',skiprows=0,header=0,na_values=[-99,-9999,999990])\n",
    "df=df.dropna()\n",
    "df.head()"
   ]
  },
  {
   "cell_type": "code",
   "execution_count": 13,
   "metadata": {
    "scrolled": true
   },
   "outputs": [],
   "source": [
    "times=pd.to_datetime(df['Time'],format='%Y-%m-%d')"
   ]
  },
  {
   "cell_type": "code",
   "execution_count": 14,
   "metadata": {
    "scrolled": true
   },
   "outputs": [
    {
     "data": {
      "text/plain": [
       "0   1951-01-01\n",
       "1   1951-01-01\n",
       "2   1951-01-01\n",
       "3   1951-01-01\n",
       "4   1951-01-01\n",
       "Name: Time, dtype: datetime64[ns]"
      ]
     },
     "execution_count": 14,
     "metadata": {},
     "output_type": "execute_result"
    }
   ],
   "source": [
    "times.head()"
   ]
  },
  {
   "cell_type": "code",
   "execution_count": 15,
   "metadata": {
    "scrolled": true
   },
   "outputs": [],
   "source": [
    "from datetime import datetime\n",
    "df['DATE'] = pd.to_datetime(df['Time'])\n",
    "df['DATE'] = [datetime.strftime(x,'%Y') for x in df['DATE']]"
   ]
  },
  {
   "cell_type": "code",
   "execution_count": 16,
   "metadata": {
    "scrolled": false
   },
   "outputs": [],
   "source": [
    "df.head()\n",
    "df=df.dropna()"
   ]
  },
  {
   "cell_type": "code",
   "execution_count": 17,
   "metadata": {},
   "outputs": [],
   "source": [
    "bf=df[df[\"DATE\"]=='2001']"
   ]
  },
  {
   "cell_type": "code",
   "execution_count": 18,
   "metadata": {
    "scrolled": true
   },
   "outputs": [
    {
     "data": {
      "text/html": [
       "<div>\n",
       "<style scoped>\n",
       "    .dataframe tbody tr th:only-of-type {\n",
       "        vertical-align: middle;\n",
       "    }\n",
       "\n",
       "    .dataframe tbody tr th {\n",
       "        vertical-align: top;\n",
       "    }\n",
       "\n",
       "    .dataframe thead th {\n",
       "        text-align: right;\n",
       "    }\n",
       "</style>\n",
       "<table border=\"1\" class=\"dataframe\">\n",
       "  <thead>\n",
       "    <tr style=\"text-align: right;\">\n",
       "      <th></th>\n",
       "      <th>Time</th>\n",
       "      <th>Stid</th>\n",
       "      <th>Lat</th>\n",
       "      <th>Lon</th>\n",
       "      <th>Height</th>\n",
       "      <th>rain</th>\n",
       "      <th>rain208</th>\n",
       "      <th>rain820</th>\n",
       "      <th>DATE</th>\n",
       "    </tr>\n",
       "  </thead>\n",
       "  <tbody>\n",
       "    <tr>\n",
       "      <th>0</th>\n",
       "      <td>1951-01-01</td>\n",
       "      <td>50527</td>\n",
       "      <td>4913</td>\n",
       "      <td>11945</td>\n",
       "      <td>6766</td>\n",
       "      <td>0.0</td>\n",
       "      <td>0.0</td>\n",
       "      <td>0.0</td>\n",
       "      <td>1951</td>\n",
       "    </tr>\n",
       "    <tr>\n",
       "      <th>1</th>\n",
       "      <td>1951-01-01</td>\n",
       "      <td>56571</td>\n",
       "      <td>2753</td>\n",
       "      <td>10218</td>\n",
       "      <td>15907</td>\n",
       "      <td>0.0</td>\n",
       "      <td>0.0</td>\n",
       "      <td>0.0</td>\n",
       "      <td>1951</td>\n",
       "    </tr>\n",
       "    <tr>\n",
       "      <th>2</th>\n",
       "      <td>1951-01-01</td>\n",
       "      <td>58634</td>\n",
       "      <td>2840</td>\n",
       "      <td>11815</td>\n",
       "      <td>936</td>\n",
       "      <td>0.0</td>\n",
       "      <td>0.0</td>\n",
       "      <td>0.0</td>\n",
       "      <td>1951</td>\n",
       "    </tr>\n",
       "    <tr>\n",
       "      <th>3</th>\n",
       "      <td>1951-01-01</td>\n",
       "      <td>56492</td>\n",
       "      <td>2849</td>\n",
       "      <td>10432</td>\n",
       "      <td>2750</td>\n",
       "      <td>0.0</td>\n",
       "      <td>0.0</td>\n",
       "      <td>0.0</td>\n",
       "      <td>1951</td>\n",
       "    </tr>\n",
       "    <tr>\n",
       "      <th>4</th>\n",
       "      <td>1951-01-01</td>\n",
       "      <td>56386</td>\n",
       "      <td>2930</td>\n",
       "      <td>10345</td>\n",
       "      <td>3715</td>\n",
       "      <td>0.0</td>\n",
       "      <td>0.0</td>\n",
       "      <td>0.0</td>\n",
       "      <td>1951</td>\n",
       "    </tr>\n",
       "  </tbody>\n",
       "</table>\n",
       "</div>"
      ],
      "text/plain": [
       "         Time   Stid   Lat    Lon  Height  rain  rain208  rain820  DATE\n",
       "0  1951-01-01  50527  4913  11945    6766   0.0      0.0      0.0  1951\n",
       "1  1951-01-01  56571  2753  10218   15907   0.0      0.0      0.0  1951\n",
       "2  1951-01-01  58634  2840  11815     936   0.0      0.0      0.0  1951\n",
       "3  1951-01-01  56492  2849  10432    2750   0.0      0.0      0.0  1951\n",
       "4  1951-01-01  56386  2930  10345    3715   0.0      0.0      0.0  1951"
      ]
     },
     "execution_count": 18,
     "metadata": {},
     "output_type": "execute_result"
    }
   ],
   "source": [
    "df.head()"
   ]
  },
  {
   "cell_type": "markdown",
   "metadata": {
    "collapsed": true
   },
   "source": [
    "df[\"DATE\"]=df[\"DATE\"].replace(['2001','2002','2003','2004','2005','2006','2007','2008','2009','2010','2011','2012','2013','2014','2015','2016','2017','2018'],['2001Y','2002Y','2003Y','2004Y','2005Y','2006Y','2007Y','2008Y','2009Y','2010Y','2011Y','2012Y','2013Y','2014Y','2015Y','2016Y','2017Y','2018Y'])"
   ]
  },
  {
   "cell_type": "code",
   "execution_count": 19,
   "metadata": {
    "scrolled": false
   },
   "outputs": [
    {
     "data": {
      "text/html": [
       "<div>\n",
       "<style scoped>\n",
       "    .dataframe tbody tr th:only-of-type {\n",
       "        vertical-align: middle;\n",
       "    }\n",
       "\n",
       "    .dataframe tbody tr th {\n",
       "        vertical-align: top;\n",
       "    }\n",
       "\n",
       "    .dataframe thead th {\n",
       "        text-align: right;\n",
       "    }\n",
       "</style>\n",
       "<table border=\"1\" class=\"dataframe\">\n",
       "  <thead>\n",
       "    <tr style=\"text-align: right;\">\n",
       "      <th></th>\n",
       "      <th>Time</th>\n",
       "      <th>Stid</th>\n",
       "      <th>Lat</th>\n",
       "      <th>Lon</th>\n",
       "      <th>Height</th>\n",
       "      <th>rain</th>\n",
       "      <th>rain208</th>\n",
       "      <th>rain820</th>\n",
       "      <th>DATE</th>\n",
       "    </tr>\n",
       "  </thead>\n",
       "  <tbody>\n",
       "    <tr>\n",
       "      <th>0</th>\n",
       "      <td>1951-01-01</td>\n",
       "      <td>50527</td>\n",
       "      <td>4913</td>\n",
       "      <td>11945</td>\n",
       "      <td>6766</td>\n",
       "      <td>0.0</td>\n",
       "      <td>0.0</td>\n",
       "      <td>0.0</td>\n",
       "      <td>1951</td>\n",
       "    </tr>\n",
       "    <tr>\n",
       "      <th>1</th>\n",
       "      <td>1951-01-01</td>\n",
       "      <td>56571</td>\n",
       "      <td>2753</td>\n",
       "      <td>10218</td>\n",
       "      <td>15907</td>\n",
       "      <td>0.0</td>\n",
       "      <td>0.0</td>\n",
       "      <td>0.0</td>\n",
       "      <td>1951</td>\n",
       "    </tr>\n",
       "    <tr>\n",
       "      <th>2</th>\n",
       "      <td>1951-01-01</td>\n",
       "      <td>58634</td>\n",
       "      <td>2840</td>\n",
       "      <td>11815</td>\n",
       "      <td>936</td>\n",
       "      <td>0.0</td>\n",
       "      <td>0.0</td>\n",
       "      <td>0.0</td>\n",
       "      <td>1951</td>\n",
       "    </tr>\n",
       "    <tr>\n",
       "      <th>3</th>\n",
       "      <td>1951-01-01</td>\n",
       "      <td>56492</td>\n",
       "      <td>2849</td>\n",
       "      <td>10432</td>\n",
       "      <td>2750</td>\n",
       "      <td>0.0</td>\n",
       "      <td>0.0</td>\n",
       "      <td>0.0</td>\n",
       "      <td>1951</td>\n",
       "    </tr>\n",
       "    <tr>\n",
       "      <th>4</th>\n",
       "      <td>1951-01-01</td>\n",
       "      <td>56386</td>\n",
       "      <td>2930</td>\n",
       "      <td>10345</td>\n",
       "      <td>3715</td>\n",
       "      <td>0.0</td>\n",
       "      <td>0.0</td>\n",
       "      <td>0.0</td>\n",
       "      <td>1951</td>\n",
       "    </tr>\n",
       "  </tbody>\n",
       "</table>\n",
       "</div>"
      ],
      "text/plain": [
       "         Time   Stid   Lat    Lon  Height  rain  rain208  rain820  DATE\n",
       "0  1951-01-01  50527  4913  11945    6766   0.0      0.0      0.0  1951\n",
       "1  1951-01-01  56571  2753  10218   15907   0.0      0.0      0.0  1951\n",
       "2  1951-01-01  58634  2840  11815     936   0.0      0.0      0.0  1951\n",
       "3  1951-01-01  56492  2849  10432    2750   0.0      0.0      0.0  1951\n",
       "4  1951-01-01  56386  2930  10345    3715   0.0      0.0      0.0  1951"
      ]
     },
     "execution_count": 19,
     "metadata": {},
     "output_type": "execute_result"
    }
   ],
   "source": [
    "df.head()"
   ]
  },
  {
   "cell_type": "code",
   "execution_count": 20,
   "metadata": {},
   "outputs": [],
   "source": [
    "df.to_csv(\"china_year_read-before.csv\",index=True,sep=',')"
   ]
  },
  {
   "cell_type": "code",
   "execution_count": 21,
   "metadata": {},
   "outputs": [],
   "source": [
    "df[['rain','rain208','rain820']]=df[['rain','rain208','rain820']].applymap( lambda x: x if x<30000 else (x-30000 if x<31000 else (x-31000 if x<32000 else(x-32000 if x<32700 else x-32700))))"
   ]
  },
  {
   "cell_type": "code",
   "execution_count": 22,
   "metadata": {},
   "outputs": [],
   "source": [
    "df.to_csv(\"china_year_read-before-correct.csv\",index=False,sep=',')"
   ]
  },
  {
   "cell_type": "markdown",
   "metadata": {},
   "source": [
    "#dfpivot = pd.pivot_table(bf,index=['DATE','Stid'],aggfunc={'rain':ci_pre})"
   ]
  },
  {
   "cell_type": "markdown",
   "metadata": {},
   "source": [
    "https://github.com/lucasvenez/precintcon/blob/master/R/precintcon.fd.r\n",
    "https://github.com/lucasvenez/precintcon/blob/master/R/precintcon.ln.a.r\n",
    "http://www.dqkxqk.ac.cn/qhhj/qhhj/ch/html/20170304.htm"
   ]
  }
 ],
 "metadata": {
  "kernelspec": {
   "display_name": "Python 3",
   "language": "python",
   "name": "python3"
  },
  "language_info": {
   "codemirror_mode": {
    "name": "ipython",
    "version": 3
   },
   "file_extension": ".py",
   "mimetype": "text/x-python",
   "name": "python",
   "nbconvert_exporter": "python",
   "pygments_lexer": "ipython3",
   "version": "3.6.7"
  }
 },
 "nbformat": 4,
 "nbformat_minor": 2
}
