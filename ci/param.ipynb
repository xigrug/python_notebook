{
 "cells": [
  {
   "cell_type": "code",
   "execution_count": 15,
   "metadata": {},
   "outputs": [],
   "source": [
    "# coding: utf-8\n",
    "import numpy as np\n",
    "import pandas as pd\n",
    "from scipy import stats, integrate\n",
    "import matplotlib.pyplot as plt\n",
    "from scipy import optimize\n",
    "import seaborn as sns\n",
    "import math\n",
    "%matplotlib inline"
   ]
  },
  {
   "cell_type": "code",
   "execution_count": 3,
   "metadata": {},
   "outputs": [],
   "source": [
    "#直线方程函数\n",
    "def f_1(x, A, B):\n",
    "    return A*x + B"
   ]
  },
  {
   "cell_type": "code",
   "execution_count": 4,
   "metadata": {},
   "outputs": [],
   "source": [
    "#二次曲线方程\n",
    "def f_2(x, A, B, C):\n",
    "    return A*x*x + B*x + C"
   ]
  },
  {
   "cell_type": "code",
   "execution_count": 5,
   "metadata": {},
   "outputs": [],
   "source": [
    "#三次曲线方程\n",
    "def f_3(x, A, B, C, D):\n",
    "    return A*x*x*x + B*x*x + C*x + D"
   ]
  },
  {
   "cell_type": "code",
   "execution_count": 6,
   "metadata": {},
   "outputs": [],
   "source": [
    "def f_gauss(x, A, B, C, sigma):\n",
    "    return A*np.exp(-(x-B)**2/(2*sigma**2)) + C"
   ]
  },
  {
   "cell_type": "code",
   "execution_count": 90,
   "metadata": {},
   "outputs": [],
   "source": [
    "def plot_test(x0,y0):\n",
    "\n",
    "    #绘制散点\n",
    "    #plt.scatter(x0[:], y0[:], 25, \"red\")\n",
    "#直线拟合与绘制\n",
    "    A1, B1 = optimize.curve_fit(f_1, x0, y0)[0]\n",
    "    print(A1,B1)\n",
    "    x1 = np.arange(0, 200, 10)\n",
    "    y1 = A1*x1 + B1\n",
    "    plt.plot(x1, y1, \"black\",label=\"1-order\")\n",
    "\n",
    "    #二次曲线拟合与绘制\n",
    "    A2, B2, C2 = optimize.curve_fit(f_2, x0, y0)[0]\n",
    "    print(A2,B2,C2)\n",
    "    x2 = np.arange(0, 200, 10)\n",
    "    y2 = A2*x2*x2 + B2*x2 + C2\n",
    "    plt.plot(x2, y2, \"green\",label=\"2-order\")\n",
    "\n",
    "    #三次曲线拟合与绘制\n",
    "    A3, B3, C3, D3= optimize.curve_fit(f_3, x0, y0)[0]\n",
    "    print(A3,B3,C3,D3)\n",
    "    x3 = np.arange(0, 200, 10)\n",
    "    y3 = A3*x3*x3*x3 + B3*x3*x3 + C3*x3 + D3\n",
    "    plt.plot(x3, y3, \"blue\",label=\"3-order\")\n",
    "    #plt.plot(x3, y3, \"purple\")\n",
    "\n",
    "    A4, B4, C4, D4= optimize.curve_fit(f_gauss, x0, y0)[0]\n",
    "    print(A4,B4,C4,D4)\n",
    "    x4 = np.arange(0, 200, 10)\n",
    "    y4 = A4*np.exp(-(x4-B4)**2/(2*D4**2)) + C4\n",
    "    #plt.plot(x4, y4, \"red\")\n",
    "    xa=np.arange(20, 200, 10)\n",
    "    ya=np.log10(xa)*162-273\n",
    "    plt.plot(xa, ya, \"black\",label=\"Hansen-land\")\n",
    "    \n",
    "    xb=np.arange(20, 200, 10)\n",
    "    yb=np.log10(xb)*298-595\n",
    "    plt.plot(xb, yb, \"black\",label=\"Hansen-sea\")\n",
    "    \n",
    "    a1=0.04095+21.587*xb\n",
    "    a0=0.02215-0.1329*xb +3.0737*xb*xb\n",
    "    yc=0.2*xb/(0.2+a1*xb)\n",
    "    ycc=0.2*xb/(0.2+a0*xb)\n",
    "    plt.plot(xb, yc, \"black\",linestyle='--',label=\"Ghan-land\")\n",
    "    plt.plot(xb, ycc, \"black\",linestyle='--',label=\"Ghan-sea\")\n",
    "    \n",
    "    \n",
    "    ybb=(1-np.exp(-0.0025*xb))*375\n",
    "    plt.plot(xb, ybb, \"black\",linestyle=':',label=\"Jones\")\n",
    "    \n",
    "    plt.title(\"Regression\")\n",
    "    plt.xlabel('PM2.5')\n",
    "    plt.ylabel('CCN')\n",
    "    plt.legend(bbox_to_anchor=(1.05, 1), loc=2, borderaxespad=0.)\n",
    "    plt.savefig(\"Regression3_wtj.png\",dpi=600)\n",
    "    \n",
    "    \n",
    "\n",
    "    return\n"
   ]
  },
  {
   "cell_type": "code",
   "execution_count": 73,
   "metadata": {},
   "outputs": [],
   "source": [
    "sh = pd.read_csv('all_out_pm.csv')\n",
    "#print(sh.head())\n",
    "sh=sh.dropna(subset=['PM25', 'CCN_1.0_cm3'])\n",
    "x=sh['PM25']\n",
    "#print(x0)\n",
    "y=sh['CCN_1.0_cm3']\n",
    "#print(y0)\n",
    "#拟合点"
   ]
  },
  {
   "cell_type": "code",
   "execution_count": 91,
   "metadata": {},
   "outputs": [
    {
     "data": {
      "text/plain": [
       "<Figure size 432x288 with 0 Axes>"
      ]
     },
     "execution_count": 91,
     "metadata": {},
     "output_type": "execute_result"
    },
    {
     "data": {
      "text/plain": [
       "<Figure size 432x288 with 0 Axes>"
      ]
     },
     "metadata": {},
     "output_type": "display_data"
    }
   ],
   "source": [
    "plt.figure()"
   ]
  },
  {
   "cell_type": "code",
   "execution_count": 92,
   "metadata": {},
   "outputs": [
    {
     "name": "stdout",
     "output_type": "stream",
     "text": [
      "3.0730210766695576 943.8696648665373\n",
      "-0.019488127571219864 5.699468862449405 887.5152390993406\n",
      "0.00012108162944992097 -0.0663316663669607 9.405567901936871 827.1311914169487\n",
      "1114126.3922713727 146.19709072983107 -1112822.2075994539 5345.326721860742\n"
     ]
    },
    {
     "data": {
      "image/png": "[encoded data removed]",
      "text/plain": [
       "<Figure size 432x288 with 1 Axes>"
      ]
     },
     "metadata": {
      "needs_background": "light"
     },
     "output_type": "display_data"
    }
   ],
   "source": [
    "plot_test(x,y)"
   ]
  },
  {
   "cell_type": "code",
   "execution_count": 17,
   "metadata": {},
   "outputs": [],
   "source": [
    "x1=np.arange(0, 200, 10)"
   ]
  },
  {
   "cell_type": "code",
   "execution_count": 18,
   "metadata": {},
   "outputs": [
    {
     "data": {
      "text/plain": [
       "array([  0,  10,  20,  30,  40,  50,  60,  70,  80,  90, 100, 110, 120,\n",
       "       130, 140, 150, 160, 170, 180, 190])"
      ]
     },
     "execution_count": 18,
     "metadata": {},
     "output_type": "execute_result"
    }
   ],
   "source": [
    "x1"
   ]
  },
  {
   "cell_type": "code",
   "execution_count": 19,
   "metadata": {},
   "outputs": [
    {
     "ename": "SyntaxError",
     "evalue": "invalid character in identifier (<ipython-input-19-799b5312053a>, line 1)",
     "output_type": "error",
     "traceback": [
      "\u001b[0;36m  File \u001b[0;32m\"<ipython-input-19-799b5312053a>\"\u001b[0;36m, line \u001b[0;32m1\u001b[0m\n\u001b[0;31m    y1＝math.log10(x1)*162-273\u001b[0m\n\u001b[0m          ^\u001b[0m\n\u001b[0;31mSyntaxError\u001b[0m\u001b[0;31m:\u001b[0m invalid character in identifier\n"
     ]
    }
   ],
   "source": [
    "y1＝math.log10(x1)*162-273"
   ]
  },
  {
   "cell_type": "markdown",
   "metadata": {
    "scrolled": true
   },
   "source": [
    "plot_test(x,y)"
   ]
  },
  {
   "cell_type": "code",
   "execution_count": 48,
   "metadata": {},
   "outputs": [
    {
     "data": {
      "text/plain": [
       "[<matplotlib.lines.Line2D at 0x2ba3d37f77f0>]"
      ]
     },
     "execution_count": 48,
     "metadata": {},
     "output_type": "execute_result"
    },
    {
     "data": {
      "image/png": "[encoded data removed]",
      "text/plain": [
       "<Figure size 432x288 with 1 Axes>"
      ]
     },
     "metadata": {
      "needs_background": "light"
     },
     "output_type": "display_data"
    }
   ],
   "source": [
    "xa=np.arange(1, 200, 10)\n",
    "ya=np.log10(xa)*162-273\n",
    "plt.plot(xa, ya, \"black\",label=\"a\")\n",
    "# Create a legend for the first line.\n",
    "#plt.legend(handles=[line3],loc=3)"
   ]
  },
  {
   "cell_type": "code",
   "execution_count": 45,
   "metadata": {},
   "outputs": [],
   "source": [
    "xa=np.arange(1, 200, 10)"
   ]
  },
  {
   "cell_type": "code",
   "execution_count": null,
   "metadata": {},
   "outputs": [],
   "source": []
  },
  {
   "cell_type": "code",
   "execution_count": 46,
   "metadata": {},
   "outputs": [
    {
     "ename": "SyntaxError",
     "evalue": "invalid character in identifier (<ipython-input-46-065eb193ab2a>, line 1)",
     "output_type": "error",
     "traceback": [
      "\u001b[0;36m  File \u001b[0;32m\"<ipython-input-46-065eb193ab2a>\"\u001b[0;36m, line \u001b[0;32m1\u001b[0m\n\u001b[0;31m    ya＝np.log10(100.0)*162-273\u001b[0m\n\u001b[0m        ^\u001b[0m\n\u001b[0;31mSyntaxError\u001b[0m\u001b[0;31m:\u001b[0m invalid character in identifier\n"
     ]
    }
   ],
   "source": [
    "ya＝np.log10(100.0)*162-273"
   ]
  },
  {
   "cell_type": "code",
   "execution_count": 41,
   "metadata": {},
   "outputs": [],
   "source": [
    "ya=math.log10(100.0)*162-273"
   ]
  },
  {
   "cell_type": "code",
   "execution_count": 25,
   "metadata": {},
   "outputs": [
    {
     "data": {
      "text/plain": [
       "1.0"
      ]
     },
     "execution_count": 25,
     "metadata": {},
     "output_type": "execute_result"
    }
   ],
   "source": [
    "math.log10(10)"
   ]
  },
  {
   "cell_type": "code",
   "execution_count": 27,
   "metadata": {},
   "outputs": [
    {
     "ename": "ValueError",
     "evalue": "math domain error",
     "output_type": "error",
     "traceback": [
      "\u001b[0;31m---------------------------------------------------------------------------\u001b[0m",
      "\u001b[0;31mValueError\u001b[0m                                Traceback (most recent call last)",
      "\u001b[0;32m<ipython-input-27-988619e5e5c4>\u001b[0m in \u001b[0;36m<module>\u001b[0;34m\u001b[0m\n\u001b[0;32m----> 1\u001b[0;31m \u001b[0my\u001b[0m\u001b[0;34m=\u001b[0m\u001b[0mmath\u001b[0m\u001b[0;34m.\u001b[0m\u001b[0mlog10\u001b[0m\u001b[0;34m(\u001b[0m\u001b[0;36m0\u001b[0m\u001b[0;34m)\u001b[0m\u001b[0;34m\u001b[0m\u001b[0;34m\u001b[0m\u001b[0m\n\u001b[0m",
      "\u001b[0;31mValueError\u001b[0m: math domain error"
     ]
    }
   ],
   "source": [
    "y=math.log10(0)"
   ]
  },
  {
   "cell_type": "code",
   "execution_count": null,
   "metadata": {},
   "outputs": [],
   "source": []
  }
 ],
 "metadata": {
  "kernelspec": {
   "display_name": "Python 3",
   "language": "python",
   "name": "python3"
  },
  "language_info": {
   "codemirror_mode": {
    "name": "ipython",
    "version": 3
   },
   "file_extension": ".py",
   "mimetype": "text/x-python",
   "name": "python",
   "nbconvert_exporter": "python",
   "pygments_lexer": "ipython3",
   "version": "3.6.7"
  }
 },
 "nbformat": 4,
 "nbformat_minor": 2
}
