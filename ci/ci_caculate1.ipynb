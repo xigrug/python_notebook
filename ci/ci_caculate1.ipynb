{
 "cells": [
  {
   "cell_type": "code",
   "execution_count": 1,
   "metadata": {},
   "outputs": [],
   "source": [
    "import numpy as np\n",
    "import pandas as pd\n",
    "import math\n",
    "from matplotlib import pyplot as plt\n",
    "%matplotlib inline\n",
    "# must be in python3 pygrib"
   ]
  },
  {
   "cell_type": "code",
   "execution_count": 2,
   "metadata": {},
   "outputs": [],
   "source": [
    "def precintcon_ln_a(X, Y):\n",
    "    N = len(X)\n",
    "    if (len(X) == len(Y)):\n",
    "        a=(sum(X**2)*sum(np.log(Y)))\n",
    "        Z=((sum(X**2)*sum(np.log(Y))) + (sum(X)*sum(X*np.log(X)))-(sum(X**2)*sum(np.log(X))) -\\\n",
    "        (sum(X)*sum(X*np.log(Y))))/(N*sum(X**2)-(sum(X)**2))#!!!\n",
    "    else:\n",
    "        print(\"X and Y with differents lengths!\")\n",
    "    return Z\n",
    "\n",
    "def precintcon_b(X, Y):\n",
    "    N=len(X)\n",
    "    if (len(X) == len(Y)):\n",
    "        Z=(N * sum(X * np.log(Y))+ \\\n",
    "        sum(X) * sum(np.log(X))- \\\n",
    "        N * sum(X * np.log(X)) - \\\n",
    "        sum(X) * sum(np.log(Y))) \\\n",
    "        /(N * sum(X**2) - sum(X)**2)/100  #!!!!!   100   \n",
    "    else:\n",
    "        print(\"X and Y have differents lengths!\")\n",
    "    return Z\n",
    "\n",
    "def p_sum_p(o):\n",
    "    i = o[:,0]\n",
    "    f = o[:,1]\n",
    "    n = o[:,2]\n",
    "    m = (o[:,0] + o[:,1] + 0.1)/2\n",
    "    #print(len(m))\n",
    "    x = m[0] * n[0]\n",
    "    #print(x)\n",
    "    #print(len(i))\n",
    "    #print(len(f))\n",
    "    #print(len(n))\n",
    "    for k in range(1,len(i)):#!!!!!!!1\n",
    "        #print(k)\n",
    "        x = np.append(x, m[k] * n[k])\n",
    "        #print(x)\n",
    "    y = x[0]/sum(x)\n",
    "    #print(y)\n",
    "    #print(len(x))\n",
    "    for k in range(2,len(x)+1):\n",
    "        y = np.append(y, sum(x[0:k])/sum(x))\n",
    "    return(y)\n",
    "\n",
    "def p_sum_n(o):\n",
    "    x = o[0]\n",
    "    y=sum(o)\n",
    "    #print(y)\n",
    "    #print(len(y))\n",
    "    for i in range(2,len(o)+1):\n",
    "        #x = pd.concat(x, sum(o[0:i])) #np.r_\n",
    "        #print(sum(o[0:i]))\n",
    "        x = np.append(x, sum(o[0:i]))\n",
    "        #print(x)\n",
    "        n=x/y\n",
    "    return(n)\n",
    "\n",
    "def precintcon_class(v,interval):\n",
    "    result=[0,0,0]\n",
    "    #s=0\n",
    "    #python-Error Message: 'float' object cannot be interpreted as an integer\n",
    "    #print(v)\n",
    "    #print(max(v))\n",
    "    #print(math.ceil(max(v)))\n",
    "    for i in range(0,math.ceil(max(v)+interval),interval):\n",
    "        #initial = i # \n",
    "        initial = i + 0.1 if i == 0  else i\n",
    "        final   = i+interval-0.1\n",
    "        s = sum((v[(v>= initial)& (v<=final)]).value_counts())#!!!!!!!!!!!!!!!!!!!!! no table\n",
    "        #s += sum(v[(v>= initial)& (v<=final)])\n",
    "        #print(initial, final, s)\n",
    "        #if not s.empty: \n",
    "        if s>0 :\n",
    "            #result= np.append(initial, final, s)\n",
    "            result= np.row_stack((result, [initial, final, s]))\n",
    "    return result[1:,:]#!!!1\n",
    "def ci_pre(X):\n",
    "    y=precintcon_class(X,1)\n",
    "    sum_p=p_sum_p(y)\n",
    "    sum_n=p_sum_n(y[:,2])\n",
    "    a= np.exp(precintcon_ln_a(sum_n, sum_p))\n",
    "    b= precintcon_b(sum_n, sum_p)\n",
    "    A=(a/b)*(np.exp(b*100) * (100 - (1/b)))\n",
    "    S= 5000-A\n",
    "    ci= 2*S/10000 \n",
    "    return ci"
   ]
  },
  {
   "cell_type": "code",
   "execution_count": 4,
   "metadata": {},
   "outputs": [
    {
     "data": {
      "text/html": [
       "<div>\n",
       "<style scoped>\n",
       "    .dataframe tbody tr th:only-of-type {\n",
       "        vertical-align: middle;\n",
       "    }\n",
       "\n",
       "    .dataframe tbody tr th {\n",
       "        vertical-align: top;\n",
       "    }\n",
       "\n",
       "    .dataframe thead th {\n",
       "        text-align: right;\n",
       "    }\n",
       "</style>\n",
       "<table border=\"1\" class=\"dataframe\">\n",
       "  <thead>\n",
       "    <tr style=\"text-align: right;\">\n",
       "      <th></th>\n",
       "      <th>Unnamed: 0</th>\n",
       "      <th>Time</th>\n",
       "      <th>Stid</th>\n",
       "      <th>Lat</th>\n",
       "      <th>Lon</th>\n",
       "      <th>Height</th>\n",
       "      <th>rain</th>\n",
       "      <th>rain208</th>\n",
       "      <th>rain820</th>\n",
       "      <th>DATE</th>\n",
       "    </tr>\n",
       "  </thead>\n",
       "  <tbody>\n",
       "    <tr>\n",
       "      <th>0</th>\n",
       "      <td>0.0</td>\n",
       "      <td>2001-01-01</td>\n",
       "      <td>50136</td>\n",
       "      <td>5258</td>\n",
       "      <td>12231</td>\n",
       "      <td>4330.0</td>\n",
       "      <td>0.0</td>\n",
       "      <td>0.0</td>\n",
       "      <td>0.0</td>\n",
       "      <td>2001Y</td>\n",
       "    </tr>\n",
       "    <tr>\n",
       "      <th>1</th>\n",
       "      <td>1.0</td>\n",
       "      <td>2001-01-01</td>\n",
       "      <td>51433</td>\n",
       "      <td>4348</td>\n",
       "      <td>8234</td>\n",
       "      <td>11052.0</td>\n",
       "      <td>0.0</td>\n",
       "      <td>0.0</td>\n",
       "      <td>0.0</td>\n",
       "      <td>2001Y</td>\n",
       "    </tr>\n",
       "    <tr>\n",
       "      <th>2</th>\n",
       "      <td>2.0</td>\n",
       "      <td>2001-01-01</td>\n",
       "      <td>57584</td>\n",
       "      <td>2923</td>\n",
       "      <td>11305</td>\n",
       "      <td>530.0</td>\n",
       "      <td>0.0</td>\n",
       "      <td>0.0</td>\n",
       "      <td>0.0</td>\n",
       "      <td>2001Y</td>\n",
       "    </tr>\n",
       "    <tr>\n",
       "      <th>3</th>\n",
       "      <td>3.0</td>\n",
       "      <td>2001-01-01</td>\n",
       "      <td>59631</td>\n",
       "      <td>2147</td>\n",
       "      <td>10821</td>\n",
       "      <td>324.0</td>\n",
       "      <td>0.0</td>\n",
       "      <td>0.0</td>\n",
       "      <td>0.0</td>\n",
       "      <td>2001Y</td>\n",
       "    </tr>\n",
       "    <tr>\n",
       "      <th>4</th>\n",
       "      <td>4.0</td>\n",
       "      <td>2001-01-01</td>\n",
       "      <td>58356</td>\n",
       "      <td>3125</td>\n",
       "      <td>12057</td>\n",
       "      <td>42.0</td>\n",
       "      <td>0.0</td>\n",
       "      <td>0.0</td>\n",
       "      <td>0.0</td>\n",
       "      <td>2001Y</td>\n",
       "    </tr>\n",
       "  </tbody>\n",
       "</table>\n",
       "</div>"
      ],
      "text/plain": [
       "   Unnamed: 0        Time   Stid   Lat    Lon   Height  rain  rain208  \\\n",
       "0         0.0  2001-01-01  50136  5258  12231   4330.0   0.0      0.0   \n",
       "1         1.0  2001-01-01  51433  4348   8234  11052.0   0.0      0.0   \n",
       "2         2.0  2001-01-01  57584  2923  11305    530.0   0.0      0.0   \n",
       "3         3.0  2001-01-01  59631  2147  10821    324.0   0.0      0.0   \n",
       "4         4.0  2001-01-01  58356  3125  12057     42.0   0.0      0.0   \n",
       "\n",
       "   rain820   DATE  \n",
       "0      0.0  2001Y  \n",
       "1      0.0  2001Y  \n",
       "2      0.0  2001Y  \n",
       "3      0.0  2001Y  \n",
       "4      0.0  2001Y  "
      ]
     },
     "execution_count": 4,
     "metadata": {},
     "output_type": "execute_result"
    }
   ],
   "source": [
    "#df = pd.read_csv('china_year_read.csv', sep=',',skiprows=0,header=0,na_values=[-99,9999,999990,3276632766,32766],low_memory=False)\n",
    "df = pd.read_csv('china_pre-1962.csv.csv', sep=',',skiprows=0,header=0,na_values=[-99,9999,999990,3276632766,32766],low_memory=False)\n",
    "df=df.dropna()\n",
    "df.head()"
   ]
  },
  {
   "cell_type": "code",
   "execution_count": 5,
   "metadata": {},
   "outputs": [],
   "source": [
    "df.to_csv(\"ci_tst.csv\",index=False,sep=',')"
   ]
  },
  {
   "cell_type": "markdown",
   "metadata": {},
   "source": [
    "bf=df[df[\"DATE\"]=='2008Y']"
   ]
  },
  {
   "cell_type": "markdown",
   "metadata": {
    "scrolled": true
   },
   "source": [
    "table1 = pd.pivot_table(bf, values='rain', index=['Stid'],columns=['DATE'], aggfunc=ci_pre)"
   ]
  },
  {
   "cell_type": "markdown",
   "metadata": {},
   "source": [
    "table1.to_csv(\"ci_2008.csv\",index=True,sep=',')"
   ]
  },
  {
   "cell_type": "markdown",
   "metadata": {},
   "source": [
    "cf=df[df[\"DATE\"]=='2009Y']"
   ]
  },
  {
   "cell_type": "markdown",
   "metadata": {},
   "source": [
    "table1 = pd.pivot_table(cf, values='rain', index=['Stid'],columns=['DATE'], aggfunc=ci_pre)"
   ]
  },
  {
   "cell_type": "markdown",
   "metadata": {},
   "source": [
    "table1.to_csv(\"ci_2009.csv\",index=True,sep=',')"
   ]
  },
  {
   "cell_type": "markdown",
   "metadata": {},
   "source": [
    "cf=df[df[\"DATE\"]=='2007Y']"
   ]
  },
  {
   "cell_type": "markdown",
   "metadata": {},
   "source": [
    "table1 = pd.pivot_table(cf, values='rain', index=['Stid'],columns=['DATE'], aggfunc=ci_pre)"
   ]
  },
  {
   "cell_type": "markdown",
   "metadata": {},
   "source": [
    "table1.to_csv(\"ci_2007.csv\",index=True,sep=',')"
   ]
  },
  {
   "cell_type": "markdown",
   "metadata": {},
   "source": [
    "df.to_csv(\"ci_pre.csv\",index=True,sep=',')"
   ]
  },
  {
   "cell_type": "markdown",
   "metadata": {},
   "source": [
    "cf=df[df[\"DATE\"]=='2006Y']"
   ]
  },
  {
   "cell_type": "markdown",
   "metadata": {},
   "source": [
    "table1 = pd.pivot_table(cf, values='rain', index=['Stid'],columns=['DATE'], aggfunc=ci_pre)"
   ]
  },
  {
   "cell_type": "markdown",
   "metadata": {},
   "source": [
    "table1.to_csv(\"ci_2006.csv\",index=True,sep=',')"
   ]
  },
  {
   "cell_type": "markdown",
   "metadata": {},
   "source": [
    "cf=df[df[\"DATE\"]=='2005Y']"
   ]
  },
  {
   "cell_type": "markdown",
   "metadata": {},
   "source": [
    "table1 = pd.pivot_table(cf, values='rain', index=['Stid'],columns=['DATE'], aggfunc=ci_pre)"
   ]
  },
  {
   "cell_type": "markdown",
   "metadata": {},
   "source": [
    "table1.to_csv(\"ci_2005.csv\",index=True,sep=',')"
   ]
  },
  {
   "cell_type": "code",
   "execution_count": 11,
   "metadata": {
    "collapsed": true
   },
   "outputs": [],
   "source": [
    "cf=df[df[\"DATE\"]=='2004Y']"
   ]
  },
  {
   "cell_type": "markdown",
   "metadata": {},
   "source": [
    "table1 = pd.pivot_table(cf, values='rain', index=['Stid'],columns=['DATE'], aggfunc=ci_pre)"
   ]
  },
  {
   "cell_type": "markdown",
   "metadata": {},
   "source": [
    "table1.to_csv(\"ci_2004.csv\",index=True,sep=',')"
   ]
  },
  {
   "cell_type": "markdown",
   "metadata": {},
   "source": [
    "cf=df[df[\"DATE\"]=='2003Y']"
   ]
  },
  {
   "cell_type": "code",
   "execution_count": 15,
   "metadata": {
    "collapsed": true
   },
   "outputs": [],
   "source": [
    "table1 = pd.pivot_table(cf, values='rain', index=['Stid'],columns=['DATE'], aggfunc=ci_pre)"
   ]
  },
  {
   "cell_type": "code",
   "execution_count": 16,
   "metadata": {
    "collapsed": true
   },
   "outputs": [],
   "source": [
    "table1.to_csv(\"ci_2003.csv\",index=True,sep=',')"
   ]
  },
  {
   "cell_type": "markdown",
   "metadata": {},
   "source": [
    "cf=df[df[\"DATE\"]=='2002Y']"
   ]
  },
  {
   "cell_type": "markdown",
   "metadata": {},
   "source": [
    "table1 = pd.pivot_table(cf, values='rain', index=['Stid'],columns=['DATE'], aggfunc=ci_pre)"
   ]
  },
  {
   "cell_type": "code",
   "execution_count": 19,
   "metadata": {
    "collapsed": true
   },
   "outputs": [],
   "source": [
    "table1.to_csv(\"ci_2002.csv\",index=True,sep=',')"
   ]
  },
  {
   "cell_type": "code",
   "execution_count": 23,
   "metadata": {
    "collapsed": true
   },
   "outputs": [],
   "source": [
    "cf=df[df[\"DATE\"]=='2001Y']\n",
    "table1 = pd.pivot_table(cf, values='rain', index=['Stid'],columns=['DATE'], aggfunc=ci_pre)\n",
    "table1.to_csv(\"ci_2001.csv\",index=True,sep=',')"
   ]
  },
  {
   "cell_type": "code",
   "execution_count": 24,
   "metadata": {
    "collapsed": true
   },
   "outputs": [],
   "source": [
    "cf=df[df[\"DATE\"]=='2011Y']\n",
    "table1 = pd.pivot_table(cf, values='rain', index=['Stid'],columns=['DATE'], aggfunc=ci_pre)\n",
    "table1.to_csv(\"ci_2011.csv\",index=True,sep=',')"
   ]
  },
  {
   "cell_type": "code",
   "execution_count": null,
   "metadata": {
    "collapsed": true
   },
   "outputs": [],
   "source": [
    "cf=df[df[\"DATE\"]=='2012Y']\n",
    "table1 = pd.pivot_table(cf, values='rain', index=['Stid'],columns=['DATE'], aggfunc=ci_pre)\n",
    "table1.to_csv(\"ci_2012.csv\",index=True,sep=',')"
   ]
  },
  {
   "cell_type": "code",
   "execution_count": null,
   "metadata": {
    "collapsed": true
   },
   "outputs": [],
   "source": [
    "cf=df[df[\"DATE\"]=='2009Y']\n",
    "table1 = pd.pivot_table(cf, values='rain', index=['Stid'],columns=['DATE'], aggfunc=ci_pre)\n",
    "table1.to_csv(\"ci_2009.csv\",index=True,sep=',')"
   ]
  },
  {
   "cell_type": "code",
   "execution_count": null,
   "metadata": {
    "collapsed": true
   },
   "outputs": [],
   "source": [
    "cf=df[df[\"DATE\"]=='2010Y']\n",
    "table1 = pd.pivot_table(cf, values='rain', index=['Stid'],columns=['DATE'], aggfunc=ci_pre)\n",
    "table1.to_csv(\"ci_2010.csv\",index=True,sep=',')"
   ]
  },
  {
   "cell_type": "code",
   "execution_count": null,
   "metadata": {
    "collapsed": true
   },
   "outputs": [],
   "source": [
    "cf=df[df[\"DATE\"]=='2013Y']\n",
    "table1 = pd.pivot_table(cf, values='rain', index=['Stid'],columns=['DATE'], aggfunc=ci_pre)\n",
    "table1.to_csv(\"ci_2013.csv\",index=True,sep=',')"
   ]
  },
  {
   "cell_type": "code",
   "execution_count": 4,
   "metadata": {},
   "outputs": [],
   "source": [
    "cf=df[df[\"DATE\"]=='2017Y']\n",
    "table1 = pd.pivot_table(cf, values='rain', index=['Stid'],columns=['DATE'], aggfunc=ci_pre)\n",
    "table1.to_csv(\"ci_2017.csv\",index=True,sep=',')"
   ]
  },
  {
   "cell_type": "code",
   "execution_count": 5,
   "metadata": {},
   "outputs": [],
   "source": [
    "cf=df[df[\"DATE\"]=='2018Y']\n",
    "table1 = pd.pivot_table(cf, values='rain', index=['Stid'],columns=['DATE'], aggfunc=ci_pre)\n",
    "table1.to_csv(\"ci_2018.csv\",index=True,sep=',')"
   ]
  },
  {
   "cell_type": "code",
   "execution_count": null,
   "metadata": {},
   "outputs": [],
   "source": []
  }
 ],
 "metadata": {
  "kernelspec": {
   "display_name": "Python 3",
   "language": "python",
   "name": "python3"
  },
  "language_info": {
   "codemirror_mode": {
    "name": "ipython",
    "version": 3
   },
   "file_extension": ".py",
   "mimetype": "text/x-python",
   "name": "python",
   "nbconvert_exporter": "python",
   "pygments_lexer": "ipython3",
   "version": "3.6.7"
  }
 },
 "nbformat": 4,
 "nbformat_minor": 2
}
