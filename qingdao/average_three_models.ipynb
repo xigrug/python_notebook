{
 "cells": [
  {
   "cell_type": "code",
   "execution_count": 31,
   "metadata": {},
   "outputs": [],
   "source": [
    "import xarray as xr\n",
    "import glob\n",
    "import datetime"
   ]
  },
  {
   "cell_type": "code",
   "execution_count": 62,
   "metadata": {},
   "outputs": [],
   "source": [
    "today=datetime.datetime.today()"
   ]
  },
  {
   "cell_type": "code",
   "execution_count": 63,
   "metadata": {},
   "outputs": [],
   "source": [
    "one_day = datetime.timedelta(days=1)"
   ]
  },
  {
   "cell_type": "code",
   "execution_count": 74,
   "metadata": {},
   "outputs": [],
   "source": [
    "tomorrow = today +one_day"
   ]
  },
  {
   "cell_type": "code",
   "execution_count": 75,
   "metadata": {},
   "outputs": [],
   "source": [
    "tomorrow=f\"{tomorrow:%Y%m%d}\""
   ]
  },
  {
   "cell_type": "code",
   "execution_count": 83,
   "metadata": {},
   "outputs": [],
   "source": [
    "chem_file= glob.glob('/public/product/wrfchem/'+tomorrow+'/nc/d04*')"
   ]
  },
  {
   "cell_type": "code",
   "execution_count": 24,
   "metadata": {},
   "outputs": [],
   "source": [
    "reg_file= glob.glob('/public/product/RegAEMS/'+tomorrow+'/nc/d04*')"
   ]
  },
  {
   "cell_type": "code",
   "execution_count": 29,
   "metadata": {},
   "outputs": [],
   "source": [
    "cmaq_file= glob.glob('/public/product/cmaq/'+tomorrow+'/nc/d04*')"
   ]
  },
  {
   "cell_type": "code",
   "execution_count": 2,
   "metadata": {},
   "outputs": [],
   "source": [
    "ds_reg = xr.open_dataset('d04_0_100000.nc')"
   ]
  },
  {
   "cell_type": "code",
   "execution_count": 3,
   "metadata": {
    "scrolled": true
   },
   "outputs": [
    {
     "data": {
      "text/plain": [
       "<xarray.Dataset>\n",
       "Dimensions:  (south_north: 72, times: 192, west_east: 57)\n",
       "Dimensions without coordinates: south_north, times, west_east\n",
       "Data variables:\n",
       "    so2      (times, south_north, west_east) float32 ...\n",
       "    no2      (times, south_north, west_east) float32 ...\n",
       "    co       (times, south_north, west_east) float32 ...\n",
       "    o3       (times, south_north, west_east) float32 ...\n",
       "    pm10     (times, south_north, west_east) float32 ...\n",
       "    pm25     (times, south_north, west_east) float32 ...\n",
       "    u        (times, south_north, west_east) float32 ...\n",
       "    v        (times, south_north, west_east) float32 ...\n",
       "Attributes:\n",
       "    creation_date:  Sat Apr 20 00:29:55 CST 2019"
      ]
     },
     "execution_count": 3,
     "metadata": {},
     "output_type": "execute_result"
    }
   ],
   "source": [
    "ds_reg"
   ]
  },
  {
   "cell_type": "code",
   "execution_count": 4,
   "metadata": {},
   "outputs": [],
   "source": [
    "so2_reg=ds_reg.so2[:,1:-1,1:-1]\n",
    "no2_reg=ds_reg.no2[:,1:-1,1:-1]\n",
    "co_reg=ds_reg.co[:,1:-1,1:-1]\n",
    "o3_reg=ds_reg.o3[:,1:-1,1:-1]\n",
    "pm10_reg=ds_reg.pm10[:,1:-1,1:-1]\n",
    "pm25_reg=ds_reg.pm25[:,1:-1,1:-1]\n",
    "u_reg=ds_reg.u[:,1:-1,1:-1]\n",
    "v_reg=ds_reg.v[:,1:-1,1:-1]"
   ]
  },
  {
   "cell_type": "markdown",
   "metadata": {},
   "source": [
    "ds_reg.so2=ds_reg.so2[:,1:-2,1:-2]\n",
    "ds_reg.no2=ds_reg.no2[:,1:-2,1:-2]\n",
    "ds_reg.co=ds_reg.co[:,1:-2,1:-2]\n",
    "ds_reg.o3=ds_reg.o3[:,1:-2,1:-2]\n",
    "ds_reg.pm10=ds_reg.pm10[:,1:-2,1:-2]\n",
    "ds_reg.pm25=ds_reg.pm25[:,1:-2,1:-2]\n",
    "ds_reg.u=ds_reg.u[:,1:-2,1:-2]\n",
    "ds_reg.v=ds_reg.v[:,1:-2,1:-2]"
   ]
  },
  {
   "cell_type": "code",
   "execution_count": 5,
   "metadata": {},
   "outputs": [],
   "source": [
    "ds_cmaq = xr.open_dataset('d04_cmaq_49m_1023hPa.nc')"
   ]
  },
  {
   "cell_type": "code",
   "execution_count": 6,
   "metadata": {
    "scrolled": true
   },
   "outputs": [
    {
     "data": {
      "text/plain": [
       "<xarray.Dataset>\n",
       "Dimensions:  (south_north: 70, times: 192, west_east: 55)\n",
       "Dimensions without coordinates: south_north, times, west_east\n",
       "Data variables:\n",
       "    lat2d    (south_north, west_east) float32 ...\n",
       "    lon2d    (south_north, west_east) float32 ...\n",
       "    so2      (times, south_north, west_east) float32 ...\n",
       "    no2      (times, south_north, west_east) float32 ...\n",
       "    co       (times, south_north, west_east) float32 ...\n",
       "    o3       (times, south_north, west_east) float32 ...\n",
       "    pm10     (times, south_north, west_east) float32 ...\n",
       "    pm25     (times, south_north, west_east) float32 ...\n",
       "    u        (times, south_north, west_east) float32 ...\n",
       "    v        (times, south_north, west_east) float32 ...\n",
       "Attributes:\n",
       "    creation_date:  Sat Apr 20 08:09:48 CST 2019\n",
       "    Conventions:    None\n",
       "    source_file:    original-file.nc\n",
       "    title:          NCL Efficient Approach to netCDF Creation"
      ]
     },
     "execution_count": 6,
     "metadata": {},
     "output_type": "execute_result"
    }
   ],
   "source": [
    "ds_cmaq"
   ]
  },
  {
   "cell_type": "markdown",
   "metadata": {},
   "source": [
    "so2_cmaq=ds_cmaq.so2[:,1:-2,1:-2]\n",
    "no2_cmaq=ds_cmaq.no2[:,1:-2,1:-2]\n",
    "co_cmaq=ds_cmaq.co[:,1:-2,1:-2]\n",
    "o3_cmaq=ds_cmaq.o3[:,1:-2,1:-2]\n",
    "pm10_cmaq=ds_cmaq.pm10[:,1:-2,1:-2]\n",
    "pm25_cmaq=ds_cmaq.pm25[:,1:-2,1:-2]\n",
    "u_cmaq=ds_cmaq.u[:,1:-2,1:-2]\n",
    "v_cmaq=ds_cmaq.v[:,1:-2,1:-2]"
   ]
  },
  {
   "cell_type": "code",
   "execution_count": 7,
   "metadata": {},
   "outputs": [],
   "source": [
    "so2_cmaq=ds_cmaq.so2[:,:,:]\n",
    "no2_cmaq=ds_cmaq.no2[:,:,:]\n",
    "co_cmaq=ds_cmaq.co[:,:,:]\n",
    "o3_cmaq=ds_cmaq.o3[:,:,:]\n",
    "pm10_cmaq=ds_cmaq.pm10[:,:,:]\n",
    "pm25_cmaq=ds_cmaq.pm25[:,:,:]\n",
    "u_cmaq=ds_cmaq.u[:,:,:]\n",
    "v_cmaq=ds_cmaq.v[:,:,:]"
   ]
  },
  {
   "cell_type": "code",
   "execution_count": 8,
   "metadata": {},
   "outputs": [
    {
     "data": {
      "text/plain": [
       "<xarray.DataArray 'so2' (times: 192, south_north: 70, west_east: 55)>\n",
       "[739200 values with dtype=float32]\n",
       "Dimensions without coordinates: times, south_north, west_east\n",
       "Attributes:\n",
       "    units:    ug/m3"
      ]
     },
     "execution_count": 8,
     "metadata": {},
     "output_type": "execute_result"
    }
   ],
   "source": [
    "so2_cmaq"
   ]
  },
  {
   "cell_type": "code",
   "execution_count": 9,
   "metadata": {},
   "outputs": [],
   "source": [
    "ds_chem = xr.open_dataset('d04_wrfchem_49m_1023hPa.nc')"
   ]
  },
  {
   "cell_type": "code",
   "execution_count": 10,
   "metadata": {
    "scrolled": true
   },
   "outputs": [
    {
     "data": {
      "text/plain": [
       "<xarray.Dataset>\n",
       "Dimensions:  (south_north: 72, times: 192, west_east: 57)\n",
       "Dimensions without coordinates: south_north, times, west_east\n",
       "Data variables:\n",
       "    lat2d    (south_north, west_east) float32 ...\n",
       "    lon2d    (south_north, west_east) float32 ...\n",
       "    so2      (times, south_north, west_east) float32 ...\n",
       "    no2      (times, south_north, west_east) float32 ...\n",
       "    co       (times, south_north, west_east) float32 ...\n",
       "    o3       (times, south_north, west_east) float32 ...\n",
       "    pm10     (times, south_north, west_east) float32 ...\n",
       "    pm25     (times, south_north, west_east) float32 ...\n",
       "    u        (times, south_north, west_east) float32 ...\n",
       "    v        (times, south_north, west_east) float32 ...\n",
       "Attributes:\n",
       "    creation_date:  Sat Apr 20 00:08:07 CST 2019\n",
       "    Conventions:    None\n",
       "    source_file:    original-file.nc\n",
       "    title:          NCL Efficient Approach to netCDF Creation"
      ]
     },
     "execution_count": 10,
     "metadata": {},
     "output_type": "execute_result"
    }
   ],
   "source": [
    "ds_chem"
   ]
  },
  {
   "cell_type": "code",
   "execution_count": 11,
   "metadata": {},
   "outputs": [],
   "source": [
    "so2_chem=ds_chem.so2[:,1:-1,1:-1]\n",
    "no2_chem=ds_chem.no2[:,1:-1,1:-1]\n",
    "co_chem=ds_chem.co[:,1:-1,1:-1]\n",
    "o3_chem=ds_chem.o3[:,1:-1,1:-1]\n",
    "pm10_chem=ds_chem.pm10[:,1:-1,1:-1]\n",
    "pm25_chem=ds_chem.pm25[:,1:-1,1:-1]\n",
    "u_chem=ds_chem.u[:,1:-1,1:-1]\n",
    "v_chem=ds_chem.v[:,1:-1,1:-1]"
   ]
  },
  {
   "cell_type": "code",
   "execution_count": 12,
   "metadata": {},
   "outputs": [],
   "source": [
    "so2=(so2_chem+so2_cmaq+so2_reg)/3\n",
    "no2=(no2_chem+no2_cmaq+no2_reg)/3\n",
    "co=(co_chem+co_cmaq+co_reg)/3\n",
    "o3=(o3_chem+o3_cmaq+o3_reg)/3\n",
    "pm10=(pm10_chem+pm10_cmaq+pm10_reg)/3\n",
    "pm25=(pm25_chem+pm25_cmaq+pm25_reg)/3\n",
    "u=(u_chem+u_cmaq+u_reg)/3\n",
    "v=(v_chem+v_cmaq+v_reg)/3"
   ]
  },
  {
   "cell_type": "code",
   "execution_count": 13,
   "metadata": {},
   "outputs": [],
   "source": [
    "ds_cmaq.so2.values=so2\n",
    "ds_cmaq.no2.values=so2\n",
    "ds_cmaq.co.values=co\n",
    "ds_cmaq.o3.values=o3\n",
    "ds_cmaq.pm10.values=pm10\n",
    "ds_cmaq.so2.values=pm25"
   ]
  },
  {
   "cell_type": "code",
   "execution_count": 14,
   "metadata": {},
   "outputs": [],
   "source": [
    "ds_cmaq.to_netcdf(\"test.nc\")"
   ]
  },
  {
   "cell_type": "code",
   "execution_count": 15,
   "metadata": {},
   "outputs": [],
   "source": [
    "test = xr.open_dataset('test.nc')"
   ]
  },
  {
   "cell_type": "code",
   "execution_count": 17,
   "metadata": {},
   "outputs": [
    {
     "data": {
      "text/plain": [
       "array([[[67.44533 , 67.43387 , 67.50274 , ..., 58.489132, 58.315247,\n",
       "         58.161488],\n",
       "        [67.869576, 67.81771 , 67.84677 , ..., 58.53717 , 58.405216,\n",
       "         58.242935],\n",
       "        [68.504906, 68.2761  , 68.00731 , ..., 58.361416, 58.133602,\n",
       "         57.836346],\n",
       "        ...,\n",
       "        [56.921772, 56.414738, 56.471714, ..., 55.486847, 54.504597,\n",
       "         54.383057],\n",
       "        [57.05624 , 56.54858 , 56.296482, ..., 55.623775, 54.349888,\n",
       "         54.646168],\n",
       "        [57.2312  , 56.621296, 56.19702 , ..., 56.171417, 54.891674,\n",
       "         54.59846 ]],\n",
       "\n",
       "       [[66.16187 , 65.98102 , 66.02117 , ..., 57.6602  , 57.620697,\n",
       "         57.625095],\n",
       "        [66.489494, 66.24372 , 66.25405 , ..., 57.665546, 57.63573 ,\n",
       "         57.60458 ],\n",
       "        [67.04456 , 66.57678 , 66.180885, ..., 57.48492 , 57.329433,\n",
       "         57.137043],\n",
       "        ...,\n",
       "        [53.90501 , 54.308735, 53.90515 , ..., 53.950607, 52.853718,\n",
       "         52.426746],\n",
       "        [54.1505  , 54.36497 , 53.859207, ..., 54.376667, 53.22414 ,\n",
       "         52.85062 ],\n",
       "        [54.46986 , 54.577442, 54.180893, ..., 55.26618 , 53.95798 ,\n",
       "         53.40314 ]],\n",
       "\n",
       "       [[64.63799 , 64.72758 , 64.7588  , ..., 57.35261 , 57.206406,\n",
       "         57.04771 ],\n",
       "        [64.932465, 64.92131 , 64.96989 , ..., 57.36853 , 57.233517,\n",
       "         57.06065 ],\n",
       "        [65.2367  , 65.047066, 64.67133 , ..., 57.32422 , 57.123703,\n",
       "         56.813965],\n",
       "        ...,\n",
       "        [51.3669  , 51.314007, 50.497807, ..., 52.928406, 51.122234,\n",
       "         50.35346 ],\n",
       "        [51.56249 , 51.55844 , 51.02711 , ..., 53.59873 , 51.84344 ,\n",
       "         50.97522 ],\n",
       "        [51.61421 , 51.874573, 51.90024 , ..., 55.167847, 53.456177,\n",
       "         52.800095]],\n",
       "\n",
       "       ...,\n",
       "\n",
       "       [[75.99441 , 75.10949 , 74.96487 , ..., 68.82523 , 68.396614,\n",
       "         68.46131 ],\n",
       "        [77.73886 , 77.34109 , 77.47458 , ..., 68.80136 , 68.68944 ,\n",
       "         68.5669  ],\n",
       "        [79.99838 , 79.49607 , 79.17582 , ..., 68.82941 , 68.70667 ,\n",
       "         68.14329 ],\n",
       "        ...,\n",
       "        [84.10659 , 83.47909 , 82.154205, ..., 67.406746, 66.948524,\n",
       "         66.64175 ],\n",
       "        [85.289055, 84.44944 , 83.21287 , ..., 67.464165, 67.054436,\n",
       "         66.8903  ],\n",
       "        [86.27866 , 85.411224, 84.37507 , ..., 67.38822 , 67.047165,\n",
       "         66.89693 ]],\n",
       "\n",
       "       [[75.1704  , 74.65207 , 73.82471 , ..., 68.27363 , 67.44215 ,\n",
       "         67.33134 ],\n",
       "        [76.012054, 75.05039 , 74.86906 , ..., 68.39782 , 67.96339 ,\n",
       "         67.68222 ],\n",
       "        [76.67419 , 76.39596 , 75.63257 , ..., 68.69902 , 68.28231 ,\n",
       "         67.26859 ],\n",
       "        ...,\n",
       "        [72.76818 , 72.62631 , 72.24813 , ..., 66.03173 , 65.37794 ,\n",
       "         64.74658 ],\n",
       "        [73.53905 , 73.39269 , 73.168976, ..., 66.13327 , 65.42408 ,\n",
       "         64.65311 ],\n",
       "        [74.1966  , 74.05712 , 73.83311 , ..., 66.15007 , 65.32673 ,\n",
       "         64.585785]],\n",
       "\n",
       "       [[74.44875 , 73.368576, 72.44675 , ..., 69.53142 , 69.13427 ,\n",
       "         69.14431 ],\n",
       "        [74.51199 , 73.521416, 73.5026  , ..., 69.48016 , 69.34609 ,\n",
       "         69.17059 ],\n",
       "        [74.96177 , 74.60328 , 74.10817 , ..., 68.93147 , 68.40162 ,\n",
       "         67.60905 ],\n",
       "        ...,\n",
       "        [72.4663  , 72.96987 , 73.45038 , ..., 63.65863 , 62.90389 ,\n",
       "         62.424778],\n",
       "        [72.54548 , 72.59913 , 72.6651  , ..., 64.266426, 63.472015,\n",
       "         63.065292],\n",
       "        [72.95006 , 72.78311 , 72.93798 , ..., 64.513084, 63.66519 ,\n",
       "         63.24989 ]]], dtype=float32)"
      ]
     },
     "execution_count": 17,
     "metadata": {},
     "output_type": "execute_result"
    }
   ],
   "source": [
    "test.o3.values"
   ]
  },
  {
   "cell_type": "code",
   "execution_count": 18,
   "metadata": {},
   "outputs": [],
   "source": [
    "ds_cmaq = xr.open_dataset('d04_cmaq_49m_1023hPa.nc')"
   ]
  },
  {
   "cell_type": "code",
   "execution_count": 19,
   "metadata": {},
   "outputs": [
    {
     "data": {
      "text/plain": [
       "array([[[73.91408 , 75.30329 , 75.83938 , ..., 79.65528 , 79.63429 ,\n",
       "         79.62219 ],\n",
       "        [73.95047 , 75.10703 , 75.60999 , ..., 79.65195 , 79.63367 ,\n",
       "         79.62039 ],\n",
       "        [74.69202 , 75.39566 , 75.62095 , ..., 79.734726, 79.73094 ,\n",
       "         79.728745],\n",
       "        ...,\n",
       "        [71.353165, 69.82555 , 68.315865, ..., 63.80942 , 62.91843 ,\n",
       "         63.496094],\n",
       "        [71.83064 , 70.2156  , 68.68125 , ..., 63.098877, 61.63729 ,\n",
       "         63.42494 ],\n",
       "        [72.50101 , 70.77758 , 69.17417 , ..., 63.40365 , 62.45207 ,\n",
       "         62.86255 ]],\n",
       "\n",
       "       [[74.60971 , 75.65079 , 76.131874, ..., 79.552574, 79.538025,\n",
       "         79.5288  ],\n",
       "        [74.71779 , 75.523506, 76.046844, ..., 79.54749 , 79.534195,\n",
       "         79.52614 ],\n",
       "        [75.186584, 75.69204 , 75.862114, ..., 79.62606 , 79.62556 ,\n",
       "         79.62446 ],\n",
       "        ...,\n",
       "        [67.02922 , 65.276215, 64.61164 , ..., 63.519344, 61.508877,\n",
       "         60.459454],\n",
       "        [67.57857 , 65.890656, 65.15868 , ..., 64.206635, 62.543335,\n",
       "         61.97069 ],\n",
       "        [68.4396  , 66.78377 , 66.079254, ..., 65.78472 , 64.26448 ,\n",
       "         63.44178 ]],\n",
       "\n",
       "       [[74.86936 , 75.833275, 76.2078  , ..., 79.41024 , 79.39138 ,\n",
       "         79.38235 ],\n",
       "        [75.024506, 75.8736  , 76.35862 , ..., 79.40471 , 79.38577 ,\n",
       "         79.3696  ],\n",
       "        [75.43198 , 75.87935 , 76.01087 , ..., 79.46069 , 79.47486 ,\n",
       "         79.49722 ],\n",
       "        ...,\n",
       "        [60.054546, 57.48685 , 56.52341 , ..., 60.52111 , 55.924347,\n",
       "         52.985065],\n",
       "        [60.73724 , 57.941677, 56.950886, ..., 62.364502, 58.12977 ,\n",
       "         55.37238 ],\n",
       "        [61.697147, 58.90537 , 58.29372 , ..., 67.26367 , 63.60148 ,\n",
       "         61.49243 ]],\n",
       "\n",
       "       ...,\n",
       "\n",
       "       [[86.762085, 87.792305, 88.6318  , ..., 96.02251 , 96.16841 ,\n",
       "         96.24052 ],\n",
       "        [87.48733 , 88.58699 , 88.93186 , ..., 95.85591 , 96.00956 ,\n",
       "         96.148705],\n",
       "        [88.84231 , 89.30925 , 89.395874, ..., 95.627235, 95.91871 ,\n",
       "         96.216805],\n",
       "        ...,\n",
       "        [94.388824, 94.018425, 92.63402 , ..., 88.22664 , 88.10958 ,\n",
       "         87.8844  ],\n",
       "        [95.96463 , 95.15793 , 94.54059 , ..., 88.50922 , 88.164825,\n",
       "         87.60387 ],\n",
       "        [98.595345, 97.70968 , 97.408646, ..., 88.34712 , 88.01452 ,\n",
       "         87.50318 ]],\n",
       "\n",
       "       [[84.00972 , 85.01111 , 86.618515, ..., 93.4101  , 93.38462 ,\n",
       "         93.29091 ],\n",
       "        [84.4092  , 85.86906 , 86.73304 , ..., 93.716934, 93.5672  ,\n",
       "         93.38351 ],\n",
       "        [85.32432 , 86.71363 , 87.052795, ..., 94.007355, 93.91307 ,\n",
       "         93.98181 ],\n",
       "        ...,\n",
       "        [85.861145, 86.178215, 86.30686 , ..., 88.679504, 87.96022 ,\n",
       "         87.486465],\n",
       "        [86.30664 , 86.43858 , 86.43472 , ..., 88.51232 , 88.038155,\n",
       "         87.32508 ],\n",
       "        [87.02534 , 87.05901 , 86.88837 , ..., 88.51008 , 88.05589 ,\n",
       "         87.3569  ]],\n",
       "\n",
       "       [[84.34384 , 85.33382 , 86.425804, ..., 92.85818 , 92.864044,\n",
       "         92.8314  ],\n",
       "        [84.485275, 85.81191 , 86.4807  , ..., 92.902374, 92.87015 ,\n",
       "         92.83563 ],\n",
       "        [84.989746, 86.22705 , 86.59961 , ..., 93.26433 , 93.34574 ,\n",
       "         93.35443 ],\n",
       "        ...,\n",
       "        [86.18001 , 86.116196, 85.03652 , ..., 85.43468 , 84.688995,\n",
       "         84.222084],\n",
       "        [85.73683 , 85.17097 , 84.36982 , ..., 85.97173 , 85.15286 ,\n",
       "         84.44387 ],\n",
       "        [85.24566 , 84.63752 , 84.56659 , ..., 86.37312 , 85.4677  ,\n",
       "         84.55274 ]]], dtype=float32)"
      ]
     },
     "execution_count": 19,
     "metadata": {},
     "output_type": "execute_result"
    }
   ],
   "source": [
    "ds_cmaq.o3.values"
   ]
  },
  {
   "cell_type": "code",
   "execution_count": null,
   "metadata": {},
   "outputs": [],
   "source": []
  }
 ],
 "metadata": {
  "kernelspec": {
   "display_name": "Python 3",
   "language": "python",
   "name": "python3"
  },
  "language_info": {
   "codemirror_mode": {
    "name": "ipython",
    "version": 3
   },
   "file_extension": ".py",
   "mimetype": "text/x-python",
   "name": "python",
   "nbconvert_exporter": "python",
   "pygments_lexer": "ipython3",
   "version": "3.6.7"
  }
 },
 "nbformat": 4,
 "nbformat_minor": 2
}
